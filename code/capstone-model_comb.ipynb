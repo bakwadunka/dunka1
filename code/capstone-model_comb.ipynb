{
 "cells": [
  {
   "cell_type": "markdown",
   "metadata": {},
   "source": [
    "# Modelling"
   ]
  },
  {
   "cell_type": "code",
   "execution_count": 1,
   "metadata": {},
   "outputs": [],
   "source": [
    "#import dependencies\n",
    "##sklearn libs\n",
    "from sklearn.feature_extraction.text import TfidfVectorizer\n",
    "from sklearn.feature_extraction.text import CountVectorizer\n",
    "from sklearn.pipeline import Pipeline\n",
    "from sklearn.model_selection import train_test_split, GridSearchCV, cross_val_score, StratifiedKFold\n",
    "from sklearn.ensemble import RandomForestClassifier, ExtraTreesClassifier, AdaBoostClassifier, GradientBoostingClassifier\n",
    "from sklearn.linear_model import LogisticRegression\n",
    "from sklearn.svm import SVC\n",
    "from sklearn.naive_bayes import MultinomialNB\n",
    "from sklearn.metrics import classification_report, confusion_matrix\n",
    "##nlp libs\n",
    "from nltk.tokenize import RegexpTokenizer\n",
    "import spacy\n",
    "#essential libs\n",
    "import pandas as pd\n",
    "import matplotlib.pyplot as plt\n",
    "import matplotlib.colors as mcolors\n",
    "import seaborn as sns\n",
    "import regex as re\n",
    "import numpy as np\n",
    "\n",
    "%matplotlib inline\n",
    "plt.style.use('seaborn')"
   ]
  },
  {
   "cell_type": "code",
   "execution_count": 114,
   "metadata": {},
   "outputs": [],
   "source": [
    "pd.set_option('display.max_columns', 999)"
   ]
  },
  {
   "cell_type": "markdown",
   "metadata": {},
   "source": [
    "## Read in datasets"
   ]
  },
  {
   "cell_type": "code",
   "execution_count": 2,
   "metadata": {},
   "outputs": [],
   "source": [
    "df_red = pd.read_csv('../assets/reddit_all.csv')\n",
    "df_gab = pd.read_csv('../assets/gab_clean.csv')"
   ]
  },
  {
   "cell_type": "code",
   "execution_count": 3,
   "metadata": {},
   "outputs": [],
   "source": [
    "df_red.drop('Unnamed: 0', axis=1, inplace=True)\n",
    "df_gab.drop('Unnamed: 0', axis=1, inplace=True)"
   ]
  },
  {
   "cell_type": "code",
   "execution_count": 4,
   "metadata": {},
   "outputs": [
    {
     "data": {
      "text/html": [
       "<div>\n",
       "<style scoped>\n",
       "    .dataframe tbody tr th:only-of-type {\n",
       "        vertical-align: middle;\n",
       "    }\n",
       "\n",
       "    .dataframe tbody tr th {\n",
       "        vertical-align: top;\n",
       "    }\n",
       "\n",
       "    .dataframe thead th {\n",
       "        text-align: right;\n",
       "    }\n",
       "</style>\n",
       "<table border=\"1\" class=\"dataframe\">\n",
       "  <thead>\n",
       "    <tr style=\"text-align: right;\">\n",
       "      <th></th>\n",
       "      <th>id</th>\n",
       "      <th>text</th>\n",
       "      <th>hate</th>\n",
       "      <th>response</th>\n",
       "    </tr>\n",
       "  </thead>\n",
       "  <tbody>\n",
       "    <tr>\n",
       "      <td>0</td>\n",
       "      <td>e8q18lf</td>\n",
       "      <td>1. A subsection of retarded Hungarians? Ohh bo...</td>\n",
       "      <td>1</td>\n",
       "      <td>[\"I don't see a reason why it's okay to insult...</td>\n",
       "    </tr>\n",
       "    <tr>\n",
       "      <td>1</td>\n",
       "      <td>e8q9w5s</td>\n",
       "      <td>2. \\tHiii. Just got off work. 444 is mainly th...</td>\n",
       "      <td>0</td>\n",
       "      <td>nil</td>\n",
       "    </tr>\n",
       "    <tr>\n",
       "      <td>2</td>\n",
       "      <td>e8qbobk</td>\n",
       "      <td>3. \\t\\twow i guess soyboys are the same in eve...</td>\n",
       "      <td>0</td>\n",
       "      <td>nil</td>\n",
       "    </tr>\n",
       "    <tr>\n",
       "      <td>3</td>\n",
       "      <td>e8qfn91</td>\n",
       "      <td>4. \\t\\t\\tOwen Benjamin's soyboy song goes for ...</td>\n",
       "      <td>0</td>\n",
       "      <td>nil</td>\n",
       "    </tr>\n",
       "    <tr>\n",
       "      <td>4</td>\n",
       "      <td>e9c6naz</td>\n",
       "      <td>1. &gt; \"y'all hear sumn?\"  by all means I live i...</td>\n",
       "      <td>0</td>\n",
       "      <td>nil</td>\n",
       "    </tr>\n",
       "  </tbody>\n",
       "</table>\n",
       "</div>"
      ],
      "text/plain": [
       "        id                                               text  hate  \\\n",
       "0  e8q18lf  1. A subsection of retarded Hungarians? Ohh bo...     1   \n",
       "1  e8q9w5s  2. \\tHiii. Just got off work. 444 is mainly th...     0   \n",
       "2  e8qbobk  3. \\t\\twow i guess soyboys are the same in eve...     0   \n",
       "3  e8qfn91  4. \\t\\t\\tOwen Benjamin's soyboy song goes for ...     0   \n",
       "4  e9c6naz  1. > \"y'all hear sumn?\"  by all means I live i...     0   \n",
       "\n",
       "                                            response  \n",
       "0  [\"I don't see a reason why it's okay to insult...  \n",
       "1                                                nil  \n",
       "2                                                nil  \n",
       "3                                                nil  \n",
       "4                                                nil  "
      ]
     },
     "execution_count": 4,
     "metadata": {},
     "output_type": "execute_result"
    }
   ],
   "source": [
    "df_red.head()"
   ]
  },
  {
   "cell_type": "code",
   "execution_count": 5,
   "metadata": {},
   "outputs": [
    {
     "data": {
      "text/html": [
       "<div>\n",
       "<style scoped>\n",
       "    .dataframe tbody tr th:only-of-type {\n",
       "        vertical-align: middle;\n",
       "    }\n",
       "\n",
       "    .dataframe tbody tr th {\n",
       "        vertical-align: top;\n",
       "    }\n",
       "\n",
       "    .dataframe thead th {\n",
       "        text-align: right;\n",
       "    }\n",
       "</style>\n",
       "<table border=\"1\" class=\"dataframe\">\n",
       "  <thead>\n",
       "    <tr style=\"text-align: right;\">\n",
       "      <th></th>\n",
       "      <th>id</th>\n",
       "      <th>text</th>\n",
       "      <th>hate</th>\n",
       "      <th>response</th>\n",
       "    </tr>\n",
       "  </thead>\n",
       "  <tbody>\n",
       "    <tr>\n",
       "      <td>0</td>\n",
       "      <td>39869714</td>\n",
       "      <td>1. i joined gab to remind myself how retarded ...</td>\n",
       "      <td>1</td>\n",
       "      <td>[\"Using words that insult one group while defe...</td>\n",
       "    </tr>\n",
       "    <tr>\n",
       "      <td>1</td>\n",
       "      <td>39845588</td>\n",
       "      <td>1. This is what the left is really scared of. ...</td>\n",
       "      <td>0</td>\n",
       "      <td>['You can disagree with someones opinion witho...</td>\n",
       "    </tr>\n",
       "    <tr>\n",
       "      <td>2</td>\n",
       "      <td>39848775</td>\n",
       "      <td>2. \\tThat literally looks like a monkey. Why a...</td>\n",
       "      <td>0</td>\n",
       "      <td>['You can disagree with someones opinion witho...</td>\n",
       "    </tr>\n",
       "    <tr>\n",
       "      <td>3</td>\n",
       "      <td>39911017</td>\n",
       "      <td>3. \\t\\tDumb Cunt</td>\n",
       "      <td>1</td>\n",
       "      <td>['You can disagree with someones opinion witho...</td>\n",
       "    </tr>\n",
       "    <tr>\n",
       "      <td>4</td>\n",
       "      <td>37485560</td>\n",
       "      <td>1. It makes you an asshole.</td>\n",
       "      <td>0</td>\n",
       "      <td>['Your argument is more rational if you leave ...</td>\n",
       "    </tr>\n",
       "  </tbody>\n",
       "</table>\n",
       "</div>"
      ],
      "text/plain": [
       "         id                                               text  hate  \\\n",
       "0  39869714  1. i joined gab to remind myself how retarded ...     1   \n",
       "1  39845588  1. This is what the left is really scared of. ...     0   \n",
       "2  39848775  2. \\tThat literally looks like a monkey. Why a...     0   \n",
       "3  39911017                                   3. \\t\\tDumb Cunt     1   \n",
       "4  37485560                        1. It makes you an asshole.     0   \n",
       "\n",
       "                                            response  \n",
       "0  [\"Using words that insult one group while defe...  \n",
       "1  ['You can disagree with someones opinion witho...  \n",
       "2  ['You can disagree with someones opinion witho...  \n",
       "3  ['You can disagree with someones opinion witho...  \n",
       "4  ['Your argument is more rational if you leave ...  "
      ]
     },
     "execution_count": 5,
     "metadata": {},
     "output_type": "execute_result"
    }
   ],
   "source": [
    "df_gab.head()"
   ]
  },
  {
   "cell_type": "code",
   "execution_count": 6,
   "metadata": {},
   "outputs": [
    {
     "name": "stdout",
     "output_type": "stream",
     "text": [
      "(22270, 4)\n"
     ]
    },
    {
     "data": {
      "text/plain": [
       "(33764, 4)"
      ]
     },
     "execution_count": 6,
     "metadata": {},
     "output_type": "execute_result"
    }
   ],
   "source": [
    "print(df_red.shape)\n",
    "df_gab.shape"
   ]
  },
  {
   "cell_type": "code",
   "execution_count": 7,
   "metadata": {},
   "outputs": [],
   "source": [
    "df_red['red'] = 1\n",
    "df_gab['red'] = 0"
   ]
  },
  {
   "cell_type": "code",
   "execution_count": 8,
   "metadata": {},
   "outputs": [
    {
     "data": {
      "text/plain": [
       "1    22270\n",
       "Name: red, dtype: int64"
      ]
     },
     "execution_count": 8,
     "metadata": {},
     "output_type": "execute_result"
    }
   ],
   "source": [
    "df_red['red'].value_counts()"
   ]
  },
  {
   "cell_type": "code",
   "execution_count": 9,
   "metadata": {},
   "outputs": [
    {
     "data": {
      "text/plain": [
       "0    33764\n",
       "Name: red, dtype: int64"
      ]
     },
     "execution_count": 9,
     "metadata": {},
     "output_type": "execute_result"
    }
   ],
   "source": [
    "df_gab['red'].value_counts()"
   ]
  },
  {
   "cell_type": "markdown",
   "metadata": {},
   "source": [
    "__Combine datasets__"
   ]
  },
  {
   "cell_type": "code",
   "execution_count": 10,
   "metadata": {},
   "outputs": [],
   "source": [
    "df = df_red.append(df_gab, ignore_index=True)"
   ]
  },
  {
   "cell_type": "code",
   "execution_count": 11,
   "metadata": {},
   "outputs": [
    {
     "data": {
      "text/plain": [
       "(56034, 5)"
      ]
     },
     "execution_count": 11,
     "metadata": {},
     "output_type": "execute_result"
    }
   ],
   "source": [
    "df.shape"
   ]
  },
  {
   "cell_type": "code",
   "execution_count": 12,
   "metadata": {},
   "outputs": [
    {
     "data": {
      "text/html": [
       "<div>\n",
       "<style scoped>\n",
       "    .dataframe tbody tr th:only-of-type {\n",
       "        vertical-align: middle;\n",
       "    }\n",
       "\n",
       "    .dataframe tbody tr th {\n",
       "        vertical-align: top;\n",
       "    }\n",
       "\n",
       "    .dataframe thead th {\n",
       "        text-align: right;\n",
       "    }\n",
       "</style>\n",
       "<table border=\"1\" class=\"dataframe\">\n",
       "  <thead>\n",
       "    <tr style=\"text-align: right;\">\n",
       "      <th></th>\n",
       "      <th>id</th>\n",
       "      <th>text</th>\n",
       "      <th>hate</th>\n",
       "      <th>response</th>\n",
       "      <th>red</th>\n",
       "    </tr>\n",
       "  </thead>\n",
       "  <tbody>\n",
       "    <tr>\n",
       "      <td>56029</td>\n",
       "      <td>38422734</td>\n",
       "      <td>3. \\t\\tfucking retard</td>\n",
       "      <td>1</td>\n",
       "      <td>['Using words that negatively describes someon...</td>\n",
       "      <td>0</td>\n",
       "    </tr>\n",
       "    <tr>\n",
       "      <td>56030</td>\n",
       "      <td>38710847</td>\n",
       "      <td>1. Twitter BANNED me and reported me to the FB...</td>\n",
       "      <td>0</td>\n",
       "      <td>[\"I don't think using words that are sexist in...</td>\n",
       "      <td>0</td>\n",
       "    </tr>\n",
       "    <tr>\n",
       "      <td>56031</td>\n",
       "      <td>38711592</td>\n",
       "      <td>2. \\tI was routinely suspended for saying fuck...</td>\n",
       "      <td>1</td>\n",
       "      <td>[\"I don't think using words that are sexist in...</td>\n",
       "      <td>0</td>\n",
       "    </tr>\n",
       "    <tr>\n",
       "      <td>56032</td>\n",
       "      <td>38718122</td>\n",
       "      <td>3. \\t\\tThey got me for dropping the cunt bomb....</td>\n",
       "      <td>1</td>\n",
       "      <td>[\"I don't think using words that are sexist in...</td>\n",
       "      <td>0</td>\n",
       "    </tr>\n",
       "    <tr>\n",
       "      <td>56033</td>\n",
       "      <td>37951623</td>\n",
       "      <td>1. How absolutely unbelievably fascinating? A ...</td>\n",
       "      <td>1</td>\n",
       "      <td>[\"Using words that derogatorily reference a pa...</td>\n",
       "      <td>0</td>\n",
       "    </tr>\n",
       "  </tbody>\n",
       "</table>\n",
       "</div>"
      ],
      "text/plain": [
       "             id                                               text  hate  \\\n",
       "56029  38422734                              3. \\t\\tfucking retard     1   \n",
       "56030  38710847  1. Twitter BANNED me and reported me to the FB...     0   \n",
       "56031  38711592  2. \\tI was routinely suspended for saying fuck...     1   \n",
       "56032  38718122  3. \\t\\tThey got me for dropping the cunt bomb....     1   \n",
       "56033  37951623  1. How absolutely unbelievably fascinating? A ...     1   \n",
       "\n",
       "                                                response  red  \n",
       "56029  ['Using words that negatively describes someon...    0  \n",
       "56030  [\"I don't think using words that are sexist in...    0  \n",
       "56031  [\"I don't think using words that are sexist in...    0  \n",
       "56032  [\"I don't think using words that are sexist in...    0  \n",
       "56033  [\"Using words that derogatorily reference a pa...    0  "
      ]
     },
     "execution_count": 12,
     "metadata": {},
     "output_type": "execute_result"
    }
   ],
   "source": [
    "df.tail()"
   ]
  },
  {
   "cell_type": "code",
   "execution_count": 13,
   "metadata": {},
   "outputs": [
    {
     "data": {
      "text/plain": [
       "0    35118\n",
       "1    20916\n",
       "Name: hate, dtype: int64"
      ]
     },
     "execution_count": 13,
     "metadata": {},
     "output_type": "execute_result"
    }
   ],
   "source": [
    "df['hate'].value_counts()"
   ]
  },
  {
   "cell_type": "markdown",
   "metadata": {
    "toc-hr-collapsed": true
   },
   "source": [
    "## Pre-processing\n"
   ]
  },
  {
   "cell_type": "code",
   "execution_count": 14,
   "metadata": {},
   "outputs": [],
   "source": [
    "def remove_links(x):\n",
    "#removing links from the set\n",
    "    return re.sub(r\"((http|ftp|https):\\/\\/)?[-a-zA-Z0-9@:%._\\+~#=]{2,256}\\.[a-z]{2,6}\\b([-a-zA-Z0-9@:%_\\+.~#?&//=]*)\", \"\", x)"
   ]
  },
  {
   "cell_type": "code",
   "execution_count": 15,
   "metadata": {},
   "outputs": [],
   "source": [
    "#remove links\n",
    "df['text'] = df['text'].map(remove_links)"
   ]
  },
  {
   "cell_type": "code",
   "execution_count": 16,
   "metadata": {},
   "outputs": [],
   "source": [
    "#remove tabs\n",
    "df['text'] = df['text'].map(lambda x: re.sub('\\\\t+', '', x))"
   ]
  },
  {
   "cell_type": "code",
   "execution_count": 17,
   "metadata": {},
   "outputs": [],
   "source": [
    "#remove comment number at the front\n",
    "df['text'] = df['text'].map(lambda x: re.sub('\\d+\\. ', '', x))"
   ]
  },
  {
   "cell_type": "code",
   "execution_count": 18,
   "metadata": {},
   "outputs": [
    {
     "data": {
      "text/html": [
       "<div>\n",
       "<style scoped>\n",
       "    .dataframe tbody tr th:only-of-type {\n",
       "        vertical-align: middle;\n",
       "    }\n",
       "\n",
       "    .dataframe tbody tr th {\n",
       "        vertical-align: top;\n",
       "    }\n",
       "\n",
       "    .dataframe thead th {\n",
       "        text-align: right;\n",
       "    }\n",
       "</style>\n",
       "<table border=\"1\" class=\"dataframe\">\n",
       "  <thead>\n",
       "    <tr style=\"text-align: right;\">\n",
       "      <th></th>\n",
       "      <th>id</th>\n",
       "      <th>text</th>\n",
       "      <th>hate</th>\n",
       "      <th>response</th>\n",
       "      <th>red</th>\n",
       "    </tr>\n",
       "  </thead>\n",
       "  <tbody>\n",
       "    <tr>\n",
       "      <td>56029</td>\n",
       "      <td>38422734</td>\n",
       "      <td>fucking retard</td>\n",
       "      <td>1</td>\n",
       "      <td>['Using words that negatively describes someon...</td>\n",
       "      <td>0</td>\n",
       "    </tr>\n",
       "    <tr>\n",
       "      <td>56030</td>\n",
       "      <td>38710847</td>\n",
       "      <td>Twitter BANNED me and reported me to the FBI f...</td>\n",
       "      <td>0</td>\n",
       "      <td>[\"I don't think using words that are sexist in...</td>\n",
       "      <td>0</td>\n",
       "    </tr>\n",
       "    <tr>\n",
       "      <td>56031</td>\n",
       "      <td>38711592</td>\n",
       "      <td>I was routinely suspended for saying fuck, and...</td>\n",
       "      <td>1</td>\n",
       "      <td>[\"I don't think using words that are sexist in...</td>\n",
       "      <td>0</td>\n",
       "    </tr>\n",
       "    <tr>\n",
       "      <td>56032</td>\n",
       "      <td>38718122</td>\n",
       "      <td>They got me for dropping the cunt bomb... a lot.</td>\n",
       "      <td>1</td>\n",
       "      <td>[\"I don't think using words that are sexist in...</td>\n",
       "      <td>0</td>\n",
       "    </tr>\n",
       "    <tr>\n",
       "      <td>56033</td>\n",
       "      <td>37951623</td>\n",
       "      <td>How absolutely unbelievably fascinating? A Pak...</td>\n",
       "      <td>1</td>\n",
       "      <td>[\"Using words that derogatorily reference a pa...</td>\n",
       "      <td>0</td>\n",
       "    </tr>\n",
       "  </tbody>\n",
       "</table>\n",
       "</div>"
      ],
      "text/plain": [
       "             id                                               text  hate  \\\n",
       "56029  38422734                                     fucking retard     1   \n",
       "56030  38710847  Twitter BANNED me and reported me to the FBI f...     0   \n",
       "56031  38711592  I was routinely suspended for saying fuck, and...     1   \n",
       "56032  38718122   They got me for dropping the cunt bomb... a lot.     1   \n",
       "56033  37951623  How absolutely unbelievably fascinating? A Pak...     1   \n",
       "\n",
       "                                                response  red  \n",
       "56029  ['Using words that negatively describes someon...    0  \n",
       "56030  [\"I don't think using words that are sexist in...    0  \n",
       "56031  [\"I don't think using words that are sexist in...    0  \n",
       "56032  [\"I don't think using words that are sexist in...    0  \n",
       "56033  [\"Using words that derogatorily reference a pa...    0  "
      ]
     },
     "execution_count": 18,
     "metadata": {},
     "output_type": "execute_result"
    }
   ],
   "source": [
    "df.tail()"
   ]
  },
  {
   "cell_type": "markdown",
   "metadata": {},
   "source": [
    "### Tokenize"
   ]
  },
  {
   "cell_type": "code",
   "execution_count": 19,
   "metadata": {},
   "outputs": [],
   "source": [
    "from nltk.corpus import stopwords\n",
    "stopwords_nltk =  set(stopwords.words('english'))\n",
    "def tokenize_txt(txt):\n",
    "    #only take words or numbers in\n",
    "    tokenizer = RegexpTokenizer(r'[a-zA-Z]+', gaps=False)\n",
    "    tokens = tokenizer.tokenize(txt)\n",
    "    tokens = [token.lower() for token in tokens if not token.lower() in stopwords_nltk] #lowercase\n",
    "    return tokens"
   ]
  },
  {
   "cell_type": "code",
   "execution_count": 20,
   "metadata": {},
   "outputs": [],
   "source": [
    "df['tokens'] = df['text'].map(tokenize_txt)"
   ]
  },
  {
   "cell_type": "code",
   "execution_count": 21,
   "metadata": {},
   "outputs": [
    {
     "data": {
      "text/html": [
       "<div>\n",
       "<style scoped>\n",
       "    .dataframe tbody tr th:only-of-type {\n",
       "        vertical-align: middle;\n",
       "    }\n",
       "\n",
       "    .dataframe tbody tr th {\n",
       "        vertical-align: top;\n",
       "    }\n",
       "\n",
       "    .dataframe thead th {\n",
       "        text-align: right;\n",
       "    }\n",
       "</style>\n",
       "<table border=\"1\" class=\"dataframe\">\n",
       "  <thead>\n",
       "    <tr style=\"text-align: right;\">\n",
       "      <th></th>\n",
       "      <th>id</th>\n",
       "      <th>text</th>\n",
       "      <th>hate</th>\n",
       "      <th>response</th>\n",
       "      <th>red</th>\n",
       "      <th>tokens</th>\n",
       "    </tr>\n",
       "  </thead>\n",
       "  <tbody>\n",
       "    <tr>\n",
       "      <td>0</td>\n",
       "      <td>e8q18lf</td>\n",
       "      <td>A subsection of retarded Hungarians? Ohh boy. ...</td>\n",
       "      <td>1</td>\n",
       "      <td>[\"I don't see a reason why it's okay to insult...</td>\n",
       "      <td>1</td>\n",
       "      <td>[subsection, retarded, hungarians, ohh, boy, b...</td>\n",
       "    </tr>\n",
       "    <tr>\n",
       "      <td>1</td>\n",
       "      <td>e8q9w5s</td>\n",
       "      <td>Hiii. Just got off work. 444 is mainly the typ...</td>\n",
       "      <td>0</td>\n",
       "      <td>nil</td>\n",
       "      <td>1</td>\n",
       "      <td>[hiii, got, work, mainly, typa, guys, imagine,...</td>\n",
       "    </tr>\n",
       "    <tr>\n",
       "      <td>2</td>\n",
       "      <td>e8qbobk</td>\n",
       "      <td>wow i guess soyboys are the same in every country</td>\n",
       "      <td>0</td>\n",
       "      <td>nil</td>\n",
       "      <td>1</td>\n",
       "      <td>[wow, guess, soyboys, every, country]</td>\n",
       "    </tr>\n",
       "    <tr>\n",
       "      <td>3</td>\n",
       "      <td>e8qfn91</td>\n",
       "      <td>Owen Benjamin's soyboy song goes for every cou...</td>\n",
       "      <td>0</td>\n",
       "      <td>nil</td>\n",
       "      <td>1</td>\n",
       "      <td>[owen, benjamin, soyboy, song, goes, every, co...</td>\n",
       "    </tr>\n",
       "    <tr>\n",
       "      <td>4</td>\n",
       "      <td>e9c6naz</td>\n",
       "      <td>&gt; \"y'all hear sumn?\"  by all means I live in a...</td>\n",
       "      <td>0</td>\n",
       "      <td>nil</td>\n",
       "      <td>1</td>\n",
       "      <td>[hear, sumn, means, live, small, town, rn, wor...</td>\n",
       "    </tr>\n",
       "  </tbody>\n",
       "</table>\n",
       "</div>"
      ],
      "text/plain": [
       "        id                                               text  hate  \\\n",
       "0  e8q18lf  A subsection of retarded Hungarians? Ohh boy. ...     1   \n",
       "1  e8q9w5s  Hiii. Just got off work. 444 is mainly the typ...     0   \n",
       "2  e8qbobk  wow i guess soyboys are the same in every country     0   \n",
       "3  e8qfn91  Owen Benjamin's soyboy song goes for every cou...     0   \n",
       "4  e9c6naz  > \"y'all hear sumn?\"  by all means I live in a...     0   \n",
       "\n",
       "                                            response  red  \\\n",
       "0  [\"I don't see a reason why it's okay to insult...    1   \n",
       "1                                                nil    1   \n",
       "2                                                nil    1   \n",
       "3                                                nil    1   \n",
       "4                                                nil    1   \n",
       "\n",
       "                                              tokens  \n",
       "0  [subsection, retarded, hungarians, ohh, boy, b...  \n",
       "1  [hiii, got, work, mainly, typa, guys, imagine,...  \n",
       "2              [wow, guess, soyboys, every, country]  \n",
       "3  [owen, benjamin, soyboy, song, goes, every, co...  \n",
       "4  [hear, sumn, means, live, small, town, rn, wor...  "
      ]
     },
     "execution_count": 21,
     "metadata": {},
     "output_type": "execute_result"
    }
   ],
   "source": [
    "df.head()"
   ]
  },
  {
   "cell_type": "markdown",
   "metadata": {},
   "source": [
    "### Lemmatizing"
   ]
  },
  {
   "cell_type": "code",
   "execution_count": 22,
   "metadata": {},
   "outputs": [],
   "source": [
    "sp = spacy.load('en_core_web_sm')"
   ]
  },
  {
   "cell_type": "code",
   "execution_count": 23,
   "metadata": {},
   "outputs": [],
   "source": [
    "def lemma(txt):\n",
    "    text = sp(txt)\n",
    "    #get all sentences\n",
    "    sentence_lst = list(text.sents)\n",
    "    lemma_words = []\n",
    "    for sentence in sentence_lst:\n",
    "        for word in sentence:\n",
    "            lemma_words.append(word.lemma_)\n",
    "    #return back as a string        \n",
    "    return ' '.join(lemma_words)     "
   ]
  },
  {
   "cell_type": "code",
   "execution_count": 24,
   "metadata": {},
   "outputs": [],
   "source": [
    "df['lemma'] = df['text'].map(lemma)"
   ]
  },
  {
   "cell_type": "code",
   "execution_count": 25,
   "metadata": {},
   "outputs": [
    {
     "data": {
      "text/html": [
       "<div>\n",
       "<style scoped>\n",
       "    .dataframe tbody tr th:only-of-type {\n",
       "        vertical-align: middle;\n",
       "    }\n",
       "\n",
       "    .dataframe tbody tr th {\n",
       "        vertical-align: top;\n",
       "    }\n",
       "\n",
       "    .dataframe thead th {\n",
       "        text-align: right;\n",
       "    }\n",
       "</style>\n",
       "<table border=\"1\" class=\"dataframe\">\n",
       "  <thead>\n",
       "    <tr style=\"text-align: right;\">\n",
       "      <th></th>\n",
       "      <th>id</th>\n",
       "      <th>text</th>\n",
       "      <th>hate</th>\n",
       "      <th>response</th>\n",
       "      <th>red</th>\n",
       "      <th>tokens</th>\n",
       "      <th>lemma</th>\n",
       "    </tr>\n",
       "  </thead>\n",
       "  <tbody>\n",
       "    <tr>\n",
       "      <td>56024</td>\n",
       "      <td>37556710</td>\n",
       "      <td>snowflake cunt</td>\n",
       "      <td>1</td>\n",
       "      <td>['Using words that profanely refer to parts of...</td>\n",
       "      <td>0</td>\n",
       "      <td>[snowflake, cunt]</td>\n",
       "      <td>snowflake cunt</td>\n",
       "    </tr>\n",
       "    <tr>\n",
       "      <td>56025</td>\n",
       "      <td>38624662</td>\n",
       "      <td>#Sweden's four major dailies , , ,  on #Assang...</td>\n",
       "      <td>0</td>\n",
       "      <td>['Hey there, derogatory comments are not produ...</td>\n",
       "      <td>0</td>\n",
       "      <td>[sweden, four, major, dailies, assange, news, ...</td>\n",
       "      <td># Sweden 's four major daily , , ,   on # assa...</td>\n",
       "    </tr>\n",
       "    <tr>\n",
       "      <td>56026</td>\n",
       "      <td>38624840</td>\n",
       "      <td>The MSM will never report on themselves or hel...</td>\n",
       "      <td>1</td>\n",
       "      <td>['Hey there, derogatory comments are not produ...</td>\n",
       "      <td>0</td>\n",
       "      <td>[msm, never, report, help, solve, problems, to...</td>\n",
       "      <td>the MSM will never report on -PRON- or help to...</td>\n",
       "    </tr>\n",
       "    <tr>\n",
       "      <td>56027</td>\n",
       "      <td>38361617</td>\n",
       "      <td>Satisfaction and justice</td>\n",
       "      <td>0</td>\n",
       "      <td>['Using words that negatively describes someon...</td>\n",
       "      <td>0</td>\n",
       "      <td>[satisfaction, justice]</td>\n",
       "      <td>satisfaction and justice</td>\n",
       "    </tr>\n",
       "    <tr>\n",
       "      <td>56028</td>\n",
       "      <td>38421472</td>\n",
       "      <td>BEST TRUMP INSTANT KARMA EVER!</td>\n",
       "      <td>0</td>\n",
       "      <td>['Using words that negatively describes someon...</td>\n",
       "      <td>0</td>\n",
       "      <td>[best, trump, instant, karma, ever]</td>\n",
       "      <td>BEST TRUMP INSTANT KARMA EVER !</td>\n",
       "    </tr>\n",
       "    <tr>\n",
       "      <td>56029</td>\n",
       "      <td>38422734</td>\n",
       "      <td>fucking retard</td>\n",
       "      <td>1</td>\n",
       "      <td>['Using words that negatively describes someon...</td>\n",
       "      <td>0</td>\n",
       "      <td>[fucking, retard]</td>\n",
       "      <td>fucking retard</td>\n",
       "    </tr>\n",
       "    <tr>\n",
       "      <td>56030</td>\n",
       "      <td>38710847</td>\n",
       "      <td>Twitter BANNED me and reported me to the FBI f...</td>\n",
       "      <td>0</td>\n",
       "      <td>[\"I don't think using words that are sexist in...</td>\n",
       "      <td>0</td>\n",
       "      <td>[twitter, banned, reported, fbi, stating, obvi...</td>\n",
       "      <td>twitter ban -PRON- and report -PRON- to the FB...</td>\n",
       "    </tr>\n",
       "    <tr>\n",
       "      <td>56031</td>\n",
       "      <td>38711592</td>\n",
       "      <td>I was routinely suspended for saying fuck, and...</td>\n",
       "      <td>1</td>\n",
       "      <td>[\"I don't think using words that are sexist in...</td>\n",
       "      <td>0</td>\n",
       "      <td>[routinely, suspended, saying, fuck, banned, c...</td>\n",
       "      <td>-PRON- be routinely suspend for say fuck , and...</td>\n",
       "    </tr>\n",
       "    <tr>\n",
       "      <td>56032</td>\n",
       "      <td>38718122</td>\n",
       "      <td>They got me for dropping the cunt bomb... a lot.</td>\n",
       "      <td>1</td>\n",
       "      <td>[\"I don't think using words that are sexist in...</td>\n",
       "      <td>0</td>\n",
       "      <td>[got, dropping, cunt, bomb, lot]</td>\n",
       "      <td>-PRON- get -PRON- for drop the cunt bomb ... a...</td>\n",
       "    </tr>\n",
       "    <tr>\n",
       "      <td>56033</td>\n",
       "      <td>37951623</td>\n",
       "      <td>How absolutely unbelievably fascinating? A Pak...</td>\n",
       "      <td>1</td>\n",
       "      <td>[\"Using words that derogatorily reference a pa...</td>\n",
       "      <td>0</td>\n",
       "      <td>[absolutely, unbelievably, fascinating, pakist...</td>\n",
       "      <td>how absolutely unbelievably fascinating ? a pa...</td>\n",
       "    </tr>\n",
       "  </tbody>\n",
       "</table>\n",
       "</div>"
      ],
      "text/plain": [
       "             id                                               text  hate  \\\n",
       "56024  37556710                                     snowflake cunt     1   \n",
       "56025  38624662  #Sweden's four major dailies , , ,  on #Assang...     0   \n",
       "56026  38624840  The MSM will never report on themselves or hel...     1   \n",
       "56027  38361617                           Satisfaction and justice     0   \n",
       "56028  38421472                     BEST TRUMP INSTANT KARMA EVER!     0   \n",
       "56029  38422734                                     fucking retard     1   \n",
       "56030  38710847  Twitter BANNED me and reported me to the FBI f...     0   \n",
       "56031  38711592  I was routinely suspended for saying fuck, and...     1   \n",
       "56032  38718122   They got me for dropping the cunt bomb... a lot.     1   \n",
       "56033  37951623  How absolutely unbelievably fascinating? A Pak...     1   \n",
       "\n",
       "                                                response  red  \\\n",
       "56024  ['Using words that profanely refer to parts of...    0   \n",
       "56025  ['Hey there, derogatory comments are not produ...    0   \n",
       "56026  ['Hey there, derogatory comments are not produ...    0   \n",
       "56027  ['Using words that negatively describes someon...    0   \n",
       "56028  ['Using words that negatively describes someon...    0   \n",
       "56029  ['Using words that negatively describes someon...    0   \n",
       "56030  [\"I don't think using words that are sexist in...    0   \n",
       "56031  [\"I don't think using words that are sexist in...    0   \n",
       "56032  [\"I don't think using words that are sexist in...    0   \n",
       "56033  [\"Using words that derogatorily reference a pa...    0   \n",
       "\n",
       "                                                  tokens  \\\n",
       "56024                                  [snowflake, cunt]   \n",
       "56025  [sweden, four, major, dailies, assange, news, ...   \n",
       "56026  [msm, never, report, help, solve, problems, to...   \n",
       "56027                            [satisfaction, justice]   \n",
       "56028                [best, trump, instant, karma, ever]   \n",
       "56029                                  [fucking, retard]   \n",
       "56030  [twitter, banned, reported, fbi, stating, obvi...   \n",
       "56031  [routinely, suspended, saying, fuck, banned, c...   \n",
       "56032                   [got, dropping, cunt, bomb, lot]   \n",
       "56033  [absolutely, unbelievably, fascinating, pakist...   \n",
       "\n",
       "                                                   lemma  \n",
       "56024                                     snowflake cunt  \n",
       "56025  # Sweden 's four major daily , , ,   on # assa...  \n",
       "56026  the MSM will never report on -PRON- or help to...  \n",
       "56027                           satisfaction and justice  \n",
       "56028                    BEST TRUMP INSTANT KARMA EVER !  \n",
       "56029                                     fucking retard  \n",
       "56030  twitter ban -PRON- and report -PRON- to the FB...  \n",
       "56031  -PRON- be routinely suspend for say fuck , and...  \n",
       "56032  -PRON- get -PRON- for drop the cunt bomb ... a...  \n",
       "56033  how absolutely unbelievably fascinating ? a pa...  "
      ]
     },
     "execution_count": 25,
     "metadata": {},
     "output_type": "execute_result"
    }
   ],
   "source": [
    "df.tail(10)"
   ]
  },
  {
   "cell_type": "code",
   "execution_count": 26,
   "metadata": {},
   "outputs": [
    {
     "data": {
      "text/plain": [
       "(56034, 7)"
      ]
     },
     "execution_count": 26,
     "metadata": {},
     "output_type": "execute_result"
    }
   ],
   "source": [
    "df.shape"
   ]
  },
  {
   "cell_type": "code",
   "execution_count": 27,
   "metadata": {},
   "outputs": [
    {
     "data": {
      "text/html": [
       "<div>\n",
       "<style scoped>\n",
       "    .dataframe tbody tr th:only-of-type {\n",
       "        vertical-align: middle;\n",
       "    }\n",
       "\n",
       "    .dataframe tbody tr th {\n",
       "        vertical-align: top;\n",
       "    }\n",
       "\n",
       "    .dataframe thead th {\n",
       "        text-align: right;\n",
       "    }\n",
       "</style>\n",
       "<table border=\"1\" class=\"dataframe\">\n",
       "  <thead>\n",
       "    <tr style=\"text-align: right;\">\n",
       "      <th></th>\n",
       "      <th>id</th>\n",
       "      <th>text</th>\n",
       "      <th>hate</th>\n",
       "      <th>response</th>\n",
       "      <th>red</th>\n",
       "      <th>tokens</th>\n",
       "      <th>lemma</th>\n",
       "    </tr>\n",
       "  </thead>\n",
       "  <tbody>\n",
       "    <tr>\n",
       "      <td>56029</td>\n",
       "      <td>38422734</td>\n",
       "      <td>fucking retard</td>\n",
       "      <td>1</td>\n",
       "      <td>['Using words that negatively describes someon...</td>\n",
       "      <td>0</td>\n",
       "      <td>[fucking, retard]</td>\n",
       "      <td>fucking retard</td>\n",
       "    </tr>\n",
       "    <tr>\n",
       "      <td>56030</td>\n",
       "      <td>38710847</td>\n",
       "      <td>Twitter BANNED me and reported me to the FBI f...</td>\n",
       "      <td>0</td>\n",
       "      <td>[\"I don't think using words that are sexist in...</td>\n",
       "      <td>0</td>\n",
       "      <td>[twitter, banned, reported, fbi, stating, obvi...</td>\n",
       "      <td>twitter ban -PRON- and report -PRON- to the FB...</td>\n",
       "    </tr>\n",
       "    <tr>\n",
       "      <td>56031</td>\n",
       "      <td>38711592</td>\n",
       "      <td>I was routinely suspended for saying fuck, and...</td>\n",
       "      <td>1</td>\n",
       "      <td>[\"I don't think using words that are sexist in...</td>\n",
       "      <td>0</td>\n",
       "      <td>[routinely, suspended, saying, fuck, banned, c...</td>\n",
       "      <td>-PRON- be routinely suspend for say fuck , and...</td>\n",
       "    </tr>\n",
       "    <tr>\n",
       "      <td>56032</td>\n",
       "      <td>38718122</td>\n",
       "      <td>They got me for dropping the cunt bomb... a lot.</td>\n",
       "      <td>1</td>\n",
       "      <td>[\"I don't think using words that are sexist in...</td>\n",
       "      <td>0</td>\n",
       "      <td>[got, dropping, cunt, bomb, lot]</td>\n",
       "      <td>-PRON- get -PRON- for drop the cunt bomb ... a...</td>\n",
       "    </tr>\n",
       "    <tr>\n",
       "      <td>56033</td>\n",
       "      <td>37951623</td>\n",
       "      <td>How absolutely unbelievably fascinating? A Pak...</td>\n",
       "      <td>1</td>\n",
       "      <td>[\"Using words that derogatorily reference a pa...</td>\n",
       "      <td>0</td>\n",
       "      <td>[absolutely, unbelievably, fascinating, pakist...</td>\n",
       "      <td>how absolutely unbelievably fascinating ? a pa...</td>\n",
       "    </tr>\n",
       "  </tbody>\n",
       "</table>\n",
       "</div>"
      ],
      "text/plain": [
       "             id                                               text  hate  \\\n",
       "56029  38422734                                     fucking retard     1   \n",
       "56030  38710847  Twitter BANNED me and reported me to the FBI f...     0   \n",
       "56031  38711592  I was routinely suspended for saying fuck, and...     1   \n",
       "56032  38718122   They got me for dropping the cunt bomb... a lot.     1   \n",
       "56033  37951623  How absolutely unbelievably fascinating? A Pak...     1   \n",
       "\n",
       "                                                response  red  \\\n",
       "56029  ['Using words that negatively describes someon...    0   \n",
       "56030  [\"I don't think using words that are sexist in...    0   \n",
       "56031  [\"I don't think using words that are sexist in...    0   \n",
       "56032  [\"I don't think using words that are sexist in...    0   \n",
       "56033  [\"Using words that derogatorily reference a pa...    0   \n",
       "\n",
       "                                                  tokens  \\\n",
       "56029                                  [fucking, retard]   \n",
       "56030  [twitter, banned, reported, fbi, stating, obvi...   \n",
       "56031  [routinely, suspended, saying, fuck, banned, c...   \n",
       "56032                   [got, dropping, cunt, bomb, lot]   \n",
       "56033  [absolutely, unbelievably, fascinating, pakist...   \n",
       "\n",
       "                                                   lemma  \n",
       "56029                                     fucking retard  \n",
       "56030  twitter ban -PRON- and report -PRON- to the FB...  \n",
       "56031  -PRON- be routinely suspend for say fuck , and...  \n",
       "56032  -PRON- get -PRON- for drop the cunt bomb ... a...  \n",
       "56033  how absolutely unbelievably fascinating ? a pa...  "
      ]
     },
     "execution_count": 27,
     "metadata": {},
     "output_type": "execute_result"
    }
   ],
   "source": [
    "df.tail()"
   ]
  },
  {
   "cell_type": "code",
   "execution_count": 28,
   "metadata": {},
   "outputs": [],
   "source": [
    "## Token lemma\n",
    "def token_lemma(txt):\n",
    "    txt = ' '.join(txt)\n",
    "    text = sp(txt)\n",
    "    #get all sentences\n",
    "    sentence_lst = list(text.sents)\n",
    "    lemma_words = []\n",
    "    for sentence in sentence_lst:\n",
    "        for word in sentence:\n",
    "            lemma_words.append(word.lemma_)\n",
    "    #return back as a string        \n",
    "    return ' '.join(lemma_words)   "
   ]
  },
  {
   "cell_type": "code",
   "execution_count": 29,
   "metadata": {},
   "outputs": [],
   "source": [
    "df['tok_lemma'] = df['tokens'].map(token_lemma)"
   ]
  },
  {
   "cell_type": "code",
   "execution_count": 30,
   "metadata": {},
   "outputs": [
    {
     "data": {
      "text/html": [
       "<div>\n",
       "<style scoped>\n",
       "    .dataframe tbody tr th:only-of-type {\n",
       "        vertical-align: middle;\n",
       "    }\n",
       "\n",
       "    .dataframe tbody tr th {\n",
       "        vertical-align: top;\n",
       "    }\n",
       "\n",
       "    .dataframe thead th {\n",
       "        text-align: right;\n",
       "    }\n",
       "</style>\n",
       "<table border=\"1\" class=\"dataframe\">\n",
       "  <thead>\n",
       "    <tr style=\"text-align: right;\">\n",
       "      <th></th>\n",
       "      <th>id</th>\n",
       "      <th>text</th>\n",
       "      <th>hate</th>\n",
       "      <th>response</th>\n",
       "      <th>red</th>\n",
       "      <th>tokens</th>\n",
       "      <th>lemma</th>\n",
       "      <th>tok_lemma</th>\n",
       "    </tr>\n",
       "  </thead>\n",
       "  <tbody>\n",
       "    <tr>\n",
       "      <td>0</td>\n",
       "      <td>e8q18lf</td>\n",
       "      <td>A subsection of retarded Hungarians? Ohh boy. ...</td>\n",
       "      <td>1</td>\n",
       "      <td>[\"I don't see a reason why it's okay to insult...</td>\n",
       "      <td>1</td>\n",
       "      <td>[subsection, retarded, hungarians, ohh, boy, b...</td>\n",
       "      <td>a subsection of retarded Hungarians ? ohh boy ...</td>\n",
       "      <td>subsection retard hungarians ohh boy brace liv...</td>\n",
       "    </tr>\n",
       "  </tbody>\n",
       "</table>\n",
       "</div>"
      ],
      "text/plain": [
       "        id                                               text  hate  \\\n",
       "0  e8q18lf  A subsection of retarded Hungarians? Ohh boy. ...     1   \n",
       "\n",
       "                                            response  red  \\\n",
       "0  [\"I don't see a reason why it's okay to insult...    1   \n",
       "\n",
       "                                              tokens  \\\n",
       "0  [subsection, retarded, hungarians, ohh, boy, b...   \n",
       "\n",
       "                                               lemma  \\\n",
       "0  a subsection of retarded Hungarians ? ohh boy ...   \n",
       "\n",
       "                                           tok_lemma  \n",
       "0  subsection retard hungarians ohh boy brace liv...  "
      ]
     },
     "execution_count": 30,
     "metadata": {},
     "output_type": "execute_result"
    }
   ],
   "source": [
    "df.head(1)"
   ]
  },
  {
   "cell_type": "markdown",
   "metadata": {},
   "source": [
    "### Convert to POS tags"
   ]
  },
  {
   "cell_type": "code",
   "execution_count": 31,
   "metadata": {},
   "outputs": [],
   "source": [
    "#function to convert text to pos tags\n",
    "\n",
    "def sp_pos_tag(txt):\n",
    "    post_tag_lst = []\n",
    "    doc = sp(txt)\n",
    "    for token in doc:\n",
    "        post_tag_lst.append(token.tag_)\n",
    "    return ' '.join(post_tag_lst)"
   ]
  },
  {
   "cell_type": "code",
   "execution_count": 32,
   "metadata": {},
   "outputs": [],
   "source": [
    "df['pos'] = df['text'].map(sp_pos_tag)"
   ]
  },
  {
   "cell_type": "code",
   "execution_count": 33,
   "metadata": {},
   "outputs": [
    {
     "data": {
      "text/plain": [
       "(56034, 9)"
      ]
     },
     "execution_count": 33,
     "metadata": {},
     "output_type": "execute_result"
    }
   ],
   "source": [
    "df.shape"
   ]
  },
  {
   "cell_type": "code",
   "execution_count": 34,
   "metadata": {},
   "outputs": [
    {
     "data": {
      "text/html": [
       "<div>\n",
       "<style scoped>\n",
       "    .dataframe tbody tr th:only-of-type {\n",
       "        vertical-align: middle;\n",
       "    }\n",
       "\n",
       "    .dataframe tbody tr th {\n",
       "        vertical-align: top;\n",
       "    }\n",
       "\n",
       "    .dataframe thead th {\n",
       "        text-align: right;\n",
       "    }\n",
       "</style>\n",
       "<table border=\"1\" class=\"dataframe\">\n",
       "  <thead>\n",
       "    <tr style=\"text-align: right;\">\n",
       "      <th></th>\n",
       "      <th>id</th>\n",
       "      <th>text</th>\n",
       "      <th>hate</th>\n",
       "      <th>response</th>\n",
       "      <th>red</th>\n",
       "      <th>tokens</th>\n",
       "      <th>lemma</th>\n",
       "      <th>tok_lemma</th>\n",
       "      <th>pos</th>\n",
       "    </tr>\n",
       "  </thead>\n",
       "  <tbody>\n",
       "    <tr>\n",
       "      <td>0</td>\n",
       "      <td>e8q18lf</td>\n",
       "      <td>A subsection of retarded Hungarians? Ohh boy. ...</td>\n",
       "      <td>1</td>\n",
       "      <td>[\"I don't see a reason why it's okay to insult...</td>\n",
       "      <td>1</td>\n",
       "      <td>[subsection, retarded, hungarians, ohh, boy, b...</td>\n",
       "      <td>a subsection of retarded Hungarians ? ohh boy ...</td>\n",
       "      <td>subsection retard hungarians ohh boy brace liv...</td>\n",
       "      <td>DT NN IN JJ NNPS . NN NN . NN IN DT JJ NNP VBG...</td>\n",
       "    </tr>\n",
       "    <tr>\n",
       "      <td>1</td>\n",
       "      <td>e8q9w5s</td>\n",
       "      <td>Hiii. Just got off work. 444 is mainly the typ...</td>\n",
       "      <td>0</td>\n",
       "      <td>nil</td>\n",
       "      <td>1</td>\n",
       "      <td>[hiii, got, work, mainly, typa, guys, imagine,...</td>\n",
       "      <td>hiii . just get off work . 444 be mainly the t...</td>\n",
       "      <td>hiii get work mainly typa guy imagine write -P...</td>\n",
       "      <td>UH . RB VBD RP NN . CD VBZ RB DT NN NNS PRP VB...</td>\n",
       "    </tr>\n",
       "    <tr>\n",
       "      <td>2</td>\n",
       "      <td>e8qbobk</td>\n",
       "      <td>wow i guess soyboys are the same in every country</td>\n",
       "      <td>0</td>\n",
       "      <td>nil</td>\n",
       "      <td>1</td>\n",
       "      <td>[wow, guess, soyboys, every, country]</td>\n",
       "      <td>wow i guess soyboy be the same in every country</td>\n",
       "      <td>wow guess soyboy every country</td>\n",
       "      <td>UH PRP VBP NNS VBP DT JJ IN DT NN</td>\n",
       "    </tr>\n",
       "    <tr>\n",
       "      <td>3</td>\n",
       "      <td>e8qfn91</td>\n",
       "      <td>Owen Benjamin's soyboy song goes for every cou...</td>\n",
       "      <td>0</td>\n",
       "      <td>nil</td>\n",
       "      <td>1</td>\n",
       "      <td>[owen, benjamin, soyboy, song, goes, every, co...</td>\n",
       "      <td>Owen Benjamin 's soyboy song go for every coun...</td>\n",
       "      <td>owen benjamin soyboy song go every country ama...</td>\n",
       "      <td>NNP NNP POS NN NN VBZ IN DT NN CC DT VBZ WRB P...</td>\n",
       "    </tr>\n",
       "    <tr>\n",
       "      <td>4</td>\n",
       "      <td>e9c6naz</td>\n",
       "      <td>&gt; \"y'all hear sumn?\"  by all means I live in a...</td>\n",
       "      <td>0</td>\n",
       "      <td>nil</td>\n",
       "      <td>1</td>\n",
       "      <td>[hear, sumn, means, live, small, town, rn, wor...</td>\n",
       "      <td>&gt; \" -PRON- all hear sumn ? \"   by all mean -PR...</td>\n",
       "      <td>hear sumn mean live small town rn work k peopl...</td>\n",
       "      <td>XX `` PRP DT VBP NN . '' _SP IN DT NNS PRP VBP...</td>\n",
       "    </tr>\n",
       "  </tbody>\n",
       "</table>\n",
       "</div>"
      ],
      "text/plain": [
       "        id                                               text  hate  \\\n",
       "0  e8q18lf  A subsection of retarded Hungarians? Ohh boy. ...     1   \n",
       "1  e8q9w5s  Hiii. Just got off work. 444 is mainly the typ...     0   \n",
       "2  e8qbobk  wow i guess soyboys are the same in every country     0   \n",
       "3  e8qfn91  Owen Benjamin's soyboy song goes for every cou...     0   \n",
       "4  e9c6naz  > \"y'all hear sumn?\"  by all means I live in a...     0   \n",
       "\n",
       "                                            response  red  \\\n",
       "0  [\"I don't see a reason why it's okay to insult...    1   \n",
       "1                                                nil    1   \n",
       "2                                                nil    1   \n",
       "3                                                nil    1   \n",
       "4                                                nil    1   \n",
       "\n",
       "                                              tokens  \\\n",
       "0  [subsection, retarded, hungarians, ohh, boy, b...   \n",
       "1  [hiii, got, work, mainly, typa, guys, imagine,...   \n",
       "2              [wow, guess, soyboys, every, country]   \n",
       "3  [owen, benjamin, soyboy, song, goes, every, co...   \n",
       "4  [hear, sumn, means, live, small, town, rn, wor...   \n",
       "\n",
       "                                               lemma  \\\n",
       "0  a subsection of retarded Hungarians ? ohh boy ...   \n",
       "1  hiii . just get off work . 444 be mainly the t...   \n",
       "2    wow i guess soyboy be the same in every country   \n",
       "3  Owen Benjamin 's soyboy song go for every coun...   \n",
       "4  > \" -PRON- all hear sumn ? \"   by all mean -PR...   \n",
       "\n",
       "                                           tok_lemma  \\\n",
       "0  subsection retard hungarians ohh boy brace liv...   \n",
       "1  hiii get work mainly typa guy imagine write -P...   \n",
       "2                     wow guess soyboy every country   \n",
       "3  owen benjamin soyboy song go every country ama...   \n",
       "4  hear sumn mean live small town rn work k peopl...   \n",
       "\n",
       "                                                 pos  \n",
       "0  DT NN IN JJ NNPS . NN NN . NN IN DT JJ NNP VBG...  \n",
       "1  UH . RB VBD RP NN . CD VBZ RB DT NN NNS PRP VB...  \n",
       "2                  UH PRP VBP NNS VBP DT JJ IN DT NN  \n",
       "3  NNP NNP POS NN NN VBZ IN DT NN CC DT VBZ WRB P...  \n",
       "4  XX `` PRP DT VBP NN . '' _SP IN DT NNS PRP VBP...  "
      ]
     },
     "execution_count": 34,
     "metadata": {},
     "output_type": "execute_result"
    }
   ],
   "source": [
    "df.head()"
   ]
  },
  {
   "cell_type": "markdown",
   "metadata": {},
   "source": [
    "### Drop duplicates after pre-processing"
   ]
  },
  {
   "cell_type": "code",
   "execution_count": 35,
   "metadata": {},
   "outputs": [
    {
     "data": {
      "text/plain": [
       "5676"
      ]
     },
     "execution_count": 35,
     "metadata": {},
     "output_type": "execute_result"
    }
   ],
   "source": [
    "df.duplicated(subset=['lemma']).sum()"
   ]
  },
  {
   "cell_type": "code",
   "execution_count": 36,
   "metadata": {},
   "outputs": [],
   "source": [
    "df.drop_duplicates(subset=['lemma'], inplace=True)"
   ]
  },
  {
   "cell_type": "code",
   "execution_count": 37,
   "metadata": {},
   "outputs": [
    {
     "data": {
      "text/plain": [
       "0"
      ]
     },
     "execution_count": 37,
     "metadata": {},
     "output_type": "execute_result"
    }
   ],
   "source": [
    "df.duplicated(subset=['lemma']).sum()"
   ]
  },
  {
   "cell_type": "code",
   "execution_count": 38,
   "metadata": {},
   "outputs": [
    {
     "data": {
      "text/plain": [
       "(50358, 9)"
      ]
     },
     "execution_count": 38,
     "metadata": {},
     "output_type": "execute_result"
    }
   ],
   "source": [
    "df.shape"
   ]
  },
  {
   "cell_type": "markdown",
   "metadata": {},
   "source": [
    "__Save to csv__"
   ]
  },
  {
   "cell_type": "code",
   "execution_count": 39,
   "metadata": {},
   "outputs": [],
   "source": [
    "df.to_csv(\"../assets/comb_lemma_updated.csv\", index=False)"
   ]
  },
  {
   "cell_type": "markdown",
   "metadata": {},
   "source": [
    "## Baseline accuracy"
   ]
  },
  {
   "cell_type": "code",
   "execution_count": 40,
   "metadata": {},
   "outputs": [
    {
     "data": {
      "text/plain": [
       "0    0.610489\n",
       "1    0.389511\n",
       "Name: hate, dtype: float64"
      ]
     },
     "execution_count": 40,
     "metadata": {},
     "output_type": "execute_result"
    }
   ],
   "source": [
    "#baseline score\n",
    "df['hate'].value_counts(normalize=True)"
   ]
  },
  {
   "cell_type": "code",
   "execution_count": 41,
   "metadata": {},
   "outputs": [
    {
     "data": {
      "text/plain": [
       "(50358, 9)"
      ]
     },
     "execution_count": 41,
     "metadata": {},
     "output_type": "execute_result"
    }
   ],
   "source": [
    "df.shape"
   ]
  },
  {
   "cell_type": "code",
   "execution_count": 42,
   "metadata": {},
   "outputs": [
    {
     "data": {
      "text/html": [
       "<div>\n",
       "<style scoped>\n",
       "    .dataframe tbody tr th:only-of-type {\n",
       "        vertical-align: middle;\n",
       "    }\n",
       "\n",
       "    .dataframe tbody tr th {\n",
       "        vertical-align: top;\n",
       "    }\n",
       "\n",
       "    .dataframe thead th {\n",
       "        text-align: right;\n",
       "    }\n",
       "</style>\n",
       "<table border=\"1\" class=\"dataframe\">\n",
       "  <thead>\n",
       "    <tr style=\"text-align: right;\">\n",
       "      <th></th>\n",
       "      <th>id</th>\n",
       "      <th>text</th>\n",
       "      <th>hate</th>\n",
       "      <th>response</th>\n",
       "      <th>red</th>\n",
       "      <th>tokens</th>\n",
       "      <th>lemma</th>\n",
       "      <th>tok_lemma</th>\n",
       "      <th>pos</th>\n",
       "    </tr>\n",
       "  </thead>\n",
       "  <tbody>\n",
       "    <tr>\n",
       "      <td>0</td>\n",
       "      <td>e8q18lf</td>\n",
       "      <td>A subsection of retarded Hungarians? Ohh boy. ...</td>\n",
       "      <td>1</td>\n",
       "      <td>[\"I don't see a reason why it's okay to insult...</td>\n",
       "      <td>1</td>\n",
       "      <td>[subsection, retarded, hungarians, ohh, boy, b...</td>\n",
       "      <td>a subsection of retarded Hungarians ? ohh boy ...</td>\n",
       "      <td>subsection retard hungarians ohh boy brace liv...</td>\n",
       "      <td>DT NN IN JJ NNPS . NN NN . NN IN DT JJ NNP VBG...</td>\n",
       "    </tr>\n",
       "    <tr>\n",
       "      <td>1</td>\n",
       "      <td>e8q9w5s</td>\n",
       "      <td>Hiii. Just got off work. 444 is mainly the typ...</td>\n",
       "      <td>0</td>\n",
       "      <td>nil</td>\n",
       "      <td>1</td>\n",
       "      <td>[hiii, got, work, mainly, typa, guys, imagine,...</td>\n",
       "      <td>hiii . just get off work . 444 be mainly the t...</td>\n",
       "      <td>hiii get work mainly typa guy imagine write -P...</td>\n",
       "      <td>UH . RB VBD RP NN . CD VBZ RB DT NN NNS PRP VB...</td>\n",
       "    </tr>\n",
       "    <tr>\n",
       "      <td>2</td>\n",
       "      <td>e8qbobk</td>\n",
       "      <td>wow i guess soyboys are the same in every country</td>\n",
       "      <td>0</td>\n",
       "      <td>nil</td>\n",
       "      <td>1</td>\n",
       "      <td>[wow, guess, soyboys, every, country]</td>\n",
       "      <td>wow i guess soyboy be the same in every country</td>\n",
       "      <td>wow guess soyboy every country</td>\n",
       "      <td>UH PRP VBP NNS VBP DT JJ IN DT NN</td>\n",
       "    </tr>\n",
       "    <tr>\n",
       "      <td>3</td>\n",
       "      <td>e8qfn91</td>\n",
       "      <td>Owen Benjamin's soyboy song goes for every cou...</td>\n",
       "      <td>0</td>\n",
       "      <td>nil</td>\n",
       "      <td>1</td>\n",
       "      <td>[owen, benjamin, soyboy, song, goes, every, co...</td>\n",
       "      <td>Owen Benjamin 's soyboy song go for every coun...</td>\n",
       "      <td>owen benjamin soyboy song go every country ama...</td>\n",
       "      <td>NNP NNP POS NN NN VBZ IN DT NN CC DT VBZ WRB P...</td>\n",
       "    </tr>\n",
       "    <tr>\n",
       "      <td>4</td>\n",
       "      <td>e9c6naz</td>\n",
       "      <td>&gt; \"y'all hear sumn?\"  by all means I live in a...</td>\n",
       "      <td>0</td>\n",
       "      <td>nil</td>\n",
       "      <td>1</td>\n",
       "      <td>[hear, sumn, means, live, small, town, rn, wor...</td>\n",
       "      <td>&gt; \" -PRON- all hear sumn ? \"   by all mean -PR...</td>\n",
       "      <td>hear sumn mean live small town rn work k peopl...</td>\n",
       "      <td>XX `` PRP DT VBP NN . '' _SP IN DT NNS PRP VBP...</td>\n",
       "    </tr>\n",
       "  </tbody>\n",
       "</table>\n",
       "</div>"
      ],
      "text/plain": [
       "        id                                               text  hate  \\\n",
       "0  e8q18lf  A subsection of retarded Hungarians? Ohh boy. ...     1   \n",
       "1  e8q9w5s  Hiii. Just got off work. 444 is mainly the typ...     0   \n",
       "2  e8qbobk  wow i guess soyboys are the same in every country     0   \n",
       "3  e8qfn91  Owen Benjamin's soyboy song goes for every cou...     0   \n",
       "4  e9c6naz  > \"y'all hear sumn?\"  by all means I live in a...     0   \n",
       "\n",
       "                                            response  red  \\\n",
       "0  [\"I don't see a reason why it's okay to insult...    1   \n",
       "1                                                nil    1   \n",
       "2                                                nil    1   \n",
       "3                                                nil    1   \n",
       "4                                                nil    1   \n",
       "\n",
       "                                              tokens  \\\n",
       "0  [subsection, retarded, hungarians, ohh, boy, b...   \n",
       "1  [hiii, got, work, mainly, typa, guys, imagine,...   \n",
       "2              [wow, guess, soyboys, every, country]   \n",
       "3  [owen, benjamin, soyboy, song, goes, every, co...   \n",
       "4  [hear, sumn, means, live, small, town, rn, wor...   \n",
       "\n",
       "                                               lemma  \\\n",
       "0  a subsection of retarded Hungarians ? ohh boy ...   \n",
       "1  hiii . just get off work . 444 be mainly the t...   \n",
       "2    wow i guess soyboy be the same in every country   \n",
       "3  Owen Benjamin 's soyboy song go for every coun...   \n",
       "4  > \" -PRON- all hear sumn ? \"   by all mean -PR...   \n",
       "\n",
       "                                           tok_lemma  \\\n",
       "0  subsection retard hungarians ohh boy brace liv...   \n",
       "1  hiii get work mainly typa guy imagine write -P...   \n",
       "2                     wow guess soyboy every country   \n",
       "3  owen benjamin soyboy song go every country ama...   \n",
       "4  hear sumn mean live small town rn work k peopl...   \n",
       "\n",
       "                                                 pos  \n",
       "0  DT NN IN JJ NNPS . NN NN . NN IN DT JJ NNP VBG...  \n",
       "1  UH . RB VBD RP NN . CD VBZ RB DT NN NNS PRP VB...  \n",
       "2                  UH PRP VBP NNS VBP DT JJ IN DT NN  \n",
       "3  NNP NNP POS NN NN VBZ IN DT NN CC DT VBZ WRB P...  \n",
       "4  XX `` PRP DT VBP NN . '' _SP IN DT NNS PRP VBP...  "
      ]
     },
     "execution_count": 42,
     "metadata": {},
     "output_type": "execute_result"
    }
   ],
   "source": [
    "df.head()"
   ]
  },
  {
   "cell_type": "markdown",
   "metadata": {
    "toc-hr-collapsed": false
   },
   "source": [
    "## Model prep"
   ]
  },
  {
   "cell_type": "code",
   "execution_count": 223,
   "metadata": {},
   "outputs": [],
   "source": [
    "df = pd.read_csv(\"../assets/comb_lemma_updated.csv\")"
   ]
  },
  {
   "cell_type": "code",
   "execution_count": 43,
   "metadata": {},
   "outputs": [
    {
     "data": {
      "text/html": [
       "<div>\n",
       "<style scoped>\n",
       "    .dataframe tbody tr th:only-of-type {\n",
       "        vertical-align: middle;\n",
       "    }\n",
       "\n",
       "    .dataframe tbody tr th {\n",
       "        vertical-align: top;\n",
       "    }\n",
       "\n",
       "    .dataframe thead th {\n",
       "        text-align: right;\n",
       "    }\n",
       "</style>\n",
       "<table border=\"1\" class=\"dataframe\">\n",
       "  <thead>\n",
       "    <tr style=\"text-align: right;\">\n",
       "      <th></th>\n",
       "      <th>id</th>\n",
       "      <th>text</th>\n",
       "      <th>hate</th>\n",
       "      <th>response</th>\n",
       "      <th>red</th>\n",
       "      <th>tokens</th>\n",
       "      <th>lemma</th>\n",
       "      <th>tok_lemma</th>\n",
       "      <th>pos</th>\n",
       "    </tr>\n",
       "  </thead>\n",
       "  <tbody>\n",
       "    <tr>\n",
       "      <td>0</td>\n",
       "      <td>e8q18lf</td>\n",
       "      <td>A subsection of retarded Hungarians? Ohh boy. ...</td>\n",
       "      <td>1</td>\n",
       "      <td>[\"I don't see a reason why it's okay to insult...</td>\n",
       "      <td>1</td>\n",
       "      <td>[subsection, retarded, hungarians, ohh, boy, b...</td>\n",
       "      <td>a subsection of retarded Hungarians ? ohh boy ...</td>\n",
       "      <td>subsection retard hungarians ohh boy brace liv...</td>\n",
       "      <td>DT NN IN JJ NNPS . NN NN . NN IN DT JJ NNP VBG...</td>\n",
       "    </tr>\n",
       "    <tr>\n",
       "      <td>1</td>\n",
       "      <td>e8q9w5s</td>\n",
       "      <td>Hiii. Just got off work. 444 is mainly the typ...</td>\n",
       "      <td>0</td>\n",
       "      <td>nil</td>\n",
       "      <td>1</td>\n",
       "      <td>[hiii, got, work, mainly, typa, guys, imagine,...</td>\n",
       "      <td>hiii . just get off work . 444 be mainly the t...</td>\n",
       "      <td>hiii get work mainly typa guy imagine write -P...</td>\n",
       "      <td>UH . RB VBD RP NN . CD VBZ RB DT NN NNS PRP VB...</td>\n",
       "    </tr>\n",
       "    <tr>\n",
       "      <td>2</td>\n",
       "      <td>e8qbobk</td>\n",
       "      <td>wow i guess soyboys are the same in every country</td>\n",
       "      <td>0</td>\n",
       "      <td>nil</td>\n",
       "      <td>1</td>\n",
       "      <td>[wow, guess, soyboys, every, country]</td>\n",
       "      <td>wow i guess soyboy be the same in every country</td>\n",
       "      <td>wow guess soyboy every country</td>\n",
       "      <td>UH PRP VBP NNS VBP DT JJ IN DT NN</td>\n",
       "    </tr>\n",
       "    <tr>\n",
       "      <td>3</td>\n",
       "      <td>e8qfn91</td>\n",
       "      <td>Owen Benjamin's soyboy song goes for every cou...</td>\n",
       "      <td>0</td>\n",
       "      <td>nil</td>\n",
       "      <td>1</td>\n",
       "      <td>[owen, benjamin, soyboy, song, goes, every, co...</td>\n",
       "      <td>Owen Benjamin 's soyboy song go for every coun...</td>\n",
       "      <td>owen benjamin soyboy song go every country ama...</td>\n",
       "      <td>NNP NNP POS NN NN VBZ IN DT NN CC DT VBZ WRB P...</td>\n",
       "    </tr>\n",
       "    <tr>\n",
       "      <td>4</td>\n",
       "      <td>e9c6naz</td>\n",
       "      <td>&gt; \"y'all hear sumn?\"  by all means I live in a...</td>\n",
       "      <td>0</td>\n",
       "      <td>nil</td>\n",
       "      <td>1</td>\n",
       "      <td>[hear, sumn, means, live, small, town, rn, wor...</td>\n",
       "      <td>&gt; \" -PRON- all hear sumn ? \"   by all mean -PR...</td>\n",
       "      <td>hear sumn mean live small town rn work k peopl...</td>\n",
       "      <td>XX `` PRP DT VBP NN . '' _SP IN DT NNS PRP VBP...</td>\n",
       "    </tr>\n",
       "  </tbody>\n",
       "</table>\n",
       "</div>"
      ],
      "text/plain": [
       "        id                                               text  hate  \\\n",
       "0  e8q18lf  A subsection of retarded Hungarians? Ohh boy. ...     1   \n",
       "1  e8q9w5s  Hiii. Just got off work. 444 is mainly the typ...     0   \n",
       "2  e8qbobk  wow i guess soyboys are the same in every country     0   \n",
       "3  e8qfn91  Owen Benjamin's soyboy song goes for every cou...     0   \n",
       "4  e9c6naz  > \"y'all hear sumn?\"  by all means I live in a...     0   \n",
       "\n",
       "                                            response  red  \\\n",
       "0  [\"I don't see a reason why it's okay to insult...    1   \n",
       "1                                                nil    1   \n",
       "2                                                nil    1   \n",
       "3                                                nil    1   \n",
       "4                                                nil    1   \n",
       "\n",
       "                                              tokens  \\\n",
       "0  [subsection, retarded, hungarians, ohh, boy, b...   \n",
       "1  [hiii, got, work, mainly, typa, guys, imagine,...   \n",
       "2              [wow, guess, soyboys, every, country]   \n",
       "3  [owen, benjamin, soyboy, song, goes, every, co...   \n",
       "4  [hear, sumn, means, live, small, town, rn, wor...   \n",
       "\n",
       "                                               lemma  \\\n",
       "0  a subsection of retarded Hungarians ? ohh boy ...   \n",
       "1  hiii . just get off work . 444 be mainly the t...   \n",
       "2    wow i guess soyboy be the same in every country   \n",
       "3  Owen Benjamin 's soyboy song go for every coun...   \n",
       "4  > \" -PRON- all hear sumn ? \"   by all mean -PR...   \n",
       "\n",
       "                                           tok_lemma  \\\n",
       "0  subsection retard hungarians ohh boy brace liv...   \n",
       "1  hiii get work mainly typa guy imagine write -P...   \n",
       "2                     wow guess soyboy every country   \n",
       "3  owen benjamin soyboy song go every country ama...   \n",
       "4  hear sumn mean live small town rn work k peopl...   \n",
       "\n",
       "                                                 pos  \n",
       "0  DT NN IN JJ NNPS . NN NN . NN IN DT JJ NNP VBG...  \n",
       "1  UH . RB VBD RP NN . CD VBZ RB DT NN NNS PRP VB...  \n",
       "2                  UH PRP VBP NNS VBP DT JJ IN DT NN  \n",
       "3  NNP NNP POS NN NN VBZ IN DT NN CC DT VBZ WRB P...  \n",
       "4  XX `` PRP DT VBP NN . '' _SP IN DT NNS PRP VBP...  "
      ]
     },
     "execution_count": 43,
     "metadata": {},
     "output_type": "execute_result"
    }
   ],
   "source": [
    "df.head()"
   ]
  },
  {
   "cell_type": "code",
   "execution_count": 44,
   "metadata": {},
   "outputs": [],
   "source": [
    "X = df['tok_lemma']\n",
    "y = df['hate']"
   ]
  },
  {
   "cell_type": "code",
   "execution_count": 45,
   "metadata": {},
   "outputs": [
    {
     "data": {
      "text/plain": [
       "(50358,)"
      ]
     },
     "execution_count": 45,
     "metadata": {},
     "output_type": "execute_result"
    }
   ],
   "source": [
    "X.shape"
   ]
  },
  {
   "cell_type": "code",
   "execution_count": 46,
   "metadata": {},
   "outputs": [
    {
     "data": {
      "text/plain": [
       "0     subsection retard hungarians ohh boy brace liv...\n",
       "1     hiii get work mainly typa guy imagine write -P...\n",
       "2                        wow guess soyboy every country\n",
       "3     owen benjamin soyboy song go every country ama...\n",
       "4     hear sumn mean live small town rn work k peopl...\n",
       "5                                                remove\n",
       "6     ah liberal slip tell first question ask load r...\n",
       "14    defender whatever group diverse group since kn...\n",
       "15                                      inclusive white\n",
       "16    harvard work inclusive oh accept student next ...\n",
       "Name: tok_lemma, dtype: object"
      ]
     },
     "execution_count": 46,
     "metadata": {},
     "output_type": "execute_result"
    }
   ],
   "source": [
    "X[:10]"
   ]
  },
  {
   "cell_type": "code",
   "execution_count": 47,
   "metadata": {},
   "outputs": [
    {
     "data": {
      "text/plain": [
       "id           object\n",
       "text         object\n",
       "hate          int64\n",
       "response     object\n",
       "red           int64\n",
       "tokens       object\n",
       "lemma        object\n",
       "tok_lemma    object\n",
       "pos          object\n",
       "dtype: object"
      ]
     },
     "execution_count": 47,
     "metadata": {},
     "output_type": "execute_result"
    }
   ],
   "source": [
    "df.dtypes"
   ]
  },
  {
   "cell_type": "markdown",
   "metadata": {},
   "source": [
    "### Train test split"
   ]
  },
  {
   "cell_type": "code",
   "execution_count": 48,
   "metadata": {},
   "outputs": [],
   "source": [
    "X_train, X_test, y_train, y_test = train_test_split(X, y, stratify=y, random_state=28)"
   ]
  },
  {
   "cell_type": "code",
   "execution_count": 49,
   "metadata": {},
   "outputs": [
    {
     "data": {
      "text/plain": [
       "0    23057\n",
       "1    14711\n",
       "Name: hate, dtype: int64"
      ]
     },
     "execution_count": 49,
     "metadata": {},
     "output_type": "execute_result"
    }
   ],
   "source": [
    "y_train.value_counts()"
   ]
  },
  {
   "cell_type": "markdown",
   "metadata": {
    "toc-hr-collapsed": false
   },
   "source": [
    "## BOW Modelling"
   ]
  },
  {
   "cell_type": "markdown",
   "metadata": {
    "toc-hr-collapsed": false
   },
   "source": [
    "### Pipeline"
   ]
  },
  {
   "cell_type": "code",
   "execution_count": 50,
   "metadata": {},
   "outputs": [],
   "source": [
    "from nltk.corpus import stopwords\n",
    "stopwords_nltk =  set(stopwords.words('english'))\n",
    "\n",
    "def superPipeline(Dataframes,Vectorizerlist,ClassifierList,Dfnames,pipe_params,methodgridname, df_column):\n",
    "    Methodgrid=[]\n",
    "    metnum=len(Dataframes)*len(Vectorizerlist)*len(ClassifierList)\n",
    "    n=0\n",
    "    for index,df in enumerate(Dataframes):\n",
    "        X=Dataframes[index][df_column]\n",
    "        y=Dataframes[index]['hate']\n",
    "        X_train,X_test,y_train,y_test=train_test_split(X,y,stratify=y,random_state=28)\n",
    "\n",
    "        for Vectorizer in Vectorizerlist:\n",
    "            for Classifier in ClassifierList:\n",
    "                n+=1\n",
    "                print(f'{n} of {metnum} of methods attempting')\n",
    "                method={}\n",
    "                pipe = Pipeline([\n",
    "                    ('vec', Vectorizer ),\n",
    "                    ('class', Classifier)\n",
    "                ])\n",
    "\n",
    "                gs = GridSearchCV(pipe, param_grid=pipe_params, cv=5,verbose=1,n_jobs=-1, scoring='f1')\n",
    "                gs.fit(X_train, y_train)\n",
    "                method=(gs.best_params_)\n",
    "                method['Cross_Val_Score']=(gs.best_score_)\n",
    "                method['Test_Score']=gs.score(X_test,y_test)\n",
    "                method['Vectorizer']=str(Vectorizer).split('(')[0]\n",
    "                method['Data']=str(Dfnames[index])\n",
    "                method['Classifier']=str(Classifier).split('(')[0]\n",
    "                Methodgrid.append(method)\n",
    "                \n",
    "                tn, fp, fn, tp = confusion_matrix(y_test, gs.predict(X_test)).ravel()\n",
    "                print(f\"{str(Classifier).split('(')[0]} Confusion Matrix:\")\n",
    "                print(f\"True Negatives: {tn}\")\n",
    "                print(f\"False Positives: {fp}\")\n",
    "                print(f\"False Negatives: {fn}\")\n",
    "                print(f\"True Positives: {tp}\")\n",
    "                print('\\n')\n",
    "                \n",
    "                report = classification_report(y_test, gs.predict(X_test), target_names=['Predict 0', 'Predict 1'], output_dict=True)\n",
    "                class_table = pd.DataFrame(report).transpose()\n",
    "                display(class_table)\n",
    "                \n",
    "    Methodgrid=pd.DataFrame(Methodgrid)\n",
    "    Methodgrid.to_csv(methodgridname,index=False)\n",
    "    return Methodgrid"
   ]
  },
  {
   "cell_type": "markdown",
   "metadata": {},
   "source": [
    "#### Choosing best vectorizer"
   ]
  },
  {
   "cell_type": "code",
   "execution_count": 146,
   "metadata": {},
   "outputs": [
    {
     "name": "stdout",
     "output_type": "stream",
     "text": [
      "1 of 4 of methods attempting\n",
      "Fitting 5 folds for each of 8 candidates, totalling 40 fits\n"
     ]
    },
    {
     "name": "stderr",
     "output_type": "stream",
     "text": [
      "[Parallel(n_jobs=-1)]: Using backend LokyBackend with 4 concurrent workers.\n",
      "[Parallel(n_jobs=-1)]: Done  40 out of  40 | elapsed:  1.1min finished\n",
      "/Users/clementow/anaconda3/lib/python3.7/site-packages/sklearn/linear_model/logistic.py:432: FutureWarning: Default solver will be changed to 'lbfgs' in 0.22. Specify a solver to silence this warning.\n",
      "  FutureWarning)\n"
     ]
    },
    {
     "name": "stdout",
     "output_type": "stream",
     "text": [
      "LogisticRegression Confusion Matrix:\n",
      "True Negatives: 7364\n",
      "False Positives: 322\n",
      "False Negatives: 1136\n",
      "True Positives: 3769\n",
      "\n",
      "\n",
      "2 of 4 of methods attempting\n",
      "Fitting 5 folds for each of 8 candidates, totalling 40 fits\n"
     ]
    },
    {
     "name": "stderr",
     "output_type": "stream",
     "text": [
      "[Parallel(n_jobs=-1)]: Using backend LokyBackend with 4 concurrent workers.\n",
      "[Parallel(n_jobs=-1)]: Done  40 out of  40 | elapsed:  1.0min finished\n"
     ]
    },
    {
     "name": "stdout",
     "output_type": "stream",
     "text": [
      "MultinomialNB Confusion Matrix:\n",
      "True Negatives: 7188\n",
      "False Positives: 498\n",
      "False Negatives: 1804\n",
      "True Positives: 3101\n",
      "\n",
      "\n",
      "3 of 4 of methods attempting\n",
      "Fitting 5 folds for each of 8 candidates, totalling 40 fits\n"
     ]
    },
    {
     "name": "stderr",
     "output_type": "stream",
     "text": [
      "[Parallel(n_jobs=-1)]: Using backend LokyBackend with 4 concurrent workers.\n",
      "[Parallel(n_jobs=-1)]: Done  40 out of  40 | elapsed:  1.4min finished\n",
      "/Users/clementow/anaconda3/lib/python3.7/site-packages/sklearn/linear_model/logistic.py:432: FutureWarning: Default solver will be changed to 'lbfgs' in 0.22. Specify a solver to silence this warning.\n",
      "  FutureWarning)\n"
     ]
    },
    {
     "name": "stdout",
     "output_type": "stream",
     "text": [
      "LogisticRegression Confusion Matrix:\n",
      "True Negatives: 7219\n",
      "False Positives: 467\n",
      "False Negatives: 925\n",
      "True Positives: 3980\n",
      "\n",
      "\n",
      "4 of 4 of methods attempting\n",
      "Fitting 5 folds for each of 8 candidates, totalling 40 fits\n"
     ]
    },
    {
     "name": "stderr",
     "output_type": "stream",
     "text": [
      "[Parallel(n_jobs=-1)]: Using backend LokyBackend with 4 concurrent workers.\n",
      "[Parallel(n_jobs=-1)]: Done  40 out of  40 | elapsed:  1.3min finished\n"
     ]
    },
    {
     "name": "stdout",
     "output_type": "stream",
     "text": [
      "MultinomialNB Confusion Matrix:\n",
      "True Negatives: 6309\n",
      "False Positives: 1377\n",
      "False Negatives: 874\n",
      "True Positives: 4031\n",
      "\n",
      "\n"
     ]
    },
    {
     "data": {
      "text/html": [
       "<div>\n",
       "<style scoped>\n",
       "    .dataframe tbody tr th:only-of-type {\n",
       "        vertical-align: middle;\n",
       "    }\n",
       "\n",
       "    .dataframe tbody tr th {\n",
       "        vertical-align: top;\n",
       "    }\n",
       "\n",
       "    .dataframe thead th {\n",
       "        text-align: right;\n",
       "    }\n",
       "</style>\n",
       "<table border=\"1\" class=\"dataframe\">\n",
       "  <thead>\n",
       "    <tr style=\"text-align: right;\">\n",
       "      <th></th>\n",
       "      <th>Classifier</th>\n",
       "      <th>Cross_Val_Score</th>\n",
       "      <th>Data</th>\n",
       "      <th>Test_Score</th>\n",
       "      <th>Vectorizer</th>\n",
       "      <th>vec__max_df</th>\n",
       "      <th>vec__max_features</th>\n",
       "      <th>vec__min_df</th>\n",
       "      <th>vec__ngram_range</th>\n",
       "      <th>vec__stop_words</th>\n",
       "    </tr>\n",
       "  </thead>\n",
       "  <tbody>\n",
       "    <tr>\n",
       "      <th>0</th>\n",
       "      <td>LogisticRegression</td>\n",
       "      <td>0.882397</td>\n",
       "      <td>df</td>\n",
       "      <td>0.884203</td>\n",
       "      <td>TfidfVectorizer</td>\n",
       "      <td>0.95</td>\n",
       "      <td>5000</td>\n",
       "      <td>2</td>\n",
       "      <td>(1, 1)</td>\n",
       "      <td>{whom, me, until, m, couldn, you'd, her, but, ...</td>\n",
       "    </tr>\n",
       "    <tr>\n",
       "      <th>1</th>\n",
       "      <td>MultinomialNB</td>\n",
       "      <td>0.810966</td>\n",
       "      <td>df</td>\n",
       "      <td>0.817171</td>\n",
       "      <td>TfidfVectorizer</td>\n",
       "      <td>0.95</td>\n",
       "      <td>5000</td>\n",
       "      <td>2</td>\n",
       "      <td>(1, 2)</td>\n",
       "      <td>{whom, me, until, m, couldn, you'd, her, but, ...</td>\n",
       "    </tr>\n",
       "    <tr>\n",
       "      <th>2</th>\n",
       "      <td>LogisticRegression</td>\n",
       "      <td>0.886686</td>\n",
       "      <td>df</td>\n",
       "      <td>0.889445</td>\n",
       "      <td>CountVectorizer</td>\n",
       "      <td>0.95</td>\n",
       "      <td>20000</td>\n",
       "      <td>2</td>\n",
       "      <td>(1, 1)</td>\n",
       "      <td>{whom, me, until, m, couldn, you'd, her, but, ...</td>\n",
       "    </tr>\n",
       "    <tr>\n",
       "      <th>3</th>\n",
       "      <td>MultinomialNB</td>\n",
       "      <td>0.821159</td>\n",
       "      <td>df</td>\n",
       "      <td>0.821222</td>\n",
       "      <td>CountVectorizer</td>\n",
       "      <td>0.95</td>\n",
       "      <td>5000</td>\n",
       "      <td>2</td>\n",
       "      <td>(1, 1)</td>\n",
       "      <td>{whom, me, until, m, couldn, you'd, her, but, ...</td>\n",
       "    </tr>\n",
       "  </tbody>\n",
       "</table>\n",
       "</div>"
      ],
      "text/plain": [
       "           Classifier  Cross_Val_Score Data  Test_Score       Vectorizer  \\\n",
       "0  LogisticRegression         0.882397   df    0.884203  TfidfVectorizer   \n",
       "1       MultinomialNB         0.810966   df    0.817171  TfidfVectorizer   \n",
       "2  LogisticRegression         0.886686   df    0.889445  CountVectorizer   \n",
       "3       MultinomialNB         0.821159   df    0.821222  CountVectorizer   \n",
       "\n",
       "   vec__max_df  vec__max_features  vec__min_df vec__ngram_range  \\\n",
       "0         0.95               5000            2           (1, 1)   \n",
       "1         0.95               5000            2           (1, 2)   \n",
       "2         0.95              20000            2           (1, 1)   \n",
       "3         0.95               5000            2           (1, 1)   \n",
       "\n",
       "                                     vec__stop_words  \n",
       "0  {whom, me, until, m, couldn, you'd, her, but, ...  \n",
       "1  {whom, me, until, m, couldn, you'd, her, but, ...  \n",
       "2  {whom, me, until, m, couldn, you'd, her, but, ...  \n",
       "3  {whom, me, until, m, couldn, you'd, her, but, ...  "
      ]
     },
     "execution_count": 146,
     "metadata": {},
     "output_type": "execute_result"
    }
   ],
   "source": [
    "dataframes=[df]\n",
    "df_names = ['df']\n",
    "vectorizer_lst = [TfidfVectorizer(),CountVectorizer()]\n",
    "classifier_lst = [LogisticRegression(), MultinomialNB()]\n",
    "pipe_params = {\n",
    "                    'vec__max_features': [int(i) for i in np.linspace(5000,20000,4)],\n",
    "                    'vec__min_df': [2],\n",
    "                    'vec__max_df': [.95],\n",
    "                    'vec__ngram_range': [(1,1),(1,2)],\n",
    "                    'vec__stop_words':[stopwords_nltk]\n",
    "                }\n",
    "superPipeline(dataframes, vectorizer_lst, classifier_lst, df_names, pipe_params, 'vectorizer_grid.csv')"
   ]
  },
  {
   "cell_type": "markdown",
   "metadata": {},
   "source": [
    "Generally CountVectorizer is better and it does better on unigrams. This is probably because of the type of words that are being used to classify if it is hate speech or not. "
   ]
  },
  {
   "cell_type": "markdown",
   "metadata": {},
   "source": [
    "#### Choosing best vectorizer with SVC"
   ]
  },
  {
   "cell_type": "code",
   "execution_count": 131,
   "metadata": {},
   "outputs": [
    {
     "name": "stdout",
     "output_type": "stream",
     "text": [
      "1 of 2 of methods attempting\n",
      "Fitting 5 folds for each of 12 candidates, totalling 60 fits\n"
     ]
    },
    {
     "name": "stderr",
     "output_type": "stream",
     "text": [
      "[Parallel(n_jobs=-1)]: Using backend LokyBackend with 4 concurrent workers.\n",
      "/Users/clementow/anaconda3/lib/python3.7/site-packages/joblib/externals/loky/process_executor.py:706: UserWarning: A worker stopped while some jobs were given to the executor. This can be caused by a too short worker timeout or by a memory leak.\n",
      "  \"timeout or by a memory leak.\", UserWarning\n",
      "[Parallel(n_jobs=-1)]: Done  42 tasks      | elapsed: 39.0min\n",
      "[Parallel(n_jobs=-1)]: Done  60 out of  60 | elapsed: 54.3min finished\n",
      "/Users/clementow/anaconda3/lib/python3.7/site-packages/sklearn/svm/base.py:193: FutureWarning: The default value of gamma will change from 'auto' to 'scale' in version 0.22 to account better for unscaled features. Set gamma explicitly to 'auto' or 'scale' to avoid this warning.\n",
      "  \"avoid this warning.\", FutureWarning)\n",
      "/Users/clementow/anaconda3/lib/python3.7/site-packages/sklearn/metrics/classification.py:1437: UndefinedMetricWarning: F-score is ill-defined and being set to 0.0 due to no predicted samples.\n",
      "  'precision', 'predicted', average, warn_for)\n"
     ]
    },
    {
     "name": "stdout",
     "output_type": "stream",
     "text": [
      "SVC Confusion Matrix:\n",
      "True Negatives: 7686\n",
      "False Positives: 0\n",
      "False Negatives: 4905\n",
      "True Positives: 0\n",
      "\n",
      "\n"
     ]
    },
    {
     "name": "stderr",
     "output_type": "stream",
     "text": [
      "/Users/clementow/anaconda3/lib/python3.7/site-packages/sklearn/metrics/classification.py:1437: UndefinedMetricWarning: Precision and F-score are ill-defined and being set to 0.0 in labels with no predicted samples.\n",
      "  'precision', 'predicted', average, warn_for)\n"
     ]
    },
    {
     "data": {
      "text/html": [
       "<div>\n",
       "<style scoped>\n",
       "    .dataframe tbody tr th:only-of-type {\n",
       "        vertical-align: middle;\n",
       "    }\n",
       "\n",
       "    .dataframe tbody tr th {\n",
       "        vertical-align: top;\n",
       "    }\n",
       "\n",
       "    .dataframe thead th {\n",
       "        text-align: right;\n",
       "    }\n",
       "</style>\n",
       "<table border=\"1\" class=\"dataframe\">\n",
       "  <thead>\n",
       "    <tr style=\"text-align: right;\">\n",
       "      <th></th>\n",
       "      <th>f1-score</th>\n",
       "      <th>precision</th>\n",
       "      <th>recall</th>\n",
       "      <th>support</th>\n",
       "    </tr>\n",
       "  </thead>\n",
       "  <tbody>\n",
       "    <tr>\n",
       "      <th>Predict 0</th>\n",
       "      <td>0.758100</td>\n",
       "      <td>0.610436</td>\n",
       "      <td>1.000000</td>\n",
       "      <td>7686.000000</td>\n",
       "    </tr>\n",
       "    <tr>\n",
       "      <th>Predict 1</th>\n",
       "      <td>0.000000</td>\n",
       "      <td>0.000000</td>\n",
       "      <td>0.000000</td>\n",
       "      <td>4905.000000</td>\n",
       "    </tr>\n",
       "    <tr>\n",
       "      <th>accuracy</th>\n",
       "      <td>0.610436</td>\n",
       "      <td>0.610436</td>\n",
       "      <td>0.610436</td>\n",
       "      <td>0.610436</td>\n",
       "    </tr>\n",
       "    <tr>\n",
       "      <th>macro avg</th>\n",
       "      <td>0.379050</td>\n",
       "      <td>0.305218</td>\n",
       "      <td>0.500000</td>\n",
       "      <td>12591.000000</td>\n",
       "    </tr>\n",
       "    <tr>\n",
       "      <th>weighted avg</th>\n",
       "      <td>0.462772</td>\n",
       "      <td>0.372632</td>\n",
       "      <td>0.610436</td>\n",
       "      <td>12591.000000</td>\n",
       "    </tr>\n",
       "  </tbody>\n",
       "</table>\n",
       "</div>"
      ],
      "text/plain": [
       "              f1-score  precision    recall       support\n",
       "Predict 0     0.758100   0.610436  1.000000   7686.000000\n",
       "Predict 1     0.000000   0.000000  0.000000   4905.000000\n",
       "accuracy      0.610436   0.610436  0.610436      0.610436\n",
       "macro avg     0.379050   0.305218  0.500000  12591.000000\n",
       "weighted avg  0.462772   0.372632  0.610436  12591.000000"
      ]
     },
     "metadata": {},
     "output_type": "display_data"
    },
    {
     "name": "stdout",
     "output_type": "stream",
     "text": [
      "2 of 2 of methods attempting\n",
      "Fitting 5 folds for each of 12 candidates, totalling 60 fits\n"
     ]
    },
    {
     "name": "stderr",
     "output_type": "stream",
     "text": [
      "[Parallel(n_jobs=-1)]: Using backend LokyBackend with 4 concurrent workers.\n",
      "/Users/clementow/anaconda3/lib/python3.7/site-packages/joblib/externals/loky/process_executor.py:706: UserWarning: A worker stopped while some jobs were given to the executor. This can be caused by a too short worker timeout or by a memory leak.\n",
      "  \"timeout or by a memory leak.\", UserWarning\n",
      "[Parallel(n_jobs=-1)]: Done  42 tasks      | elapsed: 44.8min\n",
      "[Parallel(n_jobs=-1)]: Done  60 out of  60 | elapsed: 64.7min finished\n",
      "/Users/clementow/anaconda3/lib/python3.7/site-packages/sklearn/svm/base.py:193: FutureWarning: The default value of gamma will change from 'auto' to 'scale' in version 0.22 to account better for unscaled features. Set gamma explicitly to 'auto' or 'scale' to avoid this warning.\n",
      "  \"avoid this warning.\", FutureWarning)\n"
     ]
    },
    {
     "name": "stdout",
     "output_type": "stream",
     "text": [
      "SVC Confusion Matrix:\n",
      "True Negatives: 7624\n",
      "False Positives: 62\n",
      "False Negatives: 3498\n",
      "True Positives: 1407\n",
      "\n",
      "\n"
     ]
    },
    {
     "data": {
      "text/html": [
       "<div>\n",
       "<style scoped>\n",
       "    .dataframe tbody tr th:only-of-type {\n",
       "        vertical-align: middle;\n",
       "    }\n",
       "\n",
       "    .dataframe tbody tr th {\n",
       "        vertical-align: top;\n",
       "    }\n",
       "\n",
       "    .dataframe thead th {\n",
       "        text-align: right;\n",
       "    }\n",
       "</style>\n",
       "<table border=\"1\" class=\"dataframe\">\n",
       "  <thead>\n",
       "    <tr style=\"text-align: right;\">\n",
       "      <th></th>\n",
       "      <th>f1-score</th>\n",
       "      <th>precision</th>\n",
       "      <th>recall</th>\n",
       "      <th>support</th>\n",
       "    </tr>\n",
       "  </thead>\n",
       "  <tbody>\n",
       "    <tr>\n",
       "      <th>Predict 0</th>\n",
       "      <td>0.810719</td>\n",
       "      <td>0.685488</td>\n",
       "      <td>0.991933</td>\n",
       "      <td>7686.000000</td>\n",
       "    </tr>\n",
       "    <tr>\n",
       "      <th>Predict 1</th>\n",
       "      <td>0.441481</td>\n",
       "      <td>0.957794</td>\n",
       "      <td>0.286850</td>\n",
       "      <td>4905.000000</td>\n",
       "    </tr>\n",
       "    <tr>\n",
       "      <th>accuracy</th>\n",
       "      <td>0.717258</td>\n",
       "      <td>0.717258</td>\n",
       "      <td>0.717258</td>\n",
       "      <td>0.717258</td>\n",
       "    </tr>\n",
       "    <tr>\n",
       "      <th>macro avg</th>\n",
       "      <td>0.626100</td>\n",
       "      <td>0.821641</td>\n",
       "      <td>0.639392</td>\n",
       "      <td>12591.000000</td>\n",
       "    </tr>\n",
       "    <tr>\n",
       "      <th>weighted avg</th>\n",
       "      <td>0.666877</td>\n",
       "      <td>0.791569</td>\n",
       "      <td>0.717258</td>\n",
       "      <td>12591.000000</td>\n",
       "    </tr>\n",
       "  </tbody>\n",
       "</table>\n",
       "</div>"
      ],
      "text/plain": [
       "              f1-score  precision    recall       support\n",
       "Predict 0     0.810719   0.685488  0.991933   7686.000000\n",
       "Predict 1     0.441481   0.957794  0.286850   4905.000000\n",
       "accuracy      0.717258   0.717258  0.717258      0.717258\n",
       "macro avg     0.626100   0.821641  0.639392  12591.000000\n",
       "weighted avg  0.666877   0.791569  0.717258  12591.000000"
      ]
     },
     "metadata": {},
     "output_type": "display_data"
    },
    {
     "data": {
      "text/html": [
       "<div>\n",
       "<style scoped>\n",
       "    .dataframe tbody tr th:only-of-type {\n",
       "        vertical-align: middle;\n",
       "    }\n",
       "\n",
       "    .dataframe tbody tr th {\n",
       "        vertical-align: top;\n",
       "    }\n",
       "\n",
       "    .dataframe thead th {\n",
       "        text-align: right;\n",
       "    }\n",
       "</style>\n",
       "<table border=\"1\" class=\"dataframe\">\n",
       "  <thead>\n",
       "    <tr style=\"text-align: right;\">\n",
       "      <th></th>\n",
       "      <th>Classifier</th>\n",
       "      <th>Cross_Val_Score</th>\n",
       "      <th>Data</th>\n",
       "      <th>Test_Score</th>\n",
       "      <th>Vectorizer</th>\n",
       "      <th>vec__max_df</th>\n",
       "      <th>vec__max_features</th>\n",
       "      <th>vec__min_df</th>\n",
       "      <th>vec__ngram_range</th>\n",
       "      <th>vec__stop_words</th>\n",
       "    </tr>\n",
       "  </thead>\n",
       "  <tbody>\n",
       "    <tr>\n",
       "      <th>0</th>\n",
       "      <td>SVC</td>\n",
       "      <td>0.000000</td>\n",
       "      <td>df</td>\n",
       "      <td>0.000000</td>\n",
       "      <td>TfidfVectorizer</td>\n",
       "      <td>0.95</td>\n",
       "      <td>5000</td>\n",
       "      <td>2</td>\n",
       "      <td>(1, 1)</td>\n",
       "      <td>{doesn't, under, was, were, down, against, out...</td>\n",
       "    </tr>\n",
       "    <tr>\n",
       "      <th>1</th>\n",
       "      <td>SVC</td>\n",
       "      <td>0.258985</td>\n",
       "      <td>df</td>\n",
       "      <td>0.441481</td>\n",
       "      <td>CountVectorizer</td>\n",
       "      <td>0.95</td>\n",
       "      <td>5000</td>\n",
       "      <td>2</td>\n",
       "      <td>(1, 3)</td>\n",
       "      <td>{doesn't, under, was, were, down, against, out...</td>\n",
       "    </tr>\n",
       "  </tbody>\n",
       "</table>\n",
       "</div>"
      ],
      "text/plain": [
       "  Classifier  Cross_Val_Score Data  Test_Score       Vectorizer  vec__max_df  \\\n",
       "0        SVC         0.000000   df    0.000000  TfidfVectorizer         0.95   \n",
       "1        SVC         0.258985   df    0.441481  CountVectorizer         0.95   \n",
       "\n",
       "   vec__max_features  vec__min_df vec__ngram_range  \\\n",
       "0               5000            2           (1, 1)   \n",
       "1               5000            2           (1, 3)   \n",
       "\n",
       "                                     vec__stop_words  \n",
       "0  {doesn't, under, was, were, down, against, out...  \n",
       "1  {doesn't, under, was, were, down, against, out...  "
      ]
     },
     "execution_count": 131,
     "metadata": {},
     "output_type": "execute_result"
    }
   ],
   "source": [
    "dataframes=[df]\n",
    "df_names = ['df']\n",
    "vectorizer_lst = [TfidfVectorizer(),CountVectorizer()]\n",
    "classifier_lst = [SVC()]\n",
    "pipe_params = {\n",
    "                    'vec__max_features': [int(i) for i in np.linspace(5000,20000,4)],\n",
    "                    'vec__min_df': [2],\n",
    "                    'vec__max_df': [.95],\n",
    "                    'vec__ngram_range': [(1,1),(1,2),(1,3)],\n",
    "                    'vec__stop_words':[stopwords_nltk]\n",
    "                }\n",
    "superPipeline(dataframes, vectorizer_lst, classifier_lst, df_names, pipe_params, 'vectorizer_grid_linearmodels.csv', 'tok_lemma')"
   ]
  },
  {
   "cell_type": "markdown",
   "metadata": {},
   "source": [
    "With SVM Classifier (SVC), it is the same as the other classifiers above where CountVectorizer works better. "
   ]
  },
  {
   "cell_type": "markdown",
   "metadata": {},
   "source": [
    "#### Choosing best model based on CountVectorizer"
   ]
  },
  {
   "cell_type": "markdown",
   "metadata": {},
   "source": [
    "With CountVectorizer as the determined vectorizer, it is time to choose the best model that works well with it. "
   ]
  },
  {
   "cell_type": "code",
   "execution_count": 151,
   "metadata": {},
   "outputs": [],
   "source": [
    "def superPipeline(Dataframes,Vectorizerlist,ClassifierList,Dfnames,pipe_params,methodgridname, df_column):\n",
    "'''\n",
    "Function that handles the pipeline to match each vectorizer with each classifer with their corresponding \n",
    "parameters for GridSearch.\n",
    "'''\n",
    "    Methodgrid=[]\n",
    "    metnum=len(Dataframes)*len(Vectorizerlist)*len(ClassifierList)\n",
    "    n=0\n",
    "    for index,df in enumerate(Dataframes):\n",
    "        X=Dataframes[index][df_column]\n",
    "        y=Dataframes[index]['hate']\n",
    "        X_train,X_test,y_train,y_test=train_test_split(X,y,stratify=y,random_state=28)\n",
    "\n",
    "        for Vectorizer in Vectorizerlist:\n",
    "            for Classifier in ClassifierList:\n",
    "                n+=1\n",
    "                print(f'{n} of {metnum} of methods attempting')\n",
    "                method={}\n",
    "                pipe = Pipeline([\n",
    "                    ('vec', Vectorizer ),\n",
    "                    ('class', Classifier)\n",
    "                ])\n",
    "\n",
    "                gs = GridSearchCV(pipe, param_grid=pipe_params, cv=5,verbose=1,n_jobs=1, scoring='f1')\n",
    "                gs.fit(X_train, y_train)\n",
    "                method=(gs.best_params_)\n",
    "                method['Cross_Val_Score']=(gs.best_score_)\n",
    "                method['Test_Score']=gs.score(X_test,y_test)\n",
    "                method['Vectorizer']=str(Vectorizer).split('(')[0]\n",
    "                method['Data']=str(Dfnames[index])\n",
    "                method['Classifier']=str(Classifier).split('(')[0]\n",
    "                Methodgrid.append(method)\n",
    "                \n",
    "                tn, fp, fn, tp = confusion_matrix(y_test, gs.predict(X_test)).ravel()\n",
    "                print(f\"{str(Classifier).split('(')[0]} Confusion Matrix:\")\n",
    "                print(f\"True Negatives: {tn}\")\n",
    "                print(f\"False Positives: {fp}\")\n",
    "                print(f\"False Negatives: {fn}\")\n",
    "                print(f\"True Positives: {tp}\")\n",
    "                print('\\n')\n",
    "                \n",
    "                report = classification_report(y_test, gs.predict(X_test), target_names=['Predict 0', 'Predict 1'], output_dict=True)\n",
    "                class_table = pd.DataFrame(report).transpose()\n",
    "                display(class_table)\n",
    "                \n",
    "    Methodgrid=pd.DataFrame(Methodgrid)\n",
    "    Methodgrid.to_csv(methodgridname,index=False)\n",
    "    return Methodgrid"
   ]
  },
  {
   "cell_type": "code",
   "execution_count": 148,
   "metadata": {},
   "outputs": [
    {
     "name": "stdout",
     "output_type": "stream",
     "text": [
      "1 of 3 of methods attempting\n",
      "Fitting 5 folds for each of 8 candidates, totalling 40 fits\n"
     ]
    },
    {
     "name": "stderr",
     "output_type": "stream",
     "text": [
      "[Parallel(n_jobs=-1)]: Using backend LokyBackend with 4 concurrent workers.\n",
      "[Parallel(n_jobs=-1)]: Done  40 out of  40 | elapsed:  1.6min finished\n",
      "/Users/clementow/anaconda3/lib/python3.7/site-packages/sklearn/linear_model/logistic.py:432: FutureWarning: Default solver will be changed to 'lbfgs' in 0.22. Specify a solver to silence this warning.\n",
      "  FutureWarning)\n"
     ]
    },
    {
     "name": "stdout",
     "output_type": "stream",
     "text": [
      "LogisticRegression Confusion Matrix:\n",
      "True Negatives: 7219\n",
      "False Positives: 467\n",
      "False Negatives: 925\n",
      "True Positives: 3980\n",
      "\n",
      "\n"
     ]
    },
    {
     "data": {
      "text/html": [
       "<div>\n",
       "<style scoped>\n",
       "    .dataframe tbody tr th:only-of-type {\n",
       "        vertical-align: middle;\n",
       "    }\n",
       "\n",
       "    .dataframe tbody tr th {\n",
       "        vertical-align: top;\n",
       "    }\n",
       "\n",
       "    .dataframe thead th {\n",
       "        text-align: right;\n",
       "    }\n",
       "</style>\n",
       "<table border=\"1\" class=\"dataframe\">\n",
       "  <thead>\n",
       "    <tr style=\"text-align: right;\">\n",
       "      <th></th>\n",
       "      <th>f1-score</th>\n",
       "      <th>precision</th>\n",
       "      <th>recall</th>\n",
       "      <th>support</th>\n",
       "    </tr>\n",
       "  </thead>\n",
       "  <tbody>\n",
       "    <tr>\n",
       "      <th>Predict 0</th>\n",
       "      <td>0.912066</td>\n",
       "      <td>0.886419</td>\n",
       "      <td>0.939240</td>\n",
       "      <td>7686.000000</td>\n",
       "    </tr>\n",
       "    <tr>\n",
       "      <th>Predict 1</th>\n",
       "      <td>0.851155</td>\n",
       "      <td>0.894985</td>\n",
       "      <td>0.811417</td>\n",
       "      <td>4905.000000</td>\n",
       "    </tr>\n",
       "    <tr>\n",
       "      <th>accuracy</th>\n",
       "      <td>0.889445</td>\n",
       "      <td>0.889445</td>\n",
       "      <td>0.889445</td>\n",
       "      <td>0.889445</td>\n",
       "    </tr>\n",
       "  </tbody>\n",
       "</table>\n",
       "</div>"
      ],
      "text/plain": [
       "           f1-score  precision    recall      support\n",
       "Predict 0  0.912066   0.886419  0.939240  7686.000000\n",
       "Predict 1  0.851155   0.894985  0.811417  4905.000000\n",
       "accuracy   0.889445   0.889445  0.889445     0.889445"
      ]
     },
     "metadata": {},
     "output_type": "display_data"
    },
    {
     "name": "stdout",
     "output_type": "stream",
     "text": [
      "2 of 3 of methods attempting\n",
      "Fitting 5 folds for each of 8 candidates, totalling 40 fits\n"
     ]
    },
    {
     "name": "stderr",
     "output_type": "stream",
     "text": [
      "[Parallel(n_jobs=-1)]: Using backend LokyBackend with 4 concurrent workers.\n",
      "[Parallel(n_jobs=-1)]: Done  40 out of  40 | elapsed:   59.2s finished\n"
     ]
    },
    {
     "name": "stdout",
     "output_type": "stream",
     "text": [
      "MultinomialNB Confusion Matrix:\n",
      "True Negatives: 6309\n",
      "False Positives: 1377\n",
      "False Negatives: 874\n",
      "True Positives: 4031\n",
      "\n",
      "\n"
     ]
    },
    {
     "data": {
      "text/html": [
       "<div>\n",
       "<style scoped>\n",
       "    .dataframe tbody tr th:only-of-type {\n",
       "        vertical-align: middle;\n",
       "    }\n",
       "\n",
       "    .dataframe tbody tr th {\n",
       "        vertical-align: top;\n",
       "    }\n",
       "\n",
       "    .dataframe thead th {\n",
       "        text-align: right;\n",
       "    }\n",
       "</style>\n",
       "<table border=\"1\" class=\"dataframe\">\n",
       "  <thead>\n",
       "    <tr style=\"text-align: right;\">\n",
       "      <th></th>\n",
       "      <th>f1-score</th>\n",
       "      <th>precision</th>\n",
       "      <th>recall</th>\n",
       "      <th>support</th>\n",
       "    </tr>\n",
       "  </thead>\n",
       "  <tbody>\n",
       "    <tr>\n",
       "      <th>Predict 0</th>\n",
       "      <td>0.848611</td>\n",
       "      <td>0.878324</td>\n",
       "      <td>0.820843</td>\n",
       "      <td>7686.000000</td>\n",
       "    </tr>\n",
       "    <tr>\n",
       "      <th>Predict 1</th>\n",
       "      <td>0.781732</td>\n",
       "      <td>0.745377</td>\n",
       "      <td>0.821814</td>\n",
       "      <td>4905.000000</td>\n",
       "    </tr>\n",
       "    <tr>\n",
       "      <th>accuracy</th>\n",
       "      <td>0.821222</td>\n",
       "      <td>0.821222</td>\n",
       "      <td>0.821222</td>\n",
       "      <td>0.821222</td>\n",
       "    </tr>\n",
       "  </tbody>\n",
       "</table>\n",
       "</div>"
      ],
      "text/plain": [
       "           f1-score  precision    recall      support\n",
       "Predict 0  0.848611   0.878324  0.820843  7686.000000\n",
       "Predict 1  0.781732   0.745377  0.821814  4905.000000\n",
       "accuracy   0.821222   0.821222  0.821222     0.821222"
      ]
     },
     "metadata": {},
     "output_type": "display_data"
    },
    {
     "name": "stdout",
     "output_type": "stream",
     "text": [
      "3 of 3 of methods attempting\n",
      "Fitting 5 folds for each of 8 candidates, totalling 40 fits\n"
     ]
    },
    {
     "name": "stderr",
     "output_type": "stream",
     "text": [
      "[Parallel(n_jobs=-1)]: Using backend LokyBackend with 4 concurrent workers.\n",
      "[Parallel(n_jobs=-1)]: Done  40 out of  40 | elapsed:  3.9min finished\n",
      "/Users/clementow/anaconda3/lib/python3.7/site-packages/sklearn/ensemble/forest.py:245: FutureWarning: The default value of n_estimators will change from 10 in version 0.20 to 100 in 0.22.\n",
      "  \"10 in version 0.20 to 100 in 0.22.\", FutureWarning)\n"
     ]
    },
    {
     "name": "stdout",
     "output_type": "stream",
     "text": [
      "ExtraTreesClassifier Confusion Matrix:\n",
      "True Negatives: 7092\n",
      "False Positives: 594\n",
      "False Negatives: 1048\n",
      "True Positives: 3857\n",
      "\n",
      "\n"
     ]
    },
    {
     "data": {
      "text/html": [
       "<div>\n",
       "<style scoped>\n",
       "    .dataframe tbody tr th:only-of-type {\n",
       "        vertical-align: middle;\n",
       "    }\n",
       "\n",
       "    .dataframe tbody tr th {\n",
       "        vertical-align: top;\n",
       "    }\n",
       "\n",
       "    .dataframe thead th {\n",
       "        text-align: right;\n",
       "    }\n",
       "</style>\n",
       "<table border=\"1\" class=\"dataframe\">\n",
       "  <thead>\n",
       "    <tr style=\"text-align: right;\">\n",
       "      <th></th>\n",
       "      <th>f1-score</th>\n",
       "      <th>precision</th>\n",
       "      <th>recall</th>\n",
       "      <th>support</th>\n",
       "    </tr>\n",
       "  </thead>\n",
       "  <tbody>\n",
       "    <tr>\n",
       "      <th>Predict 0</th>\n",
       "      <td>0.896247</td>\n",
       "      <td>0.871253</td>\n",
       "      <td>0.922717</td>\n",
       "      <td>7686.000000</td>\n",
       "    </tr>\n",
       "    <tr>\n",
       "      <th>Predict 1</th>\n",
       "      <td>0.824498</td>\n",
       "      <td>0.866547</td>\n",
       "      <td>0.786340</td>\n",
       "      <td>4905.000000</td>\n",
       "    </tr>\n",
       "    <tr>\n",
       "      <th>accuracy</th>\n",
       "      <td>0.869589</td>\n",
       "      <td>0.869589</td>\n",
       "      <td>0.869589</td>\n",
       "      <td>0.869589</td>\n",
       "    </tr>\n",
       "  </tbody>\n",
       "</table>\n",
       "</div>"
      ],
      "text/plain": [
       "           f1-score  precision    recall      support\n",
       "Predict 0  0.896247   0.871253  0.922717  7686.000000\n",
       "Predict 1  0.824498   0.866547  0.786340  4905.000000\n",
       "accuracy   0.869589   0.869589  0.869589     0.869589"
      ]
     },
     "metadata": {},
     "output_type": "display_data"
    },
    {
     "data": {
      "text/html": [
       "<div>\n",
       "<style scoped>\n",
       "    .dataframe tbody tr th:only-of-type {\n",
       "        vertical-align: middle;\n",
       "    }\n",
       "\n",
       "    .dataframe tbody tr th {\n",
       "        vertical-align: top;\n",
       "    }\n",
       "\n",
       "    .dataframe thead th {\n",
       "        text-align: right;\n",
       "    }\n",
       "</style>\n",
       "<table border=\"1\" class=\"dataframe\">\n",
       "  <thead>\n",
       "    <tr style=\"text-align: right;\">\n",
       "      <th></th>\n",
       "      <th>Classifier</th>\n",
       "      <th>Cross_Val_Score</th>\n",
       "      <th>Data</th>\n",
       "      <th>Test_Score</th>\n",
       "      <th>Vectorizer</th>\n",
       "      <th>vec__max_df</th>\n",
       "      <th>vec__max_features</th>\n",
       "      <th>vec__min_df</th>\n",
       "      <th>vec__ngram_range</th>\n",
       "      <th>vec__stop_words</th>\n",
       "    </tr>\n",
       "  </thead>\n",
       "  <tbody>\n",
       "    <tr>\n",
       "      <th>0</th>\n",
       "      <td>LogisticRegression</td>\n",
       "      <td>0.886686</td>\n",
       "      <td>df</td>\n",
       "      <td>0.889445</td>\n",
       "      <td>CountVectorizer</td>\n",
       "      <td>0.95</td>\n",
       "      <td>20000</td>\n",
       "      <td>2</td>\n",
       "      <td>(1, 1)</td>\n",
       "      <td>{whom, me, until, m, couldn, you'd, her, but, ...</td>\n",
       "    </tr>\n",
       "    <tr>\n",
       "      <th>1</th>\n",
       "      <td>MultinomialNB</td>\n",
       "      <td>0.821159</td>\n",
       "      <td>df</td>\n",
       "      <td>0.821222</td>\n",
       "      <td>CountVectorizer</td>\n",
       "      <td>0.95</td>\n",
       "      <td>5000</td>\n",
       "      <td>2</td>\n",
       "      <td>(1, 1)</td>\n",
       "      <td>{whom, me, until, m, couldn, you'd, her, but, ...</td>\n",
       "    </tr>\n",
       "    <tr>\n",
       "      <th>2</th>\n",
       "      <td>ExtraTreesClassifier</td>\n",
       "      <td>0.866697</td>\n",
       "      <td>df</td>\n",
       "      <td>0.869589</td>\n",
       "      <td>CountVectorizer</td>\n",
       "      <td>0.95</td>\n",
       "      <td>15000</td>\n",
       "      <td>2</td>\n",
       "      <td>(1, 2)</td>\n",
       "      <td>{whom, me, until, m, couldn, you'd, her, but, ...</td>\n",
       "    </tr>\n",
       "  </tbody>\n",
       "</table>\n",
       "</div>"
      ],
      "text/plain": [
       "             Classifier  Cross_Val_Score Data  Test_Score       Vectorizer  \\\n",
       "0    LogisticRegression         0.886686   df    0.889445  CountVectorizer   \n",
       "1         MultinomialNB         0.821159   df    0.821222  CountVectorizer   \n",
       "2  ExtraTreesClassifier         0.866697   df    0.869589  CountVectorizer   \n",
       "\n",
       "   vec__max_df  vec__max_features  vec__min_df vec__ngram_range  \\\n",
       "0         0.95              20000            2           (1, 1)   \n",
       "1         0.95               5000            2           (1, 1)   \n",
       "2         0.95              15000            2           (1, 2)   \n",
       "\n",
       "                                     vec__stop_words  \n",
       "0  {whom, me, until, m, couldn, you'd, her, but, ...  \n",
       "1  {whom, me, until, m, couldn, you'd, her, but, ...  \n",
       "2  {whom, me, until, m, couldn, you'd, her, but, ...  "
      ]
     },
     "execution_count": 148,
     "metadata": {},
     "output_type": "execute_result"
    }
   ],
   "source": [
    "dataframes=[df]\n",
    "df_names = ['df']\n",
    "vectorizer_lst = [CountVectorizer()]\n",
    "classifier_lst = [LogisticRegression(), MultinomialNB(), ExtraTreesClassifier()]\n",
    "pipe_params = {\n",
    "                    'vec__max_features': [int(i) for i in np.linspace(5000,20000,4)],\n",
    "                    'vec__min_df': [2],\n",
    "                    'vec__max_df': [.95],\n",
    "                    'vec__ngram_range': [(1,1),(1,2)],\n",
    "                    'vec__stop_words':[stopwords_nltk]\n",
    "                }\n",
    "superPipeline(dataframes, vectorizer_lst, classifier_lst, df_names, pipe_params, 'class_grid.csv', 'lemma')"
   ]
  },
  {
   "cell_type": "markdown",
   "metadata": {},
   "source": [
    "As we can see the best F1 score still goes to LogisticRegression at `88.16%` and unigram CountVectorizer.\n",
    "The model with the lowest False Negatives is Multinomial Naive-Bayes whoever the score is the worse out of the above classifiers. \n",
    "Coming in second for the lowest False Negatives goes to the LogisticRegression model. "
   ]
  },
  {
   "cell_type": "markdown",
   "metadata": {},
   "source": [
    "#### SVC Optimization"
   ]
  },
  {
   "cell_type": "markdown",
   "metadata": {},
   "source": [
    "So far LogisticRegression model works the best for this dataset classifying whether a comment is hate speech or not. \n",
    "Let's use another linear based model to see if the score can further improved. "
   ]
  },
  {
   "cell_type": "code",
   "execution_count": 152,
   "metadata": {},
   "outputs": [
    {
     "name": "stdout",
     "output_type": "stream",
     "text": [
      "1 of 1 of methods attempting\n",
      "Fitting 5 folds for each of 3 candidates, totalling 15 fits\n"
     ]
    },
    {
     "name": "stderr",
     "output_type": "stream",
     "text": [
      "[Parallel(n_jobs=1)]: Using backend SequentialBackend with 1 concurrent workers.\n",
      "/Users/clementow/anaconda3/lib/python3.7/site-packages/sklearn/svm/base.py:193: FutureWarning: The default value of gamma will change from 'auto' to 'scale' in version 0.22 to account better for unscaled features. Set gamma explicitly to 'auto' or 'scale' to avoid this warning.\n",
      "  \"avoid this warning.\", FutureWarning)\n",
      "/Users/clementow/anaconda3/lib/python3.7/site-packages/sklearn/metrics/classification.py:1437: UndefinedMetricWarning: F-score is ill-defined and being set to 0.0 due to no predicted samples.\n",
      "  'precision', 'predicted', average, warn_for)\n",
      "/Users/clementow/anaconda3/lib/python3.7/site-packages/sklearn/svm/base.py:193: FutureWarning: The default value of gamma will change from 'auto' to 'scale' in version 0.22 to account better for unscaled features. Set gamma explicitly to 'auto' or 'scale' to avoid this warning.\n",
      "  \"avoid this warning.\", FutureWarning)\n",
      "/Users/clementow/anaconda3/lib/python3.7/site-packages/sklearn/metrics/classification.py:1437: UndefinedMetricWarning: F-score is ill-defined and being set to 0.0 due to no predicted samples.\n",
      "  'precision', 'predicted', average, warn_for)\n",
      "/Users/clementow/anaconda3/lib/python3.7/site-packages/sklearn/svm/base.py:193: FutureWarning: The default value of gamma will change from 'auto' to 'scale' in version 0.22 to account better for unscaled features. Set gamma explicitly to 'auto' or 'scale' to avoid this warning.\n",
      "  \"avoid this warning.\", FutureWarning)\n",
      "/Users/clementow/anaconda3/lib/python3.7/site-packages/sklearn/svm/base.py:193: FutureWarning: The default value of gamma will change from 'auto' to 'scale' in version 0.22 to account better for unscaled features. Set gamma explicitly to 'auto' or 'scale' to avoid this warning.\n",
      "  \"avoid this warning.\", FutureWarning)\n",
      "/Users/clementow/anaconda3/lib/python3.7/site-packages/sklearn/svm/base.py:193: FutureWarning: The default value of gamma will change from 'auto' to 'scale' in version 0.22 to account better for unscaled features. Set gamma explicitly to 'auto' or 'scale' to avoid this warning.\n",
      "  \"avoid this warning.\", FutureWarning)\n",
      "/Users/clementow/anaconda3/lib/python3.7/site-packages/sklearn/metrics/classification.py:1437: UndefinedMetricWarning: F-score is ill-defined and being set to 0.0 due to no predicted samples.\n",
      "  'precision', 'predicted', average, warn_for)\n",
      "/Users/clementow/anaconda3/lib/python3.7/site-packages/sklearn/svm/base.py:193: FutureWarning: The default value of gamma will change from 'auto' to 'scale' in version 0.22 to account better for unscaled features. Set gamma explicitly to 'auto' or 'scale' to avoid this warning.\n",
      "  \"avoid this warning.\", FutureWarning)\n",
      "/Users/clementow/anaconda3/lib/python3.7/site-packages/sklearn/svm/base.py:193: FutureWarning: The default value of gamma will change from 'auto' to 'scale' in version 0.22 to account better for unscaled features. Set gamma explicitly to 'auto' or 'scale' to avoid this warning.\n",
      "  \"avoid this warning.\", FutureWarning)\n",
      "/Users/clementow/anaconda3/lib/python3.7/site-packages/sklearn/svm/base.py:193: FutureWarning: The default value of gamma will change from 'auto' to 'scale' in version 0.22 to account better for unscaled features. Set gamma explicitly to 'auto' or 'scale' to avoid this warning.\n",
      "  \"avoid this warning.\", FutureWarning)\n",
      "/Users/clementow/anaconda3/lib/python3.7/site-packages/sklearn/svm/base.py:193: FutureWarning: The default value of gamma will change from 'auto' to 'scale' in version 0.22 to account better for unscaled features. Set gamma explicitly to 'auto' or 'scale' to avoid this warning.\n",
      "  \"avoid this warning.\", FutureWarning)\n",
      "/Users/clementow/anaconda3/lib/python3.7/site-packages/sklearn/svm/base.py:193: FutureWarning: The default value of gamma will change from 'auto' to 'scale' in version 0.22 to account better for unscaled features. Set gamma explicitly to 'auto' or 'scale' to avoid this warning.\n",
      "  \"avoid this warning.\", FutureWarning)\n",
      "/Users/clementow/anaconda3/lib/python3.7/site-packages/sklearn/svm/base.py:193: FutureWarning: The default value of gamma will change from 'auto' to 'scale' in version 0.22 to account better for unscaled features. Set gamma explicitly to 'auto' or 'scale' to avoid this warning.\n",
      "  \"avoid this warning.\", FutureWarning)\n",
      "/Users/clementow/anaconda3/lib/python3.7/site-packages/sklearn/svm/base.py:193: FutureWarning: The default value of gamma will change from 'auto' to 'scale' in version 0.22 to account better for unscaled features. Set gamma explicitly to 'auto' or 'scale' to avoid this warning.\n",
      "  \"avoid this warning.\", FutureWarning)\n",
      "/Users/clementow/anaconda3/lib/python3.7/site-packages/sklearn/svm/base.py:193: FutureWarning: The default value of gamma will change from 'auto' to 'scale' in version 0.22 to account better for unscaled features. Set gamma explicitly to 'auto' or 'scale' to avoid this warning.\n",
      "  \"avoid this warning.\", FutureWarning)\n",
      "/Users/clementow/anaconda3/lib/python3.7/site-packages/sklearn/svm/base.py:193: FutureWarning: The default value of gamma will change from 'auto' to 'scale' in version 0.22 to account better for unscaled features. Set gamma explicitly to 'auto' or 'scale' to avoid this warning.\n",
      "  \"avoid this warning.\", FutureWarning)\n",
      "/Users/clementow/anaconda3/lib/python3.7/site-packages/sklearn/svm/base.py:193: FutureWarning: The default value of gamma will change from 'auto' to 'scale' in version 0.22 to account better for unscaled features. Set gamma explicitly to 'auto' or 'scale' to avoid this warning.\n",
      "  \"avoid this warning.\", FutureWarning)\n",
      "[Parallel(n_jobs=1)]: Done  15 out of  15 | elapsed: 53.8min finished\n",
      "/Users/clementow/anaconda3/lib/python3.7/site-packages/sklearn/svm/base.py:193: FutureWarning: The default value of gamma will change from 'auto' to 'scale' in version 0.22 to account better for unscaled features. Set gamma explicitly to 'auto' or 'scale' to avoid this warning.\n",
      "  \"avoid this warning.\", FutureWarning)\n"
     ]
    },
    {
     "name": "stdout",
     "output_type": "stream",
     "text": [
      "SVC Confusion Matrix:\n",
      "True Negatives: 7407\n",
      "False Positives: 279\n",
      "False Negatives: 1291\n",
      "True Positives: 3614\n",
      "\n",
      "\n"
     ]
    },
    {
     "data": {
      "text/html": [
       "<div>\n",
       "<style scoped>\n",
       "    .dataframe tbody tr th:only-of-type {\n",
       "        vertical-align: middle;\n",
       "    }\n",
       "\n",
       "    .dataframe tbody tr th {\n",
       "        vertical-align: top;\n",
       "    }\n",
       "\n",
       "    .dataframe thead th {\n",
       "        text-align: right;\n",
       "    }\n",
       "</style>\n",
       "<table border=\"1\" class=\"dataframe\">\n",
       "  <thead>\n",
       "    <tr style=\"text-align: right;\">\n",
       "      <th></th>\n",
       "      <th>f1-score</th>\n",
       "      <th>precision</th>\n",
       "      <th>recall</th>\n",
       "      <th>support</th>\n",
       "    </tr>\n",
       "  </thead>\n",
       "  <tbody>\n",
       "    <tr>\n",
       "      <th>Predict 0</th>\n",
       "      <td>0.904175</td>\n",
       "      <td>0.851575</td>\n",
       "      <td>0.963700</td>\n",
       "      <td>7686.000000</td>\n",
       "    </tr>\n",
       "    <tr>\n",
       "      <th>Predict 1</th>\n",
       "      <td>0.821550</td>\n",
       "      <td>0.928333</td>\n",
       "      <td>0.736799</td>\n",
       "      <td>4905.000000</td>\n",
       "    </tr>\n",
       "    <tr>\n",
       "      <th>accuracy</th>\n",
       "      <td>0.875308</td>\n",
       "      <td>0.875308</td>\n",
       "      <td>0.875308</td>\n",
       "      <td>0.875308</td>\n",
       "    </tr>\n",
       "    <tr>\n",
       "      <th>macro avg</th>\n",
       "      <td>0.862863</td>\n",
       "      <td>0.889954</td>\n",
       "      <td>0.850250</td>\n",
       "      <td>12591.000000</td>\n",
       "    </tr>\n",
       "    <tr>\n",
       "      <th>weighted avg</th>\n",
       "      <td>0.871987</td>\n",
       "      <td>0.881477</td>\n",
       "      <td>0.875308</td>\n",
       "      <td>12591.000000</td>\n",
       "    </tr>\n",
       "  </tbody>\n",
       "</table>\n",
       "</div>"
      ],
      "text/plain": [
       "              f1-score  precision    recall       support\n",
       "Predict 0     0.904175   0.851575  0.963700   7686.000000\n",
       "Predict 1     0.821550   0.928333  0.736799   4905.000000\n",
       "accuracy      0.875308   0.875308  0.875308      0.875308\n",
       "macro avg     0.862863   0.889954  0.850250  12591.000000\n",
       "weighted avg  0.871987   0.881477  0.875308  12591.000000"
      ]
     },
     "metadata": {},
     "output_type": "display_data"
    },
    {
     "data": {
      "text/html": [
       "<div>\n",
       "<style scoped>\n",
       "    .dataframe tbody tr th:only-of-type {\n",
       "        vertical-align: middle;\n",
       "    }\n",
       "\n",
       "    .dataframe tbody tr th {\n",
       "        vertical-align: top;\n",
       "    }\n",
       "\n",
       "    .dataframe thead th {\n",
       "        text-align: right;\n",
       "    }\n",
       "</style>\n",
       "<table border=\"1\" class=\"dataframe\">\n",
       "  <thead>\n",
       "    <tr style=\"text-align: right;\">\n",
       "      <th></th>\n",
       "      <th>Classifier</th>\n",
       "      <th>Cross_Val_Score</th>\n",
       "      <th>Data</th>\n",
       "      <th>Test_Score</th>\n",
       "      <th>Vectorizer</th>\n",
       "      <th>class__C</th>\n",
       "    </tr>\n",
       "  </thead>\n",
       "  <tbody>\n",
       "    <tr>\n",
       "      <th>0</th>\n",
       "      <td>SVC</td>\n",
       "      <td>0.792316</td>\n",
       "      <td>df</td>\n",
       "      <td>0.82155</td>\n",
       "      <td>CountVectorizer</td>\n",
       "      <td>10</td>\n",
       "    </tr>\n",
       "  </tbody>\n",
       "</table>\n",
       "</div>"
      ],
      "text/plain": [
       "  Classifier  Cross_Val_Score Data  Test_Score       Vectorizer  class__C\n",
       "0        SVC         0.792316   df     0.82155  CountVectorizer        10"
      ]
     },
     "execution_count": 152,
     "metadata": {},
     "output_type": "execute_result"
    }
   ],
   "source": [
    "dataframes=[df]\n",
    "df_names = ['df']\n",
    "vectorizer_lst = [CountVectorizer(max_df=0.95, min_df=2, ngram_range=(1,1))]\n",
    "classifier_lst = [SVC()]\n",
    "pipe_params = {\n",
    "                'class__C':[0.1,1,10]\n",
    "                }\n",
    "\n",
    "superPipeline(dataframes, vectorizer_lst, classifier_lst, df_names, pipe_params, 'svm.csv', 'tok_lemma')"
   ]
  },
  {
   "cell_type": "markdown",
   "metadata": {},
   "source": [
    "The SVC model has an F1 score of `86.29%` which is considered a decent score but still short of the LogisticRegression performance (`88.16%` before optimization). Though it did better in terms of False Positives, it failed to detect many comments which were considered hate speech which resulted in a high occurence of False Negatives. "
   ]
  },
  {
   "cell_type": "markdown",
   "metadata": {
    "colab_type": "text",
    "id": "MntSVBSYXa16"
   },
   "source": [
    "#### Ensemble models"
   ]
  },
  {
   "cell_type": "markdown",
   "metadata": {},
   "source": [
    "Next we will try ensemble models to see how well it does and if it can be a decent contender to LogisticRegression so far. "
   ]
  },
  {
   "cell_type": "code",
   "execution_count": 38,
   "metadata": {
    "colab": {
     "base_uri": "https://localhost:8080/",
     "height": 1000
    },
    "colab_type": "code",
    "executionInfo": {
     "elapsed": 2777930,
     "status": "ok",
     "timestamp": 1573820921249,
     "user": {
      "displayName": "Clement ZS Ow",
      "photoUrl": "https://lh3.googleusercontent.com/a-/AAuE7mChb1gzbnzIf_aavBu0OflAOn7KDpoxIVtvp6eC=s64",
      "userId": "03334618728967888740"
     },
     "user_tz": -480
    },
    "id": "CtUZGp6_O5Zg",
    "outputId": "aa5cc930-839c-4190-c560-2fe1aeba15b6"
   },
   "outputs": [
    {
     "name": "stdout",
     "output_type": "stream",
     "text": [
      "1 of 3 of methods attempting\n",
      "Fitting 5 folds for each of 8 candidates, totalling 40 fits\n"
     ]
    },
    {
     "name": "stderr",
     "output_type": "stream",
     "text": [
      "[Parallel(n_jobs=-1)]: Using backend LokyBackend with 2 concurrent workers.\n",
      "/usr/local/lib/python3.6/dist-packages/joblib/externals/loky/process_executor.py:706: UserWarning: A worker stopped while some jobs were given to the executor. This can be caused by a too short worker timeout or by a memory leak.\n",
      "  \"timeout or by a memory leak.\", UserWarning\n",
      "[Parallel(n_jobs=-1)]: Done  40 out of  40 | elapsed: 34.0min finished\n"
     ]
    },
    {
     "name": "stdout",
     "output_type": "stream",
     "text": [
      "RandomForestClassifier Confusion Matrix:\n",
      "True Negatives: 7126\n",
      "False Positives: 559\n",
      "False Negatives: 842\n",
      "True Positives: 4064\n",
      "\n",
      "\n"
     ]
    },
    {
     "data": {
      "text/html": [
       "<div>\n",
       "<style scoped>\n",
       "    .dataframe tbody tr th:only-of-type {\n",
       "        vertical-align: middle;\n",
       "    }\n",
       "\n",
       "    .dataframe tbody tr th {\n",
       "        vertical-align: top;\n",
       "    }\n",
       "\n",
       "    .dataframe thead th {\n",
       "        text-align: right;\n",
       "    }\n",
       "</style>\n",
       "<table border=\"1\" class=\"dataframe\">\n",
       "  <thead>\n",
       "    <tr style=\"text-align: right;\">\n",
       "      <th></th>\n",
       "      <th>precision</th>\n",
       "      <th>recall</th>\n",
       "      <th>f1-score</th>\n",
       "      <th>support</th>\n",
       "    </tr>\n",
       "  </thead>\n",
       "  <tbody>\n",
       "    <tr>\n",
       "      <th>Predict 0</th>\n",
       "      <td>0.894327</td>\n",
       "      <td>0.927261</td>\n",
       "      <td>0.910496</td>\n",
       "      <td>7685.00000</td>\n",
       "    </tr>\n",
       "    <tr>\n",
       "      <th>Predict 1</th>\n",
       "      <td>0.879083</td>\n",
       "      <td>0.828373</td>\n",
       "      <td>0.852975</td>\n",
       "      <td>4906.00000</td>\n",
       "    </tr>\n",
       "    <tr>\n",
       "      <th>accuracy</th>\n",
       "      <td>0.888730</td>\n",
       "      <td>0.888730</td>\n",
       "      <td>0.888730</td>\n",
       "      <td>0.88873</td>\n",
       "    </tr>\n",
       "  </tbody>\n",
       "</table>\n",
       "</div>"
      ],
      "text/plain": [
       "           precision    recall  f1-score     support\n",
       "Predict 0   0.894327  0.927261  0.910496  7685.00000\n",
       "Predict 1   0.879083  0.828373  0.852975  4906.00000\n",
       "accuracy    0.888730  0.888730  0.888730     0.88873"
      ]
     },
     "metadata": {
      "tags": []
     },
     "output_type": "display_data"
    },
    {
     "name": "stdout",
     "output_type": "stream",
     "text": [
      "2 of 3 of methods attempting\n",
      "Fitting 5 folds for each of 8 candidates, totalling 40 fits\n"
     ]
    },
    {
     "name": "stderr",
     "output_type": "stream",
     "text": [
      "[Parallel(n_jobs=-1)]: Using backend LokyBackend with 2 concurrent workers.\n",
      "/usr/local/lib/python3.6/dist-packages/joblib/externals/loky/process_executor.py:706: UserWarning: A worker stopped while some jobs were given to the executor. This can be caused by a too short worker timeout or by a memory leak.\n",
      "  \"timeout or by a memory leak.\", UserWarning\n",
      "[Parallel(n_jobs=-1)]: Done  40 out of  40 | elapsed:  5.9min finished\n"
     ]
    },
    {
     "name": "stdout",
     "output_type": "stream",
     "text": [
      "GradientBoostingClassifier Confusion Matrix:\n",
      "True Negatives: 7329\n",
      "False Positives: 356\n",
      "False Negatives: 1016\n",
      "True Positives: 3890\n",
      "\n",
      "\n"
     ]
    },
    {
     "data": {
      "text/html": [
       "<div>\n",
       "<style scoped>\n",
       "    .dataframe tbody tr th:only-of-type {\n",
       "        vertical-align: middle;\n",
       "    }\n",
       "\n",
       "    .dataframe tbody tr th {\n",
       "        vertical-align: top;\n",
       "    }\n",
       "\n",
       "    .dataframe thead th {\n",
       "        text-align: right;\n",
       "    }\n",
       "</style>\n",
       "<table border=\"1\" class=\"dataframe\">\n",
       "  <thead>\n",
       "    <tr style=\"text-align: right;\">\n",
       "      <th></th>\n",
       "      <th>precision</th>\n",
       "      <th>recall</th>\n",
       "      <th>f1-score</th>\n",
       "      <th>support</th>\n",
       "    </tr>\n",
       "  </thead>\n",
       "  <tbody>\n",
       "    <tr>\n",
       "      <th>Predict 0</th>\n",
       "      <td>0.878250</td>\n",
       "      <td>0.953676</td>\n",
       "      <td>0.914410</td>\n",
       "      <td>7685.000000</td>\n",
       "    </tr>\n",
       "    <tr>\n",
       "      <th>Predict 1</th>\n",
       "      <td>0.916156</td>\n",
       "      <td>0.792907</td>\n",
       "      <td>0.850087</td>\n",
       "      <td>4906.000000</td>\n",
       "    </tr>\n",
       "    <tr>\n",
       "      <th>accuracy</th>\n",
       "      <td>0.891033</td>\n",
       "      <td>0.891033</td>\n",
       "      <td>0.891033</td>\n",
       "      <td>0.891033</td>\n",
       "    </tr>\n",
       "  </tbody>\n",
       "</table>\n",
       "</div>"
      ],
      "text/plain": [
       "           precision    recall  f1-score      support\n",
       "Predict 0   0.878250  0.953676  0.914410  7685.000000\n",
       "Predict 1   0.916156  0.792907  0.850087  4906.000000\n",
       "accuracy    0.891033  0.891033  0.891033     0.891033"
      ]
     },
     "metadata": {
      "tags": []
     },
     "output_type": "display_data"
    },
    {
     "name": "stdout",
     "output_type": "stream",
     "text": [
      "3 of 3 of methods attempting\n",
      "Fitting 5 folds for each of 8 candidates, totalling 40 fits\n"
     ]
    },
    {
     "name": "stderr",
     "output_type": "stream",
     "text": [
      "[Parallel(n_jobs=-1)]: Using backend LokyBackend with 2 concurrent workers.\n",
      "[Parallel(n_jobs=-1)]: Done  40 out of  40 | elapsed:  4.0min finished\n"
     ]
    },
    {
     "name": "stdout",
     "output_type": "stream",
     "text": [
      "AdaBoostClassifier Confusion Matrix:\n",
      "True Negatives: 7282\n",
      "False Positives: 403\n",
      "False Negatives: 927\n",
      "True Positives: 3979\n",
      "\n",
      "\n"
     ]
    },
    {
     "data": {
      "text/html": [
       "<div>\n",
       "<style scoped>\n",
       "    .dataframe tbody tr th:only-of-type {\n",
       "        vertical-align: middle;\n",
       "    }\n",
       "\n",
       "    .dataframe tbody tr th {\n",
       "        vertical-align: top;\n",
       "    }\n",
       "\n",
       "    .dataframe thead th {\n",
       "        text-align: right;\n",
       "    }\n",
       "</style>\n",
       "<table border=\"1\" class=\"dataframe\">\n",
       "  <thead>\n",
       "    <tr style=\"text-align: right;\">\n",
       "      <th></th>\n",
       "      <th>precision</th>\n",
       "      <th>recall</th>\n",
       "      <th>f1-score</th>\n",
       "      <th>support</th>\n",
       "    </tr>\n",
       "  </thead>\n",
       "  <tbody>\n",
       "    <tr>\n",
       "      <th>Predict 0</th>\n",
       "      <td>0.887075</td>\n",
       "      <td>0.947560</td>\n",
       "      <td>0.916321</td>\n",
       "      <td>7685.000000</td>\n",
       "    </tr>\n",
       "    <tr>\n",
       "      <th>Predict 1</th>\n",
       "      <td>0.908033</td>\n",
       "      <td>0.811048</td>\n",
       "      <td>0.856804</td>\n",
       "      <td>4906.000000</td>\n",
       "    </tr>\n",
       "    <tr>\n",
       "      <th>accuracy</th>\n",
       "      <td>0.894369</td>\n",
       "      <td>0.894369</td>\n",
       "      <td>0.894369</td>\n",
       "      <td>0.894369</td>\n",
       "    </tr>\n",
       "  </tbody>\n",
       "</table>\n",
       "</div>"
      ],
      "text/plain": [
       "           precision    recall  f1-score      support\n",
       "Predict 0   0.887075  0.947560  0.916321  7685.000000\n",
       "Predict 1   0.908033  0.811048  0.856804  4906.000000\n",
       "accuracy    0.894369  0.894369  0.894369     0.894369"
      ]
     },
     "metadata": {
      "tags": []
     },
     "output_type": "display_data"
    },
    {
     "data": {
      "text/html": [
       "<div>\n",
       "<style scoped>\n",
       "    .dataframe tbody tr th:only-of-type {\n",
       "        vertical-align: middle;\n",
       "    }\n",
       "\n",
       "    .dataframe tbody tr th {\n",
       "        vertical-align: top;\n",
       "    }\n",
       "\n",
       "    .dataframe thead th {\n",
       "        text-align: right;\n",
       "    }\n",
       "</style>\n",
       "<table border=\"1\" class=\"dataframe\">\n",
       "  <thead>\n",
       "    <tr style=\"text-align: right;\">\n",
       "      <th></th>\n",
       "      <th>vec__max_df</th>\n",
       "      <th>vec__max_features</th>\n",
       "      <th>vec__min_df</th>\n",
       "      <th>vec__ngram_range</th>\n",
       "      <th>vec__stop_words</th>\n",
       "      <th>Cross_Val_Score</th>\n",
       "      <th>Test_Score</th>\n",
       "      <th>Vectorizer</th>\n",
       "      <th>Data</th>\n",
       "      <th>Classifier</th>\n",
       "    </tr>\n",
       "  </thead>\n",
       "  <tbody>\n",
       "    <tr>\n",
       "      <th>0</th>\n",
       "      <td>0.95</td>\n",
       "      <td>15000</td>\n",
       "      <td>2</td>\n",
       "      <td>(1, 2)</td>\n",
       "      <td>{hers, you'll, ain, being, shouldn, isn't, aga...</td>\n",
       "      <td>0.861168</td>\n",
       "      <td>0.852975</td>\n",
       "      <td>CountVectorizer</td>\n",
       "      <td>df</td>\n",
       "      <td>RandomForestClassifier</td>\n",
       "    </tr>\n",
       "    <tr>\n",
       "      <th>1</th>\n",
       "      <td>0.95</td>\n",
       "      <td>20000</td>\n",
       "      <td>2</td>\n",
       "      <td>(1, 1)</td>\n",
       "      <td>{hers, you'll, ain, being, shouldn, isn't, aga...</td>\n",
       "      <td>0.856908</td>\n",
       "      <td>0.850087</td>\n",
       "      <td>CountVectorizer</td>\n",
       "      <td>df</td>\n",
       "      <td>GradientBoostingClassifier</td>\n",
       "    </tr>\n",
       "    <tr>\n",
       "      <th>2</th>\n",
       "      <td>0.95</td>\n",
       "      <td>10000</td>\n",
       "      <td>2</td>\n",
       "      <td>(1, 2)</td>\n",
       "      <td>{hers, you'll, ain, being, shouldn, isn't, aga...</td>\n",
       "      <td>0.861670</td>\n",
       "      <td>0.856804</td>\n",
       "      <td>CountVectorizer</td>\n",
       "      <td>df</td>\n",
       "      <td>AdaBoostClassifier</td>\n",
       "    </tr>\n",
       "  </tbody>\n",
       "</table>\n",
       "</div>"
      ],
      "text/plain": [
       "   vec__max_df  vec__max_features  ...  Data                  Classifier\n",
       "0         0.95              15000  ...    df      RandomForestClassifier\n",
       "1         0.95              20000  ...    df  GradientBoostingClassifier\n",
       "2         0.95              10000  ...    df          AdaBoostClassifier\n",
       "\n",
       "[3 rows x 10 columns]"
      ]
     },
     "execution_count": 38,
     "metadata": {
      "tags": []
     },
     "output_type": "execute_result"
    }
   ],
   "source": [
    "dataframes=[df]\n",
    "df_names = ['df']\n",
    "vectorizer_lst = [CountVectorizer()]\n",
    "classifier_lst = [RandomForestClassifier(n_estimators=100), GradientBoostingClassifier(n_estimators=100), AdaBoostClassifier(n_estimators=100)]\n",
    "pipe_params = {\n",
    "                    'vec__max_features': [int(i) for i in np.linspace(5000,20000,4)],\n",
    "                    'vec__min_df': [2],\n",
    "                    'vec__max_df': [.95],\n",
    "                    'vec__ngram_range': [(1,1),(1,2)],\n",
    "                    'vec__stop_words':[stopwords_nltk]\n",
    "                }\n",
    "superPipeline(dataframes, vectorizer_lst, classifier_lst, df_names, pipe_params, 'class_ensemble_grid.csv')"
   ]
  },
  {
   "cell_type": "markdown",
   "metadata": {},
   "source": [
    "Adaboost does the best among all the ensemble models with a F1 score of `88.66%`. However we want to ensure the model does well to reduce false negatives, hence RandomForest classifier is superior with a lower number of false negatives and a decent F1 score of `88.17%`. This slightly edges LogisticRegression (before optimization) by `0.01%`."
   ]
  },
  {
   "cell_type": "markdown",
   "metadata": {
    "colab_type": "text",
    "id": "wJjUpU2xGTtt"
   },
   "source": [
    "#### RandomForest optimization"
   ]
  },
  {
   "cell_type": "markdown",
   "metadata": {},
   "source": [
    "Since RandomForest and LogisticRegression are the top 2 models edging very close with each other. We shall do some optimization of parameters for each model."
   ]
  },
  {
   "cell_type": "code",
   "execution_count": 26,
   "metadata": {
    "colab": {
     "base_uri": "https://localhost:8080/",
     "height": 1000
    },
    "colab_type": "code",
    "executionInfo": {
     "elapsed": 4840045,
     "status": "ok",
     "timestamp": 1574051075265,
     "user": {
      "displayName": "Clement ZS Ow",
      "photoUrl": "https://lh3.googleusercontent.com/a-/AAuE7mChb1gzbnzIf_aavBu0OflAOn7KDpoxIVtvp6eC=s64",
      "userId": "03334618728967888740"
     },
     "user_tz": -480
    },
    "id": "DQla0URRGaK3",
    "outputId": "d99a73dd-9b67-4c79-d46d-99f2cad4ed67"
   },
   "outputs": [
    {
     "name": "stdout",
     "output_type": "stream",
     "text": [
      "1 of 1 of methods attempting\n",
      "Fitting 5 folds for each of 36 candidates, totalling 180 fits\n"
     ]
    },
    {
     "name": "stderr",
     "output_type": "stream",
     "text": [
      "[Parallel(n_jobs=1)]: Using backend SequentialBackend with 1 concurrent workers.\n",
      "/usr/local/lib/python3.6/dist-packages/sklearn/metrics/classification.py:1437: UndefinedMetricWarning: F-score is ill-defined and being set to 0.0 due to no predicted samples.\n",
      "  'precision', 'predicted', average, warn_for)\n",
      "/usr/local/lib/python3.6/dist-packages/sklearn/metrics/classification.py:1437: UndefinedMetricWarning: F-score is ill-defined and being set to 0.0 due to no predicted samples.\n",
      "  'precision', 'predicted', average, warn_for)\n",
      "/usr/local/lib/python3.6/dist-packages/sklearn/metrics/classification.py:1437: UndefinedMetricWarning: F-score is ill-defined and being set to 0.0 due to no predicted samples.\n",
      "  'precision', 'predicted', average, warn_for)\n",
      "/usr/local/lib/python3.6/dist-packages/sklearn/metrics/classification.py:1437: UndefinedMetricWarning: F-score is ill-defined and being set to 0.0 due to no predicted samples.\n",
      "  'precision', 'predicted', average, warn_for)\n",
      "/usr/local/lib/python3.6/dist-packages/sklearn/metrics/classification.py:1437: UndefinedMetricWarning: F-score is ill-defined and being set to 0.0 due to no predicted samples.\n",
      "  'precision', 'predicted', average, warn_for)\n",
      "/usr/local/lib/python3.6/dist-packages/sklearn/metrics/classification.py:1437: UndefinedMetricWarning: F-score is ill-defined and being set to 0.0 due to no predicted samples.\n",
      "  'precision', 'predicted', average, warn_for)\n",
      "/usr/local/lib/python3.6/dist-packages/sklearn/metrics/classification.py:1437: UndefinedMetricWarning: F-score is ill-defined and being set to 0.0 due to no predicted samples.\n",
      "  'precision', 'predicted', average, warn_for)\n",
      "/usr/local/lib/python3.6/dist-packages/sklearn/metrics/classification.py:1437: UndefinedMetricWarning: F-score is ill-defined and being set to 0.0 due to no predicted samples.\n",
      "  'precision', 'predicted', average, warn_for)\n",
      "/usr/local/lib/python3.6/dist-packages/sklearn/metrics/classification.py:1437: UndefinedMetricWarning: F-score is ill-defined and being set to 0.0 due to no predicted samples.\n",
      "  'precision', 'predicted', average, warn_for)\n",
      "/usr/local/lib/python3.6/dist-packages/sklearn/metrics/classification.py:1437: UndefinedMetricWarning: F-score is ill-defined and being set to 0.0 due to no predicted samples.\n",
      "  'precision', 'predicted', average, warn_for)\n",
      "/usr/local/lib/python3.6/dist-packages/sklearn/metrics/classification.py:1437: UndefinedMetricWarning: F-score is ill-defined and being set to 0.0 due to no predicted samples.\n",
      "  'precision', 'predicted', average, warn_for)\n",
      "/usr/local/lib/python3.6/dist-packages/sklearn/metrics/classification.py:1437: UndefinedMetricWarning: F-score is ill-defined and being set to 0.0 due to no predicted samples.\n",
      "  'precision', 'predicted', average, warn_for)\n",
      "/usr/local/lib/python3.6/dist-packages/sklearn/metrics/classification.py:1437: UndefinedMetricWarning: F-score is ill-defined and being set to 0.0 due to no predicted samples.\n",
      "  'precision', 'predicted', average, warn_for)\n",
      "/usr/local/lib/python3.6/dist-packages/sklearn/metrics/classification.py:1437: UndefinedMetricWarning: F-score is ill-defined and being set to 0.0 due to no predicted samples.\n",
      "  'precision', 'predicted', average, warn_for)\n",
      "/usr/local/lib/python3.6/dist-packages/sklearn/metrics/classification.py:1437: UndefinedMetricWarning: F-score is ill-defined and being set to 0.0 due to no predicted samples.\n",
      "  'precision', 'predicted', average, warn_for)\n",
      "/usr/local/lib/python3.6/dist-packages/sklearn/metrics/classification.py:1437: UndefinedMetricWarning: F-score is ill-defined and being set to 0.0 due to no predicted samples.\n",
      "  'precision', 'predicted', average, warn_for)\n",
      "/usr/local/lib/python3.6/dist-packages/sklearn/metrics/classification.py:1437: UndefinedMetricWarning: F-score is ill-defined and being set to 0.0 due to no predicted samples.\n",
      "  'precision', 'predicted', average, warn_for)\n",
      "/usr/local/lib/python3.6/dist-packages/sklearn/metrics/classification.py:1437: UndefinedMetricWarning: F-score is ill-defined and being set to 0.0 due to no predicted samples.\n",
      "  'precision', 'predicted', average, warn_for)\n",
      "/usr/local/lib/python3.6/dist-packages/sklearn/metrics/classification.py:1437: UndefinedMetricWarning: F-score is ill-defined and being set to 0.0 due to no predicted samples.\n",
      "  'precision', 'predicted', average, warn_for)\n",
      "/usr/local/lib/python3.6/dist-packages/sklearn/metrics/classification.py:1437: UndefinedMetricWarning: F-score is ill-defined and being set to 0.0 due to no predicted samples.\n",
      "  'precision', 'predicted', average, warn_for)\n",
      "/usr/local/lib/python3.6/dist-packages/sklearn/metrics/classification.py:1437: UndefinedMetricWarning: F-score is ill-defined and being set to 0.0 due to no predicted samples.\n",
      "  'precision', 'predicted', average, warn_for)\n",
      "/usr/local/lib/python3.6/dist-packages/sklearn/metrics/classification.py:1437: UndefinedMetricWarning: F-score is ill-defined and being set to 0.0 due to no predicted samples.\n",
      "  'precision', 'predicted', average, warn_for)\n",
      "/usr/local/lib/python3.6/dist-packages/sklearn/metrics/classification.py:1437: UndefinedMetricWarning: F-score is ill-defined and being set to 0.0 due to no predicted samples.\n",
      "  'precision', 'predicted', average, warn_for)\n",
      "/usr/local/lib/python3.6/dist-packages/sklearn/metrics/classification.py:1437: UndefinedMetricWarning: F-score is ill-defined and being set to 0.0 due to no predicted samples.\n",
      "  'precision', 'predicted', average, warn_for)\n",
      "/usr/local/lib/python3.6/dist-packages/sklearn/metrics/classification.py:1437: UndefinedMetricWarning: F-score is ill-defined and being set to 0.0 due to no predicted samples.\n",
      "  'precision', 'predicted', average, warn_for)\n",
      "/usr/local/lib/python3.6/dist-packages/sklearn/metrics/classification.py:1437: UndefinedMetricWarning: F-score is ill-defined and being set to 0.0 due to no predicted samples.\n",
      "  'precision', 'predicted', average, warn_for)\n",
      "/usr/local/lib/python3.6/dist-packages/sklearn/metrics/classification.py:1437: UndefinedMetricWarning: F-score is ill-defined and being set to 0.0 due to no predicted samples.\n",
      "  'precision', 'predicted', average, warn_for)\n",
      "/usr/local/lib/python3.6/dist-packages/sklearn/metrics/classification.py:1437: UndefinedMetricWarning: F-score is ill-defined and being set to 0.0 due to no predicted samples.\n",
      "  'precision', 'predicted', average, warn_for)\n",
      "/usr/local/lib/python3.6/dist-packages/sklearn/metrics/classification.py:1437: UndefinedMetricWarning: F-score is ill-defined and being set to 0.0 due to no predicted samples.\n",
      "  'precision', 'predicted', average, warn_for)\n",
      "/usr/local/lib/python3.6/dist-packages/sklearn/metrics/classification.py:1437: UndefinedMetricWarning: F-score is ill-defined and being set to 0.0 due to no predicted samples.\n",
      "  'precision', 'predicted', average, warn_for)\n",
      "/usr/local/lib/python3.6/dist-packages/sklearn/metrics/classification.py:1437: UndefinedMetricWarning: F-score is ill-defined and being set to 0.0 due to no predicted samples.\n",
      "  'precision', 'predicted', average, warn_for)\n",
      "/usr/local/lib/python3.6/dist-packages/sklearn/metrics/classification.py:1437: UndefinedMetricWarning: F-score is ill-defined and being set to 0.0 due to no predicted samples.\n",
      "  'precision', 'predicted', average, warn_for)\n",
      "/usr/local/lib/python3.6/dist-packages/sklearn/metrics/classification.py:1437: UndefinedMetricWarning: F-score is ill-defined and being set to 0.0 due to no predicted samples.\n",
      "  'precision', 'predicted', average, warn_for)\n",
      "/usr/local/lib/python3.6/dist-packages/sklearn/metrics/classification.py:1437: UndefinedMetricWarning: F-score is ill-defined and being set to 0.0 due to no predicted samples.\n",
      "  'precision', 'predicted', average, warn_for)\n",
      "/usr/local/lib/python3.6/dist-packages/sklearn/metrics/classification.py:1437: UndefinedMetricWarning: F-score is ill-defined and being set to 0.0 due to no predicted samples.\n",
      "  'precision', 'predicted', average, warn_for)\n",
      "/usr/local/lib/python3.6/dist-packages/sklearn/metrics/classification.py:1437: UndefinedMetricWarning: F-score is ill-defined and being set to 0.0 due to no predicted samples.\n",
      "  'precision', 'predicted', average, warn_for)\n",
      "/usr/local/lib/python3.6/dist-packages/sklearn/metrics/classification.py:1437: UndefinedMetricWarning: F-score is ill-defined and being set to 0.0 due to no predicted samples.\n",
      "  'precision', 'predicted', average, warn_for)\n",
      "/usr/local/lib/python3.6/dist-packages/sklearn/metrics/classification.py:1437: UndefinedMetricWarning: F-score is ill-defined and being set to 0.0 due to no predicted samples.\n",
      "  'precision', 'predicted', average, warn_for)\n",
      "/usr/local/lib/python3.6/dist-packages/sklearn/metrics/classification.py:1437: UndefinedMetricWarning: F-score is ill-defined and being set to 0.0 due to no predicted samples.\n",
      "  'precision', 'predicted', average, warn_for)\n",
      "/usr/local/lib/python3.6/dist-packages/sklearn/metrics/classification.py:1437: UndefinedMetricWarning: F-score is ill-defined and being set to 0.0 due to no predicted samples.\n",
      "  'precision', 'predicted', average, warn_for)\n",
      "/usr/local/lib/python3.6/dist-packages/sklearn/metrics/classification.py:1437: UndefinedMetricWarning: F-score is ill-defined and being set to 0.0 due to no predicted samples.\n",
      "  'precision', 'predicted', average, warn_for)\n",
      "/usr/local/lib/python3.6/dist-packages/sklearn/metrics/classification.py:1437: UndefinedMetricWarning: F-score is ill-defined and being set to 0.0 due to no predicted samples.\n",
      "  'precision', 'predicted', average, warn_for)\n",
      "/usr/local/lib/python3.6/dist-packages/sklearn/metrics/classification.py:1437: UndefinedMetricWarning: F-score is ill-defined and being set to 0.0 due to no predicted samples.\n",
      "  'precision', 'predicted', average, warn_for)\n",
      "/usr/local/lib/python3.6/dist-packages/sklearn/metrics/classification.py:1437: UndefinedMetricWarning: F-score is ill-defined and being set to 0.0 due to no predicted samples.\n",
      "  'precision', 'predicted', average, warn_for)\n",
      "/usr/local/lib/python3.6/dist-packages/sklearn/metrics/classification.py:1437: UndefinedMetricWarning: F-score is ill-defined and being set to 0.0 due to no predicted samples.\n",
      "  'precision', 'predicted', average, warn_for)\n",
      "/usr/local/lib/python3.6/dist-packages/sklearn/metrics/classification.py:1437: UndefinedMetricWarning: F-score is ill-defined and being set to 0.0 due to no predicted samples.\n",
      "  'precision', 'predicted', average, warn_for)\n",
      "/usr/local/lib/python3.6/dist-packages/sklearn/metrics/classification.py:1437: UndefinedMetricWarning: F-score is ill-defined and being set to 0.0 due to no predicted samples.\n",
      "  'precision', 'predicted', average, warn_for)\n",
      "/usr/local/lib/python3.6/dist-packages/sklearn/metrics/classification.py:1437: UndefinedMetricWarning: F-score is ill-defined and being set to 0.0 due to no predicted samples.\n",
      "  'precision', 'predicted', average, warn_for)\n",
      "/usr/local/lib/python3.6/dist-packages/sklearn/metrics/classification.py:1437: UndefinedMetricWarning: F-score is ill-defined and being set to 0.0 due to no predicted samples.\n",
      "  'precision', 'predicted', average, warn_for)\n",
      "/usr/local/lib/python3.6/dist-packages/sklearn/metrics/classification.py:1437: UndefinedMetricWarning: F-score is ill-defined and being set to 0.0 due to no predicted samples.\n",
      "  'precision', 'predicted', average, warn_for)\n",
      "/usr/local/lib/python3.6/dist-packages/sklearn/metrics/classification.py:1437: UndefinedMetricWarning: F-score is ill-defined and being set to 0.0 due to no predicted samples.\n",
      "  'precision', 'predicted', average, warn_for)\n",
      "/usr/local/lib/python3.6/dist-packages/sklearn/metrics/classification.py:1437: UndefinedMetricWarning: F-score is ill-defined and being set to 0.0 due to no predicted samples.\n",
      "  'precision', 'predicted', average, warn_for)\n",
      "/usr/local/lib/python3.6/dist-packages/sklearn/metrics/classification.py:1437: UndefinedMetricWarning: F-score is ill-defined and being set to 0.0 due to no predicted samples.\n",
      "  'precision', 'predicted', average, warn_for)\n",
      "/usr/local/lib/python3.6/dist-packages/sklearn/metrics/classification.py:1437: UndefinedMetricWarning: F-score is ill-defined and being set to 0.0 due to no predicted samples.\n",
      "  'precision', 'predicted', average, warn_for)\n",
      "/usr/local/lib/python3.6/dist-packages/sklearn/metrics/classification.py:1437: UndefinedMetricWarning: F-score is ill-defined and being set to 0.0 due to no predicted samples.\n",
      "  'precision', 'predicted', average, warn_for)\n",
      "/usr/local/lib/python3.6/dist-packages/sklearn/metrics/classification.py:1437: UndefinedMetricWarning: F-score is ill-defined and being set to 0.0 due to no predicted samples.\n",
      "  'precision', 'predicted', average, warn_for)\n",
      "/usr/local/lib/python3.6/dist-packages/sklearn/metrics/classification.py:1437: UndefinedMetricWarning: F-score is ill-defined and being set to 0.0 due to no predicted samples.\n",
      "  'precision', 'predicted', average, warn_for)\n",
      "/usr/local/lib/python3.6/dist-packages/sklearn/metrics/classification.py:1437: UndefinedMetricWarning: F-score is ill-defined and being set to 0.0 due to no predicted samples.\n",
      "  'precision', 'predicted', average, warn_for)\n",
      "/usr/local/lib/python3.6/dist-packages/sklearn/metrics/classification.py:1437: UndefinedMetricWarning: F-score is ill-defined and being set to 0.0 due to no predicted samples.\n",
      "  'precision', 'predicted', average, warn_for)\n",
      "/usr/local/lib/python3.6/dist-packages/sklearn/metrics/classification.py:1437: UndefinedMetricWarning: F-score is ill-defined and being set to 0.0 due to no predicted samples.\n",
      "  'precision', 'predicted', average, warn_for)\n",
      "/usr/local/lib/python3.6/dist-packages/sklearn/metrics/classification.py:1437: UndefinedMetricWarning: F-score is ill-defined and being set to 0.0 due to no predicted samples.\n",
      "  'precision', 'predicted', average, warn_for)\n",
      "/usr/local/lib/python3.6/dist-packages/sklearn/metrics/classification.py:1437: UndefinedMetricWarning: F-score is ill-defined and being set to 0.0 due to no predicted samples.\n",
      "  'precision', 'predicted', average, warn_for)\n",
      "/usr/local/lib/python3.6/dist-packages/sklearn/metrics/classification.py:1437: UndefinedMetricWarning: F-score is ill-defined and being set to 0.0 due to no predicted samples.\n",
      "  'precision', 'predicted', average, warn_for)\n",
      "/usr/local/lib/python3.6/dist-packages/sklearn/metrics/classification.py:1437: UndefinedMetricWarning: F-score is ill-defined and being set to 0.0 due to no predicted samples.\n",
      "  'precision', 'predicted', average, warn_for)\n",
      "/usr/local/lib/python3.6/dist-packages/sklearn/metrics/classification.py:1437: UndefinedMetricWarning: F-score is ill-defined and being set to 0.0 due to no predicted samples.\n",
      "  'precision', 'predicted', average, warn_for)\n",
      "/usr/local/lib/python3.6/dist-packages/sklearn/metrics/classification.py:1437: UndefinedMetricWarning: F-score is ill-defined and being set to 0.0 due to no predicted samples.\n",
      "  'precision', 'predicted', average, warn_for)\n",
      "/usr/local/lib/python3.6/dist-packages/sklearn/metrics/classification.py:1437: UndefinedMetricWarning: F-score is ill-defined and being set to 0.0 due to no predicted samples.\n",
      "  'precision', 'predicted', average, warn_for)\n",
      "/usr/local/lib/python3.6/dist-packages/sklearn/metrics/classification.py:1437: UndefinedMetricWarning: F-score is ill-defined and being set to 0.0 due to no predicted samples.\n",
      "  'precision', 'predicted', average, warn_for)\n",
      "/usr/local/lib/python3.6/dist-packages/sklearn/metrics/classification.py:1437: UndefinedMetricWarning: F-score is ill-defined and being set to 0.0 due to no predicted samples.\n",
      "  'precision', 'predicted', average, warn_for)\n",
      "/usr/local/lib/python3.6/dist-packages/sklearn/metrics/classification.py:1437: UndefinedMetricWarning: F-score is ill-defined and being set to 0.0 due to no predicted samples.\n",
      "  'precision', 'predicted', average, warn_for)\n",
      "/usr/local/lib/python3.6/dist-packages/sklearn/metrics/classification.py:1437: UndefinedMetricWarning: F-score is ill-defined and being set to 0.0 due to no predicted samples.\n",
      "  'precision', 'predicted', average, warn_for)\n",
      "/usr/local/lib/python3.6/dist-packages/sklearn/metrics/classification.py:1437: UndefinedMetricWarning: F-score is ill-defined and being set to 0.0 due to no predicted samples.\n",
      "  'precision', 'predicted', average, warn_for)\n",
      "/usr/local/lib/python3.6/dist-packages/sklearn/metrics/classification.py:1437: UndefinedMetricWarning: F-score is ill-defined and being set to 0.0 due to no predicted samples.\n",
      "  'precision', 'predicted', average, warn_for)\n",
      "/usr/local/lib/python3.6/dist-packages/sklearn/metrics/classification.py:1437: UndefinedMetricWarning: F-score is ill-defined and being set to 0.0 due to no predicted samples.\n",
      "  'precision', 'predicted', average, warn_for)\n",
      "/usr/local/lib/python3.6/dist-packages/sklearn/metrics/classification.py:1437: UndefinedMetricWarning: F-score is ill-defined and being set to 0.0 due to no predicted samples.\n",
      "  'precision', 'predicted', average, warn_for)\n",
      "/usr/local/lib/python3.6/dist-packages/sklearn/metrics/classification.py:1437: UndefinedMetricWarning: F-score is ill-defined and being set to 0.0 due to no predicted samples.\n",
      "  'precision', 'predicted', average, warn_for)\n",
      "/usr/local/lib/python3.6/dist-packages/sklearn/metrics/classification.py:1437: UndefinedMetricWarning: F-score is ill-defined and being set to 0.0 due to no predicted samples.\n",
      "  'precision', 'predicted', average, warn_for)\n",
      "/usr/local/lib/python3.6/dist-packages/sklearn/metrics/classification.py:1437: UndefinedMetricWarning: F-score is ill-defined and being set to 0.0 due to no predicted samples.\n",
      "  'precision', 'predicted', average, warn_for)\n",
      "/usr/local/lib/python3.6/dist-packages/sklearn/metrics/classification.py:1437: UndefinedMetricWarning: F-score is ill-defined and being set to 0.0 due to no predicted samples.\n",
      "  'precision', 'predicted', average, warn_for)\n",
      "/usr/local/lib/python3.6/dist-packages/sklearn/metrics/classification.py:1437: UndefinedMetricWarning: F-score is ill-defined and being set to 0.0 due to no predicted samples.\n",
      "  'precision', 'predicted', average, warn_for)\n",
      "/usr/local/lib/python3.6/dist-packages/sklearn/metrics/classification.py:1437: UndefinedMetricWarning: F-score is ill-defined and being set to 0.0 due to no predicted samples.\n",
      "  'precision', 'predicted', average, warn_for)\n",
      "/usr/local/lib/python3.6/dist-packages/sklearn/metrics/classification.py:1437: UndefinedMetricWarning: F-score is ill-defined and being set to 0.0 due to no predicted samples.\n",
      "  'precision', 'predicted', average, warn_for)\n",
      "/usr/local/lib/python3.6/dist-packages/sklearn/metrics/classification.py:1437: UndefinedMetricWarning: F-score is ill-defined and being set to 0.0 due to no predicted samples.\n",
      "  'precision', 'predicted', average, warn_for)\n",
      "/usr/local/lib/python3.6/dist-packages/sklearn/metrics/classification.py:1437: UndefinedMetricWarning: F-score is ill-defined and being set to 0.0 due to no predicted samples.\n",
      "  'precision', 'predicted', average, warn_for)\n",
      "/usr/local/lib/python3.6/dist-packages/sklearn/metrics/classification.py:1437: UndefinedMetricWarning: F-score is ill-defined and being set to 0.0 due to no predicted samples.\n",
      "  'precision', 'predicted', average, warn_for)\n",
      "/usr/local/lib/python3.6/dist-packages/sklearn/metrics/classification.py:1437: UndefinedMetricWarning: F-score is ill-defined and being set to 0.0 due to no predicted samples.\n",
      "  'precision', 'predicted', average, warn_for)\n",
      "/usr/local/lib/python3.6/dist-packages/sklearn/metrics/classification.py:1437: UndefinedMetricWarning: F-score is ill-defined and being set to 0.0 due to no predicted samples.\n",
      "  'precision', 'predicted', average, warn_for)\n",
      "/usr/local/lib/python3.6/dist-packages/sklearn/metrics/classification.py:1437: UndefinedMetricWarning: F-score is ill-defined and being set to 0.0 due to no predicted samples.\n",
      "  'precision', 'predicted', average, warn_for)\n",
      "/usr/local/lib/python3.6/dist-packages/sklearn/metrics/classification.py:1437: UndefinedMetricWarning: F-score is ill-defined and being set to 0.0 due to no predicted samples.\n",
      "  'precision', 'predicted', average, warn_for)\n",
      "/usr/local/lib/python3.6/dist-packages/sklearn/metrics/classification.py:1437: UndefinedMetricWarning: F-score is ill-defined and being set to 0.0 due to no predicted samples.\n",
      "  'precision', 'predicted', average, warn_for)\n",
      "/usr/local/lib/python3.6/dist-packages/sklearn/metrics/classification.py:1437: UndefinedMetricWarning: F-score is ill-defined and being set to 0.0 due to no predicted samples.\n",
      "  'precision', 'predicted', average, warn_for)\n",
      "/usr/local/lib/python3.6/dist-packages/sklearn/metrics/classification.py:1437: UndefinedMetricWarning: F-score is ill-defined and being set to 0.0 due to no predicted samples.\n",
      "  'precision', 'predicted', average, warn_for)\n",
      "/usr/local/lib/python3.6/dist-packages/sklearn/metrics/classification.py:1437: UndefinedMetricWarning: F-score is ill-defined and being set to 0.0 due to no predicted samples.\n",
      "  'precision', 'predicted', average, warn_for)\n",
      "/usr/local/lib/python3.6/dist-packages/sklearn/metrics/classification.py:1437: UndefinedMetricWarning: F-score is ill-defined and being set to 0.0 due to no predicted samples.\n",
      "  'precision', 'predicted', average, warn_for)\n",
      "/usr/local/lib/python3.6/dist-packages/sklearn/metrics/classification.py:1437: UndefinedMetricWarning: F-score is ill-defined and being set to 0.0 due to no predicted samples.\n",
      "  'precision', 'predicted', average, warn_for)\n",
      "/usr/local/lib/python3.6/dist-packages/sklearn/metrics/classification.py:1437: UndefinedMetricWarning: F-score is ill-defined and being set to 0.0 due to no predicted samples.\n",
      "  'precision', 'predicted', average, warn_for)\n",
      "/usr/local/lib/python3.6/dist-packages/sklearn/metrics/classification.py:1437: UndefinedMetricWarning: F-score is ill-defined and being set to 0.0 due to no predicted samples.\n",
      "  'precision', 'predicted', average, warn_for)\n",
      "/usr/local/lib/python3.6/dist-packages/sklearn/metrics/classification.py:1437: UndefinedMetricWarning: F-score is ill-defined and being set to 0.0 due to no predicted samples.\n",
      "  'precision', 'predicted', average, warn_for)\n",
      "/usr/local/lib/python3.6/dist-packages/sklearn/metrics/classification.py:1437: UndefinedMetricWarning: F-score is ill-defined and being set to 0.0 due to no predicted samples.\n",
      "  'precision', 'predicted', average, warn_for)\n",
      "/usr/local/lib/python3.6/dist-packages/sklearn/metrics/classification.py:1437: UndefinedMetricWarning: F-score is ill-defined and being set to 0.0 due to no predicted samples.\n",
      "  'precision', 'predicted', average, warn_for)\n",
      "/usr/local/lib/python3.6/dist-packages/sklearn/metrics/classification.py:1437: UndefinedMetricWarning: F-score is ill-defined and being set to 0.0 due to no predicted samples.\n",
      "  'precision', 'predicted', average, warn_for)\n",
      "/usr/local/lib/python3.6/dist-packages/sklearn/metrics/classification.py:1437: UndefinedMetricWarning: F-score is ill-defined and being set to 0.0 due to no predicted samples.\n",
      "  'precision', 'predicted', average, warn_for)\n",
      "/usr/local/lib/python3.6/dist-packages/sklearn/metrics/classification.py:1437: UndefinedMetricWarning: F-score is ill-defined and being set to 0.0 due to no predicted samples.\n",
      "  'precision', 'predicted', average, warn_for)\n",
      "/usr/local/lib/python3.6/dist-packages/sklearn/metrics/classification.py:1437: UndefinedMetricWarning: F-score is ill-defined and being set to 0.0 due to no predicted samples.\n",
      "  'precision', 'predicted', average, warn_for)\n",
      "/usr/local/lib/python3.6/dist-packages/sklearn/metrics/classification.py:1437: UndefinedMetricWarning: F-score is ill-defined and being set to 0.0 due to no predicted samples.\n",
      "  'precision', 'predicted', average, warn_for)\n",
      "/usr/local/lib/python3.6/dist-packages/sklearn/metrics/classification.py:1437: UndefinedMetricWarning: F-score is ill-defined and being set to 0.0 due to no predicted samples.\n",
      "  'precision', 'predicted', average, warn_for)\n",
      "/usr/local/lib/python3.6/dist-packages/sklearn/metrics/classification.py:1437: UndefinedMetricWarning: F-score is ill-defined and being set to 0.0 due to no predicted samples.\n",
      "  'precision', 'predicted', average, warn_for)\n",
      "/usr/local/lib/python3.6/dist-packages/sklearn/metrics/classification.py:1437: UndefinedMetricWarning: F-score is ill-defined and being set to 0.0 due to no predicted samples.\n",
      "  'precision', 'predicted', average, warn_for)\n",
      "/usr/local/lib/python3.6/dist-packages/sklearn/metrics/classification.py:1437: UndefinedMetricWarning: F-score is ill-defined and being set to 0.0 due to no predicted samples.\n",
      "  'precision', 'predicted', average, warn_for)\n",
      "/usr/local/lib/python3.6/dist-packages/sklearn/metrics/classification.py:1437: UndefinedMetricWarning: F-score is ill-defined and being set to 0.0 due to no predicted samples.\n",
      "  'precision', 'predicted', average, warn_for)\n",
      "/usr/local/lib/python3.6/dist-packages/sklearn/metrics/classification.py:1437: UndefinedMetricWarning: F-score is ill-defined and being set to 0.0 due to no predicted samples.\n",
      "  'precision', 'predicted', average, warn_for)\n",
      "/usr/local/lib/python3.6/dist-packages/sklearn/metrics/classification.py:1437: UndefinedMetricWarning: F-score is ill-defined and being set to 0.0 due to no predicted samples.\n",
      "  'precision', 'predicted', average, warn_for)\n",
      "/usr/local/lib/python3.6/dist-packages/sklearn/metrics/classification.py:1437: UndefinedMetricWarning: F-score is ill-defined and being set to 0.0 due to no predicted samples.\n",
      "  'precision', 'predicted', average, warn_for)\n",
      "/usr/local/lib/python3.6/dist-packages/sklearn/metrics/classification.py:1437: UndefinedMetricWarning: F-score is ill-defined and being set to 0.0 due to no predicted samples.\n",
      "  'precision', 'predicted', average, warn_for)\n",
      "/usr/local/lib/python3.6/dist-packages/sklearn/metrics/classification.py:1437: UndefinedMetricWarning: F-score is ill-defined and being set to 0.0 due to no predicted samples.\n",
      "  'precision', 'predicted', average, warn_for)\n",
      "/usr/local/lib/python3.6/dist-packages/sklearn/metrics/classification.py:1437: UndefinedMetricWarning: F-score is ill-defined and being set to 0.0 due to no predicted samples.\n",
      "  'precision', 'predicted', average, warn_for)\n",
      "/usr/local/lib/python3.6/dist-packages/sklearn/metrics/classification.py:1437: UndefinedMetricWarning: F-score is ill-defined and being set to 0.0 due to no predicted samples.\n",
      "  'precision', 'predicted', average, warn_for)\n",
      "/usr/local/lib/python3.6/dist-packages/sklearn/metrics/classification.py:1437: UndefinedMetricWarning: F-score is ill-defined and being set to 0.0 due to no predicted samples.\n",
      "  'precision', 'predicted', average, warn_for)\n",
      "/usr/local/lib/python3.6/dist-packages/sklearn/metrics/classification.py:1437: UndefinedMetricWarning: F-score is ill-defined and being set to 0.0 due to no predicted samples.\n",
      "  'precision', 'predicted', average, warn_for)\n",
      "/usr/local/lib/python3.6/dist-packages/sklearn/metrics/classification.py:1437: UndefinedMetricWarning: F-score is ill-defined and being set to 0.0 due to no predicted samples.\n",
      "  'precision', 'predicted', average, warn_for)\n",
      "/usr/local/lib/python3.6/dist-packages/sklearn/metrics/classification.py:1437: UndefinedMetricWarning: F-score is ill-defined and being set to 0.0 due to no predicted samples.\n",
      "  'precision', 'predicted', average, warn_for)\n",
      "/usr/local/lib/python3.6/dist-packages/sklearn/metrics/classification.py:1437: UndefinedMetricWarning: F-score is ill-defined and being set to 0.0 due to no predicted samples.\n",
      "  'precision', 'predicted', average, warn_for)\n",
      "/usr/local/lib/python3.6/dist-packages/sklearn/metrics/classification.py:1437: UndefinedMetricWarning: F-score is ill-defined and being set to 0.0 due to no predicted samples.\n",
      "  'precision', 'predicted', average, warn_for)\n",
      "/usr/local/lib/python3.6/dist-packages/sklearn/metrics/classification.py:1437: UndefinedMetricWarning: F-score is ill-defined and being set to 0.0 due to no predicted samples.\n",
      "  'precision', 'predicted', average, warn_for)\n",
      "/usr/local/lib/python3.6/dist-packages/sklearn/metrics/classification.py:1437: UndefinedMetricWarning: F-score is ill-defined and being set to 0.0 due to no predicted samples.\n",
      "  'precision', 'predicted', average, warn_for)\n",
      "/usr/local/lib/python3.6/dist-packages/sklearn/metrics/classification.py:1437: UndefinedMetricWarning: F-score is ill-defined and being set to 0.0 due to no predicted samples.\n",
      "  'precision', 'predicted', average, warn_for)\n",
      "/usr/local/lib/python3.6/dist-packages/sklearn/metrics/classification.py:1437: UndefinedMetricWarning: F-score is ill-defined and being set to 0.0 due to no predicted samples.\n",
      "  'precision', 'predicted', average, warn_for)\n",
      "/usr/local/lib/python3.6/dist-packages/sklearn/metrics/classification.py:1437: UndefinedMetricWarning: F-score is ill-defined and being set to 0.0 due to no predicted samples.\n",
      "  'precision', 'predicted', average, warn_for)\n",
      "/usr/local/lib/python3.6/dist-packages/sklearn/metrics/classification.py:1437: UndefinedMetricWarning: F-score is ill-defined and being set to 0.0 due to no predicted samples.\n",
      "  'precision', 'predicted', average, warn_for)\n",
      "/usr/local/lib/python3.6/dist-packages/sklearn/metrics/classification.py:1437: UndefinedMetricWarning: F-score is ill-defined and being set to 0.0 due to no predicted samples.\n",
      "  'precision', 'predicted', average, warn_for)\n",
      "/usr/local/lib/python3.6/dist-packages/sklearn/metrics/classification.py:1437: UndefinedMetricWarning: F-score is ill-defined and being set to 0.0 due to no predicted samples.\n",
      "  'precision', 'predicted', average, warn_for)\n",
      "/usr/local/lib/python3.6/dist-packages/sklearn/metrics/classification.py:1437: UndefinedMetricWarning: F-score is ill-defined and being set to 0.0 due to no predicted samples.\n",
      "  'precision', 'predicted', average, warn_for)\n",
      "/usr/local/lib/python3.6/dist-packages/sklearn/metrics/classification.py:1437: UndefinedMetricWarning: F-score is ill-defined and being set to 0.0 due to no predicted samples.\n",
      "  'precision', 'predicted', average, warn_for)\n",
      "/usr/local/lib/python3.6/dist-packages/sklearn/metrics/classification.py:1437: UndefinedMetricWarning: F-score is ill-defined and being set to 0.0 due to no predicted samples.\n",
      "  'precision', 'predicted', average, warn_for)\n",
      "/usr/local/lib/python3.6/dist-packages/sklearn/metrics/classification.py:1437: UndefinedMetricWarning: F-score is ill-defined and being set to 0.0 due to no predicted samples.\n",
      "  'precision', 'predicted', average, warn_for)\n",
      "/usr/local/lib/python3.6/dist-packages/sklearn/metrics/classification.py:1437: UndefinedMetricWarning: F-score is ill-defined and being set to 0.0 due to no predicted samples.\n",
      "  'precision', 'predicted', average, warn_for)\n",
      "/usr/local/lib/python3.6/dist-packages/sklearn/metrics/classification.py:1437: UndefinedMetricWarning: F-score is ill-defined and being set to 0.0 due to no predicted samples.\n",
      "  'precision', 'predicted', average, warn_for)\n",
      "/usr/local/lib/python3.6/dist-packages/sklearn/metrics/classification.py:1437: UndefinedMetricWarning: F-score is ill-defined and being set to 0.0 due to no predicted samples.\n",
      "  'precision', 'predicted', average, warn_for)\n",
      "/usr/local/lib/python3.6/dist-packages/sklearn/metrics/classification.py:1437: UndefinedMetricWarning: F-score is ill-defined and being set to 0.0 due to no predicted samples.\n",
      "  'precision', 'predicted', average, warn_for)\n",
      "/usr/local/lib/python3.6/dist-packages/sklearn/metrics/classification.py:1437: UndefinedMetricWarning: F-score is ill-defined and being set to 0.0 due to no predicted samples.\n",
      "  'precision', 'predicted', average, warn_for)\n",
      "/usr/local/lib/python3.6/dist-packages/sklearn/metrics/classification.py:1437: UndefinedMetricWarning: F-score is ill-defined and being set to 0.0 due to no predicted samples.\n",
      "  'precision', 'predicted', average, warn_for)\n",
      "/usr/local/lib/python3.6/dist-packages/sklearn/metrics/classification.py:1437: UndefinedMetricWarning: F-score is ill-defined and being set to 0.0 due to no predicted samples.\n",
      "  'precision', 'predicted', average, warn_for)\n",
      "/usr/local/lib/python3.6/dist-packages/sklearn/metrics/classification.py:1437: UndefinedMetricWarning: F-score is ill-defined and being set to 0.0 due to no predicted samples.\n",
      "  'precision', 'predicted', average, warn_for)\n",
      "/usr/local/lib/python3.6/dist-packages/sklearn/metrics/classification.py:1437: UndefinedMetricWarning: F-score is ill-defined and being set to 0.0 due to no predicted samples.\n",
      "  'precision', 'predicted', average, warn_for)\n",
      "/usr/local/lib/python3.6/dist-packages/sklearn/metrics/classification.py:1437: UndefinedMetricWarning: F-score is ill-defined and being set to 0.0 due to no predicted samples.\n",
      "  'precision', 'predicted', average, warn_for)\n",
      "/usr/local/lib/python3.6/dist-packages/sklearn/metrics/classification.py:1437: UndefinedMetricWarning: F-score is ill-defined and being set to 0.0 due to no predicted samples.\n",
      "  'precision', 'predicted', average, warn_for)\n",
      "/usr/local/lib/python3.6/dist-packages/sklearn/metrics/classification.py:1437: UndefinedMetricWarning: F-score is ill-defined and being set to 0.0 due to no predicted samples.\n",
      "  'precision', 'predicted', average, warn_for)\n",
      "/usr/local/lib/python3.6/dist-packages/sklearn/metrics/classification.py:1437: UndefinedMetricWarning: F-score is ill-defined and being set to 0.0 due to no predicted samples.\n",
      "  'precision', 'predicted', average, warn_for)\n",
      "[Parallel(n_jobs=1)]: Done 180 out of 180 | elapsed: 76.4min finished\n"
     ]
    },
    {
     "name": "stdout",
     "output_type": "stream",
     "text": [
      "RandomForestClassifier Confusion Matrix:\n",
      "True Negatives: 7448\n",
      "False Positives: 237\n",
      "False Negatives: 1877\n",
      "True Positives: 3029\n",
      "\n",
      "\n"
     ]
    },
    {
     "data": {
      "text/html": [
       "<div>\n",
       "<style scoped>\n",
       "    .dataframe tbody tr th:only-of-type {\n",
       "        vertical-align: middle;\n",
       "    }\n",
       "\n",
       "    .dataframe tbody tr th {\n",
       "        vertical-align: top;\n",
       "    }\n",
       "\n",
       "    .dataframe thead th {\n",
       "        text-align: right;\n",
       "    }\n",
       "</style>\n",
       "<table border=\"1\" class=\"dataframe\">\n",
       "  <thead>\n",
       "    <tr style=\"text-align: right;\">\n",
       "      <th></th>\n",
       "      <th>precision</th>\n",
       "      <th>recall</th>\n",
       "      <th>f1-score</th>\n",
       "      <th>support</th>\n",
       "    </tr>\n",
       "  </thead>\n",
       "  <tbody>\n",
       "    <tr>\n",
       "      <th>Predict 0</th>\n",
       "      <td>0.798713</td>\n",
       "      <td>0.969161</td>\n",
       "      <td>0.875720</td>\n",
       "      <td>7685.000000</td>\n",
       "    </tr>\n",
       "    <tr>\n",
       "      <th>Predict 1</th>\n",
       "      <td>0.927434</td>\n",
       "      <td>0.617407</td>\n",
       "      <td>0.741312</td>\n",
       "      <td>4906.000000</td>\n",
       "    </tr>\n",
       "    <tr>\n",
       "      <th>accuracy</th>\n",
       "      <td>0.832102</td>\n",
       "      <td>0.832102</td>\n",
       "      <td>0.832102</td>\n",
       "      <td>0.832102</td>\n",
       "    </tr>\n",
       "  </tbody>\n",
       "</table>\n",
       "</div>"
      ],
      "text/plain": [
       "           precision    recall  f1-score      support\n",
       "Predict 0   0.798713  0.969161  0.875720  7685.000000\n",
       "Predict 1   0.927434  0.617407  0.741312  4906.000000\n",
       "accuracy    0.832102  0.832102  0.832102     0.832102"
      ]
     },
     "metadata": {
      "tags": []
     },
     "output_type": "display_data"
    },
    {
     "data": {
      "text/html": [
       "<div>\n",
       "<style scoped>\n",
       "    .dataframe tbody tr th:only-of-type {\n",
       "        vertical-align: middle;\n",
       "    }\n",
       "\n",
       "    .dataframe tbody tr th {\n",
       "        vertical-align: top;\n",
       "    }\n",
       "\n",
       "    .dataframe thead th {\n",
       "        text-align: right;\n",
       "    }\n",
       "</style>\n",
       "<table border=\"1\" class=\"dataframe\">\n",
       "  <thead>\n",
       "    <tr style=\"text-align: right;\">\n",
       "      <th></th>\n",
       "      <th>class__max_depth</th>\n",
       "      <th>class__max_features</th>\n",
       "      <th>class__n_estimators</th>\n",
       "      <th>Cross_Val_Score</th>\n",
       "      <th>Test_Score</th>\n",
       "      <th>Vectorizer</th>\n",
       "      <th>Data</th>\n",
       "      <th>Classifier</th>\n",
       "    </tr>\n",
       "  </thead>\n",
       "  <tbody>\n",
       "    <tr>\n",
       "      <th>0</th>\n",
       "      <td>None</td>\n",
       "      <td>6</td>\n",
       "      <td>200</td>\n",
       "      <td>0.735024</td>\n",
       "      <td>0.741312</td>\n",
       "      <td>CountVectorizer</td>\n",
       "      <td>df</td>\n",
       "      <td>RandomForestClassifier</td>\n",
       "    </tr>\n",
       "  </tbody>\n",
       "</table>\n",
       "</div>"
      ],
      "text/plain": [
       "  class__max_depth  class__max_features  ...  Data              Classifier\n",
       "0             None                    6  ...    df  RandomForestClassifier\n",
       "\n",
       "[1 rows x 8 columns]"
      ]
     },
     "execution_count": 26,
     "metadata": {
      "tags": []
     },
     "output_type": "execute_result"
    }
   ],
   "source": [
    "dataframes=[df]\n",
    "df_names = ['df']\n",
    "vectorizer_lst = [CountVectorizer(max_features=15000, max_df=0.95, min_df=2, ngram_range=(1,2), stop_words=stopwords_nltk)]\n",
    "classifier_lst = [RandomForestClassifier()]\n",
    "pipe_params = {\n",
    "               'class__n_estimators': [10, 100, 200],\n",
    "               'class__max_depth': [None, 1, 3, 5, 7, 9], \n",
    "               'class__max_features': [3, 5, 6]\n",
    "                }\n",
    "superPipeline(dataframes, vectorizer_lst, classifier_lst, df_names, pipe_params, 'class_rf_grid.csv')"
   ]
  },
  {
   "cell_type": "markdown",
   "metadata": {},
   "source": [
    "With an increased number of estimators, we want to ensure that it generalises well with unseen data. However, it compromises on the F1 score and recall, esp on classifying hate speech. "
   ]
  },
  {
   "cell_type": "markdown",
   "metadata": {},
   "source": [
    "#### Logistic Regression optimization"
   ]
  },
  {
   "cell_type": "code",
   "execution_count": 152,
   "metadata": {},
   "outputs": [
    {
     "name": "stdout",
     "output_type": "stream",
     "text": [
      "1 of 1 of methods attempting\n",
      "Fitting 5 folds for each of 144 candidates, totalling 720 fits\n"
     ]
    },
    {
     "name": "stderr",
     "output_type": "stream",
     "text": [
      "[Parallel(n_jobs=-1)]: Using backend LokyBackend with 4 concurrent workers.\n",
      "[Parallel(n_jobs=-1)]: Done  42 tasks      | elapsed:  2.1min\n",
      "[Parallel(n_jobs=-1)]: Done 192 tasks      | elapsed:  8.8min\n",
      "[Parallel(n_jobs=-1)]: Done 442 tasks      | elapsed: 22.8min\n",
      "[Parallel(n_jobs=-1)]: Done 720 out of 720 | elapsed: 44.0min finished\n",
      "/Users/clementow/anaconda3/lib/python3.7/site-packages/sklearn/linear_model/logistic.py:432: FutureWarning: Default solver will be changed to 'lbfgs' in 0.22. Specify a solver to silence this warning.\n",
      "  FutureWarning)\n"
     ]
    },
    {
     "name": "stdout",
     "output_type": "stream",
     "text": [
      "LogisticRegression Confusion Matrix:\n",
      "True Negatives: 7319\n",
      "False Positives: 367\n",
      "False Negatives: 949\n",
      "True Positives: 3956\n",
      "\n",
      "\n"
     ]
    },
    {
     "data": {
      "text/html": [
       "<div>\n",
       "<style scoped>\n",
       "    .dataframe tbody tr th:only-of-type {\n",
       "        vertical-align: middle;\n",
       "    }\n",
       "\n",
       "    .dataframe tbody tr th {\n",
       "        vertical-align: top;\n",
       "    }\n",
       "\n",
       "    .dataframe thead th {\n",
       "        text-align: right;\n",
       "    }\n",
       "</style>\n",
       "<table border=\"1\" class=\"dataframe\">\n",
       "  <thead>\n",
       "    <tr style=\"text-align: right;\">\n",
       "      <th></th>\n",
       "      <th>f1-score</th>\n",
       "      <th>precision</th>\n",
       "      <th>recall</th>\n",
       "      <th>support</th>\n",
       "    </tr>\n",
       "  </thead>\n",
       "  <tbody>\n",
       "    <tr>\n",
       "      <th>Predict 0</th>\n",
       "      <td>0.917513</td>\n",
       "      <td>0.885220</td>\n",
       "      <td>0.952251</td>\n",
       "      <td>7686.000000</td>\n",
       "    </tr>\n",
       "    <tr>\n",
       "      <th>Predict 1</th>\n",
       "      <td>0.857391</td>\n",
       "      <td>0.915105</td>\n",
       "      <td>0.806524</td>\n",
       "      <td>4905.000000</td>\n",
       "    </tr>\n",
       "    <tr>\n",
       "      <th>accuracy</th>\n",
       "      <td>0.895481</td>\n",
       "      <td>0.895481</td>\n",
       "      <td>0.895481</td>\n",
       "      <td>0.895481</td>\n",
       "    </tr>\n",
       "  </tbody>\n",
       "</table>\n",
       "</div>"
      ],
      "text/plain": [
       "           f1-score  precision    recall      support\n",
       "Predict 0  0.917513   0.885220  0.952251  7686.000000\n",
       "Predict 1  0.857391   0.915105  0.806524  4905.000000\n",
       "accuracy   0.895481   0.895481  0.895481     0.895481"
      ]
     },
     "metadata": {},
     "output_type": "display_data"
    },
    {
     "data": {
      "text/html": [
       "<div>\n",
       "<style scoped>\n",
       "    .dataframe tbody tr th:only-of-type {\n",
       "        vertical-align: middle;\n",
       "    }\n",
       "\n",
       "    .dataframe tbody tr th {\n",
       "        vertical-align: top;\n",
       "    }\n",
       "\n",
       "    .dataframe thead th {\n",
       "        text-align: right;\n",
       "    }\n",
       "</style>\n",
       "<table border=\"1\" class=\"dataframe\">\n",
       "  <thead>\n",
       "    <tr style=\"text-align: right;\">\n",
       "      <th></th>\n",
       "      <th>Classifier</th>\n",
       "      <th>Cross_Val_Score</th>\n",
       "      <th>Data</th>\n",
       "      <th>Test_Score</th>\n",
       "      <th>Vectorizer</th>\n",
       "      <th>class__C</th>\n",
       "      <th>vec__max_df</th>\n",
       "      <th>vec__max_features</th>\n",
       "      <th>vec__min_df</th>\n",
       "      <th>vec__ngram_range</th>\n",
       "      <th>vec__stop_words</th>\n",
       "    </tr>\n",
       "  </thead>\n",
       "  <tbody>\n",
       "    <tr>\n",
       "      <th>0</th>\n",
       "      <td>LogisticRegression</td>\n",
       "      <td>0.853168</td>\n",
       "      <td>df</td>\n",
       "      <td>0.857391</td>\n",
       "      <td>CountVectorizer</td>\n",
       "      <td>0.1</td>\n",
       "      <td>0.95</td>\n",
       "      <td>10000</td>\n",
       "      <td>3</td>\n",
       "      <td>(1, 1)</td>\n",
       "      <td>{whom, me, until, m, couldn, you'd, her, but, ...</td>\n",
       "    </tr>\n",
       "  </tbody>\n",
       "</table>\n",
       "</div>"
      ],
      "text/plain": [
       "           Classifier  Cross_Val_Score Data  Test_Score       Vectorizer  \\\n",
       "0  LogisticRegression         0.853168   df    0.857391  CountVectorizer   \n",
       "\n",
       "   class__C  vec__max_df  vec__max_features  vec__min_df vec__ngram_range  \\\n",
       "0       0.1         0.95              10000            3           (1, 1)   \n",
       "\n",
       "                                     vec__stop_words  \n",
       "0  {whom, me, until, m, couldn, you'd, her, but, ...  "
      ]
     },
     "execution_count": 152,
     "metadata": {},
     "output_type": "execute_result"
    }
   ],
   "source": [
    "dataframes=[df]\n",
    "df_names = ['df']\n",
    "vectorizer_lst = [CountVectorizer()]\n",
    "classifier_lst = [LogisticRegression()]\n",
    "pipe_params = {\n",
    "\n",
    "                    'vec__max_features': [10000,15000,17500,None],\n",
    "                    'vec__min_df': [2,3],\n",
    "                    'vec__max_df': [.95,.9],\n",
    "                    'vec__ngram_range': [(1,1), (1,2),(1,3)],\n",
    "                    'vec__stop_words':[stopwords_nltk],\n",
    "                    'class__C':[0.1,1,10]\n",
    "                }\n",
    "\n",
    "superPipeline(dataframes, vectorizer_lst, classifier_lst, df_names, pipe_params, 'logreg.csv')"
   ]
  },
  {
   "cell_type": "markdown",
   "metadata": {},
   "source": [
    "After optimization, LogisticRegression is the superior model with a better F1 score with its results being more interpretable. It also generalises better with unseen data as compared to RandomForest. "
   ]
  },
  {
   "cell_type": "markdown",
   "metadata": {
    "toc-hr-collapsed": true
   },
   "source": [
    "#### Modelling using POS Tags"
   ]
  },
  {
   "cell_type": "markdown",
   "metadata": {},
   "source": [
    "By classifying hate speech on our dataset, we want to see if there is any relation to how the insults are structured grammatically, which can be used as our features for classification. "
   ]
  },
  {
   "cell_type": "markdown",
   "metadata": {},
   "source": [
    "##### Pre-processing"
   ]
  },
  {
   "cell_type": "code",
   "execution_count": 439,
   "metadata": {},
   "outputs": [],
   "source": [
    "X = df['pos']\n",
    "y = df['hate']"
   ]
  },
  {
   "cell_type": "code",
   "execution_count": 440,
   "metadata": {},
   "outputs": [],
   "source": [
    "X_train_pos, X_test_pos, y_train_pos, y_test_pos = train_test_split(X, y, stratify=y, random_state=28)"
   ]
  },
  {
   "cell_type": "code",
   "execution_count": 445,
   "metadata": {},
   "outputs": [
    {
     "data": {
      "text/plain": [
       "0    0.610389\n",
       "1    0.389611\n",
       "Name: hate, dtype: float64"
      ]
     },
     "execution_count": 445,
     "metadata": {},
     "output_type": "execute_result"
    }
   ],
   "source": [
    "y_train_pos.value_counts(normalize=True)"
   ]
  },
  {
   "cell_type": "markdown",
   "metadata": {},
   "source": [
    "##### Modelling"
   ]
  },
  {
   "cell_type": "markdown",
   "metadata": {},
   "source": [
    "We want to see if there are any relations to effective clasification by increasing the ngram range for the vectorizers."
   ]
  },
  {
   "cell_type": "code",
   "execution_count": 451,
   "metadata": {},
   "outputs": [
    {
     "name": "stdout",
     "output_type": "stream",
     "text": [
      "1 of 2 of methods attempting\n",
      "Fitting 5 folds for each of 240 candidates, totalling 1200 fits\n"
     ]
    },
    {
     "name": "stderr",
     "output_type": "stream",
     "text": [
      "[Parallel(n_jobs=-1)]: Using backend LokyBackend with 4 concurrent workers.\n",
      "[Parallel(n_jobs=-1)]: Done  42 tasks      | elapsed:  2.1min\n",
      "[Parallel(n_jobs=-1)]: Done 192 tasks      | elapsed:  8.7min\n",
      "[Parallel(n_jobs=-1)]: Done 442 tasks      | elapsed: 20.2min\n",
      "[Parallel(n_jobs=-1)]: Done 792 tasks      | elapsed: 38.1min\n",
      "/Users/clementow/anaconda3/lib/python3.7/site-packages/joblib/externals/loky/process_executor.py:706: UserWarning: A worker stopped while some jobs were given to the executor. This can be caused by a too short worker timeout or by a memory leak.\n",
      "  \"timeout or by a memory leak.\", UserWarning\n",
      "[Parallel(n_jobs=-1)]: Done 1200 out of 1200 | elapsed: 63.3min finished\n",
      "/Users/clementow/anaconda3/lib/python3.7/site-packages/sklearn/linear_model/logistic.py:432: FutureWarning: Default solver will be changed to 'lbfgs' in 0.22. Specify a solver to silence this warning.\n",
      "  FutureWarning)\n"
     ]
    },
    {
     "name": "stdout",
     "output_type": "stream",
     "text": [
      "LogisticRegression Confusion Matrix:\n",
      "True Negatives: 5701\n",
      "False Positives: 1985\n",
      "False Negatives: 2935\n",
      "True Positives: 1970\n",
      "\n",
      "\n"
     ]
    },
    {
     "data": {
      "text/html": [
       "<div>\n",
       "<style scoped>\n",
       "    .dataframe tbody tr th:only-of-type {\n",
       "        vertical-align: middle;\n",
       "    }\n",
       "\n",
       "    .dataframe tbody tr th {\n",
       "        vertical-align: top;\n",
       "    }\n",
       "\n",
       "    .dataframe thead th {\n",
       "        text-align: right;\n",
       "    }\n",
       "</style>\n",
       "<table border=\"1\" class=\"dataframe\">\n",
       "  <thead>\n",
       "    <tr style=\"text-align: right;\">\n",
       "      <th></th>\n",
       "      <th>f1-score</th>\n",
       "      <th>precision</th>\n",
       "      <th>recall</th>\n",
       "      <th>support</th>\n",
       "    </tr>\n",
       "  </thead>\n",
       "  <tbody>\n",
       "    <tr>\n",
       "      <th>Predict 0</th>\n",
       "      <td>0.698566</td>\n",
       "      <td>0.660144</td>\n",
       "      <td>0.741738</td>\n",
       "      <td>7686.000000</td>\n",
       "    </tr>\n",
       "    <tr>\n",
       "      <th>Predict 1</th>\n",
       "      <td>0.444695</td>\n",
       "      <td>0.498104</td>\n",
       "      <td>0.401631</td>\n",
       "      <td>4905.000000</td>\n",
       "    </tr>\n",
       "    <tr>\n",
       "      <th>accuracy</th>\n",
       "      <td>0.609245</td>\n",
       "      <td>0.609245</td>\n",
       "      <td>0.609245</td>\n",
       "      <td>0.609245</td>\n",
       "    </tr>\n",
       "  </tbody>\n",
       "</table>\n",
       "</div>"
      ],
      "text/plain": [
       "           f1-score  precision    recall      support\n",
       "Predict 0  0.698566   0.660144  0.741738  7686.000000\n",
       "Predict 1  0.444695   0.498104  0.401631  4905.000000\n",
       "accuracy   0.609245   0.609245  0.609245     0.609245"
      ]
     },
     "metadata": {},
     "output_type": "display_data"
    },
    {
     "name": "stdout",
     "output_type": "stream",
     "text": [
      "2 of 2 of methods attempting\n",
      "Fitting 5 folds for each of 240 candidates, totalling 1200 fits\n"
     ]
    },
    {
     "name": "stderr",
     "output_type": "stream",
     "text": [
      "[Parallel(n_jobs=-1)]: Using backend LokyBackend with 4 concurrent workers.\n",
      "[Parallel(n_jobs=-1)]: Done  42 tasks      | elapsed:  4.0min\n",
      "[Parallel(n_jobs=-1)]: Done 192 tasks      | elapsed: 20.3min\n",
      "[Parallel(n_jobs=-1)]: Done 442 tasks      | elapsed: 52.8min\n",
      "[Parallel(n_jobs=-1)]: Done 792 tasks      | elapsed: 90.7min\n",
      "[Parallel(n_jobs=-1)]: Done 1200 out of 1200 | elapsed: 145.6min finished\n",
      "/Users/clementow/anaconda3/lib/python3.7/site-packages/sklearn/linear_model/logistic.py:432: FutureWarning: Default solver will be changed to 'lbfgs' in 0.22. Specify a solver to silence this warning.\n",
      "  FutureWarning)\n",
      "/Users/clementow/anaconda3/lib/python3.7/site-packages/sklearn/svm/base.py:929: ConvergenceWarning: Liblinear failed to converge, increase the number of iterations.\n",
      "  \"the number of iterations.\", ConvergenceWarning)\n"
     ]
    },
    {
     "name": "stdout",
     "output_type": "stream",
     "text": [
      "LogisticRegression Confusion Matrix:\n",
      "True Negatives: 6244\n",
      "False Positives: 1442\n",
      "False Negatives: 3388\n",
      "True Positives: 1517\n",
      "\n",
      "\n"
     ]
    },
    {
     "data": {
      "text/html": [
       "<div>\n",
       "<style scoped>\n",
       "    .dataframe tbody tr th:only-of-type {\n",
       "        vertical-align: middle;\n",
       "    }\n",
       "\n",
       "    .dataframe tbody tr th {\n",
       "        vertical-align: top;\n",
       "    }\n",
       "\n",
       "    .dataframe thead th {\n",
       "        text-align: right;\n",
       "    }\n",
       "</style>\n",
       "<table border=\"1\" class=\"dataframe\">\n",
       "  <thead>\n",
       "    <tr style=\"text-align: right;\">\n",
       "      <th></th>\n",
       "      <th>f1-score</th>\n",
       "      <th>precision</th>\n",
       "      <th>recall</th>\n",
       "      <th>support</th>\n",
       "    </tr>\n",
       "  </thead>\n",
       "  <tbody>\n",
       "    <tr>\n",
       "      <th>Predict 0</th>\n",
       "      <td>0.721099</td>\n",
       "      <td>0.648256</td>\n",
       "      <td>0.812386</td>\n",
       "      <td>7686.000000</td>\n",
       "    </tr>\n",
       "    <tr>\n",
       "      <th>Predict 1</th>\n",
       "      <td>0.385809</td>\n",
       "      <td>0.512673</td>\n",
       "      <td>0.309276</td>\n",
       "      <td>4905.000000</td>\n",
       "    </tr>\n",
       "    <tr>\n",
       "      <th>accuracy</th>\n",
       "      <td>0.616393</td>\n",
       "      <td>0.616393</td>\n",
       "      <td>0.616393</td>\n",
       "      <td>0.616393</td>\n",
       "    </tr>\n",
       "  </tbody>\n",
       "</table>\n",
       "</div>"
      ],
      "text/plain": [
       "           f1-score  precision    recall      support\n",
       "Predict 0  0.721099   0.648256  0.812386  7686.000000\n",
       "Predict 1  0.385809   0.512673  0.309276  4905.000000\n",
       "accuracy   0.616393   0.616393  0.616393     0.616393"
      ]
     },
     "metadata": {},
     "output_type": "display_data"
    },
    {
     "data": {
      "text/html": [
       "<div>\n",
       "<style scoped>\n",
       "    .dataframe tbody tr th:only-of-type {\n",
       "        vertical-align: middle;\n",
       "    }\n",
       "\n",
       "    .dataframe tbody tr th {\n",
       "        vertical-align: top;\n",
       "    }\n",
       "\n",
       "    .dataframe thead th {\n",
       "        text-align: right;\n",
       "    }\n",
       "</style>\n",
       "<table border=\"1\" class=\"dataframe\">\n",
       "  <thead>\n",
       "    <tr style=\"text-align: right;\">\n",
       "      <th></th>\n",
       "      <th>Classifier</th>\n",
       "      <th>Cross_Val_Score</th>\n",
       "      <th>Data</th>\n",
       "      <th>Test_Score</th>\n",
       "      <th>Vectorizer</th>\n",
       "      <th>class__C</th>\n",
       "      <th>vec__max_df</th>\n",
       "      <th>vec__max_features</th>\n",
       "      <th>vec__min_df</th>\n",
       "      <th>vec__ngram_range</th>\n",
       "      <th>vec__stop_words</th>\n",
       "    </tr>\n",
       "  </thead>\n",
       "  <tbody>\n",
       "    <tr>\n",
       "      <th>0</th>\n",
       "      <td>LogisticRegression</td>\n",
       "      <td>0.447407</td>\n",
       "      <td>df</td>\n",
       "      <td>0.444695</td>\n",
       "      <td>TfidfVectorizer</td>\n",
       "      <td>10</td>\n",
       "      <td>0.95</td>\n",
       "      <td>10000</td>\n",
       "      <td>3</td>\n",
       "      <td>(1, 5)</td>\n",
       "      <td>{whom, me, until, m, couldn, you'd, her, but, ...</td>\n",
       "    </tr>\n",
       "    <tr>\n",
       "      <th>1</th>\n",
       "      <td>LogisticRegression</td>\n",
       "      <td>0.413341</td>\n",
       "      <td>df</td>\n",
       "      <td>0.385809</td>\n",
       "      <td>CountVectorizer</td>\n",
       "      <td>1</td>\n",
       "      <td>0.95</td>\n",
       "      <td>10000</td>\n",
       "      <td>3</td>\n",
       "      <td>(1, 3)</td>\n",
       "      <td>{whom, me, until, m, couldn, you'd, her, but, ...</td>\n",
       "    </tr>\n",
       "  </tbody>\n",
       "</table>\n",
       "</div>"
      ],
      "text/plain": [
       "           Classifier  Cross_Val_Score Data  Test_Score       Vectorizer  \\\n",
       "0  LogisticRegression         0.447407   df    0.444695  TfidfVectorizer   \n",
       "1  LogisticRegression         0.413341   df    0.385809  CountVectorizer   \n",
       "\n",
       "   class__C  vec__max_df  vec__max_features  vec__min_df vec__ngram_range  \\\n",
       "0        10         0.95              10000            3           (1, 5)   \n",
       "1         1         0.95              10000            3           (1, 3)   \n",
       "\n",
       "                                     vec__stop_words  \n",
       "0  {whom, me, until, m, couldn, you'd, her, but, ...  \n",
       "1  {whom, me, until, m, couldn, you'd, her, but, ...  "
      ]
     },
     "execution_count": 451,
     "metadata": {},
     "output_type": "execute_result"
    }
   ],
   "source": [
    "dataframes=[df]\n",
    "df_names = ['df']\n",
    "vectorizer_lst = [TfidfVectorizer(), CountVectorizer()]\n",
    "classifier_lst = [LogisticRegression()]\n",
    "pipe_params = {\n",
    "\n",
    "                    'vec__max_features': [10000,15000,17500,None],\n",
    "                    'vec__min_df': [2,3],\n",
    "                    'vec__max_df': [.95,.9],\n",
    "                    'vec__ngram_range': [(1,1), (1,2),(1,3), (1,4), (1,5)],\n",
    "                    'vec__stop_words':[stopwords_nltk],\n",
    "                    'class__C':[0.1,1,10]\n",
    "                }\n",
    "\n",
    "superPipeline(dataframes, vectorizer_lst, classifier_lst, df_names, pipe_params, 'logreg_pos_ngram.csv', 'pos')"
   ]
  },
  {
   "cell_type": "markdown",
   "metadata": {},
   "source": [
    "The above gridsearch results shows that there is no obvious relation that the model can learn from in terms of POS tags of the sentences in the hate speech comments. This is likely due to the fact that most of them are actually grammatically structured in the same way whether is it hate speech or not. "
   ]
  },
  {
   "cell_type": "markdown",
   "metadata": {},
   "source": [
    "### Models with best parameters"
   ]
  },
  {
   "cell_type": "code",
   "execution_count": 75,
   "metadata": {},
   "outputs": [],
   "source": [
    "def print_results(model, pred):\n",
    "\n",
    "    tn, fp, fn, tp = confusion_matrix(y_test, model.predict(X_test_cvec)).ravel()\n",
    "    print(f\"{str(model).split('(')[0]} Confusion Matrix:\")\n",
    "    print(f\"True Negatives: {tn}\")\n",
    "    print(f\"False Positives: {fp}\")\n",
    "    print(f\"False Negatives: {fn}\")\n",
    "    print(f\"True Positives: {tp}\")\n",
    "    print('\\n')\n",
    "\n",
    "    report = classification_report(y_test, pred, target_names=['Predict 0', 'Predict 1'], output_dict=True)\n",
    "    class_table = pd.DataFrame(report).transpose()\n",
    "    display(class_table)"
   ]
  },
  {
   "cell_type": "code",
   "execution_count": 93,
   "metadata": {},
   "outputs": [],
   "source": [
    "X=df['tok_lemma']\n",
    "y=df['hate']\n",
    "X_train, X_test, y_train, y_test = train_test_split(X, y, stratify=y, random_state=28)"
   ]
  },
  {
   "cell_type": "markdown",
   "metadata": {},
   "source": [
    "#### Logistic Regression"
   ]
  },
  {
   "cell_type": "code",
   "execution_count": 98,
   "metadata": {},
   "outputs": [
    {
     "name": "stderr",
     "output_type": "stream",
     "text": [
      "/Users/clementow/opt/anaconda3/lib/python3.7/site-packages/sklearn/linear_model/logistic.py:432: FutureWarning: Default solver will be changed to 'lbfgs' in 0.22. Specify a solver to silence this warning.\n",
      "  FutureWarning)\n"
     ]
    }
   ],
   "source": [
    "cvec = CountVectorizer(max_df=0.95, max_features=10000, min_df=3, ngram_range=(1,1))\n",
    "logreg = LogisticRegression(C=1.0)\n",
    "\n",
    "X_train_cvec = cvec.fit_transform(X_train)\n",
    "X_test_cvec = cvec.transform(X_test)\n",
    "logreg.fit(X_train_cvec, y_train)\n",
    "pred_lr = logreg.predict(X_test_cvec)"
   ]
  },
  {
   "cell_type": "code",
   "execution_count": 99,
   "metadata": {},
   "outputs": [
    {
     "name": "stdout",
     "output_type": "stream",
     "text": [
      "LogisticRegression Confusion Matrix:\n",
      "True Negatives: 7183\n",
      "False Positives: 503\n",
      "False Negatives: 920\n",
      "True Positives: 3984\n",
      "\n",
      "\n"
     ]
    },
    {
     "data": {
      "text/html": [
       "<div>\n",
       "<style scoped>\n",
       "    .dataframe tbody tr th:only-of-type {\n",
       "        vertical-align: middle;\n",
       "    }\n",
       "\n",
       "    .dataframe tbody tr th {\n",
       "        vertical-align: top;\n",
       "    }\n",
       "\n",
       "    .dataframe thead th {\n",
       "        text-align: right;\n",
       "    }\n",
       "</style>\n",
       "<table border=\"1\" class=\"dataframe\">\n",
       "  <thead>\n",
       "    <tr style=\"text-align: right;\">\n",
       "      <th></th>\n",
       "      <th>precision</th>\n",
       "      <th>recall</th>\n",
       "      <th>f1-score</th>\n",
       "      <th>support</th>\n",
       "    </tr>\n",
       "  </thead>\n",
       "  <tbody>\n",
       "    <tr>\n",
       "      <td>Predict 0</td>\n",
       "      <td>0.886462</td>\n",
       "      <td>0.934556</td>\n",
       "      <td>0.909874</td>\n",
       "      <td>7686.000000</td>\n",
       "    </tr>\n",
       "    <tr>\n",
       "      <td>Predict 1</td>\n",
       "      <td>0.887898</td>\n",
       "      <td>0.812398</td>\n",
       "      <td>0.848472</td>\n",
       "      <td>4904.000000</td>\n",
       "    </tr>\n",
       "    <tr>\n",
       "      <td>accuracy</td>\n",
       "      <td>0.886974</td>\n",
       "      <td>0.886974</td>\n",
       "      <td>0.886974</td>\n",
       "      <td>0.886974</td>\n",
       "    </tr>\n",
       "    <tr>\n",
       "      <td>macro avg</td>\n",
       "      <td>0.887180</td>\n",
       "      <td>0.873477</td>\n",
       "      <td>0.879173</td>\n",
       "      <td>12590.000000</td>\n",
       "    </tr>\n",
       "    <tr>\n",
       "      <td>weighted avg</td>\n",
       "      <td>0.887021</td>\n",
       "      <td>0.886974</td>\n",
       "      <td>0.885957</td>\n",
       "      <td>12590.000000</td>\n",
       "    </tr>\n",
       "  </tbody>\n",
       "</table>\n",
       "</div>"
      ],
      "text/plain": [
       "              precision    recall  f1-score       support\n",
       "Predict 0      0.886462  0.934556  0.909874   7686.000000\n",
       "Predict 1      0.887898  0.812398  0.848472   4904.000000\n",
       "accuracy       0.886974  0.886974  0.886974      0.886974\n",
       "macro avg      0.887180  0.873477  0.879173  12590.000000\n",
       "weighted avg   0.887021  0.886974  0.885957  12590.000000"
      ]
     },
     "metadata": {},
     "output_type": "display_data"
    }
   ],
   "source": [
    "print_results(logreg, pred_lr)"
   ]
  },
  {
   "cell_type": "markdown",
   "metadata": {},
   "source": [
    "#### Logistic Regression with balanced classes"
   ]
  },
  {
   "cell_type": "code",
   "execution_count": 102,
   "metadata": {},
   "outputs": [
    {
     "data": {
      "text/plain": [
       "{0: 1.0, 1: 1.5673209278613307}"
      ]
     },
     "execution_count": 102,
     "metadata": {},
     "output_type": "execute_result"
    }
   ],
   "source": [
    "def get_class_weights(y):\n",
    "    majority = max(y.value_counts())\n",
    "    return  {cls: float(majority/count) for cls, count in enumerate(y.value_counts())}\n",
    "\n",
    "class_weights = get_class_weights(y)\n",
    "class_weights"
   ]
  },
  {
   "cell_type": "code",
   "execution_count": 107,
   "metadata": {},
   "outputs": [
    {
     "name": "stderr",
     "output_type": "stream",
     "text": [
      "/Users/clementow/opt/anaconda3/lib/python3.7/site-packages/sklearn/linear_model/logistic.py:432: FutureWarning: Default solver will be changed to 'lbfgs' in 0.22. Specify a solver to silence this warning.\n",
      "  FutureWarning)\n"
     ]
    }
   ],
   "source": [
    "cvec = CountVectorizer(max_df=0.95, max_features=10000, min_df=3, ngram_range=(1,1))\n",
    "logreg_bal = LogisticRegression(C=1.0, class_weight=class_weights)\n",
    "\n",
    "X_train_cvec = cvec.fit_transform(X_train)\n",
    "X_test_cvec = cvec.transform(X_test)\n",
    "logreg_bal.fit(X_train_cvec, y_train)\n",
    "pred_lr_bal = logreg_bal.predict(X_test_cvec)"
   ]
  },
  {
   "cell_type": "code",
   "execution_count": 108,
   "metadata": {},
   "outputs": [
    {
     "name": "stdout",
     "output_type": "stream",
     "text": [
      "LogisticRegression Confusion Matrix:\n",
      "True Negatives: 7063\n",
      "False Positives: 623\n",
      "False Negatives: 845\n",
      "True Positives: 4059\n",
      "\n",
      "\n"
     ]
    },
    {
     "data": {
      "text/html": [
       "<div>\n",
       "<style scoped>\n",
       "    .dataframe tbody tr th:only-of-type {\n",
       "        vertical-align: middle;\n",
       "    }\n",
       "\n",
       "    .dataframe tbody tr th {\n",
       "        vertical-align: top;\n",
       "    }\n",
       "\n",
       "    .dataframe thead th {\n",
       "        text-align: right;\n",
       "    }\n",
       "</style>\n",
       "<table border=\"1\" class=\"dataframe\">\n",
       "  <thead>\n",
       "    <tr style=\"text-align: right;\">\n",
       "      <th></th>\n",
       "      <th>precision</th>\n",
       "      <th>recall</th>\n",
       "      <th>f1-score</th>\n",
       "      <th>support</th>\n",
       "    </tr>\n",
       "  </thead>\n",
       "  <tbody>\n",
       "    <tr>\n",
       "      <td>Predict 0</td>\n",
       "      <td>0.893146</td>\n",
       "      <td>0.918944</td>\n",
       "      <td>0.905861</td>\n",
       "      <td>7686.0000</td>\n",
       "    </tr>\n",
       "    <tr>\n",
       "      <td>Predict 1</td>\n",
       "      <td>0.866937</td>\n",
       "      <td>0.827692</td>\n",
       "      <td>0.846860</td>\n",
       "      <td>4904.0000</td>\n",
       "    </tr>\n",
       "    <tr>\n",
       "      <td>accuracy</td>\n",
       "      <td>0.883400</td>\n",
       "      <td>0.883400</td>\n",
       "      <td>0.883400</td>\n",
       "      <td>0.8834</td>\n",
       "    </tr>\n",
       "    <tr>\n",
       "      <td>macro avg</td>\n",
       "      <td>0.880042</td>\n",
       "      <td>0.873318</td>\n",
       "      <td>0.876361</td>\n",
       "      <td>12590.0000</td>\n",
       "    </tr>\n",
       "    <tr>\n",
       "      <td>weighted avg</td>\n",
       "      <td>0.882937</td>\n",
       "      <td>0.883400</td>\n",
       "      <td>0.882879</td>\n",
       "      <td>12590.0000</td>\n",
       "    </tr>\n",
       "  </tbody>\n",
       "</table>\n",
       "</div>"
      ],
      "text/plain": [
       "              precision    recall  f1-score     support\n",
       "Predict 0      0.893146  0.918944  0.905861   7686.0000\n",
       "Predict 1      0.866937  0.827692  0.846860   4904.0000\n",
       "accuracy       0.883400  0.883400  0.883400      0.8834\n",
       "macro avg      0.880042  0.873318  0.876361  12590.0000\n",
       "weighted avg   0.882937  0.883400  0.882879  12590.0000"
      ]
     },
     "metadata": {},
     "output_type": "display_data"
    }
   ],
   "source": [
    "print_results(logreg_bal, pred_lr_bal)"
   ]
  },
  {
   "cell_type": "markdown",
   "metadata": {},
   "source": [
    "#### Best Model Comparison Summary"
   ]
  },
  {
   "cell_type": "markdown",
   "metadata": {},
   "source": [
    "|                                         | F1 score | Recall |\n",
    "|-----------------------------------------|----------|--------|\n",
    "| Logistic Regression                     | 87.91%   | 87.35% |\n",
    "| Logistic Regression with class weights | 87.64%   | 87.33% |\n",
    "\n",
    "Logistic Regression without class weights is the best performing one with an F1 score of `87.91%` and the best recall. "
   ]
  },
  {
   "cell_type": "markdown",
   "metadata": {},
   "source": [
    "__Save best model to disk__"
   ]
  },
  {
   "cell_type": "code",
   "execution_count": 109,
   "metadata": {},
   "outputs": [
    {
     "name": "stderr",
     "output_type": "stream",
     "text": [
      "/Users/clementow/opt/anaconda3/lib/python3.7/site-packages/sklearn/externals/joblib/__init__.py:15: DeprecationWarning: sklearn.externals.joblib is deprecated in 0.21 and will be removed in 0.23. Please import this functionality directly from joblib, which can be installed with: pip install joblib. If this warning is raised when loading pickled models, you may need to re-serialize those models with scikit-learn 0.21+.\n",
      "  warnings.warn(msg, category=DeprecationWarning)\n"
     ]
    },
    {
     "data": {
      "text/plain": [
       "['/Users/clementow/virtualenvs/venv/finalized_logreg.pkl']"
      ]
     },
     "execution_count": 109,
     "metadata": {},
     "output_type": "execute_result"
    }
   ],
   "source": [
    "import pickle\n",
    "filename = '../models/finalized_logreg.sav'\n",
    "pickle.dump(logreg, open(filename, 'wb'))\n",
    "\n",
    "\n",
    "from sklearn.externals import joblib\n",
    "joblib.dump(logreg,'../models/finalized_logreg.pkl')\n",
    "joblib.dump(logreg, '/Users/clementow/virtualenvs/venv/finalized_logreg.pkl') "
   ]
  },
  {
   "cell_type": "markdown",
   "metadata": {},
   "source": [
    "#### Best Model Intepretation"
   ]
  },
  {
   "cell_type": "code",
   "execution_count": 112,
   "metadata": {},
   "outputs": [
    {
     "name": "stdout",
     "output_type": "stream",
     "text": [
      "Top 50 Features for Logistic Regression & CVec on Hate = 1\n"
     ]
    },
    {
     "data": {
      "text/html": [
       "<div>\n",
       "<style scoped>\n",
       "    .dataframe tbody tr th:only-of-type {\n",
       "        vertical-align: middle;\n",
       "    }\n",
       "\n",
       "    .dataframe tbody tr th {\n",
       "        vertical-align: top;\n",
       "    }\n",
       "\n",
       "    .dataframe thead th {\n",
       "        text-align: right;\n",
       "    }\n",
       "</style>\n",
       "<table border=\"1\" class=\"dataframe\">\n",
       "  <thead>\n",
       "    <tr style=\"text-align: right;\">\n",
       "      <th></th>\n",
       "      <th>word</th>\n",
       "      <th>coeff</th>\n",
       "    </tr>\n",
       "  </thead>\n",
       "  <tbody>\n",
       "    <tr>\n",
       "      <td>6017</td>\n",
       "      <td>nigger</td>\n",
       "      <td>376.591530</td>\n",
       "    </tr>\n",
       "    <tr>\n",
       "      <td>3113</td>\n",
       "      <td>faggot</td>\n",
       "      <td>363.563494</td>\n",
       "    </tr>\n",
       "    <tr>\n",
       "      <td>7510</td>\n",
       "      <td>retard</td>\n",
       "      <td>161.153371</td>\n",
       "    </tr>\n",
       "    <tr>\n",
       "      <td>7512</td>\n",
       "      <td>retarded</td>\n",
       "      <td>139.822428</td>\n",
       "    </tr>\n",
       "    <tr>\n",
       "      <td>2057</td>\n",
       "      <td>cunt</td>\n",
       "      <td>100.222272</td>\n",
       "    </tr>\n",
       "    <tr>\n",
       "      <td>8388</td>\n",
       "      <td>spic</td>\n",
       "      <td>85.527322</td>\n",
       "    </tr>\n",
       "    <tr>\n",
       "      <td>5872</td>\n",
       "      <td>muzzie</td>\n",
       "      <td>79.058264</td>\n",
       "    </tr>\n",
       "    <tr>\n",
       "      <td>9730</td>\n",
       "      <td>wetback</td>\n",
       "      <td>72.413391</td>\n",
       "    </tr>\n",
       "    <tr>\n",
       "      <td>3111</td>\n",
       "      <td>fag</td>\n",
       "      <td>66.935363</td>\n",
       "    </tr>\n",
       "    <tr>\n",
       "      <td>2701</td>\n",
       "      <td>dyke</td>\n",
       "      <td>45.077296</td>\n",
       "    </tr>\n",
       "    <tr>\n",
       "      <td>7511</td>\n",
       "      <td>retardation</td>\n",
       "      <td>35.366813</td>\n",
       "    </tr>\n",
       "    <tr>\n",
       "      <td>4879</td>\n",
       "      <td>kike</td>\n",
       "      <td>33.158387</td>\n",
       "    </tr>\n",
       "    <tr>\n",
       "      <td>9230</td>\n",
       "      <td>twat</td>\n",
       "      <td>32.439435</td>\n",
       "    </tr>\n",
       "    <tr>\n",
       "      <td>9801</td>\n",
       "      <td>wigger</td>\n",
       "      <td>29.150413</td>\n",
       "    </tr>\n",
       "    <tr>\n",
       "      <td>3114</td>\n",
       "      <td>faggotry</td>\n",
       "      <td>25.496369</td>\n",
       "    </tr>\n",
       "    <tr>\n",
       "      <td>7513</td>\n",
       "      <td>retards</td>\n",
       "      <td>23.443762</td>\n",
       "    </tr>\n",
       "    <tr>\n",
       "      <td>7182</td>\n",
       "      <td>raghead</td>\n",
       "      <td>22.446466</td>\n",
       "    </tr>\n",
       "    <tr>\n",
       "      <td>6018</td>\n",
       "      <td>niggers</td>\n",
       "      <td>16.405627</td>\n",
       "    </tr>\n",
       "    <tr>\n",
       "      <td>9110</td>\n",
       "      <td>tranny</td>\n",
       "      <td>15.947645</td>\n",
       "    </tr>\n",
       "    <tr>\n",
       "      <td>5119</td>\n",
       "      <td>libtard</td>\n",
       "      <td>12.504445</td>\n",
       "    </tr>\n",
       "    <tr>\n",
       "      <td>2061</td>\n",
       "      <td>cunty</td>\n",
       "      <td>11.256686</td>\n",
       "    </tr>\n",
       "    <tr>\n",
       "      <td>4123</td>\n",
       "      <td>homos</td>\n",
       "      <td>9.526618</td>\n",
       "    </tr>\n",
       "    <tr>\n",
       "      <td>3117</td>\n",
       "      <td>faggy</td>\n",
       "      <td>9.053693</td>\n",
       "    </tr>\n",
       "    <tr>\n",
       "      <td>9548</td>\n",
       "      <td>vietnam</td>\n",
       "      <td>8.863271</td>\n",
       "    </tr>\n",
       "    <tr>\n",
       "      <td>598</td>\n",
       "      <td>autism</td>\n",
       "      <td>7.939513</td>\n",
       "    </tr>\n",
       "    <tr>\n",
       "      <td>4119</td>\n",
       "      <td>homo</td>\n",
       "      <td>7.409377</td>\n",
       "    </tr>\n",
       "    <tr>\n",
       "      <td>5818</td>\n",
       "      <td>mudshark</td>\n",
       "      <td>7.393040</td>\n",
       "    </tr>\n",
       "    <tr>\n",
       "      <td>6010</td>\n",
       "      <td>nig</td>\n",
       "      <td>7.299513</td>\n",
       "    </tr>\n",
       "    <tr>\n",
       "      <td>7112</td>\n",
       "      <td>pussyboy</td>\n",
       "      <td>6.797214</td>\n",
       "    </tr>\n",
       "    <tr>\n",
       "      <td>2058</td>\n",
       "      <td>cuntfuse</td>\n",
       "      <td>6.649853</td>\n",
       "    </tr>\n",
       "    <tr>\n",
       "      <td>8205</td>\n",
       "      <td>slut</td>\n",
       "      <td>6.633148</td>\n",
       "    </tr>\n",
       "    <tr>\n",
       "      <td>2059</td>\n",
       "      <td>cuntish</td>\n",
       "      <td>6.316475</td>\n",
       "    </tr>\n",
       "    <tr>\n",
       "      <td>5860</td>\n",
       "      <td>mussolini</td>\n",
       "      <td>6.211510</td>\n",
       "    </tr>\n",
       "    <tr>\n",
       "      <td>6015</td>\n",
       "      <td>nigga</td>\n",
       "      <td>5.953319</td>\n",
       "    </tr>\n",
       "    <tr>\n",
       "      <td>1442</td>\n",
       "      <td>chinaman</td>\n",
       "      <td>5.951831</td>\n",
       "    </tr>\n",
       "    <tr>\n",
       "      <td>2060</td>\n",
       "      <td>cunts</td>\n",
       "      <td>5.916409</td>\n",
       "    </tr>\n",
       "    <tr>\n",
       "      <td>5780</td>\n",
       "      <td>moslem</td>\n",
       "      <td>5.701641</td>\n",
       "    </tr>\n",
       "    <tr>\n",
       "      <td>2939</td>\n",
       "      <td>esque</td>\n",
       "      <td>5.655120</td>\n",
       "    </tr>\n",
       "    <tr>\n",
       "      <td>3886</td>\n",
       "      <td>halfwit</td>\n",
       "      <td>5.635636</td>\n",
       "    </tr>\n",
       "    <tr>\n",
       "      <td>298</td>\n",
       "      <td>americunt</td>\n",
       "      <td>5.583840</td>\n",
       "    </tr>\n",
       "    <tr>\n",
       "      <td>7111</td>\n",
       "      <td>pussy</td>\n",
       "      <td>5.564052</td>\n",
       "    </tr>\n",
       "    <tr>\n",
       "      <td>8984</td>\n",
       "      <td>thundercunt</td>\n",
       "      <td>5.550721</td>\n",
       "    </tr>\n",
       "    <tr>\n",
       "      <td>9772</td>\n",
       "      <td>whitey</td>\n",
       "      <td>5.458723</td>\n",
       "    </tr>\n",
       "    <tr>\n",
       "      <td>6016</td>\n",
       "      <td>niggas</td>\n",
       "      <td>5.407924</td>\n",
       "    </tr>\n",
       "    <tr>\n",
       "      <td>5826</td>\n",
       "      <td>mulatto</td>\n",
       "      <td>5.371978</td>\n",
       "    </tr>\n",
       "    <tr>\n",
       "      <td>7948</td>\n",
       "      <td>sewage</td>\n",
       "      <td>5.210900</td>\n",
       "    </tr>\n",
       "    <tr>\n",
       "      <td>4091</td>\n",
       "      <td>hoe</td>\n",
       "      <td>5.181927</td>\n",
       "    </tr>\n",
       "    <tr>\n",
       "      <td>878</td>\n",
       "      <td>bitch</td>\n",
       "      <td>5.125506</td>\n",
       "    </tr>\n",
       "    <tr>\n",
       "      <td>7321</td>\n",
       "      <td>redneck</td>\n",
       "      <td>4.943599</td>\n",
       "    </tr>\n",
       "    <tr>\n",
       "      <td>8808</td>\n",
       "      <td>tard</td>\n",
       "      <td>4.932617</td>\n",
       "    </tr>\n",
       "  </tbody>\n",
       "</table>\n",
       "</div>"
      ],
      "text/plain": [
       "             word       coeff\n",
       "6017       nigger  376.591530\n",
       "3113       faggot  363.563494\n",
       "7510       retard  161.153371\n",
       "7512     retarded  139.822428\n",
       "2057         cunt  100.222272\n",
       "8388         spic   85.527322\n",
       "5872       muzzie   79.058264\n",
       "9730      wetback   72.413391\n",
       "3111          fag   66.935363\n",
       "2701         dyke   45.077296\n",
       "7511  retardation   35.366813\n",
       "4879         kike   33.158387\n",
       "9230         twat   32.439435\n",
       "9801       wigger   29.150413\n",
       "3114     faggotry   25.496369\n",
       "7513      retards   23.443762\n",
       "7182      raghead   22.446466\n",
       "6018      niggers   16.405627\n",
       "9110       tranny   15.947645\n",
       "5119      libtard   12.504445\n",
       "2061        cunty   11.256686\n",
       "4123        homos    9.526618\n",
       "3117        faggy    9.053693\n",
       "9548      vietnam    8.863271\n",
       "598        autism    7.939513\n",
       "4119         homo    7.409377\n",
       "5818     mudshark    7.393040\n",
       "6010          nig    7.299513\n",
       "7112     pussyboy    6.797214\n",
       "2058     cuntfuse    6.649853\n",
       "8205         slut    6.633148\n",
       "2059      cuntish    6.316475\n",
       "5860    mussolini    6.211510\n",
       "6015        nigga    5.953319\n",
       "1442     chinaman    5.951831\n",
       "2060        cunts    5.916409\n",
       "5780       moslem    5.701641\n",
       "2939        esque    5.655120\n",
       "3886      halfwit    5.635636\n",
       "298     americunt    5.583840\n",
       "7111        pussy    5.564052\n",
       "8984  thundercunt    5.550721\n",
       "9772       whitey    5.458723\n",
       "6016       niggas    5.407924\n",
       "5826      mulatto    5.371978\n",
       "7948       sewage    5.210900\n",
       "4091          hoe    5.181927\n",
       "878         bitch    5.125506\n",
       "7321      redneck    4.943599\n",
       "8808         tard    4.932617"
      ]
     },
     "execution_count": 112,
     "metadata": {},
     "output_type": "execute_result"
    }
   ],
   "source": [
    "coefs=logreg.coef_[0]\n",
    "\n",
    "word_coef = pd.DataFrame({'word': cvec.get_feature_names() , 'coeff': np.exp(coefs)})\n",
    "\n",
    "print(\"Top 50 Features for Logistic Regression & CVec on Hate = 1\")\n",
    "word_coef.sort_values(by='coeff' , ascending=False).head(50)"
   ]
  },
  {
   "cell_type": "markdown",
   "metadata": {},
   "source": [
    "The model is learning that many different offensive words that are actually contributing to hate speech. This is the reason why Logistic Regression has been the go to classifier for so many years with reasonable performances.\n",
    "\n",
    "But of course, ideally to reach above 90% perhaps a context based classifier might be useful to reduce the False Negatives. \n",
    "\n",
    "The reason why unigram for the CountVectorizer is most useful for the classifier to make a decision is likely because of the fact that most offensive words come in a single word which are highly probable to be hate speech related.  "
   ]
  },
  {
   "cell_type": "code",
   "execution_count": 111,
   "metadata": {},
   "outputs": [
    {
     "name": "stdout",
     "output_type": "stream",
     "text": [
      "Top 20 Features for Logistic Regression & CVec on Hate = 0\n"
     ]
    },
    {
     "data": {
      "text/html": [
       "<div>\n",
       "<style scoped>\n",
       "    .dataframe tbody tr th:only-of-type {\n",
       "        vertical-align: middle;\n",
       "    }\n",
       "\n",
       "    .dataframe tbody tr th {\n",
       "        vertical-align: top;\n",
       "    }\n",
       "\n",
       "    .dataframe thead th {\n",
       "        text-align: right;\n",
       "    }\n",
       "</style>\n",
       "<table border=\"1\" class=\"dataframe\">\n",
       "  <thead>\n",
       "    <tr style=\"text-align: right;\">\n",
       "      <th></th>\n",
       "      <th>word</th>\n",
       "      <th>coeff</th>\n",
       "    </tr>\n",
       "  </thead>\n",
       "  <tbody>\n",
       "    <tr>\n",
       "      <td>9475</td>\n",
       "      <td>van</td>\n",
       "      <td>0.102721</td>\n",
       "    </tr>\n",
       "    <tr>\n",
       "      <td>952</td>\n",
       "      <td>boat</td>\n",
       "      <td>0.133900</td>\n",
       "    </tr>\n",
       "    <tr>\n",
       "      <td>6277</td>\n",
       "      <td>organisation</td>\n",
       "      <td>0.147655</td>\n",
       "    </tr>\n",
       "    <tr>\n",
       "      <td>2350</td>\n",
       "      <td>detail</td>\n",
       "      <td>0.172020</td>\n",
       "    </tr>\n",
       "    <tr>\n",
       "      <td>5363</td>\n",
       "      <td>manipulate</td>\n",
       "      <td>0.175165</td>\n",
       "    </tr>\n",
       "    <tr>\n",
       "      <td>1288</td>\n",
       "      <td>carter</td>\n",
       "      <td>0.183946</td>\n",
       "    </tr>\n",
       "    <tr>\n",
       "      <td>1187</td>\n",
       "      <td>butch</td>\n",
       "      <td>0.200971</td>\n",
       "    </tr>\n",
       "    <tr>\n",
       "      <td>6476</td>\n",
       "      <td>pastor</td>\n",
       "      <td>0.203492</td>\n",
       "    </tr>\n",
       "    <tr>\n",
       "      <td>2916</td>\n",
       "      <td>er</td>\n",
       "      <td>0.207313</td>\n",
       "    </tr>\n",
       "    <tr>\n",
       "      <td>128</td>\n",
       "      <td>adoption</td>\n",
       "      <td>0.207375</td>\n",
       "    </tr>\n",
       "    <tr>\n",
       "      <td>4781</td>\n",
       "      <td>judaism</td>\n",
       "      <td>0.238692</td>\n",
       "    </tr>\n",
       "    <tr>\n",
       "      <td>9350</td>\n",
       "      <td>unhinged</td>\n",
       "      <td>0.241239</td>\n",
       "    </tr>\n",
       "    <tr>\n",
       "      <td>1471</td>\n",
       "      <td>chuckle</td>\n",
       "      <td>0.241812</td>\n",
       "    </tr>\n",
       "    <tr>\n",
       "      <td>1710</td>\n",
       "      <td>complicit</td>\n",
       "      <td>0.242037</td>\n",
       "    </tr>\n",
       "    <tr>\n",
       "      <td>4779</td>\n",
       "      <td>jt</td>\n",
       "      <td>0.249178</td>\n",
       "    </tr>\n",
       "    <tr>\n",
       "      <td>6789</td>\n",
       "      <td>porno</td>\n",
       "      <td>0.251294</td>\n",
       "    </tr>\n",
       "    <tr>\n",
       "      <td>8384</td>\n",
       "      <td>spew</td>\n",
       "      <td>0.254795</td>\n",
       "    </tr>\n",
       "    <tr>\n",
       "      <td>2212</td>\n",
       "      <td>defender</td>\n",
       "      <td>0.258314</td>\n",
       "    </tr>\n",
       "    <tr>\n",
       "      <td>5308</td>\n",
       "      <td>madness</td>\n",
       "      <td>0.258361</td>\n",
       "    </tr>\n",
       "    <tr>\n",
       "      <td>531</td>\n",
       "      <td>assist</td>\n",
       "      <td>0.258451</td>\n",
       "    </tr>\n",
       "  </tbody>\n",
       "</table>\n",
       "</div>"
      ],
      "text/plain": [
       "              word     coeff\n",
       "9475           van  0.102721\n",
       "952           boat  0.133900\n",
       "6277  organisation  0.147655\n",
       "2350        detail  0.172020\n",
       "5363    manipulate  0.175165\n",
       "1288        carter  0.183946\n",
       "1187         butch  0.200971\n",
       "6476        pastor  0.203492\n",
       "2916            er  0.207313\n",
       "128       adoption  0.207375\n",
       "4781       judaism  0.238692\n",
       "9350      unhinged  0.241239\n",
       "1471       chuckle  0.241812\n",
       "1710     complicit  0.242037\n",
       "4779            jt  0.249178\n",
       "6789         porno  0.251294\n",
       "8384          spew  0.254795\n",
       "2212      defender  0.258314\n",
       "5308       madness  0.258361\n",
       "531         assist  0.258451"
      ]
     },
     "execution_count": 111,
     "metadata": {},
     "output_type": "execute_result"
    }
   ],
   "source": [
    "print(\"Top 20 Features for Logistic Regression & CVec on Hate = 0\")\n",
    "word_coef.sort_values(by='coeff' , ascending=True).head(20)"
   ]
  },
  {
   "cell_type": "markdown",
   "metadata": {},
   "source": [
    "For comments that contain unigrams that are not classifed as hate speech, they are usually non-offensive. Of course, given more context, they may or may not be hate speech related. "
   ]
  },
  {
   "cell_type": "markdown",
   "metadata": {},
   "source": [
    "### Best Model Misclassifications"
   ]
  },
  {
   "cell_type": "code",
   "execution_count": 115,
   "metadata": {},
   "outputs": [],
   "source": [
    "X=df[['text', 'response']]\n",
    "y=df['hate']\n",
    "X_train, X_test, y_train, y_test = train_test_split(X, y, stratify=y, random_state=28)\n",
    "pred_df = pd.DataFrame()\n",
    "\n",
    "pred_df['comment']=X_test['text']"
   ]
  },
  {
   "cell_type": "code",
   "execution_count": 116,
   "metadata": {},
   "outputs": [],
   "source": [
    "pred_df['response']=X_test['response']"
   ]
  },
  {
   "cell_type": "code",
   "execution_count": 117,
   "metadata": {},
   "outputs": [],
   "source": [
    "pred_df['pred'] = pred_lr"
   ]
  },
  {
   "cell_type": "code",
   "execution_count": 118,
   "metadata": {},
   "outputs": [],
   "source": [
    "pred_df['actual'] = y_test"
   ]
  },
  {
   "cell_type": "code",
   "execution_count": 119,
   "metadata": {},
   "outputs": [],
   "source": [
    "pred_prob_lr = [i[1] for i in logreg.predict_proba(X_test_cvec)]"
   ]
  },
  {
   "cell_type": "code",
   "execution_count": 120,
   "metadata": {},
   "outputs": [],
   "source": [
    "pred_df['pred_probs'] = pred_prob_lr"
   ]
  },
  {
   "cell_type": "code",
   "execution_count": 121,
   "metadata": {},
   "outputs": [
    {
     "data": {
      "text/html": [
       "<div>\n",
       "<style scoped>\n",
       "    .dataframe tbody tr th:only-of-type {\n",
       "        vertical-align: middle;\n",
       "    }\n",
       "\n",
       "    .dataframe tbody tr th {\n",
       "        vertical-align: top;\n",
       "    }\n",
       "\n",
       "    .dataframe thead th {\n",
       "        text-align: right;\n",
       "    }\n",
       "</style>\n",
       "<table border=\"1\" class=\"dataframe\">\n",
       "  <thead>\n",
       "    <tr style=\"text-align: right;\">\n",
       "      <th></th>\n",
       "      <th>comment</th>\n",
       "      <th>response</th>\n",
       "      <th>pred</th>\n",
       "      <th>actual</th>\n",
       "      <th>pred_probs</th>\n",
       "    </tr>\n",
       "  </thead>\n",
       "  <tbody>\n",
       "    <tr>\n",
       "      <td>55105</td>\n",
       "      <td>Flake is a raging faggot for his behavior duri...</td>\n",
       "      <td>['You should respect others no matter their se...</td>\n",
       "      <td>1</td>\n",
       "      <td>1</td>\n",
       "      <td>0.978610</td>\n",
       "    </tr>\n",
       "    <tr>\n",
       "      <td>42975</td>\n",
       "      <td>#England is the cowardly lion</td>\n",
       "      <td>['Good grief, every woman in power a \"d\" to yo...</td>\n",
       "      <td>0</td>\n",
       "      <td>0</td>\n",
       "      <td>0.034907</td>\n",
       "    </tr>\n",
       "    <tr>\n",
       "      <td>34650</td>\n",
       "      <td>Poll: Republicans May See Bump In Turnout, Ins...</td>\n",
       "      <td>['Labeling a party with terms that give stereo...</td>\n",
       "      <td>0</td>\n",
       "      <td>0</td>\n",
       "      <td>0.023520</td>\n",
       "    </tr>\n",
       "    <tr>\n",
       "      <td>5894</td>\n",
       "      <td>Surely rednecks are hardly ever incels, becaus...</td>\n",
       "      <td>[\"It's very hard to follow your argument when ...</td>\n",
       "      <td>0</td>\n",
       "      <td>0</td>\n",
       "      <td>0.078091</td>\n",
       "    </tr>\n",
       "    <tr>\n",
       "      <td>34156</td>\n",
       "      <td>Great working dealing with those faggot shills...</td>\n",
       "      <td>['Shills is tough enough language, thanks! Als...</td>\n",
       "      <td>1</td>\n",
       "      <td>1</td>\n",
       "      <td>0.982237</td>\n",
       "    </tr>\n",
       "  </tbody>\n",
       "</table>\n",
       "</div>"
      ],
      "text/plain": [
       "                                                 comment  \\\n",
       "55105  Flake is a raging faggot for his behavior duri...   \n",
       "42975                   #England is the cowardly lion      \n",
       "34650  Poll: Republicans May See Bump In Turnout, Ins...   \n",
       "5894   Surely rednecks are hardly ever incels, becaus...   \n",
       "34156  Great working dealing with those faggot shills...   \n",
       "\n",
       "                                                response  pred  actual  \\\n",
       "55105  ['You should respect others no matter their se...     1       1   \n",
       "42975  ['Good grief, every woman in power a \"d\" to yo...     0       0   \n",
       "34650  ['Labeling a party with terms that give stereo...     0       0   \n",
       "5894   [\"It's very hard to follow your argument when ...     0       0   \n",
       "34156  ['Shills is tough enough language, thanks! Als...     1       1   \n",
       "\n",
       "       pred_probs  \n",
       "55105    0.978610  \n",
       "42975    0.034907  \n",
       "34650    0.023520  \n",
       "5894     0.078091  \n",
       "34156    0.982237  "
      ]
     },
     "execution_count": 121,
     "metadata": {},
     "output_type": "execute_result"
    }
   ],
   "source": [
    "pred_df.head()"
   ]
  },
  {
   "cell_type": "code",
   "execution_count": 122,
   "metadata": {},
   "outputs": [],
   "source": [
    "#look into false negatives\n",
    "lr_fn_df = pred_df[(pred_df['pred'] == 0) & (pred_df['actual'] == 1)]\n",
    "#look into false postives\n",
    "lr_fp_df = pred_df[(pred_df['pred'] == 1) & (pred_df['actual'] == 0)]"
   ]
  },
  {
   "cell_type": "code",
   "execution_count": 123,
   "metadata": {},
   "outputs": [],
   "source": [
    "lr_fn_df.reset_index(inplace=True)\n",
    "lr_fp_df.reset_index(inplace=True)"
   ]
  },
  {
   "cell_type": "code",
   "execution_count": 125,
   "metadata": {},
   "outputs": [
    {
     "data": {
      "image/png": "[encoded data removed]",
      "text/plain": [
       "<Figure size 720x504 with 1 Axes>"
      ]
     },
     "metadata": {
      "needs_background": "light"
     },
     "output_type": "display_data"
    }
   ],
   "source": [
    "# Create figure for distribution graph\n",
    "plt.figure(figsize = (10,7))\n",
    "\n",
    "# Creatinfg two histograms of observations, with blue (left) from nonhate and yellow (right) from hate\n",
    "plt.hist(pred_df[pred_df['actual'] == 0]['pred_probs'],\n",
    "         bins=25,\n",
    "         color='b',\n",
    "         alpha = 0.6,\n",
    "         label='Outcome = 0 (No Hate)')\n",
    "plt.hist(pred_df[pred_df['actual'] == 1]['pred_probs'],\n",
    "         bins=25,\n",
    "         color='orange',\n",
    "         alpha = 0.6,\n",
    "         label='Outcome = 1 (Hate)')\n",
    "\n",
    "# Labeling of axes.\n",
    "plt.title('Distribution of P(Outcome = 1)', fontsize=20)\n",
    "plt.ylabel('Frequency', fontsize=18)\n",
    "plt.xlabel('Predicted Probability that Outcome = 1', fontsize=18)\n",
    "\n",
    "# Creating of legends\n",
    "plt.legend(fontsize=20);"
   ]
  },
  {
   "cell_type": "code",
   "execution_count": 126,
   "metadata": {},
   "outputs": [
    {
     "data": {
      "image/png": "[encoded data removed]",
      "text/plain": [
       "<Figure size 720x504 with 1 Axes>"
      ]
     },
     "metadata": {
      "needs_background": "light"
     },
     "output_type": "display_data"
    }
   ],
   "source": [
    "from sklearn.metrics import roc_auc_score\n",
    "\n",
    "# Creating of figure for AUC ROC graph\n",
    "plt.figure(figsize = (10,7))\n",
    "\n",
    "# Create threshold values.\n",
    "thresholds = np.linspace(0, 1, 200)\n",
    "\n",
    "# Define function to calculate sensitivity. (True positive rate.)\n",
    "def TPR(df, true_col, pred_prob_col, threshold):\n",
    "    true_positive = df[(df[true_col] == 1) & (df[pred_prob_col] >= threshold)].shape[0]\n",
    "    false_negative = df[(df[true_col] == 1) & (df[pred_prob_col] < threshold)].shape[0]\n",
    "    return true_positive / (true_positive + false_negative)\n",
    "    \n",
    "\n",
    "# Define function to calculate 1 - specificity. (False positive rate.)\n",
    "def FPR(df, true_col, pred_prob_col, threshold):\n",
    "    true_negative = df[(df[true_col] == 0) & (df[pred_prob_col] <= threshold)].shape[0]\n",
    "    false_positive = df[(df[true_col] == 0) & (df[pred_prob_col] > threshold)].shape[0]\n",
    "    return 1 - (true_negative / (true_negative + false_positive))\n",
    "    \n",
    "# Calculate sensitivity & 1-specificity for each threshold between 0 and 1.\n",
    "tpr_values = [TPR(pred_df, 'actual', 'pred_probs', prob) for prob in thresholds]\n",
    "fpr_values = [FPR(pred_df, 'actual', 'pred_probs', prob) for prob in thresholds]\n",
    "\n",
    "# Plot ROC curve.\n",
    "plt.plot(fpr_values, # False Positive Rate on X-axis\n",
    "         tpr_values, # True Positive Rate on Y-axis\n",
    "         label='ROC Curve')\n",
    "\n",
    "# Plot baseline. (Perfect overlap between the two populations.)\n",
    "plt.plot(np.linspace(0, 1, 200),\n",
    "         np.linspace(0, 1, 200),\n",
    "         label='baseline',\n",
    "         linestyle='--')\n",
    "\n",
    "# Label axes.\n",
    "plt.title(f'ROC Curve with AUC = {round(roc_auc_score(pred_df[\"actual\"], pred_df[\"pred_probs\"]),3)}', fontsize=22)\n",
    "plt.ylabel('Sensitivity', fontsize=18)\n",
    "plt.xlabel('1 - Specificity', fontsize=18)\n",
    "\n",
    "# Create legend.\n",
    "plt.legend(fontsize=16);"
   ]
  },
  {
   "cell_type": "code",
   "execution_count": 134,
   "metadata": {},
   "outputs": [
    {
     "name": "stdout",
     "output_type": "stream",
     "text": [
      "LogisticRegression Confusion Matrix:\n",
      "True Negatives: 7183\n",
      "False Positives: 503\n",
      "False Negatives: 920\n",
      "True Positives: 3984\n",
      "\n",
      "\n"
     ]
    },
    {
     "data": {
      "text/html": [
       "<div>\n",
       "<style scoped>\n",
       "    .dataframe tbody tr th:only-of-type {\n",
       "        vertical-align: middle;\n",
       "    }\n",
       "\n",
       "    .dataframe tbody tr th {\n",
       "        vertical-align: top;\n",
       "    }\n",
       "\n",
       "    .dataframe thead th {\n",
       "        text-align: right;\n",
       "    }\n",
       "</style>\n",
       "<table border=\"1\" class=\"dataframe\">\n",
       "  <thead>\n",
       "    <tr style=\"text-align: right;\">\n",
       "      <th></th>\n",
       "      <th>precision</th>\n",
       "      <th>recall</th>\n",
       "      <th>f1-score</th>\n",
       "      <th>support</th>\n",
       "    </tr>\n",
       "  </thead>\n",
       "  <tbody>\n",
       "    <tr>\n",
       "      <td>Predict 0</td>\n",
       "      <td>0.886462</td>\n",
       "      <td>0.934556</td>\n",
       "      <td>0.909874</td>\n",
       "      <td>7686.000000</td>\n",
       "    </tr>\n",
       "    <tr>\n",
       "      <td>Predict 1</td>\n",
       "      <td>0.887898</td>\n",
       "      <td>0.812398</td>\n",
       "      <td>0.848472</td>\n",
       "      <td>4904.000000</td>\n",
       "    </tr>\n",
       "    <tr>\n",
       "      <td>accuracy</td>\n",
       "      <td>0.886974</td>\n",
       "      <td>0.886974</td>\n",
       "      <td>0.886974</td>\n",
       "      <td>0.886974</td>\n",
       "    </tr>\n",
       "    <tr>\n",
       "      <td>macro avg</td>\n",
       "      <td>0.887180</td>\n",
       "      <td>0.873477</td>\n",
       "      <td>0.879173</td>\n",
       "      <td>12590.000000</td>\n",
       "    </tr>\n",
       "    <tr>\n",
       "      <td>weighted avg</td>\n",
       "      <td>0.887021</td>\n",
       "      <td>0.886974</td>\n",
       "      <td>0.885957</td>\n",
       "      <td>12590.000000</td>\n",
       "    </tr>\n",
       "  </tbody>\n",
       "</table>\n",
       "</div>"
      ],
      "text/plain": [
       "              precision    recall  f1-score       support\n",
       "Predict 0      0.886462  0.934556  0.909874   7686.000000\n",
       "Predict 1      0.887898  0.812398  0.848472   4904.000000\n",
       "accuracy       0.886974  0.886974  0.886974      0.886974\n",
       "macro avg      0.887180  0.873477  0.879173  12590.000000\n",
       "weighted avg   0.887021  0.886974  0.885957  12590.000000"
      ]
     },
     "metadata": {},
     "output_type": "display_data"
    }
   ],
   "source": [
    "print_results(logreg, pred_lr)"
   ]
  },
  {
   "cell_type": "markdown",
   "metadata": {},
   "source": [
    "__Save misclassifications to csv__"
   ]
  },
  {
   "cell_type": "code",
   "execution_count": 135,
   "metadata": {},
   "outputs": [
    {
     "data": {
      "text/plain": [
       "(920, 6)"
      ]
     },
     "execution_count": 135,
     "metadata": {},
     "output_type": "execute_result"
    }
   ],
   "source": [
    "lr_fn_df.shape"
   ]
  },
  {
   "cell_type": "code",
   "execution_count": 136,
   "metadata": {},
   "outputs": [],
   "source": [
    "lr_fn_df.to_csv('../assets/logreg_fn.csv', index=False)"
   ]
  },
  {
   "cell_type": "code",
   "execution_count": 137,
   "metadata": {},
   "outputs": [
    {
     "data": {
      "text/plain": [
       "(503, 6)"
      ]
     },
     "execution_count": 137,
     "metadata": {},
     "output_type": "execute_result"
    }
   ],
   "source": [
    "lr_fp_df.shape"
   ]
  },
  {
   "cell_type": "code",
   "execution_count": 138,
   "metadata": {},
   "outputs": [],
   "source": [
    "lr_fp_df.to_csv('../assets/logreg_fp.csv', index=False)"
   ]
  },
  {
   "cell_type": "markdown",
   "metadata": {},
   "source": [
    "#### Analysis of False Negatives"
   ]
  },
  {
   "cell_type": "markdown",
   "metadata": {},
   "source": [
    "<span style=\"color:maroon\">Warning: There is presence of derogatory comments in this section and is discussed for academic and research purposes. Please skip to the subsequent sections if you find this offensive.</span>"
   ]
  },
  {
   "cell_type": "code",
   "execution_count": 150,
   "metadata": {},
   "outputs": [
    {
     "data": {
      "text/plain": [
       "\"I shouldn't even have to use the /s, it is incredibly obvious that I am being sarcastic either way.\""
      ]
     },
     "metadata": {},
     "output_type": "display_data"
    },
    {
     "name": "stdout",
     "output_type": "stream",
     "text": [
      "\n",
      "Response:\n",
      "['This thread is closed. We ask that you all review our user policies and refrain from hate speech of any kind. This is a final warning. Ty.', 'Its inappropriate to use words that directly attack one based on their sexual preferences (incel and faggot) and gender (cunt).', 'Do not discuss hate speech by using hate speech there are ways to avoid this. Name calling also does not add to the conversation.']\n",
      "\n",
      "\n",
      "Probability: 0.0933714693538914\n",
      "----------------------------------------\n"
     ]
    },
    {
     "data": {
      "text/plain": [
       "'I don’t know the full details of the IMC shit. I was bored with the Kraut stupidity the first time round so this round holds little interest for me. The name wild goose however I do know. He is a legitimately horrible individual who is butt buddies with Ralph and the other IBS cunts. I believe he was the one who doxed Sargon and celebrated the suicide of the sister of a GG’er back in the day.   Honestly it’s not what he changed his mind to that makes me distrust him. It’s the degree to which he flipped and the time it took to happen. I don’t give him any credibility and doubt every thing he says and does.   You do you mate. Just remember that someone’s actions belie the truth of their words. '"
      ]
     },
     "metadata": {},
     "output_type": "display_data"
    },
    {
     "name": "stdout",
     "output_type": "stream",
     "text": [
      "\n",
      "Response:\n",
      "['Use of the c-word here is not acceptable because it is hurtful and offensive as it denigrates women.', 'Using the term \"c---\" pejoratively is offensive and should be avoided.']\n",
      "\n",
      "\n",
      "Probability: 0.007523960445078103\n",
      "----------------------------------------\n"
     ]
    },
    {
     "data": {
      "text/plain": [
       "\".... they're the 'dumbest of the dumb' who believe the insane Left and try to prove they're NOT against being killed by religious imbeciles !\""
      ]
     },
     "metadata": {},
     "output_type": "display_data"
    },
    {
     "name": "stdout",
     "output_type": "stream",
     "text": [
      "\n",
      "Response:\n",
      "['Use of the r-word is unacceptable in discourse as it demeans and insults people with mental disabilities.', 'I like Cindy Lauper and her song Girls Just Want to Have Fun', 'Please avoid expressions that denigrate women or people of other religions.']\n",
      "\n",
      "\n",
      "Probability: 0.06008171222560287\n",
      "----------------------------------------\n"
     ]
    },
    {
     "data": {
      "text/plain": [
       "\"Sold yourself out dbag. Throwing buzzwords around instead of thinking makes you a inept yet dangerous person. Seek help, there's no shame in mental illness. \""
      ]
     },
     "metadata": {},
     "output_type": "display_data"
    },
    {
     "name": "stdout",
     "output_type": "stream",
     "text": [
      "\n",
      "Response:\n",
      "[\"Next we need a law where if you're caught over and over lying about these things you go to jail.\", \"There's no need for that language. This is a warning.\", 'Stop using a medical condition as an insult.']\n",
      "\n",
      "\n",
      "Probability: 0.11629146743911055\n",
      "----------------------------------------\n"
     ]
    },
    {
     "data": {
      "text/plain": [
       "\"She's a big big BIG phony beyond her heritage Claims.  She was a Financial advisor for the Clinton administration.  She audited the Derivative bonds before the Real Estate bubble even ever happened. She found that it was pure garbage and junk and would destroy the Financial health of America if those type of financial vehicles were allowed to be sold.   Had She had just a smidgen of the meddle Trump has, She would have went public. Instead She was told to keep her finding quiet and was kicked up to the Big corner office. Then upgraded on a fast track to be the Senator.   I knew She was the Shittiest person to be entrusted with creating the CFPB. The verbiage in the legalese of most Financial contracts are more oppressive than ever. Companies can legally fuck you over 10 different ways to Sunday. As long as they mention in their contract to read the terms and condition that may be in other supplemental materials like on a Website, or even have to call or email for the hard copy of those terms. The terms don't even have to be in the fine print on those contracts any more. Just be available somewhere in the universe. But make no mistake the terms and conditions have never been less transparent in the History of Mankind trading goods and services for a currency.   This Bitch is the most Vile and Evil Cunt to ever have existed.  She created more loopholes to fuck over the most vulnerable and week and people don't even realize it. They think the CFPB is there to protect them. It's there to create legal ways to fuck you over. \""
      ]
     },
     "metadata": {},
     "output_type": "display_data"
    },
    {
     "name": "stdout",
     "output_type": "stream",
     "text": [
      "\n",
      "Response:\n",
      "[\"Name calling the people you disagree with isn't going to help solve anything.\", 'Removing the foul language will help others to understand your point of view more.', \"While an argument can be made on whether certain derogatory terms are applied evenly, it doesn't help to aggressively label someone that way\"]\n",
      "\n",
      "\n",
      "Probability: 0.01147579121017993\n",
      "----------------------------------------\n"
     ]
    }
   ],
   "source": [
    "#sampling subset of 10 false negatives\n",
    "lr_fn_df = pd.read_csv('../assets/logreg_fn.csv')\n",
    "for i in np.random.choice(lr_fn_df.index, 5):\n",
    "    display(lr_fn_df.loc[i,'comment'])\n",
    "    print('\\nResponse:')\n",
    "    print(lr_fn_df.loc[i,'response'])\n",
    "    print('\\n')\n",
    "    print(f\"Probability: {lr_fn_df.loc[i,'pred_probs']}\")\n",
    "    print('----'*10)"
   ]
  },
  {
   "cell_type": "code",
   "execution_count": 145,
   "metadata": {},
   "outputs": [
    {
     "data": {
      "text/html": [
       "<div>\n",
       "<style scoped>\n",
       "    .dataframe tbody tr th:only-of-type {\n",
       "        vertical-align: middle;\n",
       "    }\n",
       "\n",
       "    .dataframe tbody tr th {\n",
       "        vertical-align: top;\n",
       "    }\n",
       "\n",
       "    .dataframe thead th {\n",
       "        text-align: right;\n",
       "    }\n",
       "</style>\n",
       "<table border=\"1\" class=\"dataframe\">\n",
       "  <thead>\n",
       "    <tr style=\"text-align: right;\">\n",
       "      <th></th>\n",
       "      <th>word</th>\n",
       "      <th>coeff</th>\n",
       "    </tr>\n",
       "  </thead>\n",
       "  <tbody>\n",
       "    <tr>\n",
       "      <td>5963</td>\n",
       "      <td>negroid</td>\n",
       "      <td>3.985588</td>\n",
       "    </tr>\n",
       "  </tbody>\n",
       "</table>\n",
       "</div>"
      ],
      "text/plain": [
       "         word     coeff\n",
       "5963  negroid  3.985588"
      ]
     },
     "execution_count": 145,
     "metadata": {},
     "output_type": "execute_result"
    }
   ],
   "source": [
    "word_coef[word_coef['word'] == 'negroid']"
   ]
  },
  {
   "cell_type": "markdown",
   "metadata": {},
   "source": [
    "The false negatives can be segregated into the following categories highlighted in bold.  \n",
    "\n",
    "__Subjective__\n",
    "\n",
    ">'I don’t know the full details of the IMC shit. I was bored with the Kraut stupidity the first time round so this round holds little interest for me. The name wild goose however I do know. He is a legitimately horrible individual who is butt buddies with Ralph and the other IBS c\\*\\*\\*\\*. I believe he was the one who doxed Sargon and celebrated the suicide of the sister of a GG’er back in the day.   Honestly it’s not what he changed his mind to that makes me distrust him. It’s the degree to which he flipped and the time it took to happen. I don’t give him any credibility and doubt every thing he says and does.   You do you mate. Just remember that someone’s actions belie the truth of their words. '\n",
    "\n",
    "What is hate speech is subjective and some of the human labellers might be more offended at certain swear words which are deemed derogatory whereas some might find it more acceptable. \n",
    "\n",
    "__Mispelled derogatory terms or joined together__\n",
    "> 'A f\\*\\*\\*ing life sentence? Jeez, give that lady her p\\*\\*\\*y pass back.'\n",
    "\n",
    "> \"Hell if you’re over here it’s the only word, damn thing fits in just about ever c\\*\\*\\*\\*ing sentence you can come up with.\"\n",
    "\n",
    ">'The rest of his life in Pakistan? Not so sure that’s a preferable option to being treated like a hero as part of a Moslim gang in some British jail.'\n",
    "\n",
    "Sometimes the words are joined together or seperated deliberately or accidentally. Since misspellings are not very common, the model does not recognise them as hate speech related. \n",
    "\n",
    "__Dubious ones__ \n",
    ">\"Cool, now we know it's false because you said it.  :D\"\n",
    "\n",
    ">\"Half these clowns on here can't even spell philosophy without the spell checker!\"\n",
    "\n",
    "The above ones do not seem to be hate speech in nature and might be due to mislabelling.\n",
    "\n",
    "__Contextual to the conversation__\n",
    "> 'Exacly my point, and thats why we have the second amendment so if any of those monkeys try and give me consequences for my speech i can blow them away'\n",
    "\n",
    "> \"Being white just means your better than anyone else and should go the extra length for all the dumb brown people in the world(SJW logic)  Based on various garbage articles I've seen online(vox buzzfeed salon etc)  Black people can't figure out how to be places okkn time so we need to be patient with them. Black people can't figure out basic manners and politeness. Black people are scared of milk. Black peop e need their own little safe spaces so e don't spook them. Black people can't find jobs and should live off the table scraps of white people.  I could go on and on. If you frame it this way, it's pretty clear SJW's are convijnced white people are superior in every way, and shouldn't be held to the same standard. Being black is a mentalcretardation(and any other skin color to)\"\n",
    "\n",
    "> ' Wait until Canadian  women’s muslim owners are fucking them at will and then selling them to the highest bidder!   They will wish they had moved to the United States where a president would protect them! '\n",
    "\n",
    "> \"Sold yourself out dbag. Throwing buzzwords around instead of thinking makes you a inept yet dangerous person. Seek help, there's no shame in mental illness. \"\n",
    "\n",
    "And of course, there will be some comments that do not contain any of the derogatory words and yet are still deemed as hate speech with more context of the conversation. "
   ]
  },
  {
   "cell_type": "markdown",
   "metadata": {},
   "source": [
    "#### Analysis of False Positives"
   ]
  },
  {
   "cell_type": "markdown",
   "metadata": {},
   "source": [
    "<span style=\"color:maroon\">Warning: There is presence of derogatory comments in this section and is discussed for academic and research purposes. Please skip to the subsequent sections if you find this offensive.</span>"
   ]
  },
  {
   "cell_type": "code",
   "execution_count": 149,
   "metadata": {},
   "outputs": [
    {
     "data": {
      "text/plain": [
       "'Point taken.  When I see gang rape, I think Muzzie.'"
      ]
     },
     "metadata": {},
     "output_type": "display_data"
    },
    {
     "name": "stdout",
     "output_type": "stream",
     "text": [
      "\n",
      "\n",
      "Probability: 0.8553899900368416\n",
      "----------------------------------------\n"
     ]
    },
    {
     "data": {
      "text/plain": [
       "'>You\\'re still pretending that there are radical dominionists in the wings, when the reality is that the contemporary right has become substantially more secular and in some ways much more socially liberal than it used to be.  If the contemporary right is becoming more liberal, that doesn\\'t mean the contemporary right is changing - it means more people are accepting of liberal values (which the right has traditionally not been). And I fully agree.   But, I honestly think you are trying to paint a picture of a new, improved, updated right-wing - accepting of gays, accepting of personal freedoms when it comes to issues such as abortion etc... which at best, is simply a thinly veneered attempt to attract \"new blood\" by throwing out some of the ideas that simply aren\\'t going to wash in the modern world (eg - Milo being \"flamboyantly gay\" - while at the same time taking an anti-gay stance on just about every gay rights issue - such as gay marriage which, even though he has indulged in it himself, he claims should be \"called something else\".)  And at worst (in the case of the far-right) is exactly the same as the old-right has always been.  You have to admit, the so-called new, \"liberal\" right wing which you are trying to convince me exists, and the old fashioned Bible-thumping, cross-burning right-wing have an awful lot in common - Love of Trump, hatred of feminism, hatred of Islam, rejection of #metoo, belief in traditional gender roles, willingness to engage in conspiracy theories (Pizza Gate, Sandy Hook being a false flag) and, as we\\'re discussing this on a Gamergate subreddit, hatred of Anita Sarkeesian/Zoe Quinn.   And if we include Breitbart readers/commenters (who certainly would include themselves, and I don\\'t really think you can exclude them simply because they don\\'t fit your idea of what constitutes the \"new right\"), then we can include white nationalism in the mix, too.  Breitbart, by the way, to some extent, represents the more moderate end of the \"far right\" - I could easily have cited Andrew Anglin or Richard Spencer - outright white nationalists.    You may say they are different, but they are unequivocally the same in many ways. So it\\'s really just a PR exercise.   '"
      ]
     },
     "metadata": {},
     "output_type": "display_data"
    },
    {
     "name": "stdout",
     "output_type": "stream",
     "text": [
      "\n",
      "\n",
      "Probability: 0.7350872438669452\n",
      "----------------------------------------\n"
     ]
    },
    {
     "data": {
      "text/plain": [
       "'That is a fair concern. However, I am a hillbilly stuck in Denver. Everytime I hear one of these harpies try to to act like we are evil men because we are white and straight, I feel like reminding them just how dangerous we really are. How easy would it be for you and your buddies to leave many leftist hats on the ground? I know it would not be a challenge on my end.'"
      ]
     },
     "metadata": {},
     "output_type": "display_data"
    },
    {
     "name": "stdout",
     "output_type": "stream",
     "text": [
      "\n",
      "\n",
      "Probability: 0.7547324069011335\n",
      "----------------------------------------\n"
     ]
    },
    {
     "data": {
      "text/plain": [
       "\"There are a lot of women who are fucking cunts too, but I still love the women in my life and I know there are a majority out there who aren't dumb cunts. It doesn't mean all women have to apologize for the cunts out there. Fucking shit man, fuck progressives.\""
      ]
     },
     "metadata": {},
     "output_type": "display_data"
    },
    {
     "name": "stdout",
     "output_type": "stream",
     "text": [
      "\n",
      "\n",
      "Probability: 0.9999936816613868\n",
      "----------------------------------------\n"
     ]
    },
    {
     "data": {
      "text/plain": [
       "'Is this something that YouTube was actually planning on doing? I ask because the source was Keemstar, who no one should have as a source for anything other than how to be a total cunt. '"
      ]
     },
     "metadata": {},
     "output_type": "display_data"
    },
    {
     "name": "stdout",
     "output_type": "stream",
     "text": [
      "\n",
      "\n",
      "Probability: 0.6660993244536081\n",
      "----------------------------------------\n"
     ]
    },
    {
     "data": {
      "text/plain": [
       "'It reminds me of the \"Redneck Revolt\" contingent of Antifa. They should probably change their name to Redneck Surrender.'"
      ]
     },
     "metadata": {},
     "output_type": "display_data"
    },
    {
     "name": "stdout",
     "output_type": "stream",
     "text": [
      "\n",
      "\n",
      "Probability: 0.8374726632394158\n",
      "----------------------------------------\n"
     ]
    },
    {
     "data": {
      "text/plain": [
       "'The first three episodes were golden, I was blown away. SBC is far better doing this kind of comedy than scripted film roles. I\\'ve been a fan of his since the 11 o\\'clock show, and he\\'s been receiving the same criticisms since those days - he\\'s remained remarkably unfazed.  The show ran out of steam though. The latter half of the season was by no means terrible, but it peaked in those first three episodes. Getting that state senator to walk around saying \"nigger\", getting those guys dressed up as teenage girls for the Mexican coming out party, opening a brand new state of the art mosque - these were all up there with some of the best work SBC has ever done. There was really nowhere left to go after those bits, they set the bar too high too early. '"
      ]
     },
     "metadata": {},
     "output_type": "display_data"
    },
    {
     "name": "stdout",
     "output_type": "stream",
     "text": [
      "\n",
      "\n",
      "Probability: 0.6289210491449319\n",
      "----------------------------------------\n"
     ]
    },
    {
     "data": {
      "text/plain": [
       "'Well i definitely agree with the controller being superior in some cases, I for example prefer using it in dark souls and some other 2D platformers. Just that this case was a shooter, FPS, on PC and she was saying that controller was better wtf are you using M+KB and that IMO is beyond retarded. '"
      ]
     },
     "metadata": {},
     "output_type": "display_data"
    },
    {
     "name": "stdout",
     "output_type": "stream",
     "text": [
      "\n",
      "\n",
      "Probability: 0.7490682692133128\n",
      "----------------------------------------\n"
     ]
    },
    {
     "data": {
      "text/plain": [
       "'> The people who get called racist, xenophobic or \"right-wingers\" tend to be the ones who conflate all Muslims with radical Islamists.  Ayaan Hirsi Ali, Maajid Nawaz and even *Tommy Fucking Robinson* frequently make clear they aren\\'t talking about all Muslims, and they frequently distinguish between \"Islamists\" and \"most Muslims in the west.\" They still get called \"radical racist xenophobic right-wingers.\"  >The experience you will gain, backed with factual statistics, will show you that the vast majority of Muslims are peaceful and simply want to be left alone to get on with their lives.   The factual statistics also suggest that a very large percentage of Muslims are socially and theologically conservative, and would favor laws that restrict our civil liberties in the name of their religion. A survey of British Muslims found that a *supermajority* thought homosexuality should be criminalized.  Sure, they aren\\'t necessarily *jihadists*. But if you believe in forcing society to live by Islamic norms *even via the ballot box* then you\\'re an Islamist (\"Jihadists\" are Islamists who support terrorism as a means to forcing society to live by Islamic norms).   Yes, there are many Muslims whom are not Islamists. But we need to take the problem seriously. We saw the theocratic nonsense spouted by the religious right back in the George W Bush administration for the *threat it was*, and we didn\\'t make excuses for them like \"but they\\'re nonviolent, they want a democratic process to restrict our rights.\" Islamists should be viewed with the same suspicion, if not more, that was cast upon the Dominionists.  >When people start making claims that \"all\" Muslims are jihadists, or being Muslim inherently means you are a violent extremist, or follow an extremist ideology - that\\'s when you will get called racist, xenophobic or right-wing.  Again, not even Tommy Robinson supports that viewpoint. In addition, some people are *very eager to conflate* the proposition that \"some verses in the Quran and some theological positions that are prominent in the Islamic world logically support Jihadists\" with the proposition that \"all Muslims are violent extremists.\" Take a look at how Sam Harris was treated by Ben Affleck.   >Do you have a list of \"official\" organs of the \"establishment left\"? I didn\\'t know there was such a thing.  Think \"major, center-left social-democratic political parties,\" left-leaning MSM outlets, and most academics. '"
      ]
     },
     "metadata": {},
     "output_type": "display_data"
    },
    {
     "name": "stdout",
     "output_type": "stream",
     "text": [
      "\n",
      "\n",
      "Probability: 0.9918611748424442\n",
      "----------------------------------------\n"
     ]
    },
    {
     "data": {
      "text/plain": [
       "'Frankly I think it’s a good thing that racists have to hide their disgusting inhumane views, but sadly that’s changing. We’ve got these idiots on TiA, and cunts with tiki torches and cargo shorts on TV. Mental.  '"
      ]
     },
     "metadata": {},
     "output_type": "display_data"
    },
    {
     "name": "stdout",
     "output_type": "stream",
     "text": [
      "\n",
      "\n",
      "Probability: 0.9392706010700892\n",
      "----------------------------------------\n"
     ]
    }
   ],
   "source": [
    "#sampling subset of 10 false postives\n",
    "lr_fp_df = pd.read_csv('../assets/logreg_fp.csv')\n",
    "for i in np.random.choice(lr_fp_df.index, 10):\n",
    "    display(lr_fp_df.loc[i,'comment'])\n",
    "    print('\\n')\n",
    "    print(f\"Probability: {lr_fp_df.loc[i,'pred_probs']}\")\n",
    "    print('----'*10)"
   ]
  },
  {
   "cell_type": "markdown",
   "metadata": {},
   "source": [
    "The false positives can be segregated into the following categories highlighted in bold.\n",
    "\n",
    "__Mislabelled__\n",
    "\n",
    ">'Point taken.  When I see gang rape, I think Muzzie.'\n",
    "\n",
    ">'Frankly I think it’s a good thing that racists have to hide their disgusting inhumane views, but sadly that’s changing. We’ve got these idiots on TiA, and c\\*\\*\\*\\* with tiki torches and cargo shorts on TV. Mental.  '\n",
    "\n",
    ">'Is this something that YouTube was actually planning on doing? I ask because the source was Keemstar, who no one should have as a source for anything other than how to be a total c\\*\\*\\*. '\n",
    "\n",
    ">'It reminds me of the \"Redneck Revolt\" contingent of Antifa. They should probably change their name to Redneck Surrender.'\n",
    "\n",
    "The above comments are definitely hate speech and the model did well by being sensitive to such derogatory words and to detect mislabelled comments.  \n",
    "\n",
    "__Sensitive to strong words__\n",
    "\n",
    ">'Well i definitely agree with the controller being superior in some cases, I for example prefer using it in dark souls and some other 2D platformers. Just that this case was a shooter, FPS, on PC and she was saying that controller was better wtf are you using M+KB and that IMO is beyond retarded. '\n",
    "\n",
    ">'The first three episodes were golden, I was blown away. SBC is far better doing this kind of comedy than scripted film roles. I\\'ve been a fan of his since the 11 o\\'clock show, and he\\'s been receiving the same criticisms since those days - he\\'s remained remarkably unfazed.  The show ran out of steam though. The latter half of the season was by no means terrible, but it peaked in those first three episodes. Getting that state senator to walk around saying \"n\\*\\*\\*\\*\\*\", getting those guys dressed up as teenage girls for the Mexican coming out party, opening a brand new state of the art mosque - these were all up there with some of the best work SBC has ever done. There was really nowhere left to go after those bits, they set the bar too high too early. '\n",
    "\n",
    ">'That is a fair concern. However, I am a hillbilly stuck in Denver. Everytime I hear one of these harpies try to to act like we are evil men because we are white and straight, I feel like reminding them just how dangerous we really are. How easy would it be for you and your buddies to leave many leftist hats on the ground? I know it would not be a challenge on my end.'\n",
    "\n",
    "Generally the model is sensitive to derogatory terms and we have trained it to be so to catch more and lower the false negatives. \n",
    "\n",
    "\"Hillbilly\" is a considered a derogatory term in America for people who live in the countryside. However, it is not considered hate speech as he or she is directing it at himself and not at other people, thereby not satisfying the hate speech definition.\n",
    "\n",
    "Hence, more context will be needed to really acertain if it is indeed hate speech or not. \n",
    "\n",
    "\n",
    "__Many top features of the model in one comment__\n",
    "\n",
    ">\"There are a lot of women who are f\\*\\*\\*ing c\\*\\*\\*\\* too, but I still love the women in my life and I know there are a majority out there who aren't dumb c\\*\\*\\*\\*. It doesn't mean all women have to apologize for the c\\*\\*\\*\\* out there. F\\*\\*\\*ing shit man, f\\*\\*\\* progressives.\"\n",
    "\n",
    "> '> The people who get called racist, xenophobic or \"right-wingers\" tend to be the ones who conflate all Muslims with radical Islamists.  Ayaan Hirsi Ali, Maajid Nawaz and even *Tommy Fucking Robinson* frequently make clear they aren\\'t talking about all Muslims, and they frequently distinguish between \"Islamists\" and \"most Muslims in the west.\" They still get called \"radical racist xenophobic right-wingers.\"  >The experience you will gain, backed with factual statistics, will show you that the vast majority of Muslims are peaceful and simply want to be left alone to get on with their lives.   The factual statistics also suggest that a very large percentage of Muslims are socially and theologically conservative, and would favor laws that restrict our civil liberties in the name of their religion. A survey of British Muslims found that a *supermajority* thought homosexuality should be criminalized.  Sure, they aren\\'t necessarily *jihadists*. But if you believe in forcing society to live by Islamic norms *even via the ballot box* then you\\'re an Islamist (\"Jihadists\" are Islamists who support terrorism as a means to forcing society to live by Islamic norms).   Yes, there are many Muslims whom are not Islamists. But we need to take the problem seriously. We saw the theocratic nonsense spouted by the religious right back in the George W Bush administration for the *threat it was*, and we didn\\'t make excuses for them like \"but they\\'re nonviolent, they want a democratic process to restrict our rights.\" Islamists should be viewed with the same suspicion, if not more, that was cast upon the Dominionists.  >When people start making claims that \"all\" Muslims are jihadists, or being Muslim inherently means you are a violent extremist, or follow an extremist ideology - that\\'s when you will get called racist, xenophobic or right-wing.  Again, not even Tommy Robinson supports that viewpoint. In addition, some people are *very eager to conflate* the proposition that \"some verses in the Quran and some theological positions that are prominent in the Islamic world logically support Jihadists\" with the proposition that \"all Muslims are violent extremists.\" Take a look at how Sam Harris was treated by Ben Affleck.   >Do you have a list of \"official\" organs of the \"establishment left\"? I didn\\'t know there was such a thing.  Think \"major, center-left social-democratic political parties,\" left-leaning MSM outlets, and most academics. '\n",
    "\n",
    "Due to the sensitivity of the model, whenever there are many of such words in a comment, it is very highly likely a hate speech comment. However, the first comment might not be really hate speech but it could be subjective and offensive for some. "
   ]
  },
  {
   "cell_type": "markdown",
   "metadata": {},
   "source": [
    "Overall, the model did well in predicting if the comments are hate speech or not. However, many of the mislabellings can be avoided with more context as it is one of the hot topics of the NLP space. "
   ]
  },
  {
   "cell_type": "markdown",
   "metadata": {
    "toc-hr-collapsed": false
   },
   "source": [
    "## Deep Learning Modelling"
   ]
  },
  {
   "cell_type": "markdown",
   "metadata": {},
   "source": [
    "Deep learning even though is complex to understand has its merits in learning more context of the text. We shall see in this section if this can be our answer to less mislabellings due to lack of context. "
   ]
  },
  {
   "cell_type": "markdown",
   "metadata": {},
   "source": [
    "_Disclaimer: All of the deep learning models are run on the cloud on the same hate speech dataset due to its complexity of training and utlisation of high compute power. The models are put together here for reference purposes of the project._"
   ]
  },
  {
   "cell_type": "code",
   "execution_count": 276,
   "metadata": {},
   "outputs": [],
   "source": [
    "import tensorflow as tf\n",
    "\n",
    "\n",
    "from tensorflow.keras.preprocessing.text import Tokenizer, one_hot\n",
    "from tensorflow.keras.utils import to_categorical\n",
    "from keras.preprocessing.sequence import pad_sequences\n",
    "\n",
    "from tensorflow.keras.models import Sequential, Model\n",
    "from tensorflow.keras.layers import Dense, LSTM, Embedding, Input, Flatten"
   ]
  },
  {
   "cell_type": "code",
   "execution_count": 234,
   "metadata": {},
   "outputs": [
    {
     "name": "stdout",
     "output_type": "stream",
     "text": [
      "2.0.0\n"
     ]
    }
   ],
   "source": [
    "print(tf.__version__)"
   ]
  },
  {
   "cell_type": "markdown",
   "metadata": {
    "toc-hr-collapsed": true
   },
   "source": [
    "### Deep Learning Pre-processing"
   ]
  },
  {
   "cell_type": "markdown",
   "metadata": {},
   "source": [
    "We shall use the raw text as its input to let the model learn the context of the comments. "
   ]
  },
  {
   "cell_type": "code",
   "execution_count": 452,
   "metadata": {},
   "outputs": [],
   "source": [
    "X=df['text']\n",
    "y=df['hate']\n",
    "X_train, X_test, y_train, y_test = train_test_split(X, y, stratify=y, random_state=28)"
   ]
  },
  {
   "cell_type": "code",
   "execution_count": 228,
   "metadata": {},
   "outputs": [
    {
     "data": {
      "text/plain": [
       "(37771,)"
      ]
     },
     "execution_count": 228,
     "metadata": {},
     "output_type": "execute_result"
    }
   ],
   "source": [
    "X_train.shape"
   ]
  },
  {
   "cell_type": "code",
   "execution_count": 469,
   "metadata": {},
   "outputs": [
    {
     "data": {
      "text/plain": [
       "[23055, 14716]"
      ]
     },
     "execution_count": 469,
     "metadata": {},
     "output_type": "execute_result"
    }
   ],
   "source": [
    "y_train.value_counts()"
   ]
  },
  {
   "cell_type": "code",
   "execution_count": 470,
   "metadata": {},
   "outputs": [
    {
     "data": {
      "text/plain": [
       "0    7686\n",
       "1    4905\n",
       "Name: hate, dtype: int64"
      ]
     },
     "execution_count": 470,
     "metadata": {},
     "output_type": "execute_result"
    }
   ],
   "source": [
    "y_test.value_counts()"
   ]
  },
  {
   "cell_type": "code",
   "execution_count": 472,
   "metadata": {},
   "outputs": [
    {
     "data": {
      "text/plain": [
       "0    30741\n",
       "1    19621\n",
       "Name: hate, dtype: int64"
      ]
     },
     "execution_count": 472,
     "metadata": {},
     "output_type": "execute_result"
    }
   ],
   "source": [
    "y.value_counts()"
   ]
  },
  {
   "cell_type": "code",
   "execution_count": 255,
   "metadata": {},
   "outputs": [],
   "source": [
    "X_train_list = X_train.to_list()\n",
    "y_train_list = y_train.to_list()\n",
    "\n",
    "X_test_list = X_test.to_list()\n",
    "y_test_list = y_test.to_list()"
   ]
  },
  {
   "cell_type": "code",
   "execution_count": 256,
   "metadata": {},
   "outputs": [
    {
     "data": {
      "text/plain": [
       "['I do not care for 1 second if you have an issue with my religious beliefs and no amount of internet bullying can stop what happens next.   You are a defective piece of ZioShit. \\xa0   @DaTroof',\n",
       " \"In the US at least, it's actually around an average of 55% of all child abuse, and an average of around 65% of all *fatal* child abuse perpetrated by a parent is perpetrated by the mother (not counting infanticide), nearly twice as much as the father, as per the USDHHS studies on child maltreatment for at least the last 30+ years.  (I stopped digging after going back that far).  From the 2015 study:  Abuse by gender ~   Fatal abuse by relationship ~ \",\n",
       " 'Especially when she said “that name doesn’t even ring a bell” then immediately says “well I know of him” ....',\n",
       " 'seems to me that shitty cunts with attitudes are worse than even a retard with a loaded gun, so maybe we should arrest all unhinged democrats, we have that list as well.',\n",
       " 'Parents Outraged After Drag Queen Named “Jessica L’Whor” Speaks at Middle School For Career Day   Sums up how fucked up the \"school\" system really is. What career does this freak even have?! Lol   #News   ']"
      ]
     },
     "execution_count": 256,
     "metadata": {},
     "output_type": "execute_result"
    }
   ],
   "source": [
    "X_train_list[:5]"
   ]
  },
  {
   "cell_type": "code",
   "execution_count": 325,
   "metadata": {},
   "outputs": [],
   "source": [
    "def encode_comment(comment_list, vocab_size, pad=True, pad_max_len=None):\n",
    "    if type(comment_list) != list:\n",
    "        raise Exception(f\"comment_list should be list. It was passed in as {type(comment_list)}!\")\n",
    "    #one hot encoding comment list\n",
    "    encoded_comm = [one_hot(comm, vocab_size) for comm in comment_list]\n",
    "    counts=[]\n",
    "    for d in encoded_comm:\n",
    "        counts.append(len(d))\n",
    "    if pad:\n",
    "        # pad documents to a max length\n",
    "        if pad_max_len==None:\n",
    "            pad_max_len = np.max(counts)\n",
    "        padded_comm = pad_sequences(encoded_comm, maxlen=pad_max_len, padding='post')\n",
    "        return padded_comm\n",
    "    return encoded_comm"
   ]
  },
  {
   "cell_type": "code",
   "execution_count": 326,
   "metadata": {},
   "outputs": [],
   "source": [
    "#vocab size per comment\n",
    "vocab_size = 150\n",
    "padded_X_train = encode_comment(X_train_list, vocab_size, pad=True)\n",
    "padded_X_test = encode_comment(X_test_list, vocab_size, pad=True, pad_max_len=1516)"
   ]
  },
  {
   "cell_type": "code",
   "execution_count": 329,
   "metadata": {},
   "outputs": [
    {
     "data": {
      "text/plain": [
       "numpy.ndarray"
      ]
     },
     "execution_count": 329,
     "metadata": {},
     "output_type": "execute_result"
    }
   ],
   "source": [
    "type(padded_X_test)"
   ]
  },
  {
   "cell_type": "code",
   "execution_count": 332,
   "metadata": {},
   "outputs": [
    {
     "data": {
      "text/plain": [
       "array([[112,  52,  76, ...,   0,   0,   0],\n",
       "       [ 62, 140,  40, ...,   0,   0,   0],\n",
       "       [ 94,  44,  65, ...,   0,   0,   0],\n",
       "       ...,\n",
       "       [  6,  95,  48, ...,   0,   0,   0],\n",
       "       [ 49,  44, 148, ...,   0,   0,   0],\n",
       "       [ 94, 143,  73, ...,   0,   0,   0]], dtype=int32)"
      ]
     },
     "execution_count": 332,
     "metadata": {},
     "output_type": "execute_result"
    }
   ],
   "source": [
    "padded_X_test"
   ]
  },
  {
   "cell_type": "code",
   "execution_count": 333,
   "metadata": {},
   "outputs": [],
   "source": [
    "np.save('padded_X_test', padded_X_test)\n",
    "np.save('padded_X_train', padded_X_train)"
   ]
  },
  {
   "cell_type": "code",
   "execution_count": 331,
   "metadata": {},
   "outputs": [
    {
     "data": {
      "text/plain": [
       "array([[112,  52,  76, ...,   0,   0,   0],\n",
       "       [ 62, 140,  40, ...,   0,   0,   0],\n",
       "       [ 94,  44,  65, ...,   0,   0,   0],\n",
       "       ...,\n",
       "       [  6,  95,  48, ...,   0,   0,   0],\n",
       "       [ 49,  44, 148, ...,   0,   0,   0],\n",
       "       [ 94, 143,  73, ...,   0,   0,   0]], dtype=int32)"
      ]
     },
     "execution_count": 331,
     "metadata": {},
     "output_type": "execute_result"
    }
   ],
   "source": [
    "np.load('padded_X_test.npy')"
   ]
  },
  {
   "cell_type": "code",
   "execution_count": 327,
   "metadata": {},
   "outputs": [
    {
     "data": {
      "text/plain": [
       "(37771, 1516)"
      ]
     },
     "execution_count": 327,
     "metadata": {},
     "output_type": "execute_result"
    }
   ],
   "source": [
    "padded_X_train.shape"
   ]
  },
  {
   "cell_type": "code",
   "execution_count": 328,
   "metadata": {},
   "outputs": [
    {
     "data": {
      "text/plain": [
       "(12591, 1516)"
      ]
     },
     "execution_count": 328,
     "metadata": {},
     "output_type": "execute_result"
    }
   ],
   "source": [
    "padded_X_test.shape"
   ]
  },
  {
   "cell_type": "code",
   "execution_count": 268,
   "metadata": {},
   "outputs": [
    {
     "data": {
      "text/plain": [
       "array([[112,  52,  76, ...,   0,   0,   0],\n",
       "       [ 62, 140,  40, ...,   0,   0,   0]], dtype=int32)"
      ]
     },
     "execution_count": 268,
     "metadata": {},
     "output_type": "execute_result"
    }
   ],
   "source": [
    "padded_X_test[:2]"
   ]
  },
  {
   "cell_type": "code",
   "execution_count": 307,
   "metadata": {},
   "outputs": [
    {
     "data": {
      "text/plain": [
       "array([[1., 0., 0., 0., 0., 0., 0., 0., 0., 0., 0., 0., 0., 0., 0., 0.,\n",
       "        0., 0., 0., 0., 0., 0., 0., 0., 0., 0., 0., 0., 0., 0., 0., 0.,\n",
       "        0., 0., 0., 0., 0., 0., 0., 0., 0., 0., 0., 0., 0., 0., 0., 0.,\n",
       "        0., 0., 0., 0., 0., 0., 0., 0., 0., 0., 0., 0., 0., 0., 0., 0.,\n",
       "        0., 0., 0., 0., 0., 0., 0., 0., 0., 0., 0., 0., 0., 0., 0., 0.,\n",
       "        0., 0., 0., 0., 0., 0., 0., 0., 0., 0., 0., 0., 0., 0., 0., 0.,\n",
       "        0., 0., 0., 0., 0., 0., 0., 0., 0., 0., 0., 0., 0., 0., 0., 0.,\n",
       "        0., 0., 0., 0., 0., 0., 0., 0., 0., 0., 0., 0., 0., 0., 0., 0.,\n",
       "        0., 0., 0., 0., 0., 0., 0., 0., 0., 0., 0., 0., 0., 0., 0., 0.,\n",
       "        0., 0., 0., 0., 0., 0.],\n",
       "       [1., 0., 0., 0., 0., 0., 0., 0., 0., 0., 0., 0., 0., 0., 0., 0.,\n",
       "        0., 0., 0., 0., 0., 0., 0., 0., 0., 0., 0., 0., 0., 0., 0., 0.,\n",
       "        0., 0., 0., 0., 0., 0., 0., 0., 0., 0., 0., 0., 0., 0., 0., 0.,\n",
       "        0., 0., 0., 0., 0., 0., 0., 0., 0., 0., 0., 0., 0., 0., 0., 0.,\n",
       "        0., 0., 0., 0., 0., 0., 0., 0., 0., 0., 0., 0., 0., 0., 0., 0.,\n",
       "        0., 0., 0., 0., 0., 0., 0., 0., 0., 0., 0., 0., 0., 0., 0., 0.,\n",
       "        0., 0., 0., 0., 0., 0., 0., 0., 0., 0., 0., 0., 0., 0., 0., 0.,\n",
       "        0., 0., 0., 0., 0., 0., 0., 0., 0., 0., 0., 0., 0., 0., 0., 0.,\n",
       "        0., 0., 0., 0., 0., 0., 0., 0., 0., 0., 0., 0., 0., 0., 0., 0.,\n",
       "        0., 0., 0., 0., 0., 0.],\n",
       "       [1., 0., 0., 0., 0., 0., 0., 0., 0., 0., 0., 0., 0., 0., 0., 0.,\n",
       "        0., 0., 0., 0., 0., 0., 0., 0., 0., 0., 0., 0., 0., 0., 0., 0.,\n",
       "        0., 0., 0., 0., 0., 0., 0., 0., 0., 0., 0., 0., 0., 0., 0., 0.,\n",
       "        0., 0., 0., 0., 0., 0., 0., 0., 0., 0., 0., 0., 0., 0., 0., 0.,\n",
       "        0., 0., 0., 0., 0., 0., 0., 0., 0., 0., 0., 0., 0., 0., 0., 0.,\n",
       "        0., 0., 0., 0., 0., 0., 0., 0., 0., 0., 0., 0., 0., 0., 0., 0.,\n",
       "        0., 0., 0., 0., 0., 0., 0., 0., 0., 0., 0., 0., 0., 0., 0., 0.,\n",
       "        0., 0., 0., 0., 0., 0., 0., 0., 0., 0., 0., 0., 0., 0., 0., 0.,\n",
       "        0., 0., 0., 0., 0., 0., 0., 0., 0., 0., 0., 0., 0., 0., 0., 0.,\n",
       "        0., 0., 0., 0., 0., 0.],\n",
       "       [1., 0., 0., 0., 0., 0., 0., 0., 0., 0., 0., 0., 0., 0., 0., 0.,\n",
       "        0., 0., 0., 0., 0., 0., 0., 0., 0., 0., 0., 0., 0., 0., 0., 0.,\n",
       "        0., 0., 0., 0., 0., 0., 0., 0., 0., 0., 0., 0., 0., 0., 0., 0.,\n",
       "        0., 0., 0., 0., 0., 0., 0., 0., 0., 0., 0., 0., 0., 0., 0., 0.,\n",
       "        0., 0., 0., 0., 0., 0., 0., 0., 0., 0., 0., 0., 0., 0., 0., 0.,\n",
       "        0., 0., 0., 0., 0., 0., 0., 0., 0., 0., 0., 0., 0., 0., 0., 0.,\n",
       "        0., 0., 0., 0., 0., 0., 0., 0., 0., 0., 0., 0., 0., 0., 0., 0.,\n",
       "        0., 0., 0., 0., 0., 0., 0., 0., 0., 0., 0., 0., 0., 0., 0., 0.,\n",
       "        0., 0., 0., 0., 0., 0., 0., 0., 0., 0., 0., 0., 0., 0., 0., 0.,\n",
       "        0., 0., 0., 0., 0., 0.],\n",
       "       [0., 1., 0., 0., 0., 0., 0., 0., 0., 0., 0., 0., 0., 0., 0., 0.,\n",
       "        0., 0., 0., 0., 0., 0., 0., 0., 0., 0., 0., 0., 0., 0., 0., 0.,\n",
       "        0., 0., 0., 0., 0., 0., 0., 0., 0., 0., 0., 0., 0., 0., 0., 0.,\n",
       "        0., 0., 0., 0., 0., 0., 0., 0., 0., 0., 0., 0., 0., 0., 0., 0.,\n",
       "        0., 0., 0., 0., 0., 0., 0., 0., 0., 0., 0., 0., 0., 0., 0., 0.,\n",
       "        0., 0., 0., 0., 0., 0., 0., 0., 0., 0., 0., 0., 0., 0., 0., 0.,\n",
       "        0., 0., 0., 0., 0., 0., 0., 0., 0., 0., 0., 0., 0., 0., 0., 0.,\n",
       "        0., 0., 0., 0., 0., 0., 0., 0., 0., 0., 0., 0., 0., 0., 0., 0.,\n",
       "        0., 0., 0., 0., 0., 0., 0., 0., 0., 0., 0., 0., 0., 0., 0., 0.,\n",
       "        0., 0., 0., 0., 0., 0.]], dtype=float32)"
      ]
     },
     "execution_count": 307,
     "metadata": {},
     "output_type": "execute_result"
    }
   ],
   "source": [
    "y_train_cat = tf.keras.utils.to_categorical( y_train, num_classes=vocab_size)\n",
    "y_train_cat[:5]"
   ]
  },
  {
   "cell_type": "code",
   "execution_count": 308,
   "metadata": {},
   "outputs": [
    {
     "data": {
      "text/plain": [
       "(37771, 150)"
      ]
     },
     "execution_count": 308,
     "metadata": {},
     "output_type": "execute_result"
    }
   ],
   "source": [
    "y_train_cat.shape"
   ]
  },
  {
   "cell_type": "code",
   "execution_count": 309,
   "metadata": {},
   "outputs": [],
   "source": [
    "y_test_cat = tf.keras.utils.to_categorical( y_test, num_classes=vocab_size)"
   ]
  },
  {
   "cell_type": "code",
   "execution_count": 310,
   "metadata": {},
   "outputs": [
    {
     "data": {
      "text/plain": [
       "(12591, 150)"
      ]
     },
     "execution_count": 310,
     "metadata": {},
     "output_type": "execute_result"
    }
   ],
   "source": [
    "y_test_cat.shape"
   ]
  },
  {
   "cell_type": "markdown",
   "metadata": {},
   "source": [
    "#### Tokenizing and Sequencing"
   ]
  },
  {
   "cell_type": "markdown",
   "metadata": {},
   "source": [
    "Before the model can be ready to be fed in the comments, it needs to be pre-procesed by tokenizing and sequencing the comments. "
   ]
  },
  {
   "cell_type": "code",
   "execution_count": 459,
   "metadata": {},
   "outputs": [],
   "source": [
    "from keras.preprocessing.text import Tokenizer\n",
    "\n",
    "X=df['text']\n",
    "y=df['hate']\n",
    "\n",
    "top_words = 5000\n",
    "tokenizer = Tokenizer(num_words=top_words)\n",
    "tokenizer.fit_on_texts(X.values)\n",
    "X_tok = tokenizer.texts_to_sequences(X.values)\n",
    "\n",
    "# truncate and pad input sequences\n",
    "max_review_length = 500\n",
    "X_tok = pad_sequences(X_tok, maxlen=max_review_length)\n",
    "\n",
    "LSTM_X_train, LSTM_X_test, LSTM_y_train, LSTM_y_test = train_test_split(X_tok, y.values, stratify=y.values, random_state=28)\n"
   ]
  },
  {
   "cell_type": "code",
   "execution_count": 460,
   "metadata": {},
   "outputs": [
    {
     "data": {
      "text/plain": [
       "(37771, 500)"
      ]
     },
     "execution_count": 460,
     "metadata": {},
     "output_type": "execute_result"
    }
   ],
   "source": [
    "LSTM_X_train.shape"
   ]
  },
  {
   "cell_type": "code",
   "execution_count": 461,
   "metadata": {},
   "outputs": [
    {
     "data": {
      "text/plain": [
       "(12591, 500)"
      ]
     },
     "execution_count": 461,
     "metadata": {},
     "output_type": "execute_result"
    }
   ],
   "source": [
    "LSTM_X_test.shape"
   ]
  },
  {
   "cell_type": "code",
   "execution_count": 462,
   "metadata": {},
   "outputs": [
    {
     "data": {
      "text/plain": [
       "array([[   0,    0,    0, ...,  538,    5,   88],\n",
       "       [   0,    0,    0, ...,  827,   51, 1304],\n",
       "       [   0,    0,    0, ...,    9,   74,    5],\n",
       "       ...,\n",
       "       [   0,    0,    0, ...,  161,   75,   29],\n",
       "       [   0,    0,    0, ...,   13,   81,  107],\n",
       "       [   0,    0,    0, ..., 4415,  560,  296]], dtype=int32)"
      ]
     },
     "execution_count": 462,
     "metadata": {},
     "output_type": "execute_result"
    }
   ],
   "source": [
    "LSTM_X_train[:20]"
   ]
  },
  {
   "cell_type": "code",
   "execution_count": 457,
   "metadata": {},
   "outputs": [],
   "source": [
    "np.save('../assets/LSTM_X_test', LSTM_X_test)\n",
    "np.save('../assets/LSTM_X_train', LSTM_X_train)"
   ]
  },
  {
   "cell_type": "code",
   "execution_count": 458,
   "metadata": {},
   "outputs": [],
   "source": [
    "np.save('../assets/LSTM_y_train', LSTM_y_train)\n",
    "np.save('../assets/LSTM_y_test', LSTM_y_test)"
   ]
  },
  {
   "cell_type": "markdown",
   "metadata": {},
   "source": [
    "These X_test and X_train are padded to the maximum length of 500 to accomodate long comments. "
   ]
  },
  {
   "cell_type": "markdown",
   "metadata": {},
   "source": [
    "#### Tokenizing and Sequencing - reducing max_len "
   ]
  },
  {
   "cell_type": "markdown",
   "metadata": {},
   "source": [
    "By introducing another version of X_test and X_train sets with a much reduced length, we can eliminate the many padded zeros that are considered noise to the model and let the rest of the words be truncated. \n",
    "\n",
    "However, the trade off is that some of the information will be lost."
   ]
  },
  {
   "cell_type": "code",
   "execution_count": 463,
   "metadata": {},
   "outputs": [],
   "source": [
    "from keras.preprocessing.text import Tokenizer\n",
    "\n",
    "top_words = 5000\n",
    "tokenizer = Tokenizer(num_words=top_words)\n",
    "tokenizer.fit_on_texts(X.values)\n",
    "X_tok = tokenizer.texts_to_sequences(X.values)\n",
    "\n",
    "# truncate and pad input sequences\n",
    "max_review_length = 50\n",
    "X_tok = pad_sequences(X_tok, maxlen=max_review_length)\n",
    "\n",
    "LSTM_X_train, LSTM_X_test, LSTM_y_train, LSTM_y_test = train_test_split(X_tok, y.values, stratify=y.values, random_state=28)\n"
   ]
  },
  {
   "cell_type": "code",
   "execution_count": 464,
   "metadata": {},
   "outputs": [],
   "source": [
    "np.save('../assets/LSTM_X_test_max_reduce', LSTM_X_test)\n",
    "np.save('../assets/LSTM_X_train_max_reduce', LSTM_X_train)\n",
    "\n",
    "np.save('../assets/LSTM_y_train_max_reduce', LSTM_y_train)\n",
    "np.save('../assets/LSTM_y_test_max_reduce', LSTM_y_test)"
   ]
  },
  {
   "cell_type": "code",
   "execution_count": 465,
   "metadata": {},
   "outputs": [
    {
     "data": {
      "text/plain": [
       "(37771, 50)"
      ]
     },
     "execution_count": 465,
     "metadata": {},
     "output_type": "execute_result"
    }
   ],
   "source": [
    "LSTM_X_train.shape"
   ]
  },
  {
   "cell_type": "markdown",
   "metadata": {},
   "source": [
    "__Loading of X and Y for model training__"
   ]
  },
  {
   "cell_type": "code",
   "execution_count": 151,
   "metadata": {},
   "outputs": [],
   "source": [
    "top_words = 5000\n",
    "\n",
    "max_review_length = 50\n",
    "\n",
    "def load_xy_deep(max_len=500):\n",
    "#to load xy for deep learning\n",
    "    if max_len == 500:\n",
    "        #x val\n",
    "        LSTM_X_test = np.load('../assets/LSTM_X_test.npy')\n",
    "        LSTM_X_train = np.load('../assets/LSTM_X_train.npy')\n",
    "        #y val\n",
    "        LSTM_y_test = np.load('../assets/LSTM_y_test.npy')\n",
    "        LSTM_y_train = np.load('../assets/LSTM_y_train.npy')\n",
    "        print(f\"loaded {max_len} length x and y\")\n",
    "    elif max_len == 50:\n",
    "        #x val\n",
    "        LSTM_X_test = np.load('../assets/LSTM_X_test_max_reduce.npy')\n",
    "        LSTM_X_train = np.load('../assets/LSTM_X_train_max_reduce.npy')\n",
    "        #y val\n",
    "        LSTM_y_test = np.load('../assets/LSTM_y_test_max_reduce.npy')\n",
    "        LSTM_y_train = np.load('../assets/LSTM_y_train_max_reduce.npy')\n",
    "        print(f\"loaded {max_len} length x and y\")\n",
    "  \n",
    "    return LSTM_X_test, LSTM_X_train, LSTM_y_test, LSTM_y_train"
   ]
  },
  {
   "cell_type": "code",
   "execution_count": 153,
   "metadata": {},
   "outputs": [
    {
     "name": "stdout",
     "output_type": "stream",
     "text": [
      "loaded 500 length x and y\n"
     ]
    }
   ],
   "source": [
    "LSTM_X_test, LSTM_X_train, LSTM_y_test, LSTM_y_train = load_xy_deep(500)"
   ]
  },
  {
   "cell_type": "markdown",
   "metadata": {},
   "source": [
    "__Load Pre-trained word embeddings__"
   ]
  },
  {
   "cell_type": "code",
   "execution_count": 10,
   "metadata": {
    "colab": {
     "base_uri": "https://localhost:8080/",
     "height": 71
    },
    "colab_type": "code",
    "executionInfo": {
     "elapsed": 85810,
     "status": "ok",
     "timestamp": 1575005976972,
     "user": {
      "displayName": "Clement ZS Ow",
      "photoUrl": "https://lh3.googleusercontent.com/a-/AAuE7mChb1gzbnzIf_aavBu0OflAOn7KDpoxIVtvp6eC=s64",
      "userId": "03334618728967888740"
     },
     "user_tz": -480
    },
    "id": "NO5TeqI1Mh2c",
    "outputId": "8e601a58-3036-4f21-e984-f9bf8a5a1906"
   },
   "outputs": [
    {
     "name": "stderr",
     "output_type": "stream",
     "text": [
      "/usr/local/lib/python3.6/dist-packages/smart_open/smart_open_lib.py:402: UserWarning: This function is deprecated, use smart_open.open instead. See the migration notes for details: https://github.com/RaRe-Technologies/smart_open/blob/master/README.rst#migrating-to-the-new-open-function\n",
      "  'See the migration notes for details: %s' % _MIGRATION_NOTES_URL\n"
     ]
    }
   ],
   "source": [
    "from gensim.models import Word2Vec\n",
    "from gensim.models import KeyedVectors\n",
    "wordvec = KeyedVectors.load_word2vec_format(\"../assets/GoogleNews-vectors-negative300.bin\", binary=True)\n",
    "# load_word2vec_format('./model/GoogleNews-vectors-negative300.bin', binary=True)  \n"
   ]
  },
  {
   "cell_type": "code",
   "execution_count": 11,
   "metadata": {
    "colab": {
     "base_uri": "https://localhost:8080/",
     "height": 139
    },
    "colab_type": "code",
    "executionInfo": {
     "elapsed": 84006,
     "status": "ok",
     "timestamp": 1575005976981,
     "user": {
      "displayName": "Clement ZS Ow",
      "photoUrl": "https://lh3.googleusercontent.com/a-/AAuE7mChb1gzbnzIf_aavBu0OflAOn7KDpoxIVtvp6eC=s64",
      "userId": "03334618728967888740"
     },
     "user_tz": -480
    },
    "id": "842UB5X-ozgq",
    "outputId": "f0eed907-3f46-440b-88a5-a36681df6026"
   },
   "outputs": [
    {
     "name": "stdout",
     "output_type": "stream",
     "text": [
      "3000000\n"
     ]
    },
    {
     "name": "stderr",
     "output_type": "stream",
     "text": [
      "/usr/local/lib/python3.6/dist-packages/ipykernel_launcher.py:1: DeprecationWarning: Call to deprecated `wv` (Attribute will be removed in 4.0.0, use self instead).\n",
      "  \"\"\"Entry point for launching an IPython kernel.\n",
      "/usr/local/lib/python3.6/dist-packages/ipykernel_launcher.py:3: DeprecationWarning: Call to deprecated `wv` (Attribute will be removed in 4.0.0, use self instead).\n",
      "  This is separate from the ipykernel package so we can avoid doing imports until\n"
     ]
    },
    {
     "data": {
      "text/plain": [
       "300"
      ]
     },
     "execution_count": 11,
     "metadata": {
      "tags": []
     },
     "output_type": "execute_result"
    }
   ],
   "source": [
    "#vocab size\n",
    "print(len(wordvec.wv.vocab))\n",
    "#vector size\n",
    "wordvec.wv.vector_size"
   ]
  },
  {
   "cell_type": "code",
   "execution_count": 12,
   "metadata": {
    "colab": {
     "base_uri": "https://localhost:8080/",
     "height": 105
    },
    "colab_type": "code",
    "executionInfo": {
     "elapsed": 94500,
     "status": "ok",
     "timestamp": 1575005989167,
     "user": {
      "displayName": "Clement ZS Ow",
      "photoUrl": "https://lh3.googleusercontent.com/a-/AAuE7mChb1gzbnzIf_aavBu0OflAOn7KDpoxIVtvp6eC=s64",
      "userId": "03334618728967888740"
     },
     "user_tz": -480
    },
    "id": "XcG3kucbO3N4",
    "outputId": "d0dd91a7-4cad-447f-cd45-a9174e62e8e6"
   },
   "outputs": [
    {
     "name": "stderr",
     "output_type": "stream",
     "text": [
      "/usr/local/lib/python3.6/dist-packages/ipykernel_launcher.py:1: DeprecationWarning: Call to deprecated `wv` (Attribute will be removed in 4.0.0, use self instead).\n",
      "  \"\"\"Entry point for launching an IPython kernel.\n",
      "/usr/local/lib/python3.6/dist-packages/ipykernel_launcher.py:1: DeprecationWarning: Call to deprecated `syn0` (Attribute will be removed in 4.0.0, use self.wv.vectors instead).\n",
      "  \"\"\"Entry point for launching an IPython kernel.\n"
     ]
    }
   ],
   "source": [
    "#word with corresponding vector\n",
    "#wordvec.wv.index2word: word \n",
    "#wordvec.wv.syn0: vector\n",
    "w2v = {w: vec for w, vec in zip(wordvec.wv.index2word, wordvec.wv.syn0)}"
   ]
  },
  {
   "cell_type": "code",
   "execution_count": 19,
   "metadata": {
    "colab": {
     "base_uri": "https://localhost:8080/",
     "height": 88
    },
    "colab_type": "code",
    "executionInfo": {
     "elapsed": 76368,
     "status": "ok",
     "timestamp": 1575005996331,
     "user": {
      "displayName": "Clement ZS Ow",
      "photoUrl": "https://lh3.googleusercontent.com/a-/AAuE7mChb1gzbnzIf_aavBu0OflAOn7KDpoxIVtvp6eC=s64",
      "userId": "03334618728967888740"
     },
     "user_tz": -480
    },
    "id": "rJp8Slo9ORAd",
    "outputId": "42c25637-b851-48d2-cb4a-dfdfae6ccf4b"
   },
   "outputs": [
    {
     "name": "stderr",
     "output_type": "stream",
     "text": [
      "/usr/local/lib/python3.6/dist-packages/ipykernel_launcher.py:2: DeprecationWarning: Call to deprecated `wv` (Attribute will be removed in 4.0.0, use self instead).\n",
      "  \n"
     ]
    },
    {
     "data": {
      "text/plain": [
       "(5000, 300)"
      ]
     },
     "execution_count": 19,
     "metadata": {
      "tags": []
     },
     "output_type": "execute_result"
    }
   ],
   "source": [
    "word_embeddings = (np.random.rand(top_words, 300) - 0.5) / 5.0\n",
    "for i, word in enumerate(wordvec.wv.index2word):\n",
    "    try:\n",
    "        word_embeddings[i] = (w2v.get(word))\n",
    "    except:\n",
    "        continue\n",
    "word_embeddings.shape"
   ]
  },
  {
   "cell_type": "markdown",
   "metadata": {
    "toc-hr-collapsed": false
   },
   "source": [
    "### Modelling"
   ]
  },
  {
   "cell_type": "code",
   "execution_count": 279,
   "metadata": {},
   "outputs": [],
   "source": [
    "from keras import backend as K\n",
    "\n",
    "def recall_m(y_true, y_pred):\n",
    "        true_positives = K.sum(K.round(K.clip(y_true * y_pred, 0, 1)))\n",
    "        possible_positives = K.sum(K.round(K.clip(y_true, 0, 1)))\n",
    "        recall = true_positives / (possible_positives + K.epsilon())\n",
    "        return recall\n",
    "\n",
    "def precision_m(y_true, y_pred):\n",
    "        true_positives = K.sum(K.round(K.clip(y_true * y_pred, 0, 1)))\n",
    "        predicted_positives = K.sum(K.round(K.clip(y_pred, 0, 1)))\n",
    "        precision = true_positives / (predicted_positives + K.epsilon())\n",
    "        return precision\n",
    "\n",
    "def f1_m(y_true, y_pred):\n",
    "    precision = precision_m(y_true, y_pred)\n",
    "    recall = recall_m(y_true, y_pred)\n",
    "    return 2*((precision*recall)/(precision+recall+K.epsilon()))"
   ]
  },
  {
   "cell_type": "markdown",
   "metadata": {},
   "source": [
    "#### LSTM with embedding layer"
   ]
  },
  {
   "cell_type": "markdown",
   "metadata": {},
   "source": [
    "Long short-term memory (LSTM) is an artificial recurrent neural network (RNN) architecture used in the field of deep learning. \n",
    "\n",
    "LSTMs consists of the input gate, forget gate and output gate. The input gate controls the sequence going in, the forget gate controls how much sequenced is retained or \"forgotten\" in the network and the output gate outputs the sequence to the next cell of the network. \n",
    "This architecture allows the network to keep relevant information during its learning process. \n",
    "\n",
    "The embedding layer helps to convert the sequences into vectors for further processing down the network and related sequences can be closely related in the vector space. The embeddig layer also has weights and will be learnt during the training phase. "
   ]
  },
  {
   "cell_type": "code",
   "execution_count": null,
   "metadata": {
    "colab": {},
    "colab_type": "code",
    "id": "ZTrnFltWTrih"
   },
   "outputs": [],
   "source": [
    "# create the model\n",
    "embedding_vecor_length = 10\n",
    "\n",
    "# define the model\n",
    "model = Sequential()\n",
    "model.add(Embedding(top_words, embedding_vecor_length, input_length=max_review_length))\n",
    "model.add(LSTM(100))\n",
    "model.add(Dense(64, activation='relu'))\n",
    "model.add(Dense(1, activation='sigmoid'))"
   ]
  },
  {
   "cell_type": "code",
   "execution_count": null,
   "metadata": {
    "colab": {
     "base_uri": "https://localhost:8080/",
     "height": 306
    },
    "colab_type": "code",
    "executionInfo": {
     "elapsed": 1049,
     "status": "ok",
     "timestamp": 1574160738345,
     "user": {
      "displayName": "Clement ZS Ow",
      "photoUrl": "https://lh3.googleusercontent.com/a-/AAuE7mChb1gzbnzIf_aavBu0OflAOn7KDpoxIVtvp6eC=s64",
      "userId": "03334618728967888740"
     },
     "user_tz": -480
    },
    "id": "y0lgTpRwTrip",
    "outputId": "52c8c2af-ad97-45b5-c0be-a9a7313730fb"
   },
   "outputs": [
    {
     "name": "stdout",
     "output_type": "stream",
     "text": [
      "Model: \"sequential\"\n",
      "_________________________________________________________________\n",
      "Layer (type)                 Output Shape              Param #   \n",
      "=================================================================\n",
      "embedding (Embedding)        (None, 500, 32)           160000    \n",
      "_________________________________________________________________\n",
      "lstm (LSTM)                  (None, 100)               53200     \n",
      "_________________________________________________________________\n",
      "dense (Dense)                (None, 64)                6464      \n",
      "_________________________________________________________________\n",
      "dense_1 (Dense)              (None, 1)                 65        \n",
      "=================================================================\n",
      "Total params: 219,729\n",
      "Trainable params: 219,729\n",
      "Non-trainable params: 0\n",
      "_________________________________________________________________\n",
      "None\n"
     ]
    }
   ],
   "source": [
    "# compile the model\n",
    "model.compile(optimizer='adam', loss='binary_crossentropy', metrics=['accuracy', f1_m])\n",
    "# summarize the model\n",
    "print(model.summary())"
   ]
  },
  {
   "cell_type": "markdown",
   "metadata": {},
   "source": [
    "The above neural network consists of the following layers:\n",
    "- Embedding layer\n",
    "- LSTM layer\n",
    "- Dense layer\n",
    "- Output layer \n",
    "\n",
    "The dense layer is fully connected layer to the output layer. Generally, it is a good practice to start with a few layers and then adding more layers based on the results. "
   ]
  },
  {
   "cell_type": "code",
   "execution_count": null,
   "metadata": {
    "colab": {
     "base_uri": "https://localhost:8080/",
     "height": 207
    },
    "colab_type": "code",
    "executionInfo": {
     "elapsed": 1088207,
     "status": "ok",
     "timestamp": 1574161833727,
     "user": {
      "displayName": "Clement ZS Ow",
      "photoUrl": "https://lh3.googleusercontent.com/a-/AAuE7mChb1gzbnzIf_aavBu0OflAOn7KDpoxIVtvp6eC=s64",
      "userId": "03334618728967888740"
     },
     "user_tz": -480
    },
    "id": "6-sK0xW8Triv",
    "outputId": "891f752f-4aec-4445-a629-4f8ef1e6f04d"
   },
   "outputs": [
    {
     "name": "stdout",
     "output_type": "stream",
     "text": [
      "WARNING:tensorflow:From /usr/local/lib/python3.6/dist-packages/tensorflow/python/ops/math_grad.py:1250: add_dispatch_support.<locals>.wrapper (from tensorflow.python.ops.array_ops) is deprecated and will be removed in a future version.\n",
      "Instructions for updating:\n",
      "Use tf.where in 2.0, which has the same broadcast rule as np.where\n",
      "Train on 37771 samples, validate on 12591 samples\n",
      "Epoch 1/3\n",
      "37771/37771 [==============================] - 361s 10ms/sample - loss: 0.3882 - accuracy: 0.8444 - f1_m: 0.7298 - val_loss: 0.3231 - val_accuracy: 0.8914 - val_f1_m: 0.8479\n",
      "Epoch 2/3\n",
      "37771/37771 [==============================] - 360s 10ms/sample - loss: 0.3741 - accuracy: 0.8452 - f1_m: 0.7439 - val_loss: 0.3086 - val_accuracy: 0.8939 - val_f1_m: 0.8565\n",
      "Epoch 3/3\n",
      "37771/37771 [==============================] - 365s 10ms/sample - loss: 0.2838 - accuracy: 0.8999 - f1_m: 0.8636 - val_loss: 0.3191 - val_accuracy: 0.8883 - val_f1_m: 0.8518\n"
     ]
    }
   ],
   "source": [
    "history = model.fit(LSTM_X_train, LSTM_y_train, epochs=3, verbose=1, batch_size=64, validation_data=(LSTM_X_test, LSTM_y_test))"
   ]
  },
  {
   "cell_type": "code",
   "execution_count": null,
   "metadata": {
    "colab": {},
    "colab_type": "code",
    "id": "grQ0o32XTriy"
   },
   "outputs": [],
   "source": [
    "import matplotlib.pyplot as plt\n",
    "\n",
    "def plot_graphs(history, string):\n",
    "    plt.plot(history.history[string])\n",
    "    plt.plot(history.history['val_'+string], '')\n",
    "    plt.xlabel(\"Epochs\")\n",
    "    plt.ylabel(string)\n",
    "    plt.legend([string, 'val_'+string])\n",
    "    plt.show()"
   ]
  },
  {
   "cell_type": "code",
   "execution_count": null,
   "metadata": {
    "colab": {
     "base_uri": "https://localhost:8080/",
     "height": 361
    },
    "colab_type": "code",
    "executionInfo": {
     "elapsed": 1081948,
     "status": "ok",
     "timestamp": 1574161833736,
     "user": {
      "displayName": "Clement ZS Ow",
      "photoUrl": "https://lh3.googleusercontent.com/a-/AAuE7mChb1gzbnzIf_aavBu0OflAOn7KDpoxIVtvp6eC=s64",
      "userId": "03334618728967888740"
     },
     "user_tz": -480
    },
    "id": "JQyxJYh9tbnh",
    "outputId": "65f6921a-2cae-4049-c5c5-2d0c124f10ed"
   },
   "outputs": [
    {
     "data": {
      "image/png": "[encoded data removed]",
      "text/plain": [
       "<Figure size 576x396 with 1 Axes>"
      ]
     },
     "metadata": {
      "tags": []
     },
     "output_type": "display_data"
    }
   ],
   "source": [
    "plot_graphs(history, 'loss')\n"
   ]
  },
  {
   "cell_type": "code",
   "execution_count": null,
   "metadata": {
    "colab": {
     "base_uri": "https://localhost:8080/",
     "height": 361
    },
    "colab_type": "code",
    "executionInfo": {
     "elapsed": 1080367,
     "status": "ok",
     "timestamp": 1574161834194,
     "user": {
      "displayName": "Clement ZS Ow",
      "photoUrl": "https://lh3.googleusercontent.com/a-/AAuE7mChb1gzbnzIf_aavBu0OflAOn7KDpoxIVtvp6eC=s64",
      "userId": "03334618728967888740"
     },
     "user_tz": -480
    },
    "id": "qKUa32yFtcdK",
    "outputId": "1511e157-d89c-41bb-82bb-c39ea1b438c9"
   },
   "outputs": [
    {
     "data": {
      "image/png": "[encoded data removed]",
      "text/plain": [
       "<Figure size 576x396 with 1 Axes>"
      ]
     },
     "metadata": {
      "tags": []
     },
     "output_type": "display_data"
    }
   ],
   "source": [
    "plot_graphs(history, 'f1_m')"
   ]
  },
  {
   "cell_type": "markdown",
   "metadata": {},
   "source": [
    "In just 3 epochs, it achieved an validation F1 score of `85.18%` But looking at the validation loss and training loss, it converged at just after 1 and half epochs, with an F1 score between `84.79%` `85.65%`."
   ]
  },
  {
   "cell_type": "markdown",
   "metadata": {
    "colab_type": "text",
    "id": "FiKaWdpYYGp3"
   },
   "source": [
    "#### CNN & LSTM with embedding layer"
   ]
  },
  {
   "cell_type": "markdown",
   "metadata": {},
   "source": [
    "It is helpful to think of this architecture as defining two sub-models: the CNN (Convolutional Neural Networks) Model for feature extraction and the LSTM Model for interpreting the features across time steps - in this case is sequences of texts. [[1]](https://machinelearningmastery.com/cnn-long-short-term-memory-networks/)\n",
    "\n"
   ]
  },
  {
   "cell_type": "code",
   "execution_count": null,
   "metadata": {
    "colab": {},
    "colab_type": "code",
    "id": "xbi2PoAfX6vs"
   },
   "outputs": [],
   "source": [
    "model_cnn_lstm = Sequential()\n",
    "model_cnn_lstm.add(Embedding(top_words, embedding_vecor_length, input_length=max_review_length))\n",
    "model_cnn_lstm.add(Conv1D(filters=32, kernel_size=3, padding='same', activation='relu'))\n",
    "model_cnn_lstm.add(MaxPooling1D())\n",
    "model_cnn_lstm.add(LSTM(50))\n",
    "model_cnn_lstm.add(Dense(1, activation='sigmoid'))"
   ]
  },
  {
   "cell_type": "code",
   "execution_count": null,
   "metadata": {
    "colab": {
     "base_uri": "https://localhost:8080/",
     "height": 340
    },
    "colab_type": "code",
    "executionInfo": {
     "elapsed": 664,
     "status": "ok",
     "timestamp": 1574169242555,
     "user": {
      "displayName": "Clement ZS Ow",
      "photoUrl": "https://lh3.googleusercontent.com/a-/AAuE7mChb1gzbnzIf_aavBu0OflAOn7KDpoxIVtvp6eC=s64",
      "userId": "03334618728967888740"
     },
     "user_tz": -480
    },
    "id": "f6XoRGkSYJ4n",
    "outputId": "b9bf4209-4d0a-4f08-a040-3b04d17e279e"
   },
   "outputs": [
    {
     "name": "stdout",
     "output_type": "stream",
     "text": [
      "Model: \"sequential_6\"\n",
      "_________________________________________________________________\n",
      "Layer (type)                 Output Shape              Param #   \n",
      "=================================================================\n",
      "embedding_6 (Embedding)      (None, 500, 32)           160000    \n",
      "_________________________________________________________________\n",
      "conv1d_3 (Conv1D)            (None, 500, 32)           3104      \n",
      "_________________________________________________________________\n",
      "max_pooling1d_3 (MaxPooling1 (None, 250, 32)           0         \n",
      "_________________________________________________________________\n",
      "lstm_4 (LSTM)                (None, 50)                16600     \n",
      "_________________________________________________________________\n",
      "dense_7 (Dense)              (None, 1)                 51        \n",
      "=================================================================\n",
      "Total params: 179,755\n",
      "Trainable params: 179,755\n",
      "Non-trainable params: 0\n",
      "_________________________________________________________________\n",
      "None\n"
     ]
    }
   ],
   "source": [
    "# compile the model\n",
    "model_cnn_lstm.compile(optimizer='adam', loss='binary_crossentropy', metrics=['accuracy', f1_m])\n",
    "# summarize the model\n",
    "print(model_cnn_lstm.summary())"
   ]
  },
  {
   "cell_type": "code",
   "execution_count": null,
   "metadata": {
    "colab": {
     "base_uri": "https://localhost:8080/",
     "height": 156
    },
    "colab_type": "code",
    "executionInfo": {
     "elapsed": 604172,
     "status": "ok",
     "timestamp": 1574163020685,
     "user": {
      "displayName": "Clement ZS Ow",
      "photoUrl": "https://lh3.googleusercontent.com/a-/AAuE7mChb1gzbnzIf_aavBu0OflAOn7KDpoxIVtvp6eC=s64",
      "userId": "03334618728967888740"
     },
     "user_tz": -480
    },
    "id": "K1IRs5lsY1X2",
    "outputId": "8abab8b1-dff3-4947-c7ae-e7e4bd3beb3a"
   },
   "outputs": [
    {
     "name": "stdout",
     "output_type": "stream",
     "text": [
      "Train on 37771 samples, validate on 12591 samples\n",
      "Epoch 1/3\n",
      "37771/37771 [==============================] - 202s 5ms/sample - loss: 0.4043 - accuracy: 0.8292 - f1_m: 0.6822 - val_loss: 0.3078 - val_accuracy: 0.8979 - val_f1_m: 0.8612\n",
      "Epoch 2/3\n",
      "37771/37771 [==============================] - 200s 5ms/sample - loss: 0.2934 - accuracy: 0.8990 - f1_m: 0.8645 - val_loss: 0.3134 - val_accuracy: 0.8974 - val_f1_m: 0.8612\n",
      "Epoch 3/3\n",
      "37771/37771 [==============================] - 200s 5ms/sample - loss: 0.2684 - accuracy: 0.9035 - f1_m: 0.8709 - val_loss: 0.3220 - val_accuracy: 0.8842 - val_f1_m: 0.8495\n"
     ]
    }
   ],
   "source": [
    "history_cnn_lstm = model_cnn_lstm.fit(LSTM_X_train, LSTM_y_train, epochs=3, verbose=1, batch_size=64, validation_data=(LSTM_X_test, LSTM_y_test))"
   ]
  },
  {
   "cell_type": "code",
   "execution_count": null,
   "metadata": {
    "colab": {
     "base_uri": "https://localhost:8080/",
     "height": 361
    },
    "colab_type": "code",
    "executionInfo": {
     "elapsed": 2993,
     "status": "ok",
     "timestamp": 1574163124587,
     "user": {
      "displayName": "Clement ZS Ow",
      "photoUrl": "https://lh3.googleusercontent.com/a-/AAuE7mChb1gzbnzIf_aavBu0OflAOn7KDpoxIVtvp6eC=s64",
      "userId": "03334618728967888740"
     },
     "user_tz": -480
    },
    "id": "9BQejk1bY9Fi",
    "outputId": "8eef3821-2691-47ba-a458-3414646c5839"
   },
   "outputs": [
    {
     "data": {
      "image/png": "[encoded data removed]",
      "text/plain": [
       "<Figure size 576x396 with 1 Axes>"
      ]
     },
     "metadata": {
      "tags": []
     },
     "output_type": "display_data"
    }
   ],
   "source": [
    "plot_graphs(history_cnn_lstm, 'loss')"
   ]
  },
  {
   "cell_type": "markdown",
   "metadata": {},
   "source": [
    "The validation loss and training loss converged at less than an epoch. At the end of an epoch the difference was quite stark at more than 0.1. This is likely due to over training. "
   ]
  },
  {
   "cell_type": "code",
   "execution_count": null,
   "metadata": {
    "colab": {
     "base_uri": "https://localhost:8080/",
     "height": 361
    },
    "colab_type": "code",
    "executionInfo": {
     "elapsed": 2767,
     "status": "ok",
     "timestamp": 1574163124589,
     "user": {
      "displayName": "Clement ZS Ow",
      "photoUrl": "https://lh3.googleusercontent.com/a-/AAuE7mChb1gzbnzIf_aavBu0OflAOn7KDpoxIVtvp6eC=s64",
      "userId": "03334618728967888740"
     },
     "user_tz": -480
    },
    "id": "HJakGjGWZNol",
    "outputId": "a9fff31f-b4fe-4339-8c2d-d838c17ebfc3"
   },
   "outputs": [
    {
     "data": {
      "image/png": "[encoded data removed]",
      "text/plain": [
       "<Figure size 576x396 with 1 Axes>"
      ]
     },
     "metadata": {
      "tags": []
     },
     "output_type": "display_data"
    }
   ],
   "source": [
    "plot_graphs(history_cnn_lstm, 'f1_m')"
   ]
  },
  {
   "cell_type": "markdown",
   "metadata": {},
   "source": [
    "The good news is that the F1 score converged slightly before epoch 1. Thereafter both F1 scores \"fans out\". "
   ]
  },
  {
   "cell_type": "markdown",
   "metadata": {},
   "source": [
    "#### Pre-trained Word2Vec LSTM after gridsearch"
   ]
  },
  {
   "cell_type": "markdown",
   "metadata": {},
   "source": [
    "Having pre-trained word embeddings that is trained on billions of Google news set can aid in representing context of the texts. Advantages include faster training time since the embeddings layer is not trained and better understanding of context most of the time.\n",
    "\n",
    "Gridsearch was ran to find the optimum dropout rate, number of LSTM and Dense layer neurons and the best optimizer.  "
   ]
  },
  {
   "cell_type": "code",
   "execution_count": null,
   "metadata": {
    "colab": {
     "base_uri": "https://localhost:8080/",
     "height": 71
    },
    "colab_type": "code",
    "executionInfo": {
     "elapsed": 9969,
     "status": "ok",
     "timestamp": 1574857210406,
     "user": {
      "displayName": "Clement ZS Ow",
      "photoUrl": "https://lh3.googleusercontent.com/a-/AAuE7mChb1gzbnzIf_aavBu0OflAOn7KDpoxIVtvp6eC=s64",
      "userId": "03334618728967888740"
     },
     "user_tz": -480
    },
    "id": "idx02RgLt6p7",
    "outputId": "25c1849b-e44f-48ae-9dd4-42970dfb9da5"
   },
   "outputs": [
    {
     "name": "stderr",
     "output_type": "stream",
     "text": [
      "/usr/local/lib/python3.6/dist-packages/ipykernel_launcher.py:1: DeprecationWarning: Call to deprecated `wv` (Attribute will be removed in 4.0.0, use self instead).\n",
      "  \"\"\"Entry point for launching an IPython kernel.\n"
     ]
    }
   ],
   "source": [
    "embedding_vecor_length = wordvec.wv.vector_size\n",
    "# define the model\n",
    "model_gs = Sequential()\n",
    "model_gs.add(Embedding(top_words, embedding_vecor_length, input_length=max_review_length, mask_zero=False, weights=[word_embeddings], trainable=False))\n",
    "model_gs.add(LSTM(100, dropout=0.2, recurrent_dropout=0.2))\n",
    "model_gs.add(Dense(8, activation='relu'))\n",
    "model_gs.add(Dense(1, activation='sigmoid'))"
   ]
  },
  {
   "cell_type": "code",
   "execution_count": null,
   "metadata": {
    "colab": {
     "base_uri": "https://localhost:8080/",
     "height": 306
    },
    "colab_type": "code",
    "executionInfo": {
     "elapsed": 787,
     "status": "ok",
     "timestamp": 1574857228656,
     "user": {
      "displayName": "Clement ZS Ow",
      "photoUrl": "https://lh3.googleusercontent.com/a-/AAuE7mChb1gzbnzIf_aavBu0OflAOn7KDpoxIVtvp6eC=s64",
      "userId": "03334618728967888740"
     },
     "user_tz": -480
    },
    "id": "Uj0Afb1luAxe",
    "outputId": "195007e1-3900-4f9d-c8e2-801cb6159e11"
   },
   "outputs": [
    {
     "name": "stdout",
     "output_type": "stream",
     "text": [
      "Model: \"sequential\"\n",
      "_________________________________________________________________\n",
      "Layer (type)                 Output Shape              Param #   \n",
      "=================================================================\n",
      "embedding (Embedding)        (None, 50, 300)           1500000   \n",
      "_________________________________________________________________\n",
      "lstm (LSTM)                  (None, 100)               160400    \n",
      "_________________________________________________________________\n",
      "dense (Dense)                (None, 8)                 808       \n",
      "_________________________________________________________________\n",
      "dense_1 (Dense)              (None, 1)                 9         \n",
      "=================================================================\n",
      "Total params: 1,661,217\n",
      "Trainable params: 161,217\n",
      "Non-trainable params: 1,500,000\n",
      "_________________________________________________________________\n",
      "None\n"
     ]
    }
   ],
   "source": [
    "# compile the model\n",
    "model_gs.compile(optimizer='adam', loss='binary_crossentropy', metrics=['accuracy', f1_m])\n",
    "# summarize the model\n",
    "print(model_gs.summary())"
   ]
  },
  {
   "cell_type": "code",
   "execution_count": null,
   "metadata": {
    "colab": {
     "base_uri": "https://localhost:8080/",
     "height": 68
    },
    "colab_type": "code",
    "executionInfo": {
     "elapsed": 1650,
     "status": "ok",
     "timestamp": 1574862150829,
     "user": {
      "displayName": "Clement ZS Ow",
      "photoUrl": "https://lh3.googleusercontent.com/a-/AAuE7mChb1gzbnzIf_aavBu0OflAOn7KDpoxIVtvp6eC=s64",
      "userId": "03334618728967888740"
     },
     "user_tz": -480
    },
    "id": "UpQN9XEEE6n8",
    "outputId": "0240f2c3-59a9-437f-8448-90a158e3920a"
   },
   "outputs": [
    {
     "data": {
      "text/plain": [
       "0    0.610401\n",
       "1    0.389599\n",
       "Name: hate, dtype: float64"
      ]
     },
     "execution_count": 47,
     "metadata": {
      "tags": []
     },
     "output_type": "execute_result"
    }
   ],
   "source": [
    "y.value_counts(normalize=False)"
   ]
  },
  {
   "cell_type": "code",
   "execution_count": null,
   "metadata": {
    "colab": {
     "base_uri": "https://localhost:8080/",
     "height": 34
    },
    "colab_type": "code",
    "executionInfo": {
     "elapsed": 1054,
     "status": "ok",
     "timestamp": 1574862198546,
     "user": {
      "displayName": "Clement ZS Ow",
      "photoUrl": "https://lh3.googleusercontent.com/a-/AAuE7mChb1gzbnzIf_aavBu0OflAOn7KDpoxIVtvp6eC=s64",
      "userId": "03334618728967888740"
     },
     "user_tz": -480
    },
    "id": "xxePfEaDERAM",
    "outputId": "197b3859-2ed6-42fb-d280-3b933a54721d"
   },
   "outputs": [
    {
     "data": {
      "text/plain": [
       "{0: 1.0, 1: 1.5667397176494573}"
      ]
     },
     "execution_count": 49,
     "metadata": {
      "tags": []
     },
     "output_type": "execute_result"
    }
   ],
   "source": [
    "def get_class_weights(y):\n",
    "    majority = max(y.value_counts())\n",
    "    return  {cls: float(majority/count) for cls, count in enumerate(y.value_counts())}\n",
    "\n",
    "class_weights = get_class_weights(y)\n",
    "class_weights"
   ]
  },
  {
   "cell_type": "code",
   "execution_count": null,
   "metadata": {
    "colab": {
     "base_uri": "https://localhost:8080/",
     "height": 394
    },
    "colab_type": "code",
    "executionInfo": {
     "elapsed": 712601,
     "status": "ok",
     "timestamp": 1574863410377,
     "user": {
      "displayName": "Clement ZS Ow",
      "photoUrl": "https://lh3.googleusercontent.com/a-/AAuE7mChb1gzbnzIf_aavBu0OflAOn7KDpoxIVtvp6eC=s64",
      "userId": "03334618728967888740"
     },
     "user_tz": -480
    },
    "id": "EQVb921IugFa",
    "outputId": "884539a8-4af7-4a47-d540-e9ab69c7a212"
   },
   "outputs": [
    {
     "name": "stdout",
     "output_type": "stream",
     "text": [
      "Train on 37771 samples, validate on 12591 samples\n",
      "Epoch 1/10\n",
      "37771/37771 [==============================] - 121s 3ms/sample - loss: 0.3528 - accuracy: 0.8942 - f1_m: 0.8512 - val_loss: 0.4540 - val_accuracy: 0.8811 - val_f1_m: 0.8310\n",
      "Epoch 2/10\n",
      "37771/37771 [==============================] - 120s 3ms/sample - loss: 0.3393 - accuracy: 0.8972 - f1_m: 0.8574 - val_loss: 0.4586 - val_accuracy: 0.8656 - val_f1_m: 0.8163\n",
      "Epoch 3/10\n",
      "37771/37771 [==============================] - 120s 3ms/sample - loss: 0.3217 - accuracy: 0.8998 - f1_m: 0.8620 - val_loss: 0.4712 - val_accuracy: 0.8751 - val_f1_m: 0.8251\n",
      "Epoch 4/10\n",
      "37771/37771 [==============================] - 121s 3ms/sample - loss: 0.3063 - accuracy: 0.9039 - f1_m: 0.8684 - val_loss: 0.4938 - val_accuracy: 0.8718 - val_f1_m: 0.8218\n",
      "Epoch 5/10\n",
      "37771/37771 [==============================] - 120s 3ms/sample - loss: 0.2902 - accuracy: 0.9083 - f1_m: 0.8756 - val_loss: 0.5169 - val_accuracy: 0.8728 - val_f1_m: 0.8227\n",
      "Epoch 6/10\n",
      "37771/37771 [==============================] - 118s 3ms/sample - loss: 0.2736 - accuracy: 0.9128 - f1_m: 0.8818 - val_loss: 0.5333 - val_accuracy: 0.8752 - val_f1_m: 0.8228\n",
      "Epoch 7/10\n",
      "37771/37771 [==============================] - 116s 3ms/sample - loss: 0.2614 - accuracy: 0.9159 - f1_m: 0.8863 - val_loss: 0.5440 - val_accuracy: 0.8589 - val_f1_m: 0.8091\n",
      "Epoch 8/10\n",
      "37771/37771 [==============================] - 116s 3ms/sample - loss: 0.2485 - accuracy: 0.9189 - f1_m: 0.8914 - val_loss: 0.5668 - val_accuracy: 0.8712 - val_f1_m: 0.8203\n",
      "Epoch 9/10\n",
      "37771/37771 [==============================] - 116s 3ms/sample - loss: 0.2405 - accuracy: 0.9220 - f1_m: 0.8968 - val_loss: 0.5918 - val_accuracy: 0.8724 - val_f1_m: 0.8202\n",
      "Epoch 10/10\n",
      "37771/37771 [==============================] - 115s 3ms/sample - loss: 0.2284 - accuracy: 0.9247 - f1_m: 0.8983 - val_loss: 0.6354 - val_accuracy: 0.8701 - val_f1_m: 0.8175\n"
     ]
    }
   ],
   "source": [
    "history_lstm_gs = model_gs.fit(LSTM_X_train, LSTM_y_train, epochs=10, verbose=1, batch_size=20, class_weight=class_weights ,validation_data=(LSTM_X_test, LSTM_y_test))"
   ]
  },
  {
   "cell_type": "code",
   "execution_count": null,
   "metadata": {
    "colab": {
     "base_uri": "https://localhost:8080/",
     "height": 361
    },
    "colab_type": "code",
    "executionInfo": {
     "elapsed": 1860,
     "status": "ok",
     "timestamp": 1574863665621,
     "user": {
      "displayName": "Clement ZS Ow",
      "photoUrl": "https://lh3.googleusercontent.com/a-/AAuE7mChb1gzbnzIf_aavBu0OflAOn7KDpoxIVtvp6eC=s64",
      "userId": "03334618728967888740"
     },
     "user_tz": -480
    },
    "id": "V8IUnFyvuzXd",
    "outputId": "8bdf7a40-a341-4069-8349-b6464d524357"
   },
   "outputs": [
    {
     "data": {
      "image/png": "[encoded data removed]",
      "text/plain": [
       "<Figure size 576x396 with 1 Axes>"
      ]
     },
     "metadata": {
      "tags": []
     },
     "output_type": "display_data"
    }
   ],
   "source": [
    "import matplotlib.pyplot as plt\n",
    "\n",
    "def plot_graphs(history, string):\n",
    "    plt.plot(history.history[string])\n",
    "    plt.plot(history.history['val_'+string], '')\n",
    "    plt.xlabel(\"Epochs\")\n",
    "    plt.ylabel(string)\n",
    "    plt.legend([string, 'val_'+string])\n",
    "    plt.show()\n",
    "  \n",
    "plot_graphs(history_lstm_gs, 'loss')"
   ]
  },
  {
   "cell_type": "code",
   "execution_count": null,
   "metadata": {
    "colab": {
     "base_uri": "https://localhost:8080/",
     "height": 361
    },
    "colab_type": "code",
    "executionInfo": {
     "elapsed": 1862,
     "status": "ok",
     "timestamp": 1574863705059,
     "user": {
      "displayName": "Clement ZS Ow",
      "photoUrl": "https://lh3.googleusercontent.com/a-/AAuE7mChb1gzbnzIf_aavBu0OflAOn7KDpoxIVtvp6eC=s64",
      "userId": "03334618728967888740"
     },
     "user_tz": -480
    },
    "id": "RUosQmT5MMci",
    "outputId": "e31d5d7d-49f9-4bcd-f7d8-9a66068f3988"
   },
   "outputs": [
    {
     "data": {
      "image/png": "[encoded data removed]",
      "text/plain": [
       "<Figure size 576x396 with 1 Axes>"
      ]
     },
     "metadata": {
      "tags": []
     },
     "output_type": "display_data"
    }
   ],
   "source": [
    "plot_graphs(history_lstm_gs, 'f1_m')"
   ]
  },
  {
   "cell_type": "markdown",
   "metadata": {},
   "source": [
    "Even though the F1 score at the end of 10 epochs is the highest at `89.83%` but looking at both the loss and F1 graphs it is severely overtrained and would not generalize well. "
   ]
  },
  {
   "cell_type": "markdown",
   "metadata": {
    "toc-hr-collapsed": false
   },
   "source": [
    "#### Pre-trained Word2Vec LSTM"
   ]
  },
  {
   "cell_type": "markdown",
   "metadata": {},
   "source": [
    "Since the earlier model was too over fitted, we try by increasing the Dense layer neurons slightly to 32. "
   ]
  },
  {
   "cell_type": "code",
   "execution_count": null,
   "metadata": {
    "colab": {},
    "colab_type": "code",
    "id": "htM3Ds76Qst3"
   },
   "outputs": [],
   "source": [
    "# define the model\n",
    "model_dropout = Sequential()\n",
    "model_dropout.add(Embedding(top_words, embedding_vecor_length, input_length=max_review_length, mask_zero=False, weights=[word_embeddings], trainable=False))\n",
    "model_dropout.add(LSTM(100, dropout=0.2, recurrent_dropout=0.2))\n",
    "model_dropout.add(Dense(32, activation='relu'))\n",
    "model_dropout.add(Dense(1, activation='sigmoid'))"
   ]
  },
  {
   "cell_type": "code",
   "execution_count": null,
   "metadata": {
    "colab": {
     "base_uri": "https://localhost:8080/",
     "height": 306
    },
    "colab_type": "code",
    "executionInfo": {
     "elapsed": 1682,
     "status": "ok",
     "timestamp": 1574680646725,
     "user": {
      "displayName": "Clement ZS Ow",
      "photoUrl": "https://lh3.googleusercontent.com/a-/AAuE7mChb1gzbnzIf_aavBu0OflAOn7KDpoxIVtvp6eC=s64",
      "userId": "03334618728967888740"
     },
     "user_tz": -480
    },
    "id": "4PUtLu2zQst7",
    "outputId": "13671aec-a0e5-4ac0-cc38-1da1661e062a"
   },
   "outputs": [
    {
     "name": "stdout",
     "output_type": "stream",
     "text": [
      "Model: \"sequential_6\"\n",
      "_________________________________________________________________\n",
      "Layer (type)                 Output Shape              Param #   \n",
      "=================================================================\n",
      "embedding_4 (Embedding)      (None, 500, 300)          1500000   \n",
      "_________________________________________________________________\n",
      "lstm_1 (LSTM)                (None, 100)               160400    \n",
      "_________________________________________________________________\n",
      "dense_4 (Dense)              (None, 32)                3232      \n",
      "_________________________________________________________________\n",
      "dense_5 (Dense)              (None, 1)                 33        \n",
      "=================================================================\n",
      "Total params: 1,663,665\n",
      "Trainable params: 163,665\n",
      "Non-trainable params: 1,500,000\n",
      "_________________________________________________________________\n",
      "None\n"
     ]
    }
   ],
   "source": [
    "# compile the model\n",
    "model_dropout.compile(optimizer='adam', loss='binary_crossentropy', metrics=['accuracy', f1_m])\n",
    "# summarize the model\n",
    "print(model_dropout.summary())"
   ]
  },
  {
   "cell_type": "code",
   "execution_count": null,
   "metadata": {
    "colab": {
     "base_uri": "https://localhost:8080/",
     "height": 394
    },
    "colab_type": "code",
    "executionInfo": {
     "elapsed": 4787804,
     "status": "ok",
     "timestamp": 1574685442433,
     "user": {
      "displayName": "Clement ZS Ow",
      "photoUrl": "https://lh3.googleusercontent.com/a-/AAuE7mChb1gzbnzIf_aavBu0OflAOn7KDpoxIVtvp6eC=s64",
      "userId": "03334618728967888740"
     },
     "user_tz": -480
    },
    "id": "WaIdZUFZQst9",
    "outputId": "f3178a4a-3d95-4acf-8f3f-aca5633d70e5"
   },
   "outputs": [
    {
     "name": "stdout",
     "output_type": "stream",
     "text": [
      "Train on 37771 samples, validate on 12591 samples\n",
      "Epoch 1/10\n",
      "37771/37771 [==============================] - 483s 13ms/sample - loss: 0.5108 - accuracy: 0.7619 - f1_m: 0.5957 - val_loss: 0.4157 - val_accuracy: 0.8436 - val_f1_m: 0.7577\n",
      "Epoch 2/10\n",
      "37771/37771 [==============================] - 478s 13ms/sample - loss: 0.4045 - accuracy: 0.8469 - f1_m: 0.7711 - val_loss: 0.3802 - val_accuracy: 0.8578 - val_f1_m: 0.7875\n",
      "Epoch 3/10\n",
      "37771/37771 [==============================] - 480s 13ms/sample - loss: 0.3850 - accuracy: 0.8576 - f1_m: 0.7903 - val_loss: 0.3707 - val_accuracy: 0.8659 - val_f1_m: 0.8015\n",
      "Epoch 4/10\n",
      "37771/37771 [==============================] - 479s 13ms/sample - loss: 0.3705 - accuracy: 0.8663 - f1_m: 0.8069 - val_loss: 0.3538 - val_accuracy: 0.8770 - val_f1_m: 0.8228\n",
      "Epoch 5/10\n",
      "37771/37771 [==============================] - 479s 13ms/sample - loss: 0.3649 - accuracy: 0.8669 - f1_m: 0.8125 - val_loss: 0.3534 - val_accuracy: 0.8767 - val_f1_m: 0.8241\n",
      "Epoch 6/10\n",
      "37771/37771 [==============================] - 477s 13ms/sample - loss: 0.3563 - accuracy: 0.8749 - f1_m: 0.8218 - val_loss: 0.3482 - val_accuracy: 0.8801 - val_f1_m: 0.8278\n",
      "Epoch 7/10\n",
      "37771/37771 [==============================] - 479s 13ms/sample - loss: 0.3456 - accuracy: 0.8793 - f1_m: 0.8304 - val_loss: 0.3392 - val_accuracy: 0.8840 - val_f1_m: 0.8356\n",
      "Epoch 8/10\n",
      "37771/37771 [==============================] - 477s 13ms/sample - loss: 0.3376 - accuracy: 0.8834 - f1_m: 0.8349 - val_loss: 0.3424 - val_accuracy: 0.8826 - val_f1_m: 0.8312\n",
      "Epoch 9/10\n",
      "37771/37771 [==============================] - 476s 13ms/sample - loss: 0.3361 - accuracy: 0.8836 - f1_m: 0.8350 - val_loss: 0.3331 - val_accuracy: 0.8881 - val_f1_m: 0.8415\n",
      "Epoch 10/10\n",
      "37771/37771 [==============================] - 478s 13ms/sample - loss: 0.3328 - accuracy: 0.8851 - f1_m: 0.8380 - val_loss: 0.3304 - val_accuracy: 0.8894 - val_f1_m: 0.8436\n"
     ]
    }
   ],
   "source": [
    "history_lstm_dropout = model_dropout.fit(LSTM_X_train, LSTM_y_train, epochs=10, verbose=1, batch_size=64, validation_data=(LSTM_X_test, LSTM_y_test))"
   ]
  },
  {
   "cell_type": "code",
   "execution_count": null,
   "metadata": {
    "colab": {
     "base_uri": "https://localhost:8080/",
     "height": 361
    },
    "colab_type": "code",
    "executionInfo": {
     "elapsed": 1290,
     "status": "ok",
     "timestamp": 1574685443854,
     "user": {
      "displayName": "Clement ZS Ow",
      "photoUrl": "https://lh3.googleusercontent.com/a-/AAuE7mChb1gzbnzIf_aavBu0OflAOn7KDpoxIVtvp6eC=s64",
      "userId": "03334618728967888740"
     },
     "user_tz": -480
    },
    "id": "-Bt2rau6QsuA",
    "outputId": "a8dc381e-2756-4e9b-b453-9941ef6d5dc2"
   },
   "outputs": [
    {
     "data": {
      "image/png": "[encoded data removed]",
      "text/plain": [
       "<Figure size 576x396 with 1 Axes>"
      ]
     },
     "metadata": {
      "tags": []
     },
     "output_type": "display_data"
    }
   ],
   "source": [
    "plot_graphs(history_lstm_dropout, 'loss')"
   ]
  },
  {
   "cell_type": "markdown",
   "metadata": {},
   "source": [
    "The validation loss and training loss slowly converged epoch 6-7 while steadying at around epoch 8-10. This is a good outcome that shows the model is generalising well. "
   ]
  },
  {
   "cell_type": "code",
   "execution_count": null,
   "metadata": {
    "colab": {
     "base_uri": "https://localhost:8080/",
     "height": 361
    },
    "colab_type": "code",
    "executionInfo": {
     "elapsed": 2509,
     "status": "ok",
     "timestamp": 1574685634855,
     "user": {
      "displayName": "Clement ZS Ow",
      "photoUrl": "https://lh3.googleusercontent.com/a-/AAuE7mChb1gzbnzIf_aavBu0OflAOn7KDpoxIVtvp6eC=s64",
      "userId": "03334618728967888740"
     },
     "user_tz": -480
    },
    "id": "s3jsm5LWQsuD",
    "outputId": "623f4717-d672-481d-fed8-e6e3ca6e1a23"
   },
   "outputs": [
    {
     "data": {
      "image/png": "[encoded data removed]",
      "text/plain": [
       "<Figure size 576x396 with 1 Axes>"
      ]
     },
     "metadata": {
      "tags": []
     },
     "output_type": "display_data"
    }
   ],
   "source": [
    "plot_graphs(history_lstm_dropout, 'f1_m')"
   ]
  },
  {
   "cell_type": "markdown",
   "metadata": {},
   "source": [
    "The same relationship of the validation and training loss graph can be seen for the F1 score as well. By the end of the 10th epoch, it reached a validation score of `84.36%`."
   ]
  },
  {
   "cell_type": "markdown",
   "metadata": {},
   "source": [
    "For the deep learning models, this will be the best generalisable model so far with a decent score."
   ]
  },
  {
   "cell_type": "code",
   "execution_count": null,
   "metadata": {
    "colab": {
     "base_uri": "https://localhost:8080/",
     "height": 34
    },
    "colab_type": "code",
    "executionInfo": {
     "elapsed": 1984,
     "status": "ok",
     "timestamp": 1574685793784,
     "user": {
      "displayName": "Clement ZS Ow",
      "photoUrl": "https://lh3.googleusercontent.com/a-/AAuE7mChb1gzbnzIf_aavBu0OflAOn7KDpoxIVtvp6eC=s64",
      "userId": "03334618728967888740"
     },
     "user_tz": -480
    },
    "id": "daOn6MJUlE63",
    "outputId": "97caa8c7-b5f1-4829-ce24-8d6603087398"
   },
   "outputs": [
    {
     "name": "stdout",
     "output_type": "stream",
     "text": [
      "Saved model to disk\n"
     ]
    }
   ],
   "source": [
    "# serialize model to JSON\n",
    "model_dropout_json = model_dropout.to_json()\n",
    "with open(drive_path + \"assets/model_dropout.json\", \"w\") as json_file:\n",
    "    json_file.write(model_dropout_json)\n",
    "# serialize weights to HDF5\n",
    "model_dropout.save_weights(drive_path + \"assets/model_dropout.h5\")\n",
    "print(\"Saved model to disk\")"
   ]
  },
  {
   "cell_type": "markdown",
   "metadata": {},
   "source": [
    "### BERT Modelling"
   ]
  },
  {
   "cell_type": "markdown",
   "metadata": {},
   "source": [
    "BERT is a deep learning model that has given state-of-the-art results on a wide variety of natural language processing tasks. It stands for Bidirectional Encoder Representations for Transformers. It has been pre-trained on Wikipedia and BooksCorpus and requires task-specific fine-tuning. \n",
    "\n",
    "BERT is designed to pretrain deep bidirectional representations from unlabeled text by jointly conditioning on both left and right context in all layers. [[2]](https://arxiv.org/pdf/1810.04805.pdf)\n",
    "\n",
    "BERT is a multi-layer bidirectional Transformer encoder and consists of the following:\n",
    "\n",
    "- 12 - 24 Transformer layers (transformer blocks)\n",
    "- 12 - 16 Attention heads\n",
    "    - an attention mechanism that learns contextual relations between words (or sub-words) in a text\n",
    "    - the Transformer encoder reads the entire sequence of words at once, learning context left and right of a word\n",
    "- More than 110 million parameters. [[3]](https://yashuseth.blog/2019/06/12/bert-explained-faqs-understand-bert-working/)\n",
    "\n",
    "It learns context using two strategies:\n",
    "\n",
    "__Masked LM__\n",
    "\n",
    "In the input, it masks 15% of the words, run the entire sequence through a deep bidirectional Transformer encoder, and then predict only the masked words, based on context of non-masked words.\n",
    "\n",
    "__Next-sentence Prediction__\n",
    "\n",
    "In the BERT training process, the model receives pairs of sentences as input and learns to predict if the second sentence in the pair is the subsequent sentence in the original document. During training, 50% of the inputs are a pair in which the second sentence is the subsequent sentence in the original document, while in the other 50% a random sentence from the corpus is chosen as the second sentence. [[4]](https://towardsdatascience.com/bert-explained-state-of-the-art-language-model-for-nlp-f8b21a9b6270)"
   ]
  },
  {
   "cell_type": "code",
   "execution_count": 3,
   "metadata": {
    "colab": {
     "base_uri": "https://localhost:8080/",
     "height": 97
    },
    "colab_type": "code",
    "executionInfo": {
     "elapsed": 9715,
     "status": "ok",
     "timestamp": 1575192639102,
     "user": {
      "displayName": "Clement ZS Ow",
      "photoUrl": "https://lh3.googleusercontent.com/a-/AAuE7mChb1gzbnzIf_aavBu0OflAOn7KDpoxIVtvp6eC=s64",
      "userId": "03334618728967888740"
     },
     "user_tz": -480
    },
    "id": "tP1NQGtsQaSW",
    "outputId": "79cf1d7b-e704-4425-e637-d4f370e6faf9"
   },
   "outputs": [
    {
     "data": {
      "text/html": [
       "<p style=\"color: red;\">\n",
       "The default version of TensorFlow in Colab will soon switch to TensorFlow 2.x.<br>\n",
       "We recommend you <a href=\"https://www.tensorflow.org/guide/migrate\" target=\"_blank\">upgrade</a> now \n",
       "or ensure your notebook will continue to use TensorFlow 1.x via the <code>%tensorflow_version 1.x</code> magic:\n",
       "<a href=\"https://colab.research.google.com/notebooks/tensorflow_version.ipynb\" target=\"_blank\">more info</a>.</p>\n"
      ],
      "text/plain": [
       "<IPython.core.display.HTML object>"
      ]
     },
     "metadata": {
      "tags": []
     },
     "output_type": "display_data"
    },
    {
     "name": "stderr",
     "output_type": "stream",
     "text": [
      "Using TensorFlow backend.\n"
     ]
    },
    {
     "name": "stdout",
     "output_type": "stream",
     "text": [
      "using Keras version: 2.2.4\n"
     ]
    }
   ],
   "source": [
    "import ktrain\n",
    "from ktrain import text"
   ]
  },
  {
   "cell_type": "code",
   "execution_count": null,
   "metadata": {
    "colab": {},
    "colab_type": "code",
    "id": "Auo92zXyy3qb"
   },
   "outputs": [],
   "source": [
    "# get hate speech dataset\n",
    "import tensorflow as tf\n",
    "drive_path = './drive/My Drive/Colab Notebooks/'\n",
    "df = pd.read_csv(drive_path + 'assets/comb_lemma.csv')\n"
   ]
  },
  {
   "cell_type": "code",
   "execution_count": 154,
   "metadata": {
    "colab": {
     "base_uri": "https://localhost:8080/",
     "height": 162
    },
    "colab_type": "code",
    "executionInfo": {
     "elapsed": 1148,
     "status": "ok",
     "timestamp": 1575192792186,
     "user": {
      "displayName": "Clement ZS Ow",
      "photoUrl": "https://lh3.googleusercontent.com/a-/AAuE7mChb1gzbnzIf_aavBu0OflAOn7KDpoxIVtvp6eC=s64",
      "userId": "03334618728967888740"
     },
     "user_tz": -480
    },
    "id": "_Kv1IJTxzPOr",
    "outputId": "d147ed19-6bd4-442f-c8c9-f78cdda19116"
   },
   "outputs": [
    {
     "data": {
      "text/html": [
       "<div>\n",
       "<style scoped>\n",
       "    .dataframe tbody tr th:only-of-type {\n",
       "        vertical-align: middle;\n",
       "    }\n",
       "\n",
       "    .dataframe tbody tr th {\n",
       "        vertical-align: top;\n",
       "    }\n",
       "\n",
       "    .dataframe thead th {\n",
       "        text-align: right;\n",
       "    }\n",
       "</style>\n",
       "<table border=\"1\" class=\"dataframe\">\n",
       "  <thead>\n",
       "    <tr style=\"text-align: right;\">\n",
       "      <th></th>\n",
       "      <th>id</th>\n",
       "      <th>text</th>\n",
       "      <th>hate</th>\n",
       "      <th>response</th>\n",
       "      <th>red</th>\n",
       "      <th>tokens</th>\n",
       "      <th>lemma</th>\n",
       "      <th>tok_lemma</th>\n",
       "      <th>pos</th>\n",
       "    </tr>\n",
       "  </thead>\n",
       "  <tbody>\n",
       "    <tr>\n",
       "      <td>0</td>\n",
       "      <td>e8q18lf</td>\n",
       "      <td>A subsection of retarded Hungarians? Ohh boy. ...</td>\n",
       "      <td>1</td>\n",
       "      <td>[\"I don't see a reason why it's okay to insult...</td>\n",
       "      <td>1</td>\n",
       "      <td>[subsection, retarded, hungarians, ohh, boy, b...</td>\n",
       "      <td>a subsection of retarded Hungarians ? ohh boy ...</td>\n",
       "      <td>subsection retard hungarians ohh boy brace liv...</td>\n",
       "      <td>DT NN IN JJ NNPS . NN NN . NN IN DT JJ NNP VBG...</td>\n",
       "    </tr>\n",
       "    <tr>\n",
       "      <td>1</td>\n",
       "      <td>e8q9w5s</td>\n",
       "      <td>Hiii. Just got off work. 444 is mainly the typ...</td>\n",
       "      <td>0</td>\n",
       "      <td>nil</td>\n",
       "      <td>1</td>\n",
       "      <td>[hiii, got, work, mainly, typa, guys, imagine,...</td>\n",
       "      <td>hiii . just get off work . 444 be mainly the t...</td>\n",
       "      <td>hiii get work mainly typa guy imagine write -P...</td>\n",
       "      <td>UH . RB VBD RP NN . CD VBZ RB DT NN NNS PRP VB...</td>\n",
       "    </tr>\n",
       "  </tbody>\n",
       "</table>\n",
       "</div>"
      ],
      "text/plain": [
       "        id                                               text  hate  \\\n",
       "0  e8q18lf  A subsection of retarded Hungarians? Ohh boy. ...     1   \n",
       "1  e8q9w5s  Hiii. Just got off work. 444 is mainly the typ...     0   \n",
       "\n",
       "                                            response  red  \\\n",
       "0  [\"I don't see a reason why it's okay to insult...    1   \n",
       "1                                                nil    1   \n",
       "\n",
       "                                              tokens  \\\n",
       "0  [subsection, retarded, hungarians, ohh, boy, b...   \n",
       "1  [hiii, got, work, mainly, typa, guys, imagine,...   \n",
       "\n",
       "                                               lemma  \\\n",
       "0  a subsection of retarded Hungarians ? ohh boy ...   \n",
       "1  hiii . just get off work . 444 be mainly the t...   \n",
       "\n",
       "                                           tok_lemma  \\\n",
       "0  subsection retard hungarians ohh boy brace liv...   \n",
       "1  hiii get work mainly typa guy imagine write -P...   \n",
       "\n",
       "                                                 pos  \n",
       "0  DT NN IN JJ NNPS . NN NN . NN IN DT JJ NNP VBG...  \n",
       "1  UH . RB VBD RP NN . CD VBZ RB DT NN NNS PRP VB...  "
      ]
     },
     "execution_count": 154,
     "metadata": {},
     "output_type": "execute_result"
    }
   ],
   "source": [
    "df.head(2)"
   ]
  },
  {
   "cell_type": "markdown",
   "metadata": {},
   "source": [
    "The below code was adapted from https://github.com/amaiya/ktrain."
   ]
  },
  {
   "cell_type": "markdown",
   "metadata": {
    "colab_type": "text",
    "id": "1Nm5-uiiMj0I"
   },
   "source": [
    "#### Load and Preprocess the Dataset\n",
    "\n",
    "The `texts_from_df` function will load the training and validation data from the specified folder and automatically preprocess it according to BERT's requirements.  In doing so, the BERT model and vocabulary will be automatically downloaded."
   ]
  },
  {
   "cell_type": "code",
   "execution_count": 8,
   "metadata": {
    "colab": {
     "base_uri": "https://localhost:8080/",
     "height": 255
    },
    "colab_type": "code",
    "executionInfo": {
     "elapsed": 33916,
     "status": "ok",
     "timestamp": 1575192854549,
     "user": {
      "displayName": "Clement ZS Ow",
      "photoUrl": "https://lh3.googleusercontent.com/a-/AAuE7mChb1gzbnzIf_aavBu0OflAOn7KDpoxIVtvp6eC=s64",
      "userId": "03334618728967888740"
     },
     "user_tz": -480
    },
    "id": "rXoFsVJNvx3I",
    "outputId": "38fd8398-951a-43bf-e309-2ec715e5c018"
   },
   "outputs": [
    {
     "name": "stdout",
     "output_type": "stream",
     "text": [
      "downloading pretrained BERT model (uncased_L-12_H-768_A-12.zip)...\n",
      "[██████████████████████████████████████████████████]\n",
      "extracting pretrained BERT model...\n",
      "done.\n",
      "\n",
      "cleanup downloaded zip...\n",
      "done.\n",
      "\n",
      "preprocessing train...\n",
      "language: en\n"
     ]
    },
    {
     "data": {
      "text/html": [
       "done."
      ],
      "text/plain": [
       "<IPython.core.display.HTML object>"
      ]
     },
     "metadata": {
      "tags": []
     },
     "output_type": "display_data"
    },
    {
     "name": "stdout",
     "output_type": "stream",
     "text": [
      "preprocessing test...\n",
      "language: en\n"
     ]
    },
    {
     "data": {
      "text/html": [
       "done."
      ],
      "text/plain": [
       "<IPython.core.display.HTML object>"
      ]
     },
     "metadata": {
      "tags": []
     },
     "output_type": "display_data"
    }
   ],
   "source": [
    "(x_train, y_train), (x_test, y_test), preproc=text.texts_from_df(df,\n",
    "                                                                 text_column='text',\n",
    "                                                                 label_columns=['hate'],\n",
    "                                                                 max_features=30000,\n",
    "                                                                 maxlen=50,\n",
    "                                                                 preprocess_mode='bert')"
   ]
  },
  {
   "cell_type": "code",
   "execution_count": 10,
   "metadata": {
    "colab": {
     "base_uri": "https://localhost:8080/",
     "height": 255
    },
    "colab_type": "code",
    "executionInfo": {
     "elapsed": 1134,
     "status": "ok",
     "timestamp": 1575192883276,
     "user": {
      "displayName": "Clement ZS Ow",
      "photoUrl": "https://lh3.googleusercontent.com/a-/AAuE7mChb1gzbnzIf_aavBu0OflAOn7KDpoxIVtvp6eC=s64",
      "userId": "03334618728967888740"
     },
     "user_tz": -480
    },
    "id": "CKbgl-ZHz6QP",
    "outputId": "3015f770-5bfc-4f3b-a5ea-14b9e67c2c91"
   },
   "outputs": [
    {
     "data": {
      "text/plain": [
       "[array([[ 101, 2517, 2011, ...,    0,    0,    0],\n",
       "        [ 101, 1045, 1005, ..., 2342, 2000,  102],\n",
       "        [ 101, 1997, 2607, ...,    0,    0,    0],\n",
       "        ...,\n",
       "        [ 101, 2009, 1005, ...,    0,    0,    0],\n",
       "        [ 101, 2061, 2017, ...,    0,    0,    0],\n",
       "        [ 101, 2027, 1005, ...,  102,    0,    0]]),\n",
       " array([[0, 0, 0, ..., 0, 0, 0],\n",
       "        [0, 0, 0, ..., 0, 0, 0],\n",
       "        [0, 0, 0, ..., 0, 0, 0],\n",
       "        ...,\n",
       "        [0, 0, 0, ..., 0, 0, 0],\n",
       "        [0, 0, 0, ..., 0, 0, 0],\n",
       "        [0, 0, 0, ..., 0, 0, 0]])]"
      ]
     },
     "execution_count": 10,
     "metadata": {
      "tags": []
     },
     "output_type": "execute_result"
    }
   ],
   "source": [
    "x_train[:10]"
   ]
  },
  {
   "cell_type": "markdown",
   "metadata": {
    "colab_type": "text",
    "id": "_Eh8CLd0Mpd5"
   },
   "source": [
    "#### Load a pre-trained BERT model and wrap it in a `ktrain.Learner` object\n",
    "\n",
    "This step can be condensed into a single line of code, but we execute it as two lines for clarity. (You can ignore the deprecation warnings arising from Keras 2.2.4 with TensorFlow 1.14.0.)  "
   ]
  },
  {
   "cell_type": "code",
   "execution_count": 11,
   "metadata": {
    "colab": {
     "base_uri": "https://localhost:8080/",
     "height": 68
    },
    "colab_type": "code",
    "executionInfo": {
     "elapsed": 27604,
     "status": "ok",
     "timestamp": 1575192926018,
     "user": {
      "displayName": "Clement ZS Ow",
      "photoUrl": "https://lh3.googleusercontent.com/a-/AAuE7mChb1gzbnzIf_aavBu0OflAOn7KDpoxIVtvp6eC=s64",
      "userId": "03334618728967888740"
     },
     "user_tz": -480
    },
    "id": "YVCCpjtKwfTs",
    "outputId": "7973ad5d-b5df-4601-e2aa-b536ec3d7c34"
   },
   "outputs": [
    {
     "name": "stdout",
     "output_type": "stream",
     "text": [
      "Is Multi-Label? False\n",
      "maxlen is 50\n",
      "done.\n"
     ]
    }
   ],
   "source": [
    "model = text.text_classifier('bert', (x_train, y_train), preproc=preproc)\n",
    "learner = ktrain.get_learner(model,train_data=(x_train, y_train), val_data=(x_test, y_test), batch_size=6,)"
   ]
  },
  {
   "cell_type": "code",
   "execution_count": null,
   "metadata": {
    "colab": {},
    "colab_type": "code",
    "id": "D600Fw4021m9"
   },
   "outputs": [],
   "source": [
    "import numpy as np\n",
    "columns=['rating_mixture of true and false','rating_mostly false','rating_mostly true','rating_no factual content'],\n",
    "\n",
    "counter_weight={}\n",
    "weights=df['hate'].value_counts()\n",
    "\n",
    "for n,wght in enumerate(weights):\n",
    "    counter_weight[n]=(np.max(weights)/wght)\n",
    "  "
   ]
  },
  {
   "cell_type": "code",
   "execution_count": null,
   "metadata": {
    "colab": {
     "base_uri": "https://localhost:8080/",
     "height": 69
    },
    "colab_type": "code",
    "executionInfo": {
     "elapsed": 30310,
     "status": "ok",
     "timestamp": 1574761996594,
     "user": {
      "displayName": "Tyn Long Tay",
      "photoUrl": "",
      "userId": "05995455900473544360"
     },
     "user_tz": -480
    },
    "id": "FcpqoxmE5VZ3",
    "outputId": "7604371d-2307-436d-91d5-b54d7a2ce36e"
   },
   "outputs": [
    {
     "data": {
      "text/plain": [
       "0    1090\n",
       "1     290\n",
       "Name: target, dtype: int64"
      ]
     },
     "execution_count": 14,
     "metadata": {
      "tags": []
     },
     "output_type": "execute_result"
    }
   ],
   "source": [
    "weights=df['target'].value_counts()\n",
    "weights"
   ]
  },
  {
   "cell_type": "code",
   "execution_count": 14,
   "metadata": {
    "colab": {
     "base_uri": "https://localhost:8080/",
     "height": 34
    },
    "colab_type": "code",
    "executionInfo": {
     "elapsed": 1306,
     "status": "ok",
     "timestamp": 1575192954307,
     "user": {
      "displayName": "Clement ZS Ow",
      "photoUrl": "https://lh3.googleusercontent.com/a-/AAuE7mChb1gzbnzIf_aavBu0OflAOn7KDpoxIVtvp6eC=s64",
      "userId": "03334618728967888740"
     },
     "user_tz": -480
    },
    "id": "JdUOrxTC4qxJ",
    "outputId": "09f387a1-cd4b-4287-f0c6-ec7e46a3c3a5"
   },
   "outputs": [
    {
     "data": {
      "text/plain": [
       "{0: 1.0, 1: 1.5667397176494573}"
      ]
     },
     "execution_count": 14,
     "metadata": {
      "tags": []
     },
     "output_type": "execute_result"
    }
   ],
   "source": [
    "counter_weight"
   ]
  },
  {
   "cell_type": "markdown",
   "metadata": {
    "colab_type": "text",
    "id": "-g9dwBJqNgvR"
   },
   "source": [
    "#### Train and Fine-Tune the Model on the dataset\n",
    "\n",
    "We employ the `learner.fit_onecycle` method in *ktrain* that employs the use of a [1cycle learning  rate schedule](https://arxiv.org/pdf/1803.09820.pdf).  We use a learning rate of 2e-5 based on recommendations from [the original paper](https://arxiv.org/abs/1810.04805).\n",
    "\n",
    "As can be seen, we achieve a **88.19% validation accuracy** in a single epoch."
   ]
  },
  {
   "cell_type": "code",
   "execution_count": 15,
   "metadata": {
    "colab": {
     "base_uri": "https://localhost:8080/",
     "height": 241
    },
    "colab_type": "code",
    "executionInfo": {
     "elapsed": 1989519,
     "status": "ok",
     "timestamp": 1575195058814,
     "user": {
      "displayName": "Clement ZS Ow",
      "photoUrl": "https://lh3.googleusercontent.com/a-/AAuE7mChb1gzbnzIf_aavBu0OflAOn7KDpoxIVtvp6eC=s64",
      "userId": "03334618728967888740"
     },
     "user_tz": -480
    },
    "id": "IhHGCuPhv5Ew",
    "outputId": "480c3da5-f98d-44ee-f7e1-9a12ccb64228"
   },
   "outputs": [
    {
     "name": "stdout",
     "output_type": "stream",
     "text": [
      "\n",
      "\n",
      "begin training using triangular learning rate policy with max lr of 2e-05...\n",
      "Train on 45325 samples, validate on 5037 samples\n",
      "Epoch 1/10\n",
      "45325/45325 [==============================] - 985s 22ms/step - loss: 0.4387 - acc: 0.8639 - val_loss: 0.3180 - val_acc: 0.8819\n",
      "Epoch 2/10\n",
      "45325/45325 [==============================] - 977s 22ms/step - loss: 0.3634 - acc: 0.8908 - val_loss: 0.3203 - val_acc: 0.8779\n",
      "Restoring model weights from the end of the best epoch\n",
      "Epoch 00002: early stopping\n",
      "Weights from best epoch have been loaded into model.\n"
     ]
    },
    {
     "data": {
      "text/plain": [
       "<keras.callbacks.History at 0x7f71da5675c0>"
      ]
     },
     "execution_count": 15,
     "metadata": {
      "tags": []
     },
     "output_type": "execute_result"
    }
   ],
   "source": [
    "learner.autofit(2e-5, 10,early_stopping=1,checkpoint_folder=drive_path + 'BERTModelCheckpoint',class_weight=counter_weight)"
   ]
  },
  {
   "cell_type": "markdown",
   "metadata": {
    "colab_type": "text",
    "id": "WBE749i3QaMu"
   },
   "source": [
    "In prevention of the BERT model to be overfitted, we have included an early stopping callback so that it will save the weights and stop at the desired Epoch. \n",
    "\n",
    "In this case it stopped at Epoch 2 achieving a validation accuracy of `87.79%.` and macro average validation F1 score of `87%`."
   ]
  },
  {
   "cell_type": "code",
   "execution_count": 16,
   "metadata": {
    "colab": {
     "base_uri": "https://localhost:8080/",
     "height": 204
    },
    "colab_type": "code",
    "executionInfo": {
     "elapsed": 13140,
     "status": "ok",
     "timestamp": 1575195165026,
     "user": {
      "displayName": "Clement ZS Ow",
      "photoUrl": "https://lh3.googleusercontent.com/a-/AAuE7mChb1gzbnzIf_aavBu0OflAOn7KDpoxIVtvp6eC=s64",
      "userId": "03334618728967888740"
     },
     "user_tz": -480
    },
    "id": "FbsXJ1ySqc0X",
    "outputId": "03139dca-ec13-47b4-bce1-80329e867d2c"
   },
   "outputs": [
    {
     "name": "stdout",
     "output_type": "stream",
     "text": [
      "              precision    recall  f1-score   support\n",
      "\n",
      "    non-hate       0.89      0.91      0.90      3079\n",
      "        hate       0.86      0.83      0.85      1958\n",
      "\n",
      "    accuracy                           0.88      5037\n",
      "   macro avg       0.88      0.87      0.87      5037\n",
      "weighted avg       0.88      0.88      0.88      5037\n",
      "\n"
     ]
    },
    {
     "data": {
      "text/plain": [
       "array([[2816,  263],\n",
       "       [ 332, 1626]])"
      ]
     },
     "execution_count": 16,
     "metadata": {
      "tags": []
     },
     "output_type": "execute_result"
    }
   ],
   "source": [
    "learner.validate(val_data=(x_test, y_test), class_names=['non-hate','hate'])"
   ]
  },
  {
   "cell_type": "markdown",
   "metadata": {},
   "source": [
    "As our metrics to prioritise are F1 score and recall, it had done a great job in reducing its False Negatives of achieving a macro average of 87% for both F1 Score and recall. \n",
    "\n",
    "However, it is not doing so well for recall in the hate class.\n",
    "\n",
    "Furthermore, BERT model can be complex when you think about how it is actually classifying according to the data and the pre-trained BERT model. "
   ]
  },
  {
   "cell_type": "markdown",
   "metadata": {},
   "source": [
    "# Limitations and Future Work"
   ]
  },
  {
   "cell_type": "markdown",
   "metadata": {},
   "source": [
    "The challenge faced by automatic hate speech detection is the subjectivity of whether a comment is considered hate speech or not. This can be better managed by having more people labelling these datasets to cross reference and to take a majority vote.\n",
    "\n",
    "Another challenge is that many new urban words that are deemed derogatory are coined every few years or decades and the models that are developed now might be obsolete in the future. Constant training of new data sets will thus be paramount in overriding this problem.\n",
    "\n",
    "As with any hate speech classification problem, context is needed to determine whether it is hate speech or not in many cases. Looking at the context of the text of how a word is being used and linguistic features will be a better way of understanding text. Of course, understanding sarcasm is one of the ongoing research which will help immensely in NLP tasks and higher accuracy rates. Therefore, more models have to be developed to train on learning to read context left or right of the target word or having \"multiple views\" of the same comment by using Multi-view ensemble stacking models."
   ]
  },
  {
   "cell_type": "markdown",
   "metadata": {},
   "source": [
    "# Conclusions"
   ]
  },
  {
   "cell_type": "markdown",
   "metadata": {},
   "source": [
    "With the rise of social media and users being able to stay anonymous, hate speech detection is ever important in the digital age. \n",
    "\n",
    "We present current approaches to this classification task and also explored different techniques including deep learning models and state-of-the-art models such as BERT. "
   ]
  },
  {
   "cell_type": "markdown",
   "metadata": {},
   "source": [
    "| Classifier                              | F1 score | Recall |\n",
    "|-----------------------------------------|----------|--------|\n",
    "| Logistic Regression                     | **87.91%**   | **87.35%** |\n",
    "| Logistic Regression with balanced class | 87.64%   | 87.33% |\n",
    "| LSTM - word embeddings on dataset       | 85.18%   |    -   |\n",
    "| LSTM & CNN - word embeddings on dataset | 84.95%   |    -   |\n",
    "| LSTM 1 - pre-trained word embeddings    | 81.75%   |    -   |\n",
    "| LSTM 2 - pre-trained word embeddings    | 84.36%   |    -   |\n",
    "| BERT                                    | 87%      | 87%    |"
   ]
  },
  {
   "cell_type": "markdown",
   "metadata": {},
   "source": [
    "Even though context is important in determining if a comment is hate speech or not, the simplest classifier, Logistic Regression, is actually the best performing one. This goes to show that at times, the simpler the classifier the better in terms of interpretability and it has made it easier to choose the best model with a superior F1 score.\n",
    "\n",
    "In comparison with the state-of-the-art NLP BERT model, Logistic Regression was still able to perform very well while generalises well for this specific task. It is no wonder why Logistic Regression has been around for many years and continues to be widely used."
   ]
  }
 ],
 "metadata": {
  "kernelspec": {
   "display_name": "Python 3",
   "language": "python",
   "name": "python3"
  },
  "language_info": {
   "codemirror_mode": {
    "name": "ipython",
    "version": 3
   },
   "file_extension": ".py",
   "mimetype": "text/x-python",
   "name": "python",
   "nbconvert_exporter": "python",
   "pygments_lexer": "ipython3",
   "version": "3.7.4"
  },
  "toc-autonumbering": true
 },
 "nbformat": 4,
 "nbformat_minor": 4
}
