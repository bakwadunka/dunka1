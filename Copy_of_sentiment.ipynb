{
  "nbformat": 4,
  "nbformat_minor": 0,
  "metadata": {
    "colab": {
      "name": "Copy of sentiment.ipynb",
      "provenance": [],
      "collapsed_sections": [],
      "include_colab_link": true
    },
    "kernelspec": {
      "name": "python3",
      "display_name": "Python 3"
    }
  },
  "cells": [
    {
      "cell_type": "markdown",
      "metadata": {
        "id": "view-in-github",
        "colab_type": "text"
      },
      "source": [
        "<a href=\"https://colab.research.google.com/github/bakwadunka/dunka1/blob/master/Copy_of_sentiment.ipynb\" target=\"_parent\"><img src=\"https://colab.research.google.com/assets/colab-badge.svg\" alt=\"Open In Colab\"/></a>"
      ]
    },
    {
      "cell_type": "code",
      "metadata": {
        "id": "-XOa_T8Nd_K5",
        "colab_type": "code",
        "colab": {
          "base_uri": "https://localhost:8080/",
          "height": 122
        },
        "outputId": "de937d79-62d4-447d-fdc2-03e367b5d6d2"
      },
      "source": [
        "from google.colab import drive\n",
        "drive.mount('/content/drive')"
      ],
      "execution_count": null,
      "outputs": [
        {
          "output_type": "stream",
          "text": [
            "Go to this URL in a browser: https://accounts.google.com/o/oauth2/auth?client_id=947318989803-6bn6qk8qdgf4n4g3pfee6491hc0brc4i.apps.googleusercontent.com&redirect_uri=urn%3aietf%3awg%3aoauth%3a2.0%3aoob&scope=email%20https%3a%2f%2fwww.googleapis.com%2fauth%2fdocs.test%20https%3a%2f%2fwww.googleapis.com%2fauth%2fdrive%20https%3a%2f%2fwww.googleapis.com%2fauth%2fdrive.photos.readonly%20https%3a%2f%2fwww.googleapis.com%2fauth%2fpeopleapi.readonly&response_type=code\n",
            "\n",
            "Enter your authorization code:\n",
            "··········\n",
            "Mounted at /content/drive\n"
          ],
          "name": "stdout"
        }
      ]
    },
    {
      "cell_type": "code",
      "metadata": {
        "id": "Zpgymuf_gCvl",
        "colab_type": "code",
        "colab": {
          "base_uri": "https://localhost:8080/",
          "height": 34
        },
        "outputId": "42c9e89e-99e2-4e2e-cb09-3b4b27abd00c"
      },
      "source": [
        "cd /content/drive/My\\ Drive/sentiment/"
      ],
      "execution_count": null,
      "outputs": [
        {
          "output_type": "stream",
          "text": [
            "/content/drive/My Drive/sentiment\n"
          ],
          "name": "stdout"
        }
      ]
    },
    {
      "cell_type": "code",
      "metadata": {
        "id": "ZDmhi1i1ZJJd",
        "colab_type": "code",
        "colab": {
          "base_uri": "https://localhost:8080/",
          "height": 136
        },
        "outputId": "1e3ad305-96f6-4397-aca8-4032b7da1fa5"
      },
      "source": [
        "import nltk\n",
        "nltk.download('punkt')\n",
        "nltk.download('stopwords')\n",
        "nltk.download('wordnet')"
      ],
      "execution_count": null,
      "outputs": [
        {
          "output_type": "stream",
          "text": [
            "[nltk_data] Downloading package punkt to /root/nltk_data...\n",
            "[nltk_data]   Unzipping tokenizers/punkt.zip.\n",
            "[nltk_data] Downloading package stopwords to /root/nltk_data...\n",
            "[nltk_data]   Unzipping corpora/stopwords.zip.\n",
            "[nltk_data] Downloading package wordnet to /root/nltk_data...\n",
            "[nltk_data]   Unzipping corpora/wordnet.zip.\n"
          ],
          "name": "stdout"
        },
        {
          "output_type": "execute_result",
          "data": {
            "text/plain": [
              "True"
            ]
          },
          "metadata": {
            "tags": []
          },
          "execution_count": 4
        }
      ]
    },
    {
      "cell_type": "code",
      "metadata": {
        "id": "uUN4JaOZgoKV",
        "colab_type": "code",
        "colab": {
          "base_uri": "https://localhost:8080/",
          "height": 71
        },
        "outputId": "26afe006-c369-4f72-d2c1-4f5167be4015"
      },
      "source": [
        "import pandas as pd\n",
        "import numpy as np\n",
        "import seaborn as sns\n",
        "import re\n",
        "import matplotlib.pyplot as plt\n",
        "from sklearn.model_selection import train_test_split\n",
        "from sklearn.preprocessing import LabelBinarizer\n",
        "import tensorflow as tf\n",
        "from keras.preprocessing import sequence\n",
        "from keras.preprocessing.text import Tokenizer\n",
        "from keras.models import Sequential\n",
        "from keras.layers import Dense, Dropout, Activation\n",
        "from keras.layers import Embedding\n",
        "from keras.layers import LSTM\n",
        "from keras.layers import Conv1D, MaxPooling1D, GlobalMaxPooling1D\n",
        "from keras.utils.np_utils import to_categorical"
      ],
      "execution_count": null,
      "outputs": [
        {
          "output_type": "stream",
          "text": [
            "/usr/local/lib/python3.6/dist-packages/statsmodels/tools/_testing.py:19: FutureWarning: pandas.util.testing is deprecated. Use the functions in the public API at pandas.testing instead.\n",
            "  import pandas.util.testing as tm\n"
          ],
          "name": "stderr"
        }
      ]
    },
    {
      "cell_type": "code",
      "metadata": {
        "id": "dCtJPErY1g_x",
        "colab_type": "code",
        "colab": {
          "base_uri": "https://localhost:8080/",
          "height": 419
        },
        "outputId": "0b5d528d-3b31-4f47-9bb0-fc937ad82c33"
      },
      "source": [
        "data = pd.read_csv('Sentiments.csv')\n",
        "data"
      ],
      "execution_count": null,
      "outputs": [
        {
          "output_type": "execute_result",
          "data": {
            "text/html": [
              "<div>\n",
              "<style scoped>\n",
              "    .dataframe tbody tr th:only-of-type {\n",
              "        vertical-align: middle;\n",
              "    }\n",
              "\n",
              "    .dataframe tbody tr th {\n",
              "        vertical-align: top;\n",
              "    }\n",
              "\n",
              "    .dataframe thead th {\n",
              "        text-align: right;\n",
              "    }\n",
              "</style>\n",
              "<table border=\"1\" class=\"dataframe\">\n",
              "  <thead>\n",
              "    <tr style=\"text-align: right;\">\n",
              "      <th></th>\n",
              "      <th>tweet_id</th>\n",
              "      <th>timestamp</th>\n",
              "      <th>clean_tweet</th>\n",
              "      <th>Sentiments</th>\n",
              "    </tr>\n",
              "  </thead>\n",
              "  <tbody>\n",
              "    <tr>\n",
              "      <th>0</th>\n",
              "      <td>1184260000000000000</td>\n",
              "      <td>10/15/2019 23:59</td>\n",
              "      <td>(Produced by ) dm for more information on this...</td>\n",
              "      <td>positive</td>\n",
              "    </tr>\n",
              "    <tr>\n",
              "      <th>1</th>\n",
              "      <td>1184260000000000000</td>\n",
              "      <td>10/15/2019 23:59</td>\n",
              "      <td>I missed out on trying your black cherry slush...</td>\n",
              "      <td>negative</td>\n",
              "    </tr>\n",
              "    <tr>\n",
              "      <th>2</th>\n",
              "      <td>1184260000000000000</td>\n",
              "      <td>10/15/2019 23:59</td>\n",
              "      <td>I hate you</td>\n",
              "      <td>negative</td>\n",
              "    </tr>\n",
              "    <tr>\n",
              "      <th>3</th>\n",
              "      <td>1184260000000000000</td>\n",
              "      <td>10/15/2019 23:59</td>\n",
              "      <td>About slam these Tacs and get to work.... I ha...</td>\n",
              "      <td>negative</td>\n",
              "    </tr>\n",
              "    <tr>\n",
              "      <th>4</th>\n",
              "      <td>1184260000000000000</td>\n",
              "      <td>10/15/2019 23:59</td>\n",
              "      <td>Yall niggas be knowing yall got a girl but yal...</td>\n",
              "      <td>negative</td>\n",
              "    </tr>\n",
              "    <tr>\n",
              "      <th>...</th>\n",
              "      <td>...</td>\n",
              "      <td>...</td>\n",
              "      <td>...</td>\n",
              "      <td>...</td>\n",
              "    </tr>\n",
              "    <tr>\n",
              "      <th>10160</th>\n",
              "      <td>1255650000000000000</td>\n",
              "      <td>4/29/2020 23:59</td>\n",
              "      <td>Yeah, honestly I didnt even mean to imply its ...</td>\n",
              "      <td>negative</td>\n",
              "    </tr>\n",
              "    <tr>\n",
              "      <th>10161</th>\n",
              "      <td>1255650000000000000</td>\n",
              "      <td>4/29/2020 23:59</td>\n",
              "      <td>No true Sam imo would ever think Sam would do ...</td>\n",
              "      <td>negative</td>\n",
              "    </tr>\n",
              "    <tr>\n",
              "      <th>10162</th>\n",
              "      <td>1255650000000000000</td>\n",
              "      <td>4/29/2020 23:59</td>\n",
              "      <td>i hate when people say you bullshit me mannnn ...</td>\n",
              "      <td>negative</td>\n",
              "    </tr>\n",
              "    <tr>\n",
              "      <th>10163</th>\n",
              "      <td>1255650000000000000</td>\n",
              "      <td>4/29/2020 23:59</td>\n",
              "      <td>The Windrush Immigrants were not illegal, they...</td>\n",
              "      <td>positive</td>\n",
              "    </tr>\n",
              "    <tr>\n",
              "      <th>10164</th>\n",
              "      <td>1255650000000000000</td>\n",
              "      <td>4/29/2020 23:59</td>\n",
              "      <td>Could have chosen any other Minecraft image th...</td>\n",
              "      <td>positive</td>\n",
              "    </tr>\n",
              "  </tbody>\n",
              "</table>\n",
              "<p>10165 rows × 4 columns</p>\n",
              "</div>"
            ],
            "text/plain": [
              "                  tweet_id  ... Sentiments\n",
              "0      1184260000000000000  ...   positive\n",
              "1      1184260000000000000  ...   negative\n",
              "2      1184260000000000000  ...   negative\n",
              "3      1184260000000000000  ...   negative\n",
              "4      1184260000000000000  ...   negative\n",
              "...                    ...  ...        ...\n",
              "10160  1255650000000000000  ...   negative\n",
              "10161  1255650000000000000  ...   negative\n",
              "10162  1255650000000000000  ...   negative\n",
              "10163  1255650000000000000  ...   positive\n",
              "10164  1255650000000000000  ...   positive\n",
              "\n",
              "[10165 rows x 4 columns]"
            ]
          },
          "metadata": {
            "tags": []
          },
          "execution_count": 6
        }
      ]
    },
    {
      "cell_type": "code",
      "metadata": {
        "id": "wTVF29jW1qrY",
        "colab_type": "code",
        "colab": {
          "base_uri": "https://localhost:8080/",
          "height": 419
        },
        "outputId": "62b4291e-33ad-43b9-be09-4cdde6c01ceb"
      },
      "source": [
        "df = pd.DataFrame()\n",
        "df['text'] = data['clean_tweet']\n",
        "df['category'] = data['Sentiments']\n",
        "df"
      ],
      "execution_count": null,
      "outputs": [
        {
          "output_type": "execute_result",
          "data": {
            "text/html": [
              "<div>\n",
              "<style scoped>\n",
              "    .dataframe tbody tr th:only-of-type {\n",
              "        vertical-align: middle;\n",
              "    }\n",
              "\n",
              "    .dataframe tbody tr th {\n",
              "        vertical-align: top;\n",
              "    }\n",
              "\n",
              "    .dataframe thead th {\n",
              "        text-align: right;\n",
              "    }\n",
              "</style>\n",
              "<table border=\"1\" class=\"dataframe\">\n",
              "  <thead>\n",
              "    <tr style=\"text-align: right;\">\n",
              "      <th></th>\n",
              "      <th>text</th>\n",
              "      <th>category</th>\n",
              "    </tr>\n",
              "  </thead>\n",
              "  <tbody>\n",
              "    <tr>\n",
              "      <th>0</th>\n",
              "      <td>(Produced by ) dm for more information on this...</td>\n",
              "      <td>positive</td>\n",
              "    </tr>\n",
              "    <tr>\n",
              "      <th>1</th>\n",
              "      <td>I missed out on trying your black cherry slush...</td>\n",
              "      <td>negative</td>\n",
              "    </tr>\n",
              "    <tr>\n",
              "      <th>2</th>\n",
              "      <td>I hate you</td>\n",
              "      <td>negative</td>\n",
              "    </tr>\n",
              "    <tr>\n",
              "      <th>3</th>\n",
              "      <td>About slam these Tacs and get to work.... I ha...</td>\n",
              "      <td>negative</td>\n",
              "    </tr>\n",
              "    <tr>\n",
              "      <th>4</th>\n",
              "      <td>Yall niggas be knowing yall got a girl but yal...</td>\n",
              "      <td>negative</td>\n",
              "    </tr>\n",
              "    <tr>\n",
              "      <th>...</th>\n",
              "      <td>...</td>\n",
              "      <td>...</td>\n",
              "    </tr>\n",
              "    <tr>\n",
              "      <th>10160</th>\n",
              "      <td>Yeah, honestly I didnt even mean to imply its ...</td>\n",
              "      <td>negative</td>\n",
              "    </tr>\n",
              "    <tr>\n",
              "      <th>10161</th>\n",
              "      <td>No true Sam imo would ever think Sam would do ...</td>\n",
              "      <td>negative</td>\n",
              "    </tr>\n",
              "    <tr>\n",
              "      <th>10162</th>\n",
              "      <td>i hate when people say you bullshit me mannnn ...</td>\n",
              "      <td>negative</td>\n",
              "    </tr>\n",
              "    <tr>\n",
              "      <th>10163</th>\n",
              "      <td>The Windrush Immigrants were not illegal, they...</td>\n",
              "      <td>positive</td>\n",
              "    </tr>\n",
              "    <tr>\n",
              "      <th>10164</th>\n",
              "      <td>Could have chosen any other Minecraft image th...</td>\n",
              "      <td>positive</td>\n",
              "    </tr>\n",
              "  </tbody>\n",
              "</table>\n",
              "<p>10165 rows × 2 columns</p>\n",
              "</div>"
            ],
            "text/plain": [
              "                                                    text  category\n",
              "0      (Produced by ) dm for more information on this...  positive\n",
              "1      I missed out on trying your black cherry slush...  negative\n",
              "2                                             I hate you  negative\n",
              "3      About slam these Tacs and get to work.... I ha...  negative\n",
              "4      Yall niggas be knowing yall got a girl but yal...  negative\n",
              "...                                                  ...       ...\n",
              "10160  Yeah, honestly I didnt even mean to imply its ...  negative\n",
              "10161  No true Sam imo would ever think Sam would do ...  negative\n",
              "10162  i hate when people say you bullshit me mannnn ...  negative\n",
              "10163  The Windrush Immigrants were not illegal, they...  positive\n",
              "10164  Could have chosen any other Minecraft image th...  positive\n",
              "\n",
              "[10165 rows x 2 columns]"
            ]
          },
          "metadata": {
            "tags": []
          },
          "execution_count": 7
        }
      ]
    },
    {
      "cell_type": "code",
      "metadata": {
        "id": "x6Q4y90a2xud",
        "colab_type": "code",
        "colab": {
          "base_uri": "https://localhost:8080/",
          "height": 415
        },
        "outputId": "d659e330-e8ed-4c98-d7c6-61e66232b928"
      },
      "source": [
        "# Description of the dataset\n",
        "print('SHAPE OF DATASET: ', df.shape, '\\n\\nCOLUMNS IN DATASET: ', df.columns, '\\n\\nCATEGORIES: ', df.category.unique())\n",
        "\n",
        "# Plotting number of samples within each category\n",
        "print('NUMBER OF SAMPLES IN EACH CATEGORY: \\n')\n",
        "sns.countplot(df.category)"
      ],
      "execution_count": null,
      "outputs": [
        {
          "output_type": "stream",
          "text": [
            "SHAPE OF DATASET:  (10165, 2) \n",
            "\n",
            "COLUMNS IN DATASET:  Index(['text', 'category'], dtype='object') \n",
            "\n",
            "CATEGORIES:  ['positive' 'negative' 'neutral']\n",
            "NUMBER OF SAMPLES IN EACH CATEGORY: \n",
            "\n"
          ],
          "name": "stdout"
        },
        {
          "output_type": "execute_result",
          "data": {
            "text/plain": [
              "<matplotlib.axes._subplots.AxesSubplot at 0x7f4024a8cf60>"
            ]
          },
          "metadata": {
            "tags": []
          },
          "execution_count": 8
        },
        {
          "output_type": "display_data",
          "data": {
            "image/png": "[encoded data removed]",
            "text/plain": [
              "<Figure size 432x288 with 1 Axes>"
            ]
          },
          "metadata": {
            "tags": [],
            "needs_background": "light"
          }
        }
      ]
    },
    {
      "cell_type": "code",
      "metadata": {
        "id": "t64u-ztl2_x7",
        "colab_type": "code",
        "colab": {
          "base_uri": "https://localhost:8080/",
          "height": 136
        },
        "outputId": "0af90028-42f9-4d46-ab84-e86286f63504"
      },
      "source": [
        "# DATA CLEANING\n",
        "print('Data cleaning in progress...')\n",
        "df['text'] = df['text'].apply(str)\n",
        "# Tokenize\n",
        "df['text'] = df['text'].apply(nltk.word_tokenize)\n",
        "print('Tokenization complete.')\n",
        "\n",
        "# Remove stop words\n",
        "stop_words=set(nltk.corpus.stopwords.words(\"english\"))\n",
        "df['text'] = df['text'].apply(lambda x: [item for item in x if item not in stop_words])\n",
        "print('Stop words removed.')\n",
        "\n",
        "# Remove numbers, punctuation and special characters (only keep words)\n",
        "regex = '[a-z]+'\n",
        "df['text'] = df['text'].apply(lambda x: [item for item in x if re.match(regex, item)])\n",
        "print('Numbers, punctuation and special characters removed.')\n",
        "\n",
        "# Lemmatization\n",
        "lem = nltk.stem.wordnet.WordNetLemmatizer()\n",
        "df['text'] = df['text'].apply(lambda x: [lem.lemmatize(item, pos='v') for item in x])\n",
        "print('Lemmatization complete.\\nData cleaning complete.\\n')"
      ],
      "execution_count": null,
      "outputs": [
        {
          "output_type": "stream",
          "text": [
            "Data cleaning in progress...\n",
            "Tokenization complete.\n",
            "Stop words removed.\n",
            "Numbers, punctuation and special characters removed.\n",
            "Lemmatization complete.\n",
            "Data cleaning complete.\n",
            "\n"
          ],
          "name": "stdout"
        }
      ]
    },
    {
      "cell_type": "code",
      "metadata": {
        "id": "rZhohLgW4oNU",
        "colab_type": "code",
        "colab": {
          "base_uri": "https://localhost:8080/",
          "height": 51
        },
        "outputId": "5be462f0-a06c-439c-923a-cc99c0c39ca8"
      },
      "source": [
        "# Embedding\n",
        "max_features = 15000\n",
        "maxlen = 500\n",
        "embedding_size = 128\n",
        "\n",
        "tokenizer = Tokenizer(num_words=max_features, split=' ')\n",
        "\n",
        "tokenizer.fit_on_texts(df['text'].values)\n",
        "\n",
        "X = tokenizer.texts_to_sequences(df['text'])\n",
        "\n",
        "X = sequence.pad_sequences(X, maxlen=maxlen)\n",
        "\n",
        "encoder = LabelBinarizer()\n",
        "y = encoder.fit_transform(df['category'])\n",
        "\n",
        "X_train, X_test, y_train, y_test = train_test_split(X, y, test_size=0.2, random_state=42)\n",
        "print(X_train.shape)\n",
        "print(X_test.shape)"
      ],
      "execution_count": null,
      "outputs": [
        {
          "output_type": "stream",
          "text": [
            "(8132, 500)\n",
            "(2033, 500)\n"
          ],
          "name": "stdout"
        }
      ]
    },
    {
      "cell_type": "code",
      "metadata": {
        "id": "ItCPu2bnRLFO",
        "colab_type": "code",
        "colab": {
          "base_uri": "https://localhost:8080/",
          "height": 272
        },
        "outputId": "6c31429d-bcb7-4b81-e3c7-81864ea73ea1"
      },
      "source": [
        "# Convolution\n",
        "kernel_size = 5\n",
        "filters = 64\n",
        "pool_size = 4\n",
        "\n",
        "# LSTM\n",
        "lstm_output_size = 128\n",
        "\n",
        "# Training\n",
        "batch_size = 64\n",
        "epochs = 5\n",
        "\n",
        "'''\n",
        "Note:\n",
        "batch_size is highly sensitive.\n",
        "You may tune the epochs by changing.\n",
        "'''\n",
        "\n",
        "print('Building model...')\n",
        "\n",
        "model = Sequential()\n",
        "model.add(Embedding(max_features, embedding_size, input_length=maxlen))\n",
        "model.add(Dropout(0.25))\n",
        "model.add(Conv1D(128,7,padding='valid',activation='relu',strides=1))\n",
        "model.add(Conv1D(128,7,padding='valid',activation='relu',strides=1))\n",
        "model.add(MaxPooling1D())\n",
        "model.add(LSTM(lstm_output_size, dropout=0.2, recurrent_dropout=0.2))\n",
        "model.add(Dense(3))\n",
        "model.add(Activation('softmax'))\n",
        "\n",
        "model.compile(loss='categorical_crossentropy',\n",
        "              optimizer='adam',\n",
        "              metrics=['accuracy'])\n",
        "\n",
        "print('Train...')\n",
        "model.fit(X_train, y_train,\n",
        "          batch_size=batch_size,\n",
        "          epochs=epochs,\n",
        "          validation_data=(X_test, y_test))\n",
        "score, acc = model.evaluate(X_test, y_test, batch_size=batch_size)\n",
        "print('Test score:', score)\n",
        "print('Test accuracy:', acc)"
      ],
      "execution_count": null,
      "outputs": [
        {
          "output_type": "stream",
          "text": [
            "Building model...\n",
            "Train...\n",
            "Epoch 1/5\n",
            "128/128 [==============================] - 241s 2s/step - loss: 0.8589 - accuracy: 0.5860 - val_loss: 0.7041 - val_accuracy: 0.6926\n",
            "Epoch 2/5\n",
            "128/128 [==============================] - 239s 2s/step - loss: 0.5095 - accuracy: 0.7961 - val_loss: 0.6780 - val_accuracy: 0.7354\n",
            "Epoch 3/5\n",
            "128/128 [==============================] - 239s 2s/step - loss: 0.3203 - accuracy: 0.8772 - val_loss: 0.7596 - val_accuracy: 0.7314\n",
            "Epoch 4/5\n",
            "128/128 [==============================] - 239s 2s/step - loss: 0.2173 - accuracy: 0.9182 - val_loss: 0.8366 - val_accuracy: 0.7329\n",
            "Epoch 5/5\n",
            "128/128 [==============================] - 239s 2s/step - loss: 0.1673 - accuracy: 0.9338 - val_loss: 1.0012 - val_accuracy: 0.7157\n",
            "32/32 [==============================] - 11s 343ms/step - loss: 1.0012 - accuracy: 0.7157\n",
            "Test score: 1.0012156963348389\n",
            "Test accuracy: 0.715691089630127\n"
          ],
          "name": "stdout"
        }
      ]
    },
    {
      "cell_type": "code",
      "metadata": {
        "id": "278aSdAUeGX5",
        "colab_type": "code",
        "colab": {
          "base_uri": "https://localhost:8080/",
          "height": 34
        },
        "outputId": "084c7f2a-6f68-452b-e737-6884578d7f49"
      },
      "source": [
        "classes = encoder.classes_\n",
        "classes"
      ],
      "execution_count": null,
      "outputs": [
        {
          "output_type": "execute_result",
          "data": {
            "text/plain": [
              "array(['negative', 'neutral', 'positive'], dtype='<U8')"
            ]
          },
          "metadata": {
            "tags": []
          },
          "execution_count": 12
        }
      ]
    },
    {
      "cell_type": "code",
      "metadata": {
        "id": "68NcR9ojTnh8",
        "colab_type": "code",
        "colab": {}
      },
      "source": [
        "y_pred = model.predict(X_test)"
      ],
      "execution_count": null,
      "outputs": []
    },
    {
      "cell_type": "code",
      "metadata": {
        "id": "XEfO99-8tu9R",
        "colab_type": "code",
        "colab": {
          "base_uri": "https://localhost:8080/",
          "height": 85
        },
        "outputId": "b7735357-5d66-442d-ae64-f7dded0c44fa"
      },
      "source": [
        "y_pred = [classes[x.argmax()] for x in y_pred]\n",
        "print('predicted:\\n',y_pred[:5])\n",
        "y_test =  [classes[x.argmax()] for x in y_test]\n",
        "print('actual:\\n', y_test[:5])"
      ],
      "execution_count": null,
      "outputs": [
        {
          "output_type": "stream",
          "text": [
            "predicted:\n",
            " ['neutral', 'negative', 'negative', 'negative', 'negative']\n",
            "actual:\n",
            " ['neutral', 'negative', 'negative', 'negative', 'neutral']\n"
          ],
          "name": "stdout"
        }
      ]
    },
    {
      "cell_type": "code",
      "metadata": {
        "id": "A-HfBGMduQcX",
        "colab_type": "code",
        "colab": {
          "base_uri": "https://localhost:8080/",
          "height": 187
        },
        "outputId": "78679ac3-d743-4af0-d2ae-ebde378cf964"
      },
      "source": [
        "from sklearn.metrics import classification_report\n",
        "from sklearn.metrics import confusion_matrix\n",
        "report = classification_report(y_test, y_pred, labels=classes)\n",
        "cf_matrix = confusion_matrix(y_test, y_pred, labels=classes)\n",
        "print(report)"
      ],
      "execution_count": null,
      "outputs": [
        {
          "output_type": "stream",
          "text": [
            "              precision    recall  f1-score   support\n",
            "\n",
            "    negative       0.75      0.83      0.79      1099\n",
            "     neutral       0.67      0.56      0.61       366\n",
            "    positive       0.66      0.60      0.62       568\n",
            "\n",
            "    accuracy                           0.72      2033\n",
            "   macro avg       0.69      0.66      0.67      2033\n",
            "weighted avg       0.71      0.72      0.71      2033\n",
            "\n"
          ],
          "name": "stdout"
        }
      ]
    },
    {
      "cell_type": "code",
      "metadata": {
        "id": "68p4lJT1vOOz",
        "colab_type": "code",
        "colab": {}
      },
      "source": [
        "def show_values(pc, fmt=\"%.2f\", **kw):\n",
        "\n",
        "    pc.update_scalarmappable()\n",
        "    ax = pc.axes# FOR LATEST MATPLOTLIB\n",
        "    #Use zip BELOW IN PYTHON 3\n",
        "    for p, color, value in zip(pc.get_paths(), pc.get_facecolors(), pc.get_array()):\n",
        "        x, y = p.vertices[:-2, :].mean(0)\n",
        "        if np.all(color[:3] > 0.5):\n",
        "            color = (0.0, 0.0, 0.0)\n",
        "        else:\n",
        "            color = (1.0, 1.0, 1.0)\n",
        "        ax.text(x, y, fmt % value, ha=\"center\", va=\"center\", color=color, **kw)\n",
        "\n",
        "\n",
        "def cm2inch(*tupl):\n",
        "\n",
        "    inch = 2.54\n",
        "    if type(tupl[0]) == tuple:\n",
        "        return tuple(i/inch for i in tupl[0])\n",
        "    else:\n",
        "        return tuple(i/inch for i in tupl)\n",
        "\n",
        "\n",
        "def heatmap(AUC, title, xlabel, ylabel, xticklabels, yticklabels, figure_width=40, figure_height=20, correct_orientation=False, cmap='RdBu'):\n",
        "\n",
        "\n",
        "    # Plot it out\n",
        "    fig, ax = plt.subplots()    \n",
        "    c = ax.pcolor(AUC, edgecolors='k', linestyle= 'dashed', linewidths=0.2, cmap='RdYlGn', vmin=0.0, vmax=1.0)\n",
        "    #c = ax.pcolor(AUC, edgecolors='k', linestyle= 'dashed', linewidths=0.2, cmap=cmap)\n",
        "\n",
        "    # put the major ticks at the middle of each cell\n",
        "    ax.set_yticks(np.arange(AUC.shape[0]) + 0.5, minor=False)\n",
        "    ax.set_xticks(np.arange(AUC.shape[1]) + 0.5, minor=False)\n",
        "\n",
        "    # set tick labels\n",
        "    #ax.set_xticklabels(np.arange(1,AUC.shape[1]+1), minor=False)\n",
        "    ax.set_xticklabels(xticklabels, minor=False)\n",
        "    ax.set_yticklabels(yticklabels, minor=False)\n",
        "\n",
        "    # set title and x/y labels\n",
        "    plt.title(title)\n",
        "    plt.xlabel(xlabel)\n",
        "    plt.ylabel(ylabel)      \n",
        "\n",
        "    # Remove last blank column\n",
        "    plt.xlim( (0, AUC.shape[1]) )\n",
        "\n",
        "    # Turn off all the ticks\n",
        "    ax = plt.gca()    \n",
        "    for t in ax.xaxis.get_major_ticks():\n",
        "        t.tick1line.set_visible = False\n",
        "        t.tick2line.set_visible = False\n",
        "    for t in ax.yaxis.get_major_ticks():\n",
        "        t.tick1line.set_visible = False\n",
        "        t.tick2line.set_visible = False\n",
        "\n",
        "    # Add color bar\n",
        "    plt.colorbar(c)\n",
        "\n",
        "    # Add text in each cell \n",
        "    show_values(c)\n",
        "\n",
        "    # Proper orientation (origin at the top left instead of bottom left)\n",
        "    if correct_orientation:\n",
        "        ax.invert_yaxis()\n",
        "        ax.xaxis.tick_top()       \n",
        "\n",
        "    # resize \n",
        "    fig = plt.gcf()\n",
        "    fig.set_size_inches(cm2inch(35, 20))\n",
        "    #fig.set_size_inches(cm2inch(40*4, 20*4))\n",
        "    #fig.set_size_inches(cm2inch(figure_width, figure_height))\n",
        "\n",
        "\n",
        "\n",
        "def plot_classification_report(classification_report, title='Classification report ', cmap='RdBu'):\n",
        "\n",
        "    lines = classification_report.split('\\n')\n",
        "\n",
        "    classes = []\n",
        "    plotMat = []\n",
        "    support = []\n",
        "    class_names = []\n",
        "    for line in lines[2 : 6]:\n",
        "        t = line.strip().split()\n",
        "        if len(t) < 2: continue\n",
        "        classes.append(t[0])\n",
        "        v = [float(x) for x in t[1: len(t) - 1]]\n",
        "        support.append(int(t[-1]))\n",
        "        class_names.append(t[0])\n",
        "        #print(v)\n",
        "        plotMat.append(v)\n",
        "\n",
        "    #print('plotMat: {0}'.format(plotMat))\n",
        "    #print('support: {0}'.format(support))\n",
        "\n",
        "    xlabel = 'Metrics'\n",
        "    ylabel = 'Classes'\n",
        "    xticklabels = ['Precision', 'Recall', 'F1-score']\n",
        "    yticklabels = ['{0} ({1})'.format(class_names[idx], sup) for idx, sup  in enumerate(support)]\n",
        "    figure_width = 25\n",
        "    figure_height = len(class_names) + 7\n",
        "    correct_orientation = False\n",
        "    heatmap(np.array(plotMat), title, xlabel, ylabel, xticklabels, yticklabels, figure_width, figure_height, correct_orientation, cmap=cmap)\n",
        "\n",
        "def heatmap_cf(AUC, title, xlabel, ylabel, xticklabels, yticklabels, figure_width=40, figure_height=20, correct_orientation=False, cmap='RdBu', mx = 900):\n",
        "\n",
        "\n",
        "    # Plot it out\n",
        "    fig, ax = plt.subplots()    \n",
        "    c = ax.pcolor(AUC, edgecolors='k', linestyle= 'dashed', linewidths=0.2, cmap='RdYlGn', vmin=0.0, vmax=mx)\n",
        "    #c = ax.pcolor(AUC, edgecolors='k', linestyle= 'dashed', linewidths=0.2, cmap=cmap)\n",
        "\n",
        "    # put the major ticks at the middle of each cell\n",
        "    ax.set_yticks(np.arange(AUC.shape[0]) + 0.5, minor=False)\n",
        "    ax.set_xticks(np.arange(AUC.shape[1]) + 0.5, minor=False)\n",
        "\n",
        "    # set tick labels\n",
        "    #ax.set_xticklabels(np.arange(1,AUC.shape[1]+1), minor=False)\n",
        "    ax.set_xticklabels(xticklabels, minor=False)\n",
        "    ax.set_yticklabels(yticklabels, minor=False)\n",
        "\n",
        "    # set title and x/y labels\n",
        "    plt.title(title)\n",
        "    plt.xlabel(xlabel)\n",
        "    plt.ylabel(ylabel)      \n",
        "\n",
        "    # Remove last blank column\n",
        "    plt.xlim( (0, AUC.shape[1]) )\n",
        "\n",
        "    # Turn off all the ticks\n",
        "    ax = plt.gca()    \n",
        "    for t in ax.xaxis.get_major_ticks():\n",
        "        t.tick1line.set_visible = False\n",
        "        t.tick2line.set_visible = False\n",
        "    for t in ax.yaxis.get_major_ticks():\n",
        "        t.tick1line.set_visible = False\n",
        "        t.tick2line.set_visible = False\n",
        "\n",
        "    # Add color bar\n",
        "    plt.colorbar(c)\n",
        "\n",
        "    # Add text in each cell \n",
        "    show_values(c)\n",
        "\n",
        "    # Proper orientation (origin at the top left instead of bottom left)\n",
        "    if correct_orientation:\n",
        "        ax.invert_yaxis()\n",
        "        ax.xaxis.tick_top()       \n",
        "\n",
        "    # resize \n",
        "    fig = plt.gcf()\n",
        "    fig.set_size_inches(cm2inch(35, 20))\n",
        "    #fig.set_size_inches(cm2inch(40*4, 20*4))\n",
        "    #fig.set_size_inches(cm2inch(figure_width, figure_height))"
      ],
      "execution_count": null,
      "outputs": []
    },
    {
      "cell_type": "code",
      "metadata": {
        "id": "WuRH47HJ0x4N",
        "colab_type": "code",
        "colab": {
          "base_uri": "https://localhost:8080/",
          "height": 506
        },
        "outputId": "7917a2d3-c1bf-46d0-a475-82c137857cdf"
      },
      "source": [
        "plot_classification_report(report)"
      ],
      "execution_count": null,
      "outputs": [
        {
          "output_type": "display_data",
          "data": {
            "image/png": "[encoded data removed]",
            "text/plain": [
              "<Figure size 992.126x566.929 with 2 Axes>"
            ]
          },
          "metadata": {
            "tags": [],
            "needs_background": "light"
          }
        }
      ]
    },
    {
      "cell_type": "code",
      "metadata": {
        "id": "ZKSLvK5l03XT",
        "colab_type": "code",
        "colab": {
          "base_uri": "https://localhost:8080/",
          "height": 506
        },
        "outputId": "2e24d286-1453-4172-f5d3-91594319a43e"
      },
      "source": [
        "heatmap_cf(cf_matrix, title='Confusion Matrix' , xlabel=\"True\", ylabel=\"Predicted\", xticklabels=classes, yticklabels=classes)"
      ],
      "execution_count": null,
      "outputs": [
        {
          "output_type": "display_data",
          "data": {
            "image/png": "[encoded data removed]",
            "text/plain": [
              "<Figure size 992.126x566.929 with 2 Axes>"
            ]
          },
          "metadata": {
            "tags": [],
            "needs_background": "light"
          }
        }
      ]
    },
    {
      "cell_type": "code",
      "metadata": {
        "id": "0cEjBHJv14Kw",
        "colab_type": "code",
        "colab": {}
      },
      "source": [
        ""
      ],
      "execution_count": null,
      "outputs": []
    }
  ]
}